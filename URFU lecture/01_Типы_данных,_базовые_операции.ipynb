{
  "nbformat": 4,
  "nbformat_minor": 0,
  "metadata": {
    "colab": {
      "provenance": [],
      "collapsed_sections": [
        "NUZ0eVylOxZq",
        "lYfqHsfvYIPZ",
        "-bSVHOxTb4_h",
        "77IOEbyROZ8A",
        "tTLzG78e2W1I",
        "ccbiBP-05Nuz",
        "NyEx43vM-vcj",
        "rdgrWlKtR8dv",
        "sDaGiqqyTc7X",
        "JZQr8y3hlF2W"
      ]
    },
    "kernelspec": {
      "name": "python3",
      "display_name": "Python 3"
    }
  },
  "cells": [
    {
      "cell_type": "markdown",
      "source": [
        "# Общие концепты"
      ],
      "metadata": {
        "id": "yjADmZfpYPhf"
      }
    },
    {
      "cell_type": "markdown",
      "source": [
        "## Комментарии кода"
      ],
      "metadata": {
        "id": "NUZ0eVylOxZq"
      }
    },
    {
      "cell_type": "code",
      "source": [
        "# можно писать комментарии так\n",
        "\n",
        "# но, если ваш комментарий должен вместить слишком много информации и занимает всю ширину экрана, или даже выходит за нее, то писать так комментарии не стоит, так как их неудобно читать в дальнейшем\n",
        "\n",
        "\"\"\"\n",
        "Большие комментарии лучше писать\n",
        "    вот в таком формате\n",
        "        Это позволяет удобно форматировать\n",
        "текст и легко читать его в дальнейшем\n",
        "\"\"\"\n"
      ],
      "metadata": {
        "colab": {
          "base_uri": "https://localhost:8080/",
          "height": 35
        },
        "id": "hxEL2Y7YPO1B",
        "outputId": "18784c0e-46a4-432d-d648-b81be4be4615"
      },
      "execution_count": null,
      "outputs": [
        {
          "output_type": "execute_result",
          "data": {
            "text/plain": [
              "'\\nБольшие комментарии лучше писать\\nвот в таком формате\\nЭто позволяет удобно форматировать\\nтекст и легко читать его в дальнейшем\\n'"
            ],
            "application/vnd.google.colaboratory.intrinsic+json": {
              "type": "string"
            }
          },
          "metadata": {},
          "execution_count": 4
        }
      ]
    },
    {
      "cell_type": "markdown",
      "source": [
        "## Важные встроенные функции"
      ],
      "metadata": {
        "id": "lYfqHsfvYIPZ"
      }
    },
    {
      "cell_type": "markdown",
      "source": [
        "**Получение данных от пользователя**"
      ],
      "metadata": {
        "id": "upVl0hDuYyk8"
      }
    },
    {
      "cell_type": "code",
      "source": [
        "input_from_user = input('Сколько тебе лет? ')\n",
        "input_from_user"
      ],
      "metadata": {
        "colab": {
          "base_uri": "https://localhost:8080/",
          "height": 53
        },
        "id": "MXBl-QOxY6sN",
        "outputId": "6bbbf3b0-e94a-46be-a6ab-3d585ee3f900"
      },
      "execution_count": null,
      "outputs": [
        {
          "name": "stdout",
          "output_type": "stream",
          "text": [
            "Сколько тебе лет? 1000\n"
          ]
        },
        {
          "output_type": "execute_result",
          "data": {
            "text/plain": [
              "'1000'"
            ],
            "application/vnd.google.colaboratory.intrinsic+json": {
              "type": "string"
            }
          },
          "metadata": {},
          "execution_count": 1
        }
      ]
    },
    {
      "cell_type": "markdown",
      "source": [
        "**Вывод форматированого текста и отладка кода**"
      ],
      "metadata": {
        "id": "DAVR7FK-YZto"
      }
    },
    {
      "cell_type": "code",
      "source": [
        "print(\"\"\"\n",
        "Большие комментарии лучше писать\n",
        "вот в таком формате\n",
        "Это позволяет удобно форматировать\n",
        "текст и легко читать его в дальнейшем\n",
        "\"\"\")"
      ],
      "metadata": {
        "colab": {
          "base_uri": "https://localhost:8080/"
        },
        "id": "sfDya_8cYbxk",
        "outputId": "30dc2a45-953b-47c3-d1df-1876f8034a93"
      },
      "execution_count": null,
      "outputs": [
        {
          "output_type": "stream",
          "name": "stdout",
          "text": [
            "\n",
            "Большие комментарии лучше писать\n",
            "вот в таком формате\n",
            "Это позволяет удобно форматировать\n",
            "текст и легко читать его в дальнейшем\n",
            "\n"
          ]
        }
      ]
    },
    {
      "cell_type": "markdown",
      "source": [
        "**Но!**"
      ],
      "metadata": {
        "id": "ShdYJxSuablJ"
      }
    },
    {
      "cell_type": "code",
      "source": [
        "input_from_user = input('Расскажите о себе пару слов ')\n",
        "# input автоматически экранирует вспомогательные символы\n",
        "print(input_from_user)"
      ],
      "metadata": {
        "colab": {
          "base_uri": "https://localhost:8080/"
        },
        "id": "VWkYU20LYXnp",
        "outputId": "377afb71-690d-464a-a812-d97782cfff49"
      },
      "execution_count": null,
      "outputs": [
        {
          "output_type": "stream",
          "name": "stdout",
          "text": [
            "Расскажите о себе пару слов Моя фамилия слишком известна...\\nПоэтому просто Вася\n",
            "Моя фамилия слишком известна...\\nПоэтому просто Вася\n"
          ]
        }
      ]
    },
    {
      "cell_type": "code",
      "source": [
        "input_from_user"
      ],
      "metadata": {
        "colab": {
          "base_uri": "https://localhost:8080/",
          "height": 35
        },
        "id": "SxOGu48lSdZn",
        "outputId": "702044aa-cb21-461b-b67c-f42725abf052"
      },
      "execution_count": null,
      "outputs": [
        {
          "output_type": "execute_result",
          "data": {
            "text/plain": [
              "'Моя фамилия слишком известна...\\\\nПоэтому просто Вася'"
            ],
            "application/vnd.google.colaboratory.intrinsic+json": {
              "type": "string"
            }
          },
          "metadata": {},
          "execution_count": 3
        }
      ]
    },
    {
      "cell_type": "markdown",
      "source": [
        "**Некоторые особенности поведения кавычек**"
      ],
      "metadata": {
        "id": "Oey5jm7HatuA"
      }
    },
    {
      "cell_type": "markdown",
      "source": [
        "Так можно"
      ],
      "metadata": {
        "id": "qbFAQwbIbAvF"
      }
    },
    {
      "cell_type": "code",
      "source": [
        "print(\"Это О'Генри\")"
      ],
      "metadata": {
        "colab": {
          "base_uri": "https://localhost:8080/"
        },
        "id": "MsWxItJAYYg7",
        "outputId": "ce2a622e-bddf-4106-8028-8e8354cad856"
      },
      "execution_count": null,
      "outputs": [
        {
          "output_type": "stream",
          "name": "stdout",
          "text": [
            "Это О'Генри\n"
          ]
        }
      ]
    },
    {
      "cell_type": "markdown",
      "source": [
        "А так будет ошибка"
      ],
      "metadata": {
        "id": "CBrRB06dbCZn"
      }
    },
    {
      "cell_type": "code",
      "source": [
        "print('Это О'Генри')"
      ],
      "metadata": {
        "colab": {
          "base_uri": "https://localhost:8080/",
          "height": 133
        },
        "id": "LcCAkfgpa7sQ",
        "outputId": "1565923d-b00f-499c-c850-5ed073ecdbbd"
      },
      "execution_count": null,
      "outputs": [
        {
          "output_type": "error",
          "ename": "SyntaxError",
          "evalue": "ignored",
          "traceback": [
            "\u001b[0;36m  File \u001b[0;32m\"<ipython-input-14-b9c164ca1b07>\"\u001b[0;36m, line \u001b[0;32m1\u001b[0m\n\u001b[0;31m    print('Это О'Генри')\u001b[0m\n\u001b[0m                     ^\u001b[0m\n\u001b[0;31mSyntaxError\u001b[0m\u001b[0;31m:\u001b[0m invalid syntax\n"
          ]
        }
      ]
    },
    {
      "cell_type": "markdown",
      "source": [
        "Так можно"
      ],
      "metadata": {
        "id": "ZnnCjToGbExb"
      }
    },
    {
      "cell_type": "code",
      "source": [
        "print('Моя любимая книга \"Война и мир\"')"
      ],
      "metadata": {
        "colab": {
          "base_uri": "https://localhost:8080/"
        },
        "id": "D9AxW6kYbFH_",
        "outputId": "5208b68c-e65a-4724-bc63-efe53b435c7b"
      },
      "execution_count": null,
      "outputs": [
        {
          "output_type": "stream",
          "name": "stdout",
          "text": [
            "Моя любимая книга \"Война и мир\"\n"
          ]
        }
      ]
    },
    {
      "cell_type": "markdown",
      "source": [
        "А так будет ошибка"
      ],
      "metadata": {
        "id": "IJmgJxsIbFeb"
      }
    },
    {
      "cell_type": "code",
      "source": [
        "print(\"Моя любимая книга \"Война и мир\"\")"
      ],
      "metadata": {
        "colab": {
          "base_uri": "https://localhost:8080/",
          "height": 133
        },
        "id": "NvMmPQvYbGZL",
        "outputId": "d5e79f83-dbb6-4844-9216-6a92d6a6c027"
      },
      "execution_count": null,
      "outputs": [
        {
          "output_type": "error",
          "ename": "SyntaxError",
          "evalue": "ignored",
          "traceback": [
            "\u001b[0;36m  File \u001b[0;32m\"<ipython-input-16-a0bb6b6a938e>\"\u001b[0;36m, line \u001b[0;32m1\u001b[0m\n\u001b[0;31m    print(\"Моя любимая книга \"Война и мир\"\")\u001b[0m\n\u001b[0m                                  ^\u001b[0m\n\u001b[0;31mSyntaxError\u001b[0m\u001b[0;31m:\u001b[0m invalid syntax\n"
          ]
        }
      ]
    },
    {
      "cell_type": "markdown",
      "source": [
        "Если нужно учесть все типы кавычек внутри текста, то можно экранировать символы"
      ],
      "metadata": {
        "id": "q5TRQHwTbQ_3"
      }
    },
    {
      "cell_type": "code",
      "source": [
        "print(\"Моя любимая книга \\\"Война и мир\\\"\")"
      ],
      "metadata": {
        "colab": {
          "base_uri": "https://localhost:8080/"
        },
        "id": "LQ7VDPqObYEk",
        "outputId": "e6d6a80a-793c-4904-e536-f4f9ff1ff03a"
      },
      "execution_count": null,
      "outputs": [
        {
          "output_type": "stream",
          "name": "stdout",
          "text": [
            "Моя любимая книга \"Война и мир\"\n"
          ]
        }
      ]
    },
    {
      "cell_type": "code",
      "source": [
        "print('Это О\\'Генри')"
      ],
      "metadata": {
        "colab": {
          "base_uri": "https://localhost:8080/"
        },
        "id": "sYcdOcoKbX6j",
        "outputId": "ada8f18f-e9d1-46af-aa06-af6d327d1367"
      },
      "execution_count": null,
      "outputs": [
        {
          "output_type": "stream",
          "name": "stdout",
          "text": [
            "Это О'Генри\n"
          ]
        }
      ]
    },
    {
      "cell_type": "markdown",
      "source": [
        "Либо"
      ],
      "metadata": {
        "id": "pzYgMyWsbrl4"
      }
    },
    {
      "cell_type": "code",
      "source": [
        "print(\"\"\"Мой лбимый автор О'Генри.\n",
        "Но любимая книга \"Война и мир\" \"\"\")"
      ],
      "metadata": {
        "colab": {
          "base_uri": "https://localhost:8080/"
        },
        "id": "f7r5JTvAbq1L",
        "outputId": "e5f98331-3b28-4be1-ef01-03855785cbda"
      },
      "execution_count": null,
      "outputs": [
        {
          "output_type": "stream",
          "name": "stdout",
          "text": [
            "Мой лбимый автор О'Генри.\n",
            "Но любимая книга \"Война и мир\" \n"
          ]
        }
      ]
    },
    {
      "cell_type": "markdown",
      "source": [
        "## Еще несколько полезных вспомогательных функций\n",
        "[Документация по встроенным функциям](https://docs.python.org/3/library/functions.html)"
      ],
      "metadata": {
        "id": "-bSVHOxTb4_h"
      }
    },
    {
      "cell_type": "code",
      "source": [
        "help('print')"
      ],
      "metadata": {
        "colab": {
          "base_uri": "https://localhost:8080/"
        },
        "id": "d6lTHs3Cb_BI",
        "outputId": "31989810-1040-4e01-d18f-8691bab8812f"
      },
      "execution_count": null,
      "outputs": [
        {
          "output_type": "stream",
          "name": "stdout",
          "text": [
            "Help on built-in function print in module builtins:\n",
            "\n",
            "print(...)\n",
            "    print(value, ..., sep=' ', end='\\n', file=sys.stdout, flush=False)\n",
            "    \n",
            "    Prints the values to a stream, or to sys.stdout by default.\n",
            "    Optional keyword arguments:\n",
            "    file:  a file-like object (stream); defaults to the current sys.stdout.\n",
            "    sep:   string inserted between values, default a space.\n",
            "    end:   string appended after the last value, default a newline.\n",
            "    flush: whether to forcibly flush the stream.\n",
            "\n"
          ]
        }
      ]
    },
    {
      "cell_type": "code",
      "source": [
        "print(\"Меня зовут\", end=\": \")\n",
        "print(\"Вася\")"
      ],
      "metadata": {
        "colab": {
          "base_uri": "https://localhost:8080/"
        },
        "id": "gLD37YVgTgaw",
        "outputId": "a092892c-2142-4e43-b04c-12b3620cec31"
      },
      "execution_count": null,
      "outputs": [
        {
          "output_type": "stream",
          "name": "stdout",
          "text": [
            "Меня зовут: Вася\n"
          ]
        }
      ]
    },
    {
      "cell_type": "markdown",
      "source": [
        "Номер символа в формате unicode"
      ],
      "metadata": {
        "id": "TyKbNqHicxC5"
      }
    },
    {
      "cell_type": "code",
      "source": [
        "'''анализируя таким образом символы\n",
        "   можно сделать вывод, что python\n",
        "   воспринимает прописные и строчные\n",
        "   символы по разному'''\n",
        "ord(\"A\"), ord(\"a\")"
      ],
      "metadata": {
        "colab": {
          "base_uri": "https://localhost:8080/"
        },
        "id": "AHdlsVgOb_ap",
        "outputId": "023eaf4f-65d4-4f9e-b242-957d86eb8712"
      },
      "execution_count": null,
      "outputs": [
        {
          "output_type": "execute_result",
          "data": {
            "text/plain": [
              "(65, 97)"
            ]
          },
          "metadata": {},
          "execution_count": 29
        }
      ]
    },
    {
      "cell_type": "markdown",
      "source": [
        "Преобразуем текст в код"
      ],
      "metadata": {
        "id": "s9yiiwvrdhTb"
      }
    },
    {
      "cell_type": "code",
      "source": [
        "\"2 + 2\""
      ],
      "metadata": {
        "colab": {
          "base_uri": "https://localhost:8080/",
          "height": 35
        },
        "id": "DjMMGPxndopJ",
        "outputId": "540f2fea-d567-40f3-d54a-9d1dcd5bfe58"
      },
      "execution_count": null,
      "outputs": [
        {
          "output_type": "execute_result",
          "data": {
            "text/plain": [
              "'2 + 2'"
            ],
            "application/vnd.google.colaboratory.intrinsic+json": {
              "type": "string"
            }
          },
          "metadata": {},
          "execution_count": 6
        }
      ]
    },
    {
      "cell_type": "code",
      "source": [
        "eval(\"2 + 2\")"
      ],
      "metadata": {
        "colab": {
          "base_uri": "https://localhost:8080/"
        },
        "id": "LNUlgDHVb_RQ",
        "outputId": "f80fb3e3-128e-4c4b-d381-948ef1510ef9"
      },
      "execution_count": null,
      "outputs": [
        {
          "output_type": "execute_result",
          "data": {
            "text/plain": [
              "4"
            ]
          },
          "metadata": {},
          "execution_count": 7
        }
      ]
    },
    {
      "cell_type": "markdown",
      "source": [
        "# Типы данных"
      ],
      "metadata": {
        "id": "77IOEbyROZ8A"
      }
    },
    {
      "cell_type": "markdown",
      "source": [
        "## Неизменяемые"
      ],
      "metadata": {
        "id": "QcDK1zP9qZ-X"
      }
    },
    {
      "cell_type": "code",
      "source": [
        "# integer - целое число\n",
        "number_1 = 10\n",
        "number_2 = 10_000 # разделитель разрядов\n",
        "print(number_1, number_2)"
      ],
      "metadata": {
        "colab": {
          "base_uri": "https://localhost:8080/"
        },
        "id": "_HrhirfFqVYJ",
        "outputId": "f1e04eb5-495e-4e13-ee7a-88d719e7f7ff"
      },
      "execution_count": null,
      "outputs": [
        {
          "output_type": "stream",
          "name": "stdout",
          "text": [
            "10 10000\n"
          ]
        }
      ]
    },
    {
      "cell_type": "code",
      "source": [
        "# float - целое число\n",
        "fractional_number_1 = 10.002\n",
        "fractional_number_2 = 7E-2\n",
        "fractional_number_3 = 7E3\n",
        "print(fractional_number_1, fractional_number_2, fractional_number_3)"
      ],
      "metadata": {
        "colab": {
          "base_uri": "https://localhost:8080/"
        },
        "id": "mfqfgxrKsu37",
        "outputId": "711e672d-f49a-431d-df43-b1355969d15f"
      },
      "execution_count": null,
      "outputs": [
        {
          "output_type": "stream",
          "name": "stdout",
          "text": [
            "10.002 0.07 7000.0\n"
          ]
        }
      ]
    },
    {
      "cell_type": "code",
      "source": [
        "# boolean - логический тип данных\n",
        "flag_1 = True\n",
        "flag_2 = False\n",
        "print(flag_1, flag_2)"
      ],
      "metadata": {
        "colab": {
          "base_uri": "https://localhost:8080/"
        },
        "id": "Nx2UZsnJqV8G",
        "outputId": "4c1c072c-956b-478d-fb17-8235c3ce34ca"
      },
      "execution_count": null,
      "outputs": [
        {
          "output_type": "stream",
          "name": "stdout",
          "text": [
            "True False\n"
          ]
        }
      ]
    },
    {
      "cell_type": "code",
      "source": [
        "# string - строка\n",
        "str_1 = \"Victoria\"\n",
        "str_2 = '33'\n",
        "print(str_1, str_2)"
      ],
      "metadata": {
        "colab": {
          "base_uri": "https://localhost:8080/"
        },
        "id": "6gek9DD0qWCS",
        "outputId": "fa57feed-99a2-4ad8-f87a-53408db38527"
      },
      "execution_count": null,
      "outputs": [
        {
          "output_type": "stream",
          "name": "stdout",
          "text": [
            "Victoria 33\n"
          ]
        }
      ]
    },
    {
      "cell_type": "code",
      "source": [
        "# tuple - кортеж\n",
        "element_1, element_2 = (\"Street\", 90)\n",
        "print(element_1, element_2)"
      ],
      "metadata": {
        "colab": {
          "base_uri": "https://localhost:8080/"
        },
        "id": "Kisp5e81xGk3",
        "outputId": "d0a6d6e2-9669-4958-afc5-8532462a50f9"
      },
      "execution_count": null,
      "outputs": [
        {
          "output_type": "stream",
          "name": "stdout",
          "text": [
            "Street 90\n"
          ]
        }
      ]
    },
    {
      "cell_type": "code",
      "source": [
        "elements = (\"Street\", 90)\n",
        "elements[0]"
      ],
      "metadata": {
        "colab": {
          "base_uri": "https://localhost:8080/",
          "height": 35
        },
        "id": "4xKy6gNNxd0I",
        "outputId": "e4577b33-51ed-44e6-841f-528dea4b234c"
      },
      "execution_count": null,
      "outputs": [
        {
          "output_type": "execute_result",
          "data": {
            "text/plain": [
              "'Street'"
            ],
            "application/vnd.google.colaboratory.intrinsic+json": {
              "type": "string"
            }
          },
          "metadata": {},
          "execution_count": 42
        }
      ]
    },
    {
      "cell_type": "code",
      "source": [
        "elements[0] = 10"
      ],
      "metadata": {
        "colab": {
          "base_uri": "https://localhost:8080/",
          "height": 168
        },
        "id": "cyKNPp-7xjzh",
        "outputId": "1af59f3a-9c73-4575-f601-4bf72a5419f4"
      },
      "execution_count": null,
      "outputs": [
        {
          "output_type": "error",
          "ename": "TypeError",
          "evalue": "ignored",
          "traceback": [
            "\u001b[0;31m---------------------------------------------------------------------------\u001b[0m",
            "\u001b[0;31mTypeError\u001b[0m                                 Traceback (most recent call last)",
            "\u001b[0;32m<ipython-input-43-14e6369041bb>\u001b[0m in \u001b[0;36m<module>\u001b[0;34m\u001b[0m\n\u001b[0;32m----> 1\u001b[0;31m \u001b[0melements\u001b[0m\u001b[0;34m[\u001b[0m\u001b[0;36m0\u001b[0m\u001b[0;34m]\u001b[0m \u001b[0;34m=\u001b[0m \u001b[0;36m10\u001b[0m\u001b[0;34m\u001b[0m\u001b[0;34m\u001b[0m\u001b[0m\n\u001b[0m",
            "\u001b[0;31mTypeError\u001b[0m: 'tuple' object does not support item assignment"
          ]
        }
      ]
    },
    {
      "cell_type": "markdown",
      "source": [
        "## Изменяемые"
      ],
      "metadata": {
        "id": "YuS0a_Xkxtk0"
      }
    },
    {
      "cell_type": "code",
      "source": [
        "# list - список\n",
        "pos_number = [1, 2, 3, 4, \"word\", 10.003]\n",
        "print(pos_number)"
      ],
      "metadata": {
        "colab": {
          "base_uri": "https://localhost:8080/"
        },
        "id": "BHVCdeuexuqS",
        "outputId": "19338c61-c9ce-4872-a28c-b5821d545b47"
      },
      "execution_count": null,
      "outputs": [
        {
          "output_type": "stream",
          "name": "stdout",
          "text": [
            "[1, 2, 3, 4, 'word', 10.003]\n"
          ]
        }
      ]
    },
    {
      "cell_type": "code",
      "source": [
        "pos_number[0] = 25\n",
        "print(pos_number)"
      ],
      "metadata": {
        "colab": {
          "base_uri": "https://localhost:8080/"
        },
        "id": "tq4YPtRJxui9",
        "outputId": "abd4cc11-dba6-48a5-d450-5a4cb429defa"
      },
      "execution_count": null,
      "outputs": [
        {
          "output_type": "stream",
          "name": "stdout",
          "text": [
            "[25, 2, 3, 4, 'word', 10.003]\n"
          ]
        }
      ]
    },
    {
      "cell_type": "code",
      "source": [
        "# set - множества\n",
        "non_uniq_number = [1, 1, 2, 1, 2, 2, 3, 4, 4, 3, 2, 2, 1]\n",
        "uniq_number = set(non_uniq_number)\n",
        "print(non_uniq_number)\n",
        "print(uniq_number)"
      ],
      "metadata": {
        "colab": {
          "base_uri": "https://localhost:8080/"
        },
        "id": "okQ-AHaGxuaB",
        "outputId": "0ed1ca9d-6b94-48f9-8bbb-2cb47aae14de"
      },
      "execution_count": null,
      "outputs": [
        {
          "output_type": "stream",
          "name": "stdout",
          "text": [
            "[1, 1, 2, 1, 2, 2, 3, 4, 4, 3, 2, 2, 1]\n",
            "{1, 2, 3, 4}\n"
          ]
        }
      ]
    },
    {
      "cell_type": "code",
      "source": [
        "# dictionary - словарь\n",
        "map_to_number = {\"неудовлетворительно\": 2, \"удовлетворительно\": 3, \"хорошо\": 4, \"отлично\": 5}\n",
        "print(map_to_number)"
      ],
      "metadata": {
        "colab": {
          "base_uri": "https://localhost:8080/"
        },
        "id": "INEvB7fIxuHZ",
        "outputId": "52e494bc-44d3-42ec-af59-7b90b3f4eec5"
      },
      "execution_count": null,
      "outputs": [
        {
          "output_type": "stream",
          "name": "stdout",
          "text": [
            "{'неудовлетворительно': 2, 'удовлетворительно': 3, 'хорошо': 4, 'отлично': 5}\n"
          ]
        }
      ]
    },
    {
      "cell_type": "code",
      "source": [
        "map_to_number['отлично'] = 100\n",
        "print(map_to_number)"
      ],
      "metadata": {
        "colab": {
          "base_uri": "https://localhost:8080/"
        },
        "id": "dzVt6qEazb06",
        "outputId": "68ef6fcc-3f1d-480c-bb1c-59a787be5eb2"
      },
      "execution_count": null,
      "outputs": [
        {
          "output_type": "stream",
          "name": "stdout",
          "text": [
            "{'неудовлетворительно': 2, 'удовлетворительно': 3, 'хорошо': 4, 'отлично': 100}\n"
          ]
        }
      ]
    },
    {
      "cell_type": "markdown",
      "source": [
        "## Преобразование типов данных"
      ],
      "metadata": {
        "id": "y8i80fiQzjoz"
      }
    },
    {
      "cell_type": "code",
      "source": [
        "number = 10\n",
        "type(number)"
      ],
      "metadata": {
        "colab": {
          "base_uri": "https://localhost:8080/"
        },
        "id": "MN_nfpFeznLh",
        "outputId": "195d0294-0718-4d6f-e59f-0441c9942473"
      },
      "execution_count": null,
      "outputs": [
        {
          "output_type": "execute_result",
          "data": {
            "text/plain": [
              "int"
            ]
          },
          "metadata": {},
          "execution_count": 57
        }
      ]
    },
    {
      "cell_type": "code",
      "source": [
        "number_float = float(number)\n",
        "print(number_float, \"Тип переменной:\", type(number_float))"
      ],
      "metadata": {
        "colab": {
          "base_uri": "https://localhost:8080/"
        },
        "id": "Negn2zAqznJC",
        "outputId": "bb373078-3ad7-4696-b17f-7df23d0159ca"
      },
      "execution_count": null,
      "outputs": [
        {
          "output_type": "stream",
          "name": "stdout",
          "text": [
            "10.0 Тип переменной: <class 'float'>\n"
          ]
        }
      ]
    },
    {
      "cell_type": "code",
      "source": [
        "number_str = str(number)\n",
        "print(number_str, \"Тип переменной:\", type(number_str))"
      ],
      "metadata": {
        "colab": {
          "base_uri": "https://localhost:8080/"
        },
        "id": "4GB943p1znF9",
        "outputId": "0e7f59ed-6b2d-470b-93a2-bd9ff5771572"
      },
      "execution_count": null,
      "outputs": [
        {
          "output_type": "stream",
          "name": "stdout",
          "text": [
            "10 Тип переменной: <class 'str'>\n"
          ]
        }
      ]
    },
    {
      "cell_type": "markdown",
      "source": [
        "**Но!**"
      ],
      "metadata": {
        "id": "mhPT2MYB0YZr"
      }
    },
    {
      "cell_type": "code",
      "source": [
        "number = 10.99\n",
        "int(number) # преобразование с понижением информативности опасно"
      ],
      "metadata": {
        "colab": {
          "base_uri": "https://localhost:8080/"
        },
        "id": "IUQgxnDTznAx",
        "outputId": "427c9f3a-06d4-456e-cb69-9b78840e1cd1"
      },
      "execution_count": null,
      "outputs": [
        {
          "output_type": "execute_result",
          "data": {
            "text/plain": [
              "10"
            ]
          },
          "metadata": {},
          "execution_count": 11
        }
      ]
    },
    {
      "cell_type": "code",
      "source": [
        "number_str = \"10\"\n",
        "print(int(number_str), float(number_str))"
      ],
      "metadata": {
        "colab": {
          "base_uri": "https://localhost:8080/"
        },
        "id": "12jVjmqizm5j",
        "outputId": "9a523f7e-96f3-4a54-8963-757843cb3e19"
      },
      "execution_count": null,
      "outputs": [
        {
          "output_type": "stream",
          "name": "stdout",
          "text": [
            "10 10.0\n"
          ]
        }
      ]
    },
    {
      "cell_type": "code",
      "source": [
        "number_str = \"10.0\"\n",
        "print(float(number_str))"
      ],
      "metadata": {
        "colab": {
          "base_uri": "https://localhost:8080/"
        },
        "id": "7fp4uYuhzmi4",
        "outputId": "f3a29596-07f3-4459-8c95-f452a9e95b11"
      },
      "execution_count": null,
      "outputs": [
        {
          "output_type": "stream",
          "name": "stdout",
          "text": [
            "10.0\n"
          ]
        }
      ]
    },
    {
      "cell_type": "code",
      "source": [
        "int(number_str) # такое преобразование невозможно"
      ],
      "metadata": {
        "colab": {
          "base_uri": "https://localhost:8080/",
          "height": 168
        },
        "id": "hqI40N5n1G1R",
        "outputId": "4c096144-a116-46e3-d05a-5689c01b43a6"
      },
      "execution_count": null,
      "outputs": [
        {
          "output_type": "error",
          "ename": "ValueError",
          "evalue": "ignored",
          "traceback": [
            "\u001b[0;31m---------------------------------------------------------------------------\u001b[0m",
            "\u001b[0;31mValueError\u001b[0m                                Traceback (most recent call last)",
            "\u001b[0;32m<ipython-input-16-b5592fc6da16>\u001b[0m in \u001b[0;36m<module>\u001b[0;34m\u001b[0m\n\u001b[0;32m----> 1\u001b[0;31m \u001b[0mint\u001b[0m\u001b[0;34m(\u001b[0m\u001b[0mnumber_str\u001b[0m\u001b[0;34m)\u001b[0m \u001b[0;31m# такое преобразование невозможно\u001b[0m\u001b[0;34m\u001b[0m\u001b[0;34m\u001b[0m\u001b[0m\n\u001b[0m",
            "\u001b[0;31mValueError\u001b[0m: invalid literal for int() with base 10: '10.0'"
          ]
        }
      ]
    },
    {
      "cell_type": "markdown",
      "source": [
        "# Задание 1"
      ],
      "metadata": {
        "id": "tTLzG78e2W1I"
      }
    },
    {
      "cell_type": "markdown",
      "source": [
        "Итак для преобразования типов данных мы можем использовать следующие функции:\n",
        "\n",
        "*   целые числа - `int()`\n",
        "*   дробные числа - `float()`\n",
        "*   строки - `str()`\n",
        "*   логический оператор - `bool()`\n",
        "*   кортеж - `tuple()`\n",
        "*   список - `list()`\n",
        "*   множество - `set()`\n",
        "*   словарь - `dict()`\n",
        "\n",
        "Ваша зада. Создать переменные всех типов данных и попытаться преобразовать каждую из переменных во все другие типы данных по очереди.\n",
        "\n",
        "Для каждого типа данных в отдельной текстовой ячейке написать три списка: какие преобразования возможны, какие невозможны, какие возможны, но ведут к потере информации. Если преобразования работают, но с какими-то ограничениями, то написать слева от преобразования в виде комментария\n",
        "\n",
        "Нужно оставить ячейки с экспериментами, а твет написать в следующем формате:\n",
        "\n",
        "*String*. **Преобразование возможно**\n",
        "\n",
        "`str -> int` # если строка содержит только целое число и больше никаких символов\n",
        "\n",
        "`str -> float` # если строка содержит только целое число или дробное число, но больше никаких символов не допускается"
      ],
      "metadata": {
        "id": "lCatLQF52h4a"
      }
    },
    {
      "cell_type": "markdown",
      "source": [
        "Отдельно в ходе экспериментов ответьте на вопрос: \"**Какие значения каждого типа данных будут восприниматься при преобразовании в логический оператор как False, а какие как True**\"\n",
        "\n",
        "*На следующем занятии покажу, почему это важно понимать*"
      ],
      "metadata": {
        "id": "GXEMTKI06XTO"
      }
    },
    {
      "cell_type": "markdown",
      "source": [],
      "metadata": {
        "id": "lKKPoarTg9nx"
      }
    },
    {
      "cell_type": "markdown",
      "source": [
        "# Переменные"
      ],
      "metadata": {
        "id": "ccbiBP-05Nuz"
      }
    },
    {
      "cell_type": "markdown",
      "source": [
        "Наименование переменных\n",
        "\n",
        "Переменная:\n",
        "*  может состоять только из букв, цифр и знака подчёркивания\n",
        "*  начинается с a-z, а-я, _\n",
        "*  не может начинаться с цифры \n",
        "*  не может содержать специальных символов @, $, %\n",
        "*  не должна совпадать с зарезервированными словами python"
      ],
      "metadata": {
        "id": "WlYYluYK5Rh9"
      }
    },
    {
      "cell_type": "code",
      "source": [
        "help('keywords')"
      ],
      "metadata": {
        "colab": {
          "base_uri": "https://localhost:8080/"
        },
        "id": "FHRhXo136-Zr",
        "outputId": "897b8639-9bcb-4bcd-f81c-17089bfe2319"
      },
      "execution_count": null,
      "outputs": [
        {
          "output_type": "stream",
          "name": "stdout",
          "text": [
            "\n",
            "Here is a list of the Python keywords.  Enter any keyword to get more help.\n",
            "\n",
            "False               class               from                or\n",
            "None                continue            global              pass\n",
            "True                def                 if                  raise\n",
            "and                 del                 import              return\n",
            "as                  elif                in                  try\n",
            "assert              else                is                  while\n",
            "async               except              lambda              with\n",
            "await               finally             nonlocal            yield\n",
            "break               for                 not                 \n",
            "\n"
          ]
        }
      ]
    },
    {
      "cell_type": "code",
      "source": [
        "number_1 = 20\n",
        "number_2 = number_1\n",
        "print(number_2)"
      ],
      "metadata": {
        "colab": {
          "base_uri": "https://localhost:8080/"
        },
        "id": "g12bQXfq6KJR",
        "outputId": "43056f27-6a39-4ced-877d-46068c633c51"
      },
      "execution_count": null,
      "outputs": [
        {
          "output_type": "stream",
          "name": "stdout",
          "text": [
            "20\n"
          ]
        }
      ]
    },
    {
      "cell_type": "code",
      "source": [
        "MyFirstValue = 100"
      ],
      "metadata": {
        "id": "ujBmu8bxar_1"
      },
      "execution_count": null,
      "outputs": []
    },
    {
      "cell_type": "markdown",
      "source": [
        "# Операторы"
      ],
      "metadata": {
        "id": "uUF5TKPu40il"
      }
    },
    {
      "cell_type": "markdown",
      "source": [
        "## Целые числа (int)"
      ],
      "metadata": {
        "id": "uu9GzFMC42yZ"
      }
    },
    {
      "cell_type": "code",
      "metadata": {
        "id": "KZlt3cYC4oTc",
        "colab": {
          "base_uri": "https://localhost:8080/",
          "height": 139
        },
        "outputId": "d86270cb-552b-43d4-81cf-e39662e3fda5"
      },
      "source": [
        "x_1 = 5\n",
        "x_2 = -5\n",
        "y = 2\n",
        "print(x_1 + y)\n",
        "print(x_1 - y)\n",
        "print(x_1 / y)\n",
        "print(x_1 * y)\n",
        "print(x_1 // y)\n",
        "print(x_1 % y)\n",
        "print(x_1 ** y)"
      ],
      "execution_count": null,
      "outputs": [
        {
          "output_type": "stream",
          "text": [
            "7\n",
            "3\n",
            "2.5\n",
            "10\n",
            "2\n",
            "1\n",
            "25\n"
          ],
          "name": "stdout"
        }
      ]
    },
    {
      "cell_type": "markdown",
      "source": [
        "**Внимание!** Разное поведение при целочисленном делении положительных и отрицательных чисел"
      ],
      "metadata": {
        "id": "M4kMnN238Q2C"
      }
    },
    {
      "cell_type": "code",
      "metadata": {
        "id": "CGNf629k3V60",
        "colab": {
          "base_uri": "https://localhost:8080/",
          "height": 52
        },
        "outputId": "00f08a00-0316-4a15-bf19-85561dcdf85d"
      },
      "source": [
        "print(x_1 // y) # усечение\n",
        "print(x_2 // y) # округление"
      ],
      "execution_count": null,
      "outputs": [
        {
          "output_type": "stream",
          "text": [
            "2\n",
            "-3\n"
          ],
          "name": "stdout"
        }
      ]
    },
    {
      "cell_type": "markdown",
      "source": [
        "### Объяснение"
      ],
      "metadata": {
        "id": "J-x6RYJS-qzF"
      }
    },
    {
      "cell_type": "markdown",
      "source": [
        "\n",
        "```\n",
        "    Разделить целое число a на целое число b!=0 с остатком — это значит\n",
        "    найти такие два целых q и r, которые удовлетворяют следующим условиям:\n",
        "    1) a = b * q + e;\n",
        "    2) 0 <= e < |b|.\n",
        "```\n",
        "```\n",
        "-5 // 2 = -3\n",
        "```\n",
        "1.   При делении отрицательного числа на положительное, получится отрицательное число\n",
        "2.   Можно предположить, что правильный ответ -2, но в этом случае умножив -2 * 2 мы получим -4. Чтобы получить исходное -5 нужно к результату прибавить число -1, но остаток не может быть отрицательным по определению(e >= 0). По этому в данном случае остаток равен 1 и частное равно -3\n",
        "\n",
        "\n"
      ],
      "metadata": {
        "id": "cBdhfEiS9MwL"
      }
    },
    {
      "cell_type": "markdown",
      "source": [
        "[Более глубокое объяснение со ссылкой на автора языка](http://www.rupython.com/6061-6061.html)"
      ],
      "metadata": {
        "id": "Frx-GbrtRrVE"
      }
    },
    {
      "cell_type": "markdown",
      "source": [
        "### Приоритеты операций"
      ],
      "metadata": {
        "id": "NyEx43vM-vcj"
      }
    },
    {
      "cell_type": "code",
      "metadata": {
        "id": "78uHvpB53V4Q",
        "colab": {
          "base_uri": "https://localhost:8080/"
        },
        "outputId": "c7476c42-da93-497a-87cb-4e2acef656de"
      },
      "source": [
        "print(\"\"\"Приоритеты операций\n",
        "**\n",
        "унарный минус\n",
        "* / // %\n",
        "+ - \n",
        "\"\"\")"
      ],
      "execution_count": null,
      "outputs": [
        {
          "output_type": "stream",
          "name": "stdout",
          "text": [
            "Приоритеты операций\n",
            "унарный минус\n",
            "**\n",
            "* / // %\n",
            "+ - \n",
            "\n"
          ]
        }
      ]
    },
    {
      "cell_type": "code",
      "source": [
        "# унарный минус\n",
        "2**-10"
      ],
      "metadata": {
        "colab": {
          "base_uri": "https://localhost:8080/"
        },
        "id": "L8Dgx0HK8GLC",
        "outputId": "7f066646-dbfa-408a-fa6e-a1978e46238b"
      },
      "execution_count": null,
      "outputs": [
        {
          "output_type": "execute_result",
          "data": {
            "text/plain": [
              "0.0009765625"
            ]
          },
          "metadata": {},
          "execution_count": 71
        }
      ]
    },
    {
      "cell_type": "markdown",
      "source": [
        "## Дробные числа"
      ],
      "metadata": {
        "id": "rdgrWlKtR8dv"
      }
    },
    {
      "cell_type": "code",
      "source": [
        "x_1 = 5.8\n",
        "x_2 = -5.8\n",
        "y = 2.1\n",
        "print(x_1 + y)\n",
        "print(x_1 - y)\n",
        "print(x_1 / y)\n",
        "print(x_1 * y)\n",
        "print(x_1 // y)\n",
        "print(x_1 % y)\n",
        "print(x_1 ** y)"
      ],
      "metadata": {
        "colab": {
          "base_uri": "https://localhost:8080/"
        },
        "id": "-k3JimwfSBVR",
        "outputId": "1976c9cb-f3a2-4419-ca2e-f183c63f4bb3"
      },
      "execution_count": null,
      "outputs": [
        {
          "output_type": "stream",
          "name": "stdout",
          "text": [
            "7.9\n",
            "3.6999999999999997\n",
            "2.761904761904762\n",
            "12.18\n",
            "2.0\n",
            "1.5999999999999996\n",
            "40.105024545915704\n"
          ]
        }
      ]
    },
    {
      "cell_type": "markdown",
      "source": [
        "Приоритеты операций будут те же\n",
        "Поведение целочисленного деление также"
      ],
      "metadata": {
        "id": "inkHfTMuTMhP"
      }
    },
    {
      "cell_type": "code",
      "source": [
        "print(x_1 // y) # усечение\n",
        "print(x_2 // y) # округление"
      ],
      "metadata": {
        "colab": {
          "base_uri": "https://localhost:8080/"
        },
        "id": "dcjPHxmLSBsQ",
        "outputId": "42eedcb1-e3d4-4f1a-efc9-3697645312bb"
      },
      "execution_count": null,
      "outputs": [
        {
          "output_type": "stream",
          "name": "stdout",
          "text": [
            "2.0\n",
            "-3.0\n"
          ]
        }
      ]
    },
    {
      "cell_type": "markdown",
      "source": [
        "## Логический тип"
      ],
      "metadata": {
        "id": "sDaGiqqyTc7X"
      }
    },
    {
      "cell_type": "code",
      "source": [
        "true_val = True\n",
        "false_var = False\n",
        "print(true_val or false_var) # True, если хотя бы одна переменная True\n",
        "print(true_val and false_var) # True, если все переменные True\n",
        "print(not true_val)"
      ],
      "metadata": {
        "colab": {
          "base_uri": "https://localhost:8080/"
        },
        "id": "gPNK7PPFSBlR",
        "outputId": "3f090a97-e214-481f-d35c-79a410b9a2a0"
      },
      "execution_count": null,
      "outputs": [
        {
          "output_type": "stream",
          "name": "stdout",
          "text": [
            "True\n",
            "False\n",
            "False\n"
          ]
        }
      ]
    },
    {
      "cell_type": "code",
      "source": [
        "print(true_val and not false_var)"
      ],
      "metadata": {
        "colab": {
          "base_uri": "https://localhost:8080/"
        },
        "id": "H2xjILwhf0uI",
        "outputId": "a48e1611-7992-49a8-ab59-36e9dd720125"
      },
      "execution_count": null,
      "outputs": [
        {
          "output_type": "stream",
          "name": "stdout",
          "text": [
            "True\n"
          ]
        }
      ]
    },
    {
      "cell_type": "code",
      "source": [
        "print(true_val or true_val and false_var)"
      ],
      "metadata": {
        "colab": {
          "base_uri": "https://localhost:8080/"
        },
        "id": "JDnn708cjTSx",
        "outputId": "077c275b-cc1b-41ae-954e-fb486ec0f919"
      },
      "execution_count": null,
      "outputs": [
        {
          "output_type": "stream",
          "name": "stdout",
          "text": [
            "True\n"
          ]
        }
      ]
    },
    {
      "cell_type": "code",
      "source": [
        "print(\"\"\"Приоритеты операций\n",
        "- not\n",
        "- and\n",
        "- or\n",
        "\"\"\")"
      ],
      "metadata": {
        "colab": {
          "base_uri": "https://localhost:8080/"
        },
        "id": "AsaUgwmyiGDi",
        "outputId": "657651cb-11a8-41dc-f3d7-73e76289e038"
      },
      "execution_count": null,
      "outputs": [
        {
          "output_type": "stream",
          "name": "stdout",
          "text": [
            "Приоритеты операций\n",
            "- not\n",
            "- and\n",
            "- or\n",
            "\n"
          ]
        }
      ]
    },
    {
      "cell_type": "markdown",
      "source": [
        "## Строки"
      ],
      "metadata": {
        "id": "9iGCp87fkayO"
      }
    },
    {
      "cell_type": "code",
      "source": [
        "str_1 = 'Name_'\n",
        "str_2 = 'Helen'\n",
        "print(str_1 + str_2)\n",
        "print(str_1 * 3)"
      ],
      "metadata": {
        "colab": {
          "base_uri": "https://localhost:8080/"
        },
        "id": "51_xy3vikafZ",
        "outputId": "d94095c6-7e9b-435e-a9ee-872fed3a8810"
      },
      "execution_count": null,
      "outputs": [
        {
          "output_type": "stream",
          "name": "stdout",
          "text": [
            "Name_Helen\n",
            "Name_Name_Name_\n"
          ]
        }
      ]
    },
    {
      "cell_type": "markdown",
      "source": [
        "# Работа с библиотеками. Установка и импорт"
      ],
      "metadata": {
        "id": "JZQr8y3hlF2W"
      }
    },
    {
      "cell_type": "markdown",
      "source": [
        "**Смотоим список встроенных и установленных модулей**"
      ],
      "metadata": {
        "id": "UBnAwPDTnzOJ"
      }
    },
    {
      "cell_type": "code",
      "source": [
        "help('modules')"
      ],
      "metadata": {
        "colab": {
          "base_uri": "https://localhost:8080/"
        },
        "id": "Pm-K4JvKoW40",
        "outputId": "7e559c0b-0ccb-4282-bead-46fe400b259e"
      },
      "execution_count": null,
      "outputs": [
        {
          "output_type": "stream",
          "name": "stdout",
          "text": [
            "\n",
            "Please wait a moment while I gather a list of all available modules...\n",
            "\n"
          ]
        },
        {
          "output_type": "stream",
          "name": "stderr",
          "text": [
            "/usr/local/lib/python3.7/dist-packages/IPython/kernel/__init__.py:13: ShimWarning: The `IPython.kernel` package has been deprecated since IPython 4.0.You should import from ipykernel or jupyter_client instead.\n",
            "  \"You should import from ipykernel or jupyter_client instead.\", ShimWarning)\n",
            "/usr/local/lib/python3.7/dist-packages/llvmlite/llvmpy/__init__.py:4: UserWarning: The module `llvmlite.llvmpy` is deprecated and will be removed in the future.\n",
            "  \"The module `llvmlite.llvmpy` is deprecated and will be removed in the \"\n",
            "/usr/local/lib/python3.7/dist-packages/llvmlite/llvmpy/core.py:9: UserWarning: The module `llvmlite.llvmpy.core` is deprecated and will be removed in the future. Equivalent functionality is provided by `llvmlite.ir`.\n",
            "  \"The module `llvmlite.llvmpy.core` is deprecated and will be removed in \"\n",
            "WARNING: AstropyDeprecationWarning: The private astropy._erfa module has been made into its own package, pyerfa, which is a dependency of astropy and can be imported directly using \"import erfa\" [astropy._erfa]\n",
            "WARNING:astropy:AstropyDeprecationWarning: The private astropy._erfa module has been made into its own package, pyerfa, which is a dependency of astropy and can be imported directly using \"import erfa\"\n",
            "/usr/local/lib/python3.7/dist-packages/caffe2/__init__.py:5: UserWarning: Caffe2 support is not fully enabled in this PyTorch build. Please enable Caffe2 by building PyTorch from source with `BUILD_CAFFE2=1` flag.\n",
            "  warnings.warn(\"Caffe2 support is not fully enabled in this PyTorch build. \"\n",
            "/usr/local/lib/python3.7/dist-packages/caffe2/proto/__init__.py:17: UserWarning: Caffe2 support is not enabled in this PyTorch build. Please enable Caffe2 by building PyTorch from source with `BUILD_CAFFE2=1` flag.\n",
            "  warnings.warn('Caffe2 support is not enabled in this PyTorch build. '\n",
            "/usr/local/lib/python3.7/dist-packages/caffe2/proto/__init__.py:17: UserWarning: Caffe2 support is not enabled in this PyTorch build. Please enable Caffe2 by building PyTorch from source with `BUILD_CAFFE2=1` flag.\n",
            "  warnings.warn('Caffe2 support is not enabled in this PyTorch build. '\n",
            "/usr/local/lib/python3.7/dist-packages/caffe2/python/__init__.py:9: UserWarning: Caffe2 support is not enabled in this PyTorch build. Please enable Caffe2 by building PyTorch from source with `BUILD_CAFFE2=1` flag.\n",
            "  warnings.warn('Caffe2 support is not enabled in this PyTorch build. '\n",
            "/usr/local/lib/python3.7/dist-packages/past/types/oldstr.py:5: DeprecationWarning:\n",
            "\n",
            "Using or importing the ABCs from 'collections' instead of from 'collections.abc' is deprecated since Python 3.3,and in 3.9 it will stop working\n",
            "\n",
            "/usr/local/lib/python3.7/dist-packages/intervaltree/intervaltree.py:37: DeprecationWarning:\n",
            "\n",
            "Using or importing the ABCs from 'collections' instead of from 'collections.abc' is deprecated since Python 3.3,and in 3.9 it will stop working\n",
            "\n",
            "/usr/local/lib/python3.7/dist-packages/jupyter_client/ssh/tunnel.py:57: DeprecationWarning:\n",
            "\n",
            "zmq.utils.strtypes is deprecated in pyzmq 23.\n",
            "\n",
            "/usr/local/lib/python3.7/dist-packages/librosa/core/constantq.py:1059: DeprecationWarning:\n",
            "\n",
            "`np.complex` is a deprecated alias for the builtin `complex`. To silence this warning, use `complex` by itself. Doing this will not modify any behavior and is safe. If you specifically wanted the numpy scalar type, use `np.complex128` here.\n",
            "Deprecated in NumPy 1.20; for more details and guidance: https://numpy.org/devdocs/release/1.20.0-notes.html#deprecations\n",
            "\n"
          ]
        },
        {
          "output_type": "stream",
          "name": "stdout",
          "text": [
            "Downloading http://dlib.net/files/shape_predictor_68_face_landmarks.dat.bz2 to /root/mlxtend_data/shape_predictor_68_face_landmarks.dat.bz2\n"
          ]
        },
        {
          "output_type": "stream",
          "name": "stderr",
          "text": [
            "/usr/local/lib/python3.7/dist-packages/nbconvert/filters/strings.py:22: DeprecationWarning:\n",
            "\n",
            "defusedxml.cElementTree is deprecated, import from defusedxml.ElementTree instead.\n",
            "\n",
            "/usr/local/lib/python3.7/dist-packages/nibabel/quaternions.py:31: DeprecationWarning:\n",
            "\n",
            "`np.float` is a deprecated alias for the builtin `float`. To silence this warning, use `float` by itself. Doing this will not modify any behavior and is safe. If you specifically wanted the numpy scalar type, use `np.float64` here.\n",
            "Deprecated in NumPy 1.20; for more details and guidance: https://numpy.org/devdocs/release/1.20.0-notes.html#deprecations\n",
            "\n",
            "/usr/lib/python3.7/pkgutil.py:92: UserWarning:\n",
            "\n",
            "The DICOM readers are highly experimental, unstable, and only work for Siemens time-series at the moment\n",
            "Please use with caution.  We would be grateful for your help in improving them\n",
            "\n",
            "/usr/local/lib/python3.7/dist-packages/nltk/twitter/__init__.py:21: UserWarning:\n",
            "\n",
            "The twython library has not been installed. Some functionality from the twitter package will not be available.\n",
            "\n",
            "/usr/local/lib/python3.7/dist-packages/pip/_vendor/packaging/version.py:130: DeprecationWarning:\n",
            "\n",
            "Creating a LegacyVersion has been deprecated and will be removed in the next major release\n",
            "\n",
            "/usr/local/lib/python3.7/dist-packages/pip/_vendor/packaging/version.py:130: DeprecationWarning:\n",
            "\n",
            "Creating a LegacyVersion has been deprecated and will be removed in the next major release\n",
            "\n",
            "/usr/lib/python3.7/pkgutil.py:92: UserWarning: Viewer requires Qt\n",
            "/usr/local/lib/python3.7/dist-packages/sphinx/websupport/__init__.py:25: RemovedInSphinx20Warning: sphinx.websupport module is now provided as sphinxcontrib-websupport. sphinx.websupport will be removed at Sphinx-2.0. Please use the package instead.\n",
            "/usr/local/lib/python3.7/dist-packages/marshmallow/fields.py:569: RemovedInMarshmallow4Warning: The 'missing' argument to fields is deprecated. Use 'load_default' instead.\n",
            "/usr/local/lib/python3.7/dist-packages/tensorboard/_vendor/html5lib/filters/sanitizer.py:29: DeprecationWarning: html5lib's sanitizer is deprecated; see https://github.com/html5lib/html5lib-python/issues/443 and please let us know if Bleach is unsuitable for your needs\n",
            "/usr/local/lib/python3.7/dist-packages/torch/distributed/_sharded_tensor/__init__.py:10: DeprecationWarning: torch.distributed._sharded_tensor will be deprecated, use torch.distributed._shard.sharded_tensor instead\n",
            "/usr/local/lib/python3.7/dist-packages/torch/distributed/_sharding_spec/__init__.py:10: DeprecationWarning: torch.distributed._sharding_spec will be deprecated, use torch.distributed._shard.sharding_spec instead\n"
          ]
        },
        {
          "output_type": "stream",
          "name": "stdout",
          "text": [
            "No CUDA runtime is found, using CUDA_HOME='/usr/local/cuda'\n",
            "Cython              collections         kapre               resource\n",
            "IPython             colorcet            keras               rlcompleter\n",
            "OpenGL              colorlover          keras_preprocessing rmagic\n",
            "PIL                 colorsys            keyword             rpy2\n",
            "ScreenResolution    community           kiwisolver          rsa\n",
            "__future__          compileall          korean_lunar_calendar runpy\n",
            "_abc                concurrent          langcodes           samples\n",
            "_ast                configparser        lib2to3             sched\n",
            "_asyncio            cons                libfuturize         scipy\n",
            "_bisect             contextlib          libpasteurize       scs\n",
            "_blake2             contextlib2         librosa             seaborn\n",
            "_bootlocale         contextvars         lightgbm            secrets\n",
            "_bz2                convertdate         linecache           select\n",
            "_cffi_backend       copy                llvmlite            selectors\n",
            "_codecs             copyreg             lmdb                send2trash\n",
            "_codecs_cn          crashtest           locale              setuptools\n",
            "_codecs_hk          crcmod              locket              setuptools_git\n",
            "_codecs_iso2022     crypt               logging             shapely\n",
            "_codecs_jp          csimdjson           lsb_release         shelve\n",
            "_codecs_kr          csv                 lunarcalendar       shlex\n",
            "_codecs_tw          ctypes              lxml                shutil\n",
            "_collections        cufflinks           lzma                signal\n",
            "_collections_abc    curses              macpath             simdjson\n",
            "_compat_pickle      cv2                 mailbox             site\n",
            "_compression        cvxopt              mailcap             sitecustomize\n",
            "_contextvars        cvxpy               markdown            six\n",
            "_crypt              cycler              markupsafe          skimage\n",
            "_csv                cymem               marshal             sklearn\n",
            "_ctypes             cython              marshmallow         sklearn_pandas\n",
            "_ctypes_test        cythonmagic         math                slugify\n",
            "_curses             daft                matplotlib          smart_open\n",
            "_curses_panel       dask                matplotlib_venn     smtpd\n",
            "_cvxcore            dataclasses         mimetypes           smtplib\n",
            "_datetime           datascience         missingno           sndhdr\n",
            "_dbm                datetime            mistune             snowballstemmer\n",
            "_decimal            dateutil            mizani              socket\n",
            "_distutils_hack     dbm                 mlxtend             socketserver\n",
            "_dlib_pybind11      dbus                mmap                socks\n",
            "_dummy_thread       debugpy             modulefinder        sockshandler\n",
            "_ecos               decimal             more_itertools      softwareproperties\n",
            "_elementtree        decorator           moviepy             sortedcontainers\n",
            "_functools          defusedxml          mpmath              soundfile\n",
            "_hashlib            descartes           msgpack             spacy\n",
            "_heapq              difflib             multidict           spacy_legacy\n",
            "_imp                dill                multipledispatch    spacy_loggers\n",
            "_io                 dis                 multiprocessing     sphinx\n",
            "_json               distributed         multitasking        spwd\n",
            "_locale             distutils           murmurhash          sql\n",
            "_lsprof             dlib                music21             sqlalchemy\n",
            "_lzma               docs                natsort             sqlite3\n",
            "_markupbase         doctest             nbconvert           sqlparse\n",
            "_md5                docutils            nbformat            sre_compile\n",
            "_multibytecodec     dopamine            netCDF4             sre_constants\n",
            "_multiprocessing    dot_parser          netrc               sre_parse\n",
            "_opcode             dummy_threading     networkx            srsly\n",
            "_operator           easydict            nibabel             ssl\n",
            "_osx_support        ecos                nis                 stan\n",
            "_pickle             editdistance        nisext              stat\n",
            "_plotly_future_     ee                  nltk                statistics\n",
            "_plotly_utils       email               nntplib             statsmodels\n",
            "_posixsubprocess    en_core_web_sm      notebook            storemagic\n",
            "_py_abc             encodings           ntpath              string\n",
            "_pydecimal          entrypoints         nturl2path          stringprep\n",
            "_pyio               enum                numba               struct\n",
            "_pyrsistent_version ephem               numbergen           subprocess\n",
            "_pytest             erfa                numbers             sunau\n",
            "_queue              errno               numexpr             symbol\n",
            "_random             et_xmlfile          numpy               sympy\n",
            "_rinterface_cffi_abi etils               oauth2client        sympyprinting\n",
            "_rinterface_cffi_api etuples             oauthlib            symtable\n",
            "_scs_direct         fa2                 ogr                 sys\n",
            "_scs_indirect       fastai              okgrade             sysconfig\n",
            "_sha1               fastcore            opcode              syslog\n",
            "_sha256             fastdownload        openpyxl            tables\n",
            "_sha3               fastdtw             operator            tabnanny\n",
            "_sha512             fastjsonschema      opt_einsum          tabulate\n",
            "_signal             fastprogress        optparse            tarfile\n",
            "_sitebuiltins       fastrlock           os                  tblib\n",
            "_socket             faulthandler        osgeo               telnetlib\n",
            "_soundfile          fcntl               osqp                tempfile\n",
            "_sqlite3            feather             osqppurepy          tenacity\n",
            "_sre                filecmp             osr                 tensorboard\n",
            "_ssl                fileinput           ossaudiodev         tensorboard_data_server\n",
            "_stat               filelock            packaging           tensorboard_plugin_wit\n",
            "_string             firebase_admin      palettable          tensorflow\n",
            "_strptime           fix_yahoo_finance   pandas              tensorflow_datasets\n",
            "_struct             flask               pandas_datareader   tensorflow_estimator\n",
            "_symtable           flatbuffers         pandas_gbq          tensorflow_gcs_config\n",
            "_sysconfigdata_m_linux_x86_64-linux-gnu fnmatch             pandas_profiling    tensorflow_hub\n",
            "_sysconfigdata_m_x86_64-linux-gnu folium              pandocfilters       tensorflow_io_gcs_filesystem\n",
            "_testbuffer         formatter           panel               tensorflow_metadata\n",
            "_testcapi           fractions           param               tensorflow_probability\n",
            "_testimportmultiple frozenlist          parser              termcolor\n",
            "_testmultiphase     fsspec              parso               terminado\n",
            "_thread             ftplib              partd               termios\n",
            "_threading_local    functools           past                test\n",
            "_tkinter            future              pasta               testpath\n",
            "_tracemalloc        gast                pastel              tests\n",
            "_warnings           gc                  pathlib             text_unidecode\n",
            "_weakref            gdal                pathy               textblob\n",
            "_weakrefset         gdalconst           patsy               textwrap\n",
            "_xxtestfuzz         gdalnumeric         pdb                 thinc\n",
            "_yaml               gdown               pep517              this\n",
            "abc                 genericpath         pexpect             threading\n",
            "absl                gensim              pickle              threadpoolctl\n",
            "aeppl               geographiclib       pickleshare         tifffile\n",
            "aesara              geopy               pickletools         time\n",
            "aifc                getopt              pip                 timeit\n",
            "aiohttp             getpass             pipes               tkinter\n",
            "aiosignal           gettext             piptools            tlz\n",
            "alabaster           gi                  pkg_resources       token\n",
            "albumentations      gin                 pkgutil             tokenize\n",
            "altair              glob                platform            toml\n",
            "antigravity         glob2               plistlib            tomli\n",
            "apiclient           gnm                 plotly              toolz\n",
            "appdirs             google_auth_httplib2 plotlywidget        torch\n",
            "apt                 google_auth_oauthlib plotnine            torchaudio\n",
            "apt_inst            google_drive_downloader pluggy              torchgen\n",
            "apt_pkg             googleapiclient     pooch               torchsummary\n",
            "aptsources          googlesearch        poplib              torchtext\n",
            "argparse            graphviz            portpicker          torchvision\n",
            "array               greenlet            posix               tornado\n",
            "arviz               gridfs              posixpath           tqdm\n",
            "ast                 grp                 pprint              trace\n",
            "astor               grpc                prefetch_generator  traceback\n",
            "astropy             gspread             preshed             tracemalloc\n",
            "astunparse          gspread_dataframe   prettytable         traitlets\n",
            "async_timeout       gym                 profile             tree\n",
            "asynchat            gym_notices         progressbar         tty\n",
            "asyncio             gzip                promise             turtle\n",
            "asyncore            h5py                prompt_toolkit      tweepy\n",
            "asynctest           hashlib             prophet             typeguard\n",
            "atari_py            heapdict            pstats              typer\n",
            "atexit              heapq               psutil              types\n",
            "atomicwrites        hijri_converter     psycopg2            typing\n",
            "attr                hmac                pty                 typing_extensions\n",
            "attrs               holidays            ptyprocess          tzlocal\n",
            "audioop             holoviews           pvectorc            ujson\n",
            "audioread           html                pwd                 unicodedata\n",
            "autograd            html5lib            py                  unification\n",
            "autoreload          http                py_compile          unittest\n",
            "babel               httpimport          pyarrow             uritemplate\n",
            "backcall            httplib2            pyasn1              urllib\n",
            "base64              httplib2shim        pyasn1_modules      urllib3\n",
            "bdb                 httpstan            pyclbr              uu\n",
            "bin                 humanize            pycocotools         uuid\n",
            "binascii            hyperopt            pycparser           vega_datasets\n",
            "binhex              idna                pyct                venv\n",
            "bisect              imageio             pydantic            vis\n",
            "bleach              imagesize           pydata_google_auth  warnings\n",
            "blis                imaplib             pydoc               wasabi\n",
            "bokeh               imblearn            pydoc_data          wave\n",
            "boost               imgaug              pydot               wcwidth\n",
            "branca              imghdr              pydot_ng            weakref\n",
            "bs4                 imp                 pydotplus           webargs\n",
            "bson                importlib           pydrive             webbrowser\n",
            "builtins            importlib_metadata  pyemd               webencodings\n",
            "bz2                 importlib_resources pyexpat             werkzeug\n",
            "cProfile            imutils             pygments            wheel\n",
            "cachecontrol        inflect             pygtkcompat         widgetsnbextension\n",
            "cached_property     inspect             pylab               wordcloud\n",
            "cachetools          intervaltree        pylev               wrapt\n",
            "caffe2              io                  pymc                wsgiref\n",
            "calendar            ipaddress           pymeeus             xarray\n",
            "catalogue           ipykernel           pymongo             xarray_einstats\n",
            "certifi             ipykernel_launcher  pymystem3           xdrlib\n",
            "cffi                ipython_genutils    pyparsing           xgboost\n",
            "cftime              ipywidgets          pyrsistent          xkit\n",
            "cgi                 isympy              pysndfile           xlrd\n",
            "cgitb               itertools           pytest              xlwt\n",
            "chardet             itsdangerous        python_utils        xml\n",
            "charset_normalizer  jax                 pytz                xmlrpc\n",
            "chess               jaxlib              pyviz_comms         xxlimited\n",
            "chunk               jieba               pywt                xxsubtype\n",
            "clang               jinja2              pyximport           yaml\n",
            "click               joblib              qdldl               yarl\n",
            "client              jpeg4py             qudida              yellowbrick\n",
            "clikit              json                queue               zict\n",
            "cloudpickle         jsonschema          quopri              zipapp\n",
            "cmake               jupyter             random              zipfile\n",
            "cmath               jupyter_client      re                  zipimport\n",
            "cmd                 jupyter_console     readline            zipp\n",
            "cmdstanpy           jupyter_core        regex               zlib\n",
            "code                jupyterlab_plotly   reprlib             zmq\n",
            "codecs              jupyterlab_widgets  requests            \n",
            "codeop              kaggle              requests_oauthlib   \n",
            "colab               kanren              resampy             \n",
            "\n",
            "Enter any module name to get more help.  Or, type \"modules spam\" to search\n",
            "for modules whose name or summary contain the string \"spam\".\n",
            "\n"
          ]
        },
        {
          "output_type": "stream",
          "name": "stderr",
          "text": [
            "/usr/lib/python3.7/pkgutil.py:107: VisibleDeprecationWarning: zmq.eventloop.minitornado is deprecated in pyzmq 14.0 and will be removed.\n",
            "    Install tornado itself to use zmq with the tornado IOLoop.\n",
            "    \n"
          ]
        }
      ]
    },
    {
      "cell_type": "markdown",
      "source": [
        "**Смотоим список только установленных библиотек (без встроенных)**"
      ],
      "metadata": {
        "id": "0EWznK1tpXyK"
      }
    },
    {
      "cell_type": "code",
      "source": [
        "!pip list command"
      ],
      "metadata": {
        "colab": {
          "base_uri": "https://localhost:8080/"
        },
        "id": "2xh2rm-vny-c",
        "outputId": "10ed19b6-55b4-4398-fa39-47255c190f66"
      },
      "execution_count": null,
      "outputs": [
        {
          "output_type": "stream",
          "name": "stdout",
          "text": [
            "Package                       Version\n",
            "----------------------------- ----------------------------\n",
            "absl-py                       1.2.0\n",
            "aeppl                         0.0.33\n",
            "aesara                        2.7.9\n",
            "aiohttp                       3.8.1\n",
            "aiosignal                     1.2.0\n",
            "alabaster                     0.7.12\n",
            "albumentations                1.2.1\n",
            "altair                        4.2.0\n",
            "appdirs                       1.4.4\n",
            "arviz                         0.12.1\n",
            "astor                         0.8.1\n",
            "astropy                       4.3.1\n",
            "astunparse                    1.6.3\n",
            "async-timeout                 4.0.2\n",
            "asynctest                     0.13.0\n",
            "atari-py                      0.2.9\n",
            "atomicwrites                  1.4.1\n",
            "attrs                         22.1.0\n",
            "audioread                     3.0.0\n",
            "autograd                      1.4\n",
            "Babel                         2.10.3\n",
            "backcall                      0.2.0\n",
            "beautifulsoup4                4.6.3\n",
            "bleach                        5.0.1\n",
            "blis                          0.7.8\n",
            "bokeh                         2.3.3\n",
            "branca                        0.5.0\n",
            "bs4                           0.0.1\n",
            "CacheControl                  0.12.11\n",
            "cached-property               1.5.2\n",
            "cachetools                    4.2.4\n",
            "catalogue                     2.0.8\n",
            "certifi                       2022.6.15\n",
            "cffi                          1.15.1\n",
            "cftime                        1.6.1\n",
            "chardet                       3.0.4\n",
            "charset-normalizer            2.1.1\n",
            "click                         7.1.2\n",
            "clikit                        0.6.2\n",
            "cloudpickle                   1.5.0\n",
            "cmake                         3.22.6\n",
            "cmdstanpy                     1.0.7\n",
            "colorcet                      3.0.0\n",
            "colorlover                    0.3.0\n",
            "community                     1.0.0b1\n",
            "cons                          0.4.5\n",
            "contextlib2                   0.5.5\n",
            "convertdate                   2.4.0\n",
            "crashtest                     0.3.1\n",
            "crcmod                        1.7\n",
            "cufflinks                     0.17.3\n",
            "cvxopt                        1.3.0\n",
            "cvxpy                         1.2.1\n",
            "cycler                        0.11.0\n",
            "cymem                         2.0.6\n",
            "Cython                        0.29.32\n",
            "daft                          0.0.4\n",
            "dask                          2022.2.0\n",
            "datascience                   0.17.5\n",
            "debugpy                       1.0.0\n",
            "decorator                     4.4.2\n",
            "defusedxml                    0.7.1\n",
            "descartes                     1.1.0\n",
            "dill                          0.3.5.1\n",
            "distributed                   2022.2.0\n",
            "dlib                          19.24.0\n",
            "dm-tree                       0.1.7\n",
            "docutils                      0.17.1\n",
            "dopamine-rl                   1.0.5\n",
            "earthengine-api               0.1.323\n",
            "easydict                      1.9\n",
            "ecos                          2.0.10\n",
            "editdistance                  0.5.3\n",
            "en-core-web-sm                3.4.0\n",
            "entrypoints                   0.4\n",
            "ephem                         4.1.3\n",
            "et-xmlfile                    1.1.0\n",
            "etils                         0.7.1\n",
            "etuples                       0.3.8\n",
            "fa2                           0.3.5\n",
            "fastai                        2.7.9\n",
            "fastcore                      1.5.25\n",
            "fastdownload                  0.0.7\n",
            "fastdtw                       0.3.4\n",
            "fastjsonschema                2.16.1\n",
            "fastprogress                  1.0.3\n",
            "fastrlock                     0.8\n",
            "feather-format                0.4.1\n",
            "filelock                      3.8.0\n",
            "firebase-admin                4.4.0\n",
            "fix-yahoo-finance             0.0.22\n",
            "Flask                         1.1.4\n",
            "flatbuffers                   2.0.7\n",
            "folium                        0.12.1.post1\n",
            "frozenlist                    1.3.1\n",
            "fsspec                        2022.8.2\n",
            "future                        0.16.0\n",
            "gast                          0.5.3\n",
            "GDAL                          2.2.2\n",
            "gdown                         4.4.0\n",
            "gensim                        3.6.0\n",
            "geographiclib                 1.52\n",
            "geopy                         1.17.0\n",
            "gin-config                    0.5.0\n",
            "glob2                         0.7\n",
            "google                        2.0.3\n",
            "google-api-core               1.31.6\n",
            "google-api-python-client      1.12.11\n",
            "google-auth                   1.35.0\n",
            "google-auth-httplib2          0.0.4\n",
            "google-auth-oauthlib          0.4.6\n",
            "google-cloud-bigquery         1.21.0\n",
            "google-cloud-bigquery-storage 1.1.2\n",
            "google-cloud-core             1.0.3\n",
            "google-cloud-datastore        1.8.0\n",
            "google-cloud-firestore        1.7.0\n",
            "google-cloud-language         1.2.0\n",
            "google-cloud-storage          1.18.1\n",
            "google-cloud-translate        1.5.0\n",
            "google-colab                  1.0.0\n",
            "google-pasta                  0.2.0\n",
            "google-resumable-media        0.4.1\n",
            "googleapis-common-protos      1.56.4\n",
            "googledrivedownloader         0.4\n",
            "graphviz                      0.10.1\n",
            "greenlet                      1.1.3\n",
            "grpcio                        1.48.1\n",
            "gspread                       3.4.2\n",
            "gspread-dataframe             3.0.8\n",
            "gym                           0.25.2\n",
            "gym-notices                   0.0.8\n",
            "h5py                          3.1.0\n",
            "HeapDict                      1.0.1\n",
            "hijri-converter               2.2.4\n",
            "holidays                      0.15\n",
            "holoviews                     1.14.9\n",
            "html5lib                      1.0.1\n",
            "httpimport                    0.5.18\n",
            "httplib2                      0.17.4\n",
            "httplib2shim                  0.0.3\n",
            "httpstan                      4.6.1\n",
            "humanize                      0.5.1\n",
            "hyperopt                      0.1.2\n",
            "idna                          2.10\n",
            "imageio                       2.9.0\n",
            "imagesize                     1.4.1\n",
            "imbalanced-learn              0.8.1\n",
            "imblearn                      0.0\n",
            "imgaug                        0.4.0\n",
            "importlib-metadata            4.12.0\n",
            "importlib-resources           5.9.0\n",
            "imutils                       0.5.4\n",
            "inflect                       2.1.0\n",
            "intel-openmp                  2022.1.0\n",
            "intervaltree                  2.1.0\n",
            "ipykernel                     5.3.4\n",
            "ipython                       7.9.0\n",
            "ipython-genutils              0.2.0\n",
            "ipython-sql                   0.3.9\n",
            "ipywidgets                    7.7.1\n",
            "itsdangerous                  1.1.0\n",
            "jax                           0.3.17\n",
            "jaxlib                        0.3.15+cuda11.cudnn805\n",
            "jieba                         0.42.1\n",
            "Jinja2                        2.11.3\n",
            "joblib                        1.1.0\n",
            "jpeg4py                       0.1.4\n",
            "jsonschema                    4.3.3\n",
            "jupyter-client                6.1.12\n",
            "jupyter-console               6.1.0\n",
            "jupyter-core                  4.11.1\n",
            "jupyterlab-widgets            3.0.3\n",
            "kaggle                        1.5.12\n",
            "kapre                         0.3.7\n",
            "keras                         2.8.0\n",
            "Keras-Preprocessing           1.1.2\n",
            "keras-vis                     0.4.1\n",
            "kiwisolver                    1.4.4\n",
            "korean-lunar-calendar         0.2.1\n",
            "langcodes                     3.3.0\n",
            "libclang                      14.0.6\n",
            "librosa                       0.8.1\n",
            "lightgbm                      2.2.3\n",
            "llvmlite                      0.39.1\n",
            "lmdb                          0.99\n",
            "locket                        1.0.0\n",
            "logical-unification           0.4.5\n",
            "LunarCalendar                 0.0.9\n",
            "lxml                          4.9.1\n",
            "Markdown                      3.4.1\n",
            "MarkupSafe                    2.0.1\n",
            "marshmallow                   3.17.1\n",
            "matplotlib                    3.2.2\n",
            "matplotlib-venn               0.11.7\n",
            "miniKanren                    1.0.3\n",
            "missingno                     0.5.1\n",
            "mistune                       0.8.4\n",
            "mizani                        0.7.3\n",
            "mkl                           2019.0\n",
            "mlxtend                       0.14.0\n",
            "more-itertools                8.14.0\n",
            "moviepy                       0.2.3.5\n",
            "mpmath                        1.2.1\n",
            "msgpack                       1.0.4\n",
            "multidict                     6.0.2\n",
            "multipledispatch              0.6.0\n",
            "multitasking                  0.0.11\n",
            "murmurhash                    1.0.8\n",
            "music21                       5.5.0\n",
            "natsort                       5.5.0\n",
            "nbconvert                     5.6.1\n",
            "nbformat                      5.4.0\n",
            "netCDF4                       1.6.0\n",
            "networkx                      2.6.3\n",
            "nibabel                       3.0.2\n",
            "nltk                          3.7\n",
            "notebook                      5.3.1\n",
            "numba                         0.56.2\n",
            "numexpr                       2.8.3\n",
            "numpy                         1.21.6\n",
            "oauth2client                  4.1.3\n",
            "oauthlib                      3.2.0\n",
            "okgrade                       0.4.3\n",
            "opencv-contrib-python         4.6.0.66\n",
            "opencv-python                 4.6.0.66\n",
            "opencv-python-headless        4.6.0.66\n",
            "openpyxl                      3.0.10\n",
            "opt-einsum                    3.3.0\n",
            "osqp                          0.6.2.post0\n",
            "packaging                     21.3\n",
            "palettable                    3.3.0\n",
            "pandas                        1.3.5\n",
            "pandas-datareader             0.9.0\n",
            "pandas-gbq                    0.13.3\n",
            "pandas-profiling              1.4.1\n",
            "pandocfilters                 1.5.0\n",
            "panel                         0.12.1\n",
            "param                         1.12.2\n",
            "parso                         0.8.3\n",
            "partd                         1.3.0\n",
            "pastel                        0.2.1\n",
            "pathlib                       1.0.1\n",
            "pathy                         0.6.2\n",
            "patsy                         0.5.2\n",
            "pep517                        0.13.0\n",
            "pexpect                       4.8.0\n",
            "pickleshare                   0.7.5\n",
            "Pillow                        7.1.2\n",
            "pip                           21.1.3\n",
            "pip-tools                     6.2.0\n",
            "plotly                        5.5.0\n",
            "plotnine                      0.8.0\n",
            "pluggy                        0.7.1\n",
            "pooch                         1.6.0\n",
            "portpicker                    1.3.9\n",
            "prefetch-generator            1.0.1\n",
            "preshed                       3.0.7\n",
            "prettytable                   3.4.1\n",
            "progressbar2                  3.38.0\n",
            "promise                       2.3\n",
            "prompt-toolkit                2.0.10\n",
            "prophet                       1.1\n",
            "protobuf                      3.17.3\n",
            "psutil                        5.4.8\n",
            "psycopg2                      2.9.3\n",
            "ptyprocess                    0.7.0\n",
            "py                            1.11.0\n",
            "pyarrow                       6.0.1\n",
            "pyasn1                        0.4.8\n",
            "pyasn1-modules                0.2.8\n",
            "pycocotools                   2.0.4\n",
            "pycparser                     2.21\n",
            "pyct                          0.4.8\n",
            "pydantic                      1.9.2\n",
            "pydata-google-auth            1.4.0\n",
            "pydot                         1.3.0\n",
            "pydot-ng                      2.0.0\n",
            "pydotplus                     2.0.2\n",
            "PyDrive                       1.3.1\n",
            "pyemd                         0.5.1\n",
            "pyerfa                        2.0.0.1\n",
            "Pygments                      2.6.1\n",
            "pygobject                     3.26.1\n",
            "pylev                         1.4.0\n",
            "pymc                          4.1.4\n",
            "PyMeeus                       0.5.11\n",
            "pymongo                       4.2.0\n",
            "pymystem3                     0.2.0\n",
            "PyOpenGL                      3.1.6\n",
            "pyparsing                     3.0.9\n",
            "pyrsistent                    0.18.1\n",
            "pysimdjson                    3.2.0\n",
            "pysndfile                     1.3.8\n",
            "PySocks                       1.7.1\n",
            "pystan                        3.3.0\n",
            "pytest                        3.6.4\n",
            "python-apt                    0.0.0\n",
            "python-chess                  0.23.11\n",
            "python-dateutil               2.8.2\n",
            "python-louvain                0.16\n",
            "python-slugify                6.1.2\n",
            "python-utils                  3.3.3\n",
            "pytz                          2022.2.1\n",
            "pyviz-comms                   2.2.1\n",
            "PyWavelets                    1.3.0\n",
            "PyYAML                        6.0\n",
            "pyzmq                         23.2.1\n",
            "qdldl                         0.1.5.post2\n",
            "qudida                        0.0.4\n",
            "regex                         2022.6.2\n",
            "requests                      2.23.0\n",
            "requests-oauthlib             1.3.1\n",
            "resampy                       0.4.0\n",
            "rpy2                          3.4.5\n",
            "rsa                           4.9\n",
            "scikit-image                  0.18.3\n",
            "scikit-learn                  1.0.2\n",
            "scipy                         1.7.3\n",
            "screen-resolution-extra       0.0.0\n",
            "scs                           3.2.0\n",
            "seaborn                       0.11.2\n",
            "Send2Trash                    1.8.0\n",
            "setuptools                    57.4.0\n",
            "setuptools-git                1.2\n",
            "Shapely                       1.8.4\n",
            "six                           1.15.0\n",
            "sklearn-pandas                1.8.0\n",
            "smart-open                    5.2.1\n",
            "snowballstemmer               2.2.0\n",
            "sortedcontainers              2.4.0\n",
            "SoundFile                     0.10.3.post1\n",
            "spacy                         3.4.1\n",
            "spacy-legacy                  3.0.10\n",
            "spacy-loggers                 1.0.3\n",
            "Sphinx                        1.8.6\n",
            "sphinxcontrib-serializinghtml 1.1.5\n",
            "sphinxcontrib-websupport      1.2.4\n",
            "SQLAlchemy                    1.4.41\n",
            "sqlparse                      0.4.2\n",
            "srsly                         2.4.4\n",
            "statsmodels                   0.12.2\n",
            "sympy                         1.7.1\n",
            "tables                        3.7.0\n",
            "tabulate                      0.8.10\n",
            "tblib                         1.7.0\n",
            "tenacity                      8.0.1\n",
            "tensorboard                   2.8.0\n",
            "tensorboard-data-server       0.6.1\n",
            "tensorboard-plugin-wit        1.8.1\n",
            "tensorflow                    2.8.2+zzzcolab20220719082949\n",
            "tensorflow-datasets           4.6.0\n",
            "tensorflow-estimator          2.8.0\n",
            "tensorflow-gcs-config         2.8.0\n",
            "tensorflow-hub                0.12.0\n",
            "tensorflow-io-gcs-filesystem  0.26.0\n",
            "tensorflow-metadata           1.10.0\n",
            "tensorflow-probability        0.16.0\n",
            "termcolor                     1.1.0\n",
            "terminado                     0.13.3\n",
            "testpath                      0.6.0\n",
            "text-unidecode                1.3\n",
            "textblob                      0.15.3\n",
            "thinc                         8.1.0\n",
            "threadpoolctl                 3.1.0\n",
            "tifffile                      2021.11.2\n",
            "toml                          0.10.2\n",
            "tomli                         2.0.1\n",
            "toolz                         0.12.0\n",
            "torch                         1.12.1+cu113\n",
            "torchaudio                    0.12.1+cu113\n",
            "torchsummary                  1.5.1\n",
            "torchtext                     0.13.1\n",
            "torchvision                   0.13.1+cu113\n",
            "tornado                       5.1.1\n",
            "tqdm                          4.64.1\n",
            "traitlets                     5.1.1\n",
            "tweepy                        3.10.0\n",
            "typeguard                     2.7.1\n",
            "typer                         0.4.2\n",
            "typing-extensions             4.1.1\n",
            "tzlocal                       1.5.1\n",
            "ujson                         5.4.0\n",
            "uritemplate                   3.0.1\n",
            "urllib3                       1.24.3\n",
            "vega-datasets                 0.9.0\n",
            "wasabi                        0.10.1\n",
            "wcwidth                       0.2.5\n",
            "webargs                       8.2.0\n",
            "webencodings                  0.5.1\n",
            "Werkzeug                      1.0.1\n",
            "wheel                         0.37.1\n",
            "widgetsnbextension            3.6.1\n",
            "wordcloud                     1.8.2.2\n",
            "wrapt                         1.14.1\n",
            "xarray                        0.20.2\n",
            "xarray-einstats               0.2.2\n",
            "xgboost                       0.90\n",
            "xkit                          0.0.0\n",
            "xlrd                          1.1.0\n",
            "xlwt                          1.3.0\n",
            "yarl                          1.8.1\n",
            "yellowbrick                   1.5\n",
            "zict                          2.2.0\n",
            "zipp                          3.8.1\n"
          ]
        }
      ]
    },
    {
      "cell_type": "markdown",
      "source": [
        "**Установка библиотек из блокнота**"
      ],
      "metadata": {
        "id": "bJmj8SX6pd8i"
      }
    },
    {
      "cell_type": "code",
      "source": [
        "!pip install numpy"
      ],
      "metadata": {
        "colab": {
          "base_uri": "https://localhost:8080/"
        },
        "id": "3wisowTYlJY7",
        "outputId": "34eaab56-8549-4ce9-a3e3-9989377b7b61"
      },
      "execution_count": null,
      "outputs": [
        {
          "output_type": "stream",
          "name": "stdout",
          "text": [
            "Looking in indexes: https://pypi.org/simple, https://us-python.pkg.dev/colab-wheels/public/simple/\n",
            "Requirement already satisfied: numpy in /usr/local/lib/python3.7/dist-packages (1.21.6)\n"
          ]
        }
      ]
    },
    {
      "cell_type": "markdown",
      "source": [
        "## Работа с модулями (библиотеками)"
      ],
      "metadata": {
        "id": "ZkJjljofp9yj"
      }
    },
    {
      "cell_type": "code",
      "metadata": {
        "id": "iu2-xQjI3V1t",
        "colab": {
          "base_uri": "https://localhost:8080/"
        },
        "outputId": "d327b2bc-657e-45ac-820a-42b0ad1ba2fc"
      },
      "source": [
        "import math\n",
        "math.cos(0)"
      ],
      "execution_count": null,
      "outputs": [
        {
          "output_type": "execute_result",
          "data": {
            "text/plain": [
              "1.0"
            ]
          },
          "metadata": {},
          "execution_count": 29
        }
      ]
    },
    {
      "cell_type": "code",
      "metadata": {
        "id": "D0WtdfSp3Vy1",
        "colab": {
          "base_uri": "https://localhost:8080/"
        },
        "outputId": "8cfcff43-835f-495a-a1e7-b34c0f8998c1"
      },
      "source": [
        "from math import sin\n",
        "sin(0)"
      ],
      "execution_count": null,
      "outputs": [
        {
          "output_type": "execute_result",
          "data": {
            "text/plain": [
              "0.0"
            ]
          },
          "metadata": {},
          "execution_count": 30
        }
      ]
    },
    {
      "cell_type": "code",
      "metadata": {
        "id": "oPyUsOAG3VuE",
        "colab": {
          "base_uri": "https://localhost:8080/"
        },
        "outputId": "65cdb504-7382-459c-bfdd-a8292e624d21"
      },
      "source": [
        "import math as m\n",
        "m.sin(1)"
      ],
      "execution_count": null,
      "outputs": [
        {
          "output_type": "execute_result",
          "data": {
            "text/plain": [
              "0.8414709848078965"
            ]
          },
          "metadata": {},
          "execution_count": 32
        }
      ]
    },
    {
      "cell_type": "code",
      "metadata": {
        "id": "__9VHvfP3VrK",
        "colab": {
          "base_uri": "https://localhost:8080/"
        },
        "outputId": "5aab266f-4c4d-4f26-a923-343f80098507"
      },
      "source": [
        "from math import sin as син\n",
        "син(1)"
      ],
      "execution_count": null,
      "outputs": [
        {
          "output_type": "execute_result",
          "data": {
            "text/plain": [
              "0.8414709848078965"
            ]
          },
          "metadata": {},
          "execution_count": 33
        }
      ]
    },
    {
      "cell_type": "markdown",
      "source": [
        "**Так делать не нужно!**"
      ],
      "metadata": {
        "id": "69l_iZ6EqSP5"
      }
    },
    {
      "cell_type": "code",
      "metadata": {
        "id": "2gDflfCU3VwY",
        "colab": {
          "base_uri": "https://localhost:8080/"
        },
        "outputId": "2414e53a-f1fa-436d-fb49-7b6f8b3a136d"
      },
      "source": [
        "def cos(x):\n",
        "    # Ваша функция, которая возвращает\n",
        "    return \"cos(\" + str(x) + \")\"\n",
        "from math import *\n",
        "cos(1)"
      ],
      "execution_count": null,
      "outputs": [
        {
          "output_type": "execute_result",
          "data": {
            "text/plain": [
              "0.5403023058681398"
            ]
          },
          "metadata": {},
          "execution_count": 34
        }
      ]
    },
    {
      "cell_type": "code",
      "source": [
        "from math import *\n",
        "def cos(x):\n",
        "    # Ваша функция, которая возвращает\n",
        "    return \"cos(\" + str(x) + \")\"\n",
        "cos(1)"
      ],
      "metadata": {
        "colab": {
          "base_uri": "https://localhost:8080/",
          "height": 35
        },
        "id": "qdZppuSkqtiN",
        "outputId": "3246638d-eddb-4b8e-bfaf-f1516b897851"
      },
      "execution_count": null,
      "outputs": [
        {
          "output_type": "execute_result",
          "data": {
            "text/plain": [
              "'cos(1)'"
            ],
            "application/vnd.google.colaboratory.intrinsic+json": {
              "type": "string"
            }
          },
          "metadata": {},
          "execution_count": 3
        }
      ]
    }
  ]
}