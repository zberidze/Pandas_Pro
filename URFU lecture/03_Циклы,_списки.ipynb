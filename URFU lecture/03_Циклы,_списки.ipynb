{
  "nbformat": 4,
  "nbformat_minor": 0,
  "metadata": {
    "colab": {
      "provenance": [],
      "collapsed_sections": [
        "L_AJ8ouEyesK",
        "Wdmc7Uk3KT3w"
      ]
    },
    "kernelspec": {
      "name": "python3",
      "display_name": "Python 3"
    }
  },
  "cells": [
    {
      "cell_type": "markdown",
      "metadata": {
        "id": "9tTVLSDRj8Dn"
      },
      "source": [
        "# Циклы"
      ]
    },
    {
      "cell_type": "markdown",
      "source": [
        "## Циклы с фиксированным числом шагов"
      ],
      "metadata": {
        "id": "rqGr6Sezyily"
      }
    },
    {
      "cell_type": "markdown",
      "source": [
        "### Циклы со счетчиком"
      ],
      "metadata": {
        "id": "bdPw3z-pOnGn"
      }
    },
    {
      "cell_type": "code",
      "metadata": {
        "colab": {
          "base_uri": "https://localhost:8080/"
        },
        "id": "SdxMhPScwIQJ",
        "outputId": "ecd815d5-25dc-44bb-c9ee-8ad0080d9361"
      },
      "source": [
        "range(10) # генератор ряда чисел"
      ],
      "execution_count": null,
      "outputs": [
        {
          "output_type": "execute_result",
          "data": {
            "text/plain": [
              "range(0, 10)"
            ]
          },
          "metadata": {},
          "execution_count": 2
        }
      ]
    },
    {
      "cell_type": "code",
      "source": [
        "help(print)"
      ],
      "metadata": {
        "colab": {
          "base_uri": "https://localhost:8080/"
        },
        "id": "5VAVWw_1bOBo",
        "outputId": "f3e7891d-2fed-48ce-ea38-1a5cf139e367"
      },
      "execution_count": null,
      "outputs": [
        {
          "output_type": "stream",
          "name": "stdout",
          "text": [
            "Help on built-in function print in module builtins:\n",
            "\n",
            "print(...)\n",
            "    print(value, ..., sep=' ', end='\\n', file=sys.stdout, flush=False)\n",
            "    \n",
            "    Prints the values to a stream, or to sys.stdout by default.\n",
            "    Optional keyword arguments:\n",
            "    file:  a file-like object (stream); defaults to the current sys.stdout.\n",
            "    sep:   string inserted between values, default a space.\n",
            "    end:   string appended after the last value, default a newline.\n",
            "    flush: whether to forcibly flush the stream.\n",
            "\n"
          ]
        }
      ]
    },
    {
      "cell_type": "code",
      "source": [
        "print(1, 2, 3, sep=\"_\", end=\"-\")\n",
        "print(4)"
      ],
      "metadata": {
        "colab": {
          "base_uri": "https://localhost:8080/"
        },
        "id": "tG0XmrfbbVPM",
        "outputId": "52d2de7a-01cd-4de4-cc7f-e1a35d9cd780"
      },
      "execution_count": null,
      "outputs": [
        {
          "output_type": "stream",
          "name": "stdout",
          "text": [
            "1_2_3-4\n"
          ]
        }
      ]
    },
    {
      "cell_type": "code",
      "metadata": {
        "id": "g4q-erT6ismC",
        "colab": {
          "base_uri": "https://localhost:8080/"
        },
        "outputId": "41874cab-7057-4c51-ce06-e7ffc7b85ce6"
      },
      "source": [
        "# для i, которая принимает значения в диапазоне от 0 до 9 включительно напечатать i\n",
        "for x in range(10):\n",
        "  print(x, end=', ')"
      ],
      "execution_count": null,
      "outputs": [
        {
          "output_type": "stream",
          "name": "stdout",
          "text": [
            "0, 1, 2, 3, 4, 5, 6, 7, 8, 9, "
          ]
        }
      ]
    },
    {
      "cell_type": "code",
      "source": [
        "help(range)"
      ],
      "metadata": {
        "colab": {
          "base_uri": "https://localhost:8080/"
        },
        "id": "36fgwUf0PYyA",
        "outputId": "3000970b-f60d-4f65-d212-916e98b83f26"
      },
      "execution_count": null,
      "outputs": [
        {
          "output_type": "stream",
          "name": "stdout",
          "text": [
            "Help on class range in module builtins:\n",
            "\n",
            "class range(object)\n",
            " |  range(stop) -> range object\n",
            " |  range(start, stop[, step]) -> range object\n",
            " |  \n",
            " |  Return an object that produces a sequence of integers from start (inclusive)\n",
            " |  to stop (exclusive) by step.  range(i, j) produces i, i+1, i+2, ..., j-1.\n",
            " |  start defaults to 0, and stop is omitted!  range(4) produces 0, 1, 2, 3.\n",
            " |  These are exactly the valid indices for a list of 4 elements.\n",
            " |  When step is given, it specifies the increment (or decrement).\n",
            " |  \n",
            " |  Methods defined here:\n",
            " |  \n",
            " |  __bool__(self, /)\n",
            " |      self != 0\n",
            " |  \n",
            " |  __contains__(self, key, /)\n",
            " |      Return key in self.\n",
            " |  \n",
            " |  __eq__(self, value, /)\n",
            " |      Return self==value.\n",
            " |  \n",
            " |  __ge__(self, value, /)\n",
            " |      Return self>=value.\n",
            " |  \n",
            " |  __getattribute__(self, name, /)\n",
            " |      Return getattr(self, name).\n",
            " |  \n",
            " |  __getitem__(self, key, /)\n",
            " |      Return self[key].\n",
            " |  \n",
            " |  __gt__(self, value, /)\n",
            " |      Return self>value.\n",
            " |  \n",
            " |  __hash__(self, /)\n",
            " |      Return hash(self).\n",
            " |  \n",
            " |  __iter__(self, /)\n",
            " |      Implement iter(self).\n",
            " |  \n",
            " |  __le__(self, value, /)\n",
            " |      Return self<=value.\n",
            " |  \n",
            " |  __len__(self, /)\n",
            " |      Return len(self).\n",
            " |  \n",
            " |  __lt__(self, value, /)\n",
            " |      Return self<value.\n",
            " |  \n",
            " |  __ne__(self, value, /)\n",
            " |      Return self!=value.\n",
            " |  \n",
            " |  __reduce__(...)\n",
            " |      Helper for pickle.\n",
            " |  \n",
            " |  __repr__(self, /)\n",
            " |      Return repr(self).\n",
            " |  \n",
            " |  __reversed__(...)\n",
            " |      Return a reverse iterator.\n",
            " |  \n",
            " |  count(...)\n",
            " |      rangeobject.count(value) -> integer -- return number of occurrences of value\n",
            " |  \n",
            " |  index(...)\n",
            " |      rangeobject.index(value) -> integer -- return index of value.\n",
            " |      Raise ValueError if the value is not present.\n",
            " |  \n",
            " |  ----------------------------------------------------------------------\n",
            " |  Static methods defined here:\n",
            " |  \n",
            " |  __new__(*args, **kwargs) from builtins.type\n",
            " |      Create and return a new object.  See help(type) for accurate signature.\n",
            " |  \n",
            " |  ----------------------------------------------------------------------\n",
            " |  Data descriptors defined here:\n",
            " |  \n",
            " |  start\n",
            " |  \n",
            " |  step\n",
            " |  \n",
            " |  stop\n",
            "\n"
          ]
        }
      ]
    },
    {
      "cell_type": "code",
      "metadata": {
        "id": "gkNw1A1_iskc",
        "colab": {
          "base_uri": "https://localhost:8080/"
        },
        "outputId": "57e44f04-ad5d-4029-a34f-5ccb5b94023a"
      },
      "source": [
        "# range(start, stop, end=1)\n",
        "# меняем старт счётчика и шаг\n",
        "for i in range(2, 10, 2):\n",
        "  print(i, end=', ')"
      ],
      "execution_count": null,
      "outputs": [
        {
          "output_type": "stream",
          "name": "stdout",
          "text": [
            "2, 4, 6, 8, "
          ]
        }
      ]
    },
    {
      "cell_type": "code",
      "metadata": {
        "colab": {
          "base_uri": "https://localhost:8080/"
        },
        "id": "-dC4fcTowc5y",
        "outputId": "8f490bbf-1513-4481-d64a-483da49b8db9"
      },
      "source": [
        "for i in range(10, 0, -2):\n",
        "  print(i, end=', ')"
      ],
      "execution_count": null,
      "outputs": [
        {
          "output_type": "stream",
          "name": "stdout",
          "text": [
            "10, 8, 6, 4, 2, "
          ]
        }
      ]
    },
    {
      "cell_type": "markdown",
      "source": [
        "Сумма первых `n` чисел"
      ],
      "metadata": {
        "id": "jozMttmDTLRH"
      }
    },
    {
      "cell_type": "code",
      "source": [
        "n = int(input()) + 1\n",
        "sum = 0\n",
        "for i in range(n):\n",
        "    # sum = sum + i\n",
        "    sum += i\n",
        "print(sum)"
      ],
      "metadata": {
        "colab": {
          "base_uri": "https://localhost:8080/"
        },
        "id": "FmuseWRETK9m",
        "outputId": "33f9aeaa-9833-4593-f805-c571274fd873"
      },
      "execution_count": null,
      "outputs": [
        {
          "output_type": "stream",
          "name": "stdout",
          "text": [
            "11\n",
            "66\n"
          ]
        }
      ]
    },
    {
      "cell_type": "markdown",
      "source": [
        "Сжать предложение до аббревиатуры"
      ],
      "metadata": {
        "id": "Ayp9ihLxTl-l"
      }
    },
    {
      "cell_type": "code",
      "source": [
        "sentence = \"Привет, мой юный друг!\" # input()\n",
        "print(len(sentence))\n",
        "abbr = ''\n",
        "for i in range(len(sentence)):\n",
        "    if sentence[i].isalpha() and (i == 0 or not sentence[i - 1].isalpha()):\n",
        "        abbr += sentence[i].upper()\n",
        "abbr"
      ],
      "metadata": {
        "colab": {
          "base_uri": "https://localhost:8080/",
          "height": 53
        },
        "id": "V-ZPEsSITlku",
        "outputId": "e7ebe0c5-e434-4de2-dbe4-e077eb8fada0"
      },
      "execution_count": null,
      "outputs": [
        {
          "output_type": "stream",
          "name": "stdout",
          "text": [
            "22\n"
          ]
        },
        {
          "output_type": "execute_result",
          "data": {
            "text/plain": [
              "'ПМЮД'"
            ],
            "application/vnd.google.colaboratory.intrinsic+json": {
              "type": "string"
            }
          },
          "metadata": {},
          "execution_count": 76
        }
      ]
    },
    {
      "cell_type": "code",
      "source": [
        "\"\"\"Сжать строку символов в код\n",
        "   Пример входа: aaaffdaafffferreeee\n",
        "   Пример вывода: a3f2d1a2f4e1r2e4\"\"\"\n",
        "\n",
        "   # ваш код"
      ],
      "metadata": {
        "id": "p4lcHmqIvRZl"
      },
      "execution_count": null,
      "outputs": []
    },
    {
      "cell_type": "markdown",
      "source": [
        "### Циклы по коллекциям"
      ],
      "metadata": {
        "id": "L_AJ8ouEyesK"
      }
    },
    {
      "cell_type": "code",
      "metadata": {
        "id": "t5ky-B6kisik",
        "colab": {
          "base_uri": "https://localhost:8080/"
        },
        "outputId": "9dbdc497-b08d-4866-befb-2a3cf772a27a"
      },
      "source": [
        "\"\"\"итерация по коллекциям\"\"\"\n",
        "my_list = [1, 'hfjg', 2.0,]\n",
        "for element in my_list:\n",
        "  print(element, end=', ')"
      ],
      "execution_count": null,
      "outputs": [
        {
          "output_type": "stream",
          "name": "stdout",
          "text": [
            "1, hfjg, 2.0, "
          ]
        }
      ]
    },
    {
      "cell_type": "code",
      "source": [
        "\"\"\"Дробный шаг\"\"\"\n",
        "my_list = [0.1, 0.2, 0.3, 0.4, 0.5, 0.6, 0.7, 0.8, 0.9, 1.0]\n",
        "for element in my_list:\n",
        "  print(element, end=', ')"
      ],
      "metadata": {
        "colab": {
          "base_uri": "https://localhost:8080/"
        },
        "id": "RejJuo50zLEC",
        "outputId": "76691dbc-0790-407d-8850-e831bb6f7176"
      },
      "execution_count": null,
      "outputs": [
        {
          "output_type": "stream",
          "name": "stdout",
          "text": [
            "0.1, 0.2, 0.3, 0.4, 0.5, 0.6, 0.7, 0.8, 0.9, 1.0, "
          ]
        }
      ]
    },
    {
      "cell_type": "markdown",
      "source": [
        "range(10) - по сути тоже коллекция, а точнее может восприниматься как лист: `[0, 1, 2, 3, 4, 5, 6, 7, 8, 9]`"
      ],
      "metadata": {
        "id": "--pTVUTszl3a"
      }
    },
    {
      "cell_type": "markdown",
      "source": [
        "**Оператор** `continue`"
      ],
      "metadata": {
        "id": "G7r8LtHlz6Ma"
      }
    },
    {
      "cell_type": "code",
      "metadata": {
        "id": "JQnBjaO4isdw",
        "colab": {
          "base_uri": "https://localhost:8080/",
          "height": 34
        },
        "outputId": "3971a85a-9091-46c8-c3ab-38f3d9d41856"
      },
      "source": [
        "\"\"\"получить все нечетные цифры\"\"\"\n",
        "for i in range(10):\n",
        "  if i % 2 == 0:\n",
        "    continue\n",
        "  print(i, end=', ')"
      ],
      "execution_count": null,
      "outputs": [
        {
          "output_type": "stream",
          "text": [
            "1, 3, 5, 7, 9, "
          ],
          "name": "stdout"
        }
      ]
    },
    {
      "cell_type": "markdown",
      "source": [
        "**Оператор**: `break`\n",
        "\n",
        "**Управляющая конструкция**: `else`"
      ],
      "metadata": {
        "id": "-xLetIyI0ALi"
      }
    },
    {
      "cell_type": "code",
      "metadata": {
        "id": "ua3Y_EgSisaO",
        "colab": {
          "base_uri": "https://localhost:8080/"
        },
        "outputId": "e20c09b0-257d-4abc-fa3f-fc5cf36682da"
      },
      "source": [
        "\"\"\"else выполняется, когда не выполнилось break\"\"\"\n",
        "# Найти одно число, которое делиться и на 3 и на 5\n",
        "for i in range(1, 9):\n",
        "    if i % 3 == 0 and i % 5 == 0:\n",
        "        print(f\"Искомое число найдено: {i}\")\n",
        "        break\n",
        "else:\n",
        "    print('Во всей коллекции не было числа удовлетворяющего условиям')"
      ],
      "execution_count": null,
      "outputs": [
        {
          "output_type": "stream",
          "name": "stdout",
          "text": [
            "Во всей коллекции не было числа удовлетворяющего условиям\n"
          ]
        }
      ]
    },
    {
      "cell_type": "markdown",
      "source": [
        "**Пара полезных приемов**"
      ],
      "metadata": {
        "id": "oSaWkLa11F1p"
      }
    },
    {
      "cell_type": "code",
      "metadata": {
        "id": "8T3FXwqxok3S",
        "colab": {
          "base_uri": "https://localhost:8080/"
        },
        "outputId": "eca81551-aac4-418c-b443-4c3fd1cab0c5"
      },
      "source": [
        "# enumerate\n",
        "\"\"\"Найти номера всех кратных 3 чисел в коллекции\"\"\"\n",
        "for n, digit in enumerate(range(2, 13, 2)):\n",
        "    if digit % 3 == 0:\n",
        "        print(f\"Число {digit} кратно 3, его номер в коллекции: {n}\")"
      ],
      "execution_count": null,
      "outputs": [
        {
          "output_type": "stream",
          "name": "stdout",
          "text": [
            "Число 6 кратно 3, его номер в коллекции: 2\n",
            "Число 12 кратно 3, его номер в коллекции: 5\n"
          ]
        }
      ]
    },
    {
      "cell_type": "code",
      "source": [
        "# zip - идет от нулевого элемента, до ндекса самого короткого списка\n",
        "\"\"\"Сравнить два (N) списков поэлементно\"\"\"\n",
        "for x_1, x_2 in zip(range(10), range(15)):\n",
        "    if x_1 != x_2:\n",
        "        print(f\"Списки не равны\")\n",
        "        break\n",
        "else:\n",
        "    print(\"Списки равны\")"
      ],
      "metadata": {
        "colab": {
          "base_uri": "https://localhost:8080/"
        },
        "id": "_nlT2yVL135Z",
        "outputId": "67b187db-f5c5-4956-f6c7-7a12b644804c"
      },
      "execution_count": null,
      "outputs": [
        {
          "output_type": "stream",
          "name": "stdout",
          "text": [
            "Списки равны\n"
          ]
        }
      ]
    },
    {
      "cell_type": "markdown",
      "source": [
        "Задачка на подумать"
      ],
      "metadata": {
        "id": "bXaP_LMn36CY"
      }
    },
    {
      "cell_type": "code",
      "source": [
        "# Вывести все простые числа среди первых n чисел\n",
        "n = 100\n",
        "simple = []\n",
        "# ваш код"
      ],
      "metadata": {
        "id": "_r6jYbNy3nVA"
      },
      "execution_count": null,
      "outputs": []
    },
    {
      "cell_type": "markdown",
      "source": [
        "## Циклы без фиксированного числа шагов"
      ],
      "metadata": {
        "id": "Wdmc7Uk3KT3w"
      }
    },
    {
      "cell_type": "code",
      "source": [
        "sum = 0\n",
        "cnt = 0\n",
        "while sum < 54:\n",
        "    cnt += 1\n",
        "    sum += cnt\n",
        "print(f\"Сумма первых {cnt} натуральных чисел превышает {54} и равна {sum}\")"
      ],
      "metadata": {
        "colab": {
          "base_uri": "https://localhost:8080/"
        },
        "id": "KVwQAdhvKUQW",
        "outputId": "99e1606e-3777-4f0c-ed74-87f1263ec5f8"
      },
      "execution_count": null,
      "outputs": [
        {
          "output_type": "stream",
          "name": "stdout",
          "text": [
            "Сумма первых 10 натуральных чисел превышает 54 и равна 55\n"
          ]
        }
      ]
    },
    {
      "cell_type": "markdown",
      "source": [
        "else"
      ],
      "metadata": {
        "id": "uof5xV90LOpI"
      }
    },
    {
      "cell_type": "code",
      "source": [
        "i = 1\n",
        "while i <= 10:\n",
        "    print(i, end=\" \")\n",
        "    i += 1\n",
        "print('Цикл окончен, i =', i)"
      ],
      "metadata": {
        "colab": {
          "base_uri": "https://localhost:8080/"
        },
        "id": "plxRT4ZnK6Qt",
        "outputId": "dcccbf2d-0637-410e-aa02-e1afbdebfeca"
      },
      "execution_count": null,
      "outputs": [
        {
          "output_type": "stream",
          "name": "stdout",
          "text": [
            "1 2 3 4 5 6 7 8 9 10 Цикл окончен, i = 11\n"
          ]
        }
      ]
    },
    {
      "cell_type": "code",
      "source": [
        "a = int(input())\n",
        "while a != 0:\n",
        "    if a < 0:\n",
        "        print('Встретилось отрицательное число', a)\n",
        "        break\n",
        "    a = int(input())\n",
        "else:\n",
        "    print('Ни одного отрицательного числа не встретилось')"
      ],
      "metadata": {
        "colab": {
          "base_uri": "https://localhost:8080/"
        },
        "id": "Iuyln6DzLSvP",
        "outputId": "4ac039ff-e0f9-4a7c-b401-0cd72f14a57b"
      },
      "execution_count": null,
      "outputs": [
        {
          "output_type": "stream",
          "name": "stdout",
          "text": [
            "5\n",
            "-2\n",
            "Встретилось отрицательное число -2\n"
          ]
        }
      ]
    },
    {
      "cell_type": "code",
      "source": [
        "i = 0\n",
        "while True:\n",
        "    i += 1\n",
        "    print(i, end=\" \")\n",
        "    if i > 10:\n",
        "        break"
      ],
      "metadata": {
        "colab": {
          "base_uri": "https://localhost:8080/"
        },
        "id": "PphzA9NWMyn9",
        "outputId": "260c901d-7e9d-46af-e6bd-9d0614db4a8b"
      },
      "execution_count": null,
      "outputs": [
        {
          "output_type": "stream",
          "name": "stdout",
          "text": [
            "1 2 3 4 5 6 7 8 9 10 11 "
          ]
        }
      ]
    },
    {
      "cell_type": "markdown",
      "source": [
        "# List"
      ],
      "metadata": {
        "id": "GlPLCBl639Q4"
      }
    },
    {
      "cell_type": "code",
      "source": [
        "my_list = []\n",
        "my_list_2 = list()\n",
        "my_list, my_list_2"
      ],
      "metadata": {
        "colab": {
          "base_uri": "https://localhost:8080/"
        },
        "id": "1VnFCj_vWm_G",
        "outputId": "5391b52b-a0b6-423c-fbb2-b632cf15f56a"
      },
      "execution_count": null,
      "outputs": [
        {
          "output_type": "execute_result",
          "data": {
            "text/plain": [
              "([], [])"
            ]
          },
          "metadata": {},
          "execution_count": 94
        }
      ]
    },
    {
      "cell_type": "code",
      "metadata": {
        "id": "o20-y7C_ScEg"
      },
      "source": [
        "my_list = [1, 2, 3.0 ,4, '2', 'gg', [1, 3]]"
      ],
      "execution_count": null,
      "outputs": []
    },
    {
      "cell_type": "markdown",
      "source": [
        "**Индексы и срезы**"
      ],
      "metadata": {
        "id": "F2cQPaMS4BiK"
      }
    },
    {
      "cell_type": "code",
      "metadata": {
        "id": "FAuh6GfNzCkz",
        "colab": {
          "base_uri": "https://localhost:8080/"
        },
        "outputId": "c6063821-b0ca-4b61-9fb9-08c7ab0ce20b"
      },
      "source": [
        "my_list[2]"
      ],
      "execution_count": null,
      "outputs": [
        {
          "output_type": "execute_result",
          "data": {
            "text/plain": [
              "3.0"
            ]
          },
          "metadata": {},
          "execution_count": 25
        }
      ]
    },
    {
      "cell_type": "code",
      "metadata": {
        "id": "jT_JxUvaScxe",
        "colab": {
          "base_uri": "https://localhost:8080/"
        },
        "outputId": "62ed6a8d-1669-4112-feae-1d90cbdca71a"
      },
      "source": [
        "my_list[-1]"
      ],
      "execution_count": null,
      "outputs": [
        {
          "output_type": "execute_result",
          "data": {
            "text/plain": [
              "[1, 3]"
            ]
          },
          "metadata": {},
          "execution_count": 97
        }
      ]
    },
    {
      "cell_type": "code",
      "source": [
        "my_list[-1][0]"
      ],
      "metadata": {
        "colab": {
          "base_uri": "https://localhost:8080/"
        },
        "id": "yEZaXYF8W-IO",
        "outputId": "0c56baea-6f5d-4313-9fd1-e4aee84a2a7c"
      },
      "execution_count": null,
      "outputs": [
        {
          "output_type": "execute_result",
          "data": {
            "text/plain": [
              "1"
            ]
          },
          "metadata": {},
          "execution_count": 98
        }
      ]
    },
    {
      "cell_type": "markdown",
      "source": [
        "**Замена элемента по индексу**"
      ],
      "metadata": {
        "id": "81TXjVtG4GJB"
      }
    },
    {
      "cell_type": "code",
      "metadata": {
        "id": "USoTvFGxiK9Q",
        "colab": {
          "base_uri": "https://localhost:8080/"
        },
        "outputId": "4ee8479d-4e3d-43c9-bd5e-4cb8bbb64242"
      },
      "source": [
        "my_list[3] = 9.0\n",
        "my_list"
      ],
      "execution_count": null,
      "outputs": [
        {
          "output_type": "execute_result",
          "data": {
            "text/plain": [
              "[1, 2, 3.0, 9.0, '2', 'gg', [1, 3]]"
            ]
          },
          "metadata": {},
          "execution_count": 99
        }
      ]
    },
    {
      "cell_type": "code",
      "metadata": {
        "id": "JPNoDsvpScu4",
        "colab": {
          "base_uri": "https://localhost:8080/"
        },
        "outputId": "c0614b3b-2a93-42ba-efe1-3aa1e75773bb"
      },
      "source": [
        "my_list[2:5]"
      ],
      "execution_count": null,
      "outputs": [
        {
          "output_type": "execute_result",
          "data": {
            "text/plain": [
              "[3.0, 9.0, '2']"
            ]
          },
          "metadata": {},
          "execution_count": 100
        }
      ]
    },
    {
      "cell_type": "markdown",
      "source": [
        "Если с одной стороны от двоеточия пусто, то это подразумевает:\n",
        "\n",
        "\n",
        "1.   Видим my_list[:5] - python \"видит\" my_list[None:5] - получить все элементы сначала списка до 5-го не включительно\n",
        "2.   Видим my_list[5:] - python \"видит\" my_list[5:None] - получить все элементы с 5-го включительно и до конца списка\n",
        "2.   Видим my_list[:] - python \"видит\" my_list[None:None] - получить все элементы списка\n",
        "\n"
      ],
      "metadata": {
        "id": "PkLihVjE4MrI"
      }
    },
    {
      "cell_type": "code",
      "metadata": {
        "id": "IiKeE3wtScsd",
        "colab": {
          "base_uri": "https://localhost:8080/"
        },
        "outputId": "0205da86-2374-4127-8217-5dff16e4361a"
      },
      "source": [
        "my_list[:5]"
      ],
      "execution_count": null,
      "outputs": [
        {
          "output_type": "execute_result",
          "data": {
            "text/plain": [
              "[1, 2, 3.0, 9.0, '2']"
            ]
          },
          "metadata": {},
          "execution_count": 101
        }
      ]
    },
    {
      "cell_type": "code",
      "metadata": {
        "id": "oXCT5skJScqT",
        "colab": {
          "base_uri": "https://localhost:8080/"
        },
        "outputId": "8c35ba59-126d-46e3-d461-0fd09390bfc8"
      },
      "source": [
        "my_list[4:]"
      ],
      "execution_count": null,
      "outputs": [
        {
          "output_type": "execute_result",
          "data": {
            "text/plain": [
              "['2', 'gg', [1, 3]]"
            ]
          },
          "metadata": {},
          "execution_count": 102
        }
      ]
    },
    {
      "cell_type": "code",
      "metadata": {
        "id": "6W4TFg16zWSt"
      },
      "source": [
        "my_list[-3:-2] = [1, 1]"
      ],
      "execution_count": null,
      "outputs": []
    },
    {
      "cell_type": "code",
      "metadata": {
        "id": "jO_grHAWzmHk",
        "colab": {
          "base_uri": "https://localhost:8080/"
        },
        "outputId": "32d5f37a-a7dd-4145-95f3-81f4163c90f1"
      },
      "source": [
        "my_list"
      ],
      "execution_count": null,
      "outputs": [
        {
          "output_type": "execute_result",
          "data": {
            "text/plain": [
              "[1, 2, 3.0, 9.0, 1, 1, 'gg', [1, 3]]"
            ]
          },
          "metadata": {},
          "execution_count": 104
        }
      ]
    },
    {
      "cell_type": "markdown",
      "source": [
        "Шаг среза"
      ],
      "metadata": {
        "id": "5i7peXm65SAJ"
      }
    },
    {
      "cell_type": "code",
      "source": [
        "my_list[::2]"
      ],
      "metadata": {
        "colab": {
          "base_uri": "https://localhost:8080/"
        },
        "id": "dJXalzP75RqR",
        "outputId": "0619aef2-ac57-441f-fe5a-4e31a5f8003b"
      },
      "execution_count": null,
      "outputs": [
        {
          "output_type": "execute_result",
          "data": {
            "text/plain": [
              "[1, 3.0, 1, 'gg']"
            ]
          },
          "metadata": {},
          "execution_count": 108
        }
      ]
    },
    {
      "cell_type": "markdown",
      "source": [
        "Реверс списка"
      ],
      "metadata": {
        "id": "PQEs2BA9X0ZM"
      }
    },
    {
      "cell_type": "code",
      "metadata": {
        "id": "wtToQsz4ScnU",
        "colab": {
          "base_uri": "https://localhost:8080/"
        },
        "outputId": "f1927de9-a048-4df2-cb10-25cdbf53f5fc"
      },
      "source": [
        "my_list[::-1]"
      ],
      "execution_count": null,
      "outputs": [
        {
          "output_type": "execute_result",
          "data": {
            "text/plain": [
              "[[1, 3], 'gg', 1, 1, 9.0, 3.0, 2, 1]"
            ]
          },
          "metadata": {},
          "execution_count": 109
        }
      ]
    },
    {
      "cell_type": "code",
      "metadata": {
        "id": "8dbAqt9NSck4"
      },
      "source": [
        "my_list_2 = my_list"
      ],
      "execution_count": null,
      "outputs": []
    },
    {
      "cell_type": "code",
      "metadata": {
        "id": "9ts4ArH8SciM",
        "colab": {
          "base_uri": "https://localhost:8080/"
        },
        "outputId": "2959f3c7-f757-4a74-8658-ebe8f6eba478"
      },
      "source": [
        "#  добавление в конец списка\n",
        "my_list_2.append(9)\n",
        "my_list_2"
      ],
      "execution_count": null,
      "outputs": [
        {
          "output_type": "execute_result",
          "data": {
            "text/plain": [
              "[1, 2, 3.0, 9.0, 1, 1, 'gg', [1, 3], 9]"
            ]
          },
          "metadata": {},
          "execution_count": 111
        }
      ]
    },
    {
      "cell_type": "code",
      "metadata": {
        "id": "ewAHFFeTz4_P",
        "colab": {
          "base_uri": "https://localhost:8080/"
        },
        "outputId": "37ad592e-2b8f-4128-8dd3-47724012336d"
      },
      "source": [
        "my_list"
      ],
      "execution_count": null,
      "outputs": [
        {
          "output_type": "execute_result",
          "data": {
            "text/plain": [
              "[1, 2, 3.0, 9.0, 1, 1, 'gg', [1, 3], 9]"
            ]
          },
          "metadata": {},
          "execution_count": 112
        }
      ]
    },
    {
      "cell_type": "code",
      "metadata": {
        "id": "F6WFQCp0ScgG"
      },
      "source": [
        "# копирование\n",
        "my_list_2 = my_list[:]"
      ],
      "execution_count": null,
      "outputs": []
    },
    {
      "cell_type": "code",
      "metadata": {
        "id": "JdKEBaVIScci",
        "colab": {
          "base_uri": "https://localhost:8080/"
        },
        "outputId": "d2e6ec83-d63d-400f-9aa9-ea6249b7ae6c"
      },
      "source": [
        "# извлекает последний элемент\n",
        "my_list_2.pop()"
      ],
      "execution_count": null,
      "outputs": [
        {
          "output_type": "execute_result",
          "data": {
            "text/plain": [
              "9"
            ]
          },
          "metadata": {},
          "execution_count": 114
        }
      ]
    },
    {
      "cell_type": "code",
      "metadata": {
        "id": "XGN5qrGF0LtW",
        "colab": {
          "base_uri": "https://localhost:8080/"
        },
        "outputId": "07066982-b794-4dab-8c38-5520715ddd42"
      },
      "source": [
        "my_list"
      ],
      "execution_count": null,
      "outputs": [
        {
          "output_type": "execute_result",
          "data": {
            "text/plain": [
              "[1, 2, 3.0, 9.0, 1, 1, 'gg', [1, 3], 9]"
            ]
          },
          "metadata": {},
          "execution_count": 115
        }
      ]
    },
    {
      "cell_type": "code",
      "metadata": {
        "id": "tuBkeXNgScbI",
        "colab": {
          "base_uri": "https://localhost:8080/"
        },
        "outputId": "fdcfe34f-b345-44a6-d80a-d42f56037354"
      },
      "source": [
        "my_list_2.append([9,8,2])\n",
        "my_list_2"
      ],
      "execution_count": null,
      "outputs": [
        {
          "output_type": "execute_result",
          "data": {
            "text/plain": [
              "[1, 2, 3.0, 9.0, 1, 1, 'gg', [1, 3], [9, 8, 2]]"
            ]
          },
          "metadata": {},
          "execution_count": 116
        }
      ]
    },
    {
      "cell_type": "code",
      "metadata": {
        "id": "ruUuu7IQScYI",
        "colab": {
          "base_uri": "https://localhost:8080/"
        },
        "outputId": "d06df94f-5682-4368-ed6d-0b2aa9892b9a"
      },
      "source": [
        "# дополнение списка элементами другого списка\n",
        "my_list = [1,2,3]\n",
        "my_list_2 = [4,5,6,]\n",
        "my_list.extend(my_list_2)\n",
        "my_list"
      ],
      "execution_count": null,
      "outputs": [
        {
          "output_type": "execute_result",
          "data": {
            "text/plain": [
              "[1, 2, 3, 4, 5, 6]"
            ]
          },
          "metadata": {},
          "execution_count": 7
        }
      ]
    },
    {
      "cell_type": "code",
      "source": [
        "my_list = my_list.extend(my_list_2)\n",
        "print(my_list)"
      ],
      "metadata": {
        "colab": {
          "base_uri": "https://localhost:8080/"
        },
        "id": "olS8__MQYj7Z",
        "outputId": "3c421037-1504-4e23-d1f0-af7d340b5cdf"
      },
      "execution_count": null,
      "outputs": [
        {
          "output_type": "stream",
          "name": "stdout",
          "text": [
            "None\n"
          ]
        }
      ]
    },
    {
      "cell_type": "code",
      "metadata": {
        "id": "1KX4KhDlScU4"
      },
      "source": [
        "# дополнение списка элементами другого списка\n",
        "my_list.append(my_list_2[:])"
      ],
      "execution_count": null,
      "outputs": []
    },
    {
      "cell_type": "code",
      "metadata": {
        "id": "zkDicGzDhI65",
        "colab": {
          "base_uri": "https://localhost:8080/"
        },
        "outputId": "07793e2e-cdad-401e-db75-d5632bb32fc0"
      },
      "source": [
        "# номер элемента в списке\n",
        "my_list = [1,2,4,5,6,4,6,]\n",
        "if 410 in my_list:\n",
        "    print(my_list.index(410))\n",
        "else:\n",
        "    print(\"No element\")"
      ],
      "execution_count": null,
      "outputs": [
        {
          "output_type": "stream",
          "name": "stdout",
          "text": [
            "No element\n"
          ]
        }
      ]
    },
    {
      "cell_type": "code",
      "metadata": {
        "id": "5odh8CZUhI3P",
        "colab": {
          "base_uri": "https://localhost:8080/",
          "height": 186
        },
        "outputId": "ad2ac869-bdf4-42ce-9f97-6b7c8d06c020"
      },
      "source": [
        "# номер элемента в списке\n",
        "my_list.remove(410)"
      ],
      "execution_count": null,
      "outputs": [
        {
          "output_type": "error",
          "ename": "ValueError",
          "evalue": "ignored",
          "traceback": [
            "\u001b[0;31m---------------------------------------------------------------------------\u001b[0m",
            "\u001b[0;31mValueError\u001b[0m                                Traceback (most recent call last)",
            "\u001b[0;32m<ipython-input-129-adc5e54ba6ab>\u001b[0m in \u001b[0;36m<module>\u001b[0;34m\u001b[0m\n\u001b[1;32m      1\u001b[0m \u001b[0;31m# номер элемента в списке\u001b[0m\u001b[0;34m\u001b[0m\u001b[0;34m\u001b[0m\u001b[0;34m\u001b[0m\u001b[0m\n\u001b[0;32m----> 2\u001b[0;31m \u001b[0mmy_list\u001b[0m\u001b[0;34m.\u001b[0m\u001b[0mremove\u001b[0m\u001b[0;34m(\u001b[0m\u001b[0;36m410\u001b[0m\u001b[0;34m)\u001b[0m\u001b[0;34m\u001b[0m\u001b[0;34m\u001b[0m\u001b[0m\n\u001b[0m",
            "\u001b[0;31mValueError\u001b[0m: list.remove(x): x not in list"
          ]
        }
      ]
    },
    {
      "cell_type": "code",
      "metadata": {
        "id": "OdbXBaUB1gEr",
        "colab": {
          "base_uri": "https://localhost:8080/"
        },
        "outputId": "93452144-3054-470e-b8a4-75dfb56184fc"
      },
      "source": [
        "my_list"
      ],
      "execution_count": null,
      "outputs": [
        {
          "output_type": "execute_result",
          "data": {
            "text/plain": [
              "[1, 2, 5, 6, 4, 6]"
            ]
          },
          "metadata": {},
          "execution_count": 130
        }
      ]
    },
    {
      "cell_type": "code",
      "metadata": {
        "id": "UshW4ngdhI1E"
      },
      "source": [
        "# вставка в указанную позицию\n",
        "# .insert(<номер позиции>, <объект, который нужно вставить>)\n",
        "my_list.insert(3,\"ff\")"
      ],
      "execution_count": null,
      "outputs": []
    },
    {
      "cell_type": "code",
      "metadata": {
        "id": "ctzzog66hIyn",
        "colab": {
          "base_uri": "https://localhost:8080/"
        },
        "outputId": "c6004780-2d4a-4047-d41b-9bed99ad5ddf"
      },
      "source": [
        "my_list"
      ],
      "execution_count": null,
      "outputs": [
        {
          "output_type": "execute_result",
          "data": {
            "text/plain": [
              "[1, 2, 5, 'ff', 6, 4, 6]"
            ]
          },
          "metadata": {},
          "execution_count": 132
        }
      ]
    },
    {
      "cell_type": "code",
      "metadata": {
        "id": "Mrqap4OFhIwK",
        "colab": {
          "base_uri": "https://localhost:8080/"
        },
        "outputId": "a7751eff-ebdd-4afb-9008-52f73e27b592"
      },
      "source": [
        "len(my_list_2)"
      ],
      "execution_count": null,
      "outputs": [
        {
          "output_type": "execute_result",
          "data": {
            "text/plain": [
              "3"
            ]
          },
          "metadata": {},
          "execution_count": 133
        }
      ]
    },
    {
      "cell_type": "code",
      "source": [
        "# найти элементы списка, которые есть в обоих списках\n",
        "l_1 = [1,2,3,4,5,6,7,]\n",
        "l_2 = [6,7,9,10,11]\n",
        "\n",
        "# ваш код"
      ],
      "metadata": {
        "id": "hB4hGmDYHi48"
      },
      "execution_count": null,
      "outputs": []
    },
    {
      "cell_type": "code",
      "source": [
        "# отфильтровать список от объектов, которые не являются числами\n",
        "l = [1,2,3, 'gfg', '25']\n",
        "l_2 = []\n",
        "\n",
        "# ваш код"
      ],
      "metadata": {
        "id": "_syokl-rH08j"
      },
      "execution_count": null,
      "outputs": []
    },
    {
      "cell_type": "code",
      "source": [
        "# создать один список \"плоский\" списко из списка списков\n",
        "l = [[1,2,3],\n",
        "     [4,5,6],\n",
        "     [7,8,9]]\n",
        "l_2 = []\n",
        "\n",
        "# ваш код"
      ],
      "metadata": {
        "id": "8-CqrZHwIBmd"
      },
      "execution_count": null,
      "outputs": []
    },
    {
      "cell_type": "code",
      "source": [
        "my_list = list(range(10))\n",
        "sum(my_list), min(my_list), max(my_list)"
      ],
      "metadata": {
        "colab": {
          "base_uri": "https://localhost:8080/"
        },
        "id": "xUaD3TlOaKtD",
        "outputId": "cc71607d-c601-4e41-8a78-b0c930de6d44"
      },
      "execution_count": null,
      "outputs": [
        {
          "output_type": "execute_result",
          "data": {
            "text/plain": [
              "(45, 0, 9)"
            ]
          },
          "metadata": {},
          "execution_count": 2
        }
      ]
    },
    {
      "cell_type": "markdown",
      "metadata": {
        "id": "eeCBj_MScppW"
      },
      "source": [
        "# Генераторы списка"
      ]
    },
    {
      "cell_type": "markdown",
      "metadata": {
        "id": "e4iNF961a_Gf"
      },
      "source": [
        "![picture](https://habrastorage.org/files/688/052/4d1/6880524d12ff4f689c0a84d1302c5715.png)"
      ]
    },
    {
      "cell_type": "markdown",
      "source": [
        "**Простая генерация последовательностей**"
      ],
      "metadata": {
        "id": "6Zrp7Bz3JC1c"
      }
    },
    {
      "cell_type": "code",
      "source": [
        "range(10)"
      ],
      "metadata": {
        "colab": {
          "base_uri": "https://localhost:8080/"
        },
        "id": "ez_m2Is5Im1b",
        "outputId": "aa7bb3ea-101a-4145-f69f-4bfae964addf"
      },
      "execution_count": null,
      "outputs": [
        {
          "output_type": "execute_result",
          "data": {
            "text/plain": [
              "range(0, 10)"
            ]
          },
          "metadata": {},
          "execution_count": 14
        }
      ]
    },
    {
      "cell_type": "code",
      "source": [
        "[i for i in range(10)]"
      ],
      "metadata": {
        "colab": {
          "base_uri": "https://localhost:8080/"
        },
        "id": "tYyapGNdIkc-",
        "outputId": "a8705bf7-8d97-47e0-b727-d4c381970c35"
      },
      "execution_count": null,
      "outputs": [
        {
          "output_type": "execute_result",
          "data": {
            "text/plain": [
              "[0, 1, 2, 3, 4, 5, 6, 7, 8, 9]"
            ]
          },
          "metadata": {},
          "execution_count": 15
        }
      ]
    },
    {
      "cell_type": "markdown",
      "source": [
        "**Генерация последовательностей с функцией**"
      ],
      "metadata": {
        "id": "_Izgd7bDJKNl"
      }
    },
    {
      "cell_type": "code",
      "source": [
        "[i / 10 for i in range(11)]"
      ],
      "metadata": {
        "colab": {
          "base_uri": "https://localhost:8080/"
        },
        "id": "i88xyBxUIq2P",
        "outputId": "7a9e429b-7529-4d3b-b5fb-ebcf99397481"
      },
      "execution_count": null,
      "outputs": [
        {
          "output_type": "execute_result",
          "data": {
            "text/plain": [
              "[0.0, 0.1, 0.2, 0.3, 0.4, 0.5, 0.6, 0.7, 0.8, 0.9, 1.0]"
            ]
          },
          "metadata": {},
          "execution_count": 16
        }
      ]
    },
    {
      "cell_type": "code",
      "source": [
        "for el in [i / 10 for i in range(10)]:\n",
        "    print(el, end=\", \")"
      ],
      "metadata": {
        "colab": {
          "base_uri": "https://localhost:8080/"
        },
        "id": "L8PdYgdsIxzI",
        "outputId": "616789b7-35af-4a15-f0f9-9b872576d11e"
      },
      "execution_count": null,
      "outputs": [
        {
          "output_type": "stream",
          "name": "stdout",
          "text": [
            "0.0, 0.1, 0.2, 0.3, 0.4, 0.5, 0.6, 0.7, 0.8, 0.9, "
          ]
        }
      ]
    },
    {
      "cell_type": "code",
      "metadata": {
        "id": "sfuiGqjYb-B5",
        "outputId": "caf10a0d-41fe-410b-99d4-5d410079cff8",
        "colab": {
          "base_uri": "https://localhost:8080/"
        }
      },
      "source": [
        "list_a = [-2, -1, 0, 1, 2, 3, 4, 5]\n",
        "list_b = [x ** 2 for x in list_a]\n",
        "print(list_b)"
      ],
      "execution_count": null,
      "outputs": [
        {
          "output_type": "stream",
          "name": "stdout",
          "text": [
            "[4, 1, 0, 1, 4, 9, 16, 25]\n"
          ]
        }
      ]
    },
    {
      "cell_type": "code",
      "metadata": {
        "id": "eGGjsClGb9_I",
        "outputId": "e66b7317-ad0d-432a-f43c-dd9ca999d033",
        "colab": {
          "base_uri": "https://localhost:8080/"
        }
      },
      "source": [
        "list_a = ['a', 'abc', 'abcde']\n",
        "list_b = [len(x) for x in list_a]\n",
        "print(list_b)"
      ],
      "execution_count": null,
      "outputs": [
        {
          "output_type": "stream",
          "name": "stdout",
          "text": [
            "[1, 3, 5]\n"
          ]
        }
      ]
    },
    {
      "cell_type": "code",
      "source": [
        "help(sorted)"
      ],
      "metadata": {
        "colab": {
          "base_uri": "https://localhost:8080/"
        },
        "id": "Z1paCYLGdUXY",
        "outputId": "8f9d2a3e-7374-42f9-8a24-c08cb9f5bb70"
      },
      "execution_count": null,
      "outputs": [
        {
          "output_type": "stream",
          "name": "stdout",
          "text": [
            "Help on built-in function sorted in module builtins:\n",
            "\n",
            "sorted(iterable, /, *, key=None, reverse=False)\n",
            "    Return a new list containing all items from the iterable in ascending order.\n",
            "    \n",
            "    A custom key function can be supplied to customize the sort order, and the\n",
            "    reverse flag can be set to request the result in descending order.\n",
            "\n"
          ]
        }
      ]
    },
    {
      "cell_type": "code",
      "source": [
        "sorted([i / 10 for i in range(11)], reverse=True)"
      ],
      "metadata": {
        "colab": {
          "base_uri": "https://localhost:8080/"
        },
        "id": "eslGTPoXdGki",
        "outputId": "f8d39bd2-83ff-4cea-ae2a-5b0ffe16f5d5"
      },
      "execution_count": null,
      "outputs": [
        {
          "output_type": "execute_result",
          "data": {
            "text/plain": [
              "[1.0, 0.9, 0.8, 0.7, 0.6, 0.5, 0.4, 0.3, 0.2, 0.1, 0.0]"
            ]
          },
          "metadata": {},
          "execution_count": 22
        }
      ]
    },
    {
      "cell_type": "code",
      "source": [
        "sorted([-1, 5,4,-3, -10], reverse=False, key=abs)"
      ],
      "metadata": {
        "colab": {
          "base_uri": "https://localhost:8080/"
        },
        "id": "mchaTCFKdgA9",
        "outputId": "c851ae10-0a22-470d-8824-88cc7d7a191f"
      },
      "execution_count": null,
      "outputs": [
        {
          "output_type": "execute_result",
          "data": {
            "text/plain": [
              "[-1, -3, 4, 5, -10]"
            ]
          },
          "metadata": {},
          "execution_count": 24
        }
      ]
    },
    {
      "cell_type": "code",
      "source": [
        "list_a = ['a', 'abc', 'abcde', 'zas', 'rrrrrrrrr']\n",
        "sorted(list_a, reverse=True)"
      ],
      "metadata": {
        "colab": {
          "base_uri": "https://localhost:8080/"
        },
        "id": "sJmAkgIfeKIc",
        "outputId": "96481ce0-78aa-4b16-f451-27ccf1d80655"
      },
      "execution_count": null,
      "outputs": [
        {
          "output_type": "execute_result",
          "data": {
            "text/plain": [
              "['zas', 'rrrrrrrrr', 'abcde', 'abc', 'a']"
            ]
          },
          "metadata": {},
          "execution_count": 27
        }
      ]
    },
    {
      "cell_type": "code",
      "source": [
        "list_a = ['a', 'abc', 'abcde', 'zas', 'rrrrrrrrr']\n",
        "sorted(list_a, reverse=True, key=len)"
      ],
      "metadata": {
        "colab": {
          "base_uri": "https://localhost:8080/"
        },
        "id": "95W8NY1ddDWU",
        "outputId": "897cdb6a-27d4-450b-b480-07b4fe393561"
      },
      "execution_count": null,
      "outputs": [
        {
          "output_type": "execute_result",
          "data": {
            "text/plain": [
              "['rrrrrrrrr', 'abcde', 'abc', 'zas', 'a']"
            ]
          },
          "metadata": {},
          "execution_count": 26
        }
      ]
    },
    {
      "cell_type": "markdown",
      "source": [
        "**Применяем условие**"
      ],
      "metadata": {
        "id": "J65FnZtxJPXF"
      }
    },
    {
      "cell_type": "code",
      "metadata": {
        "id": "kDZZbtHOXi9N",
        "outputId": "a03993f3-c3ad-4b75-d679-d866b3942631",
        "colab": {
          "base_uri": "https://localhost:8080/"
        }
      },
      "source": [
        "# if x % 2 == 0 - остаток от деления на 2 равен нулю - число четное\n",
        "list_a = [-2, -1, 0, 1, 2, 3, 4, 5] \n",
        "list_b = [x for x in list_a if x % 2 == 0]\n",
        "print(list_b)"
      ],
      "execution_count": null,
      "outputs": [
        {
          "output_type": "stream",
          "name": "stdout",
          "text": [
            "[-2, 0, 2, 4]\n"
          ]
        }
      ]
    },
    {
      "cell_type": "code",
      "metadata": {
        "id": "4QCk8MoXb-FQ",
        "outputId": "77fb63e7-0eea-451b-b4a1-4abf8296b3bc",
        "colab": {
          "base_uri": "https://localhost:8080/"
        }
      },
      "source": [
        "list_a = [-2, -1, 0, 1, 2, 3, 4, 5]\n",
        "list_b = [x for x in list_a if x % 2 == 0 and x > 0]\n",
        "# берем те x, которые одновременно четные и больше нуля\n",
        "print(list_b)"
      ],
      "execution_count": null,
      "outputs": [
        {
          "output_type": "stream",
          "name": "stdout",
          "text": [
            "[2, 4]\n"
          ]
        }
      ]
    },
    {
      "cell_type": "code",
      "metadata": {
        "id": "ViuSHfnWb93v",
        "outputId": "11ec9161-9b4e-448c-c877-219610e449d6",
        "colab": {
          "base_uri": "https://localhost:8080/"
        }
      },
      "source": [
        "list_a = [-2, -1, 0, 1, 2, 3, 4, 5]\n",
        "list_b = [x if x < 0 else x ** 2 for x in list_a]\n",
        "# Если x-отрицательное - берем x, в остальных случаях - берем квадрат x\n",
        "print(list_b)"
      ],
      "execution_count": null,
      "outputs": [
        {
          "output_type": "stream",
          "name": "stdout",
          "text": [
            "[-2, -1, 0, 1, 4, 9, 16, 25]\n"
          ]
        }
      ]
    },
    {
      "cell_type": "markdown",
      "source": [
        "**Сложное условие**"
      ],
      "metadata": {
        "id": "OR6q3br6JkrQ"
      }
    },
    {
      "cell_type": "code",
      "metadata": {
        "id": "ootxzpFtb90P",
        "outputId": "f0447586-b20c-4ff6-8f98-3d4f1db3a0cb",
        "colab": {
          "base_uri": "https://localhost:8080/"
        }
      },
      "source": [
        "list_a = [-2, -1, 0, 1, 2, 3, 4, 5]\n",
        "list_b = [x ** 3 if x < 0 else x ** 2 for x in list_a if x % 2 == 0]\n",
        "# вначале фильтр пропускает в выражение только четные значения\n",
        "# после этого ветвление в выражении для отрицательных возводит в куб, а для остальных в квадрат\n",
        "print(list_b)   # [-8, 0, 4, 16]"
      ],
      "execution_count": null,
      "outputs": [
        {
          "output_type": "stream",
          "name": "stdout",
          "text": [
            "[-8, 0, 4, 16]\n"
          ]
        }
      ]
    },
    {
      "cell_type": "markdown",
      "source": [
        "**Если плоский формат читается сложно, то можно его написать в несколько строк**"
      ],
      "metadata": {
        "id": "_MoX79lMJx-_"
      }
    },
    {
      "cell_type": "code",
      "metadata": {
        "id": "tg-SeFWob9x7"
      },
      "source": [
        "numbers = range(10)\n",
        "\n",
        "# До\n",
        "squared_evens = [n ** 2 for n in numbers if n % 2 == 0]\n",
        "\n",
        "# После\n",
        "squared_evens = [\n",
        "    n ** 2\n",
        "    for n in numbers\n",
        "    if n % 2 == 0\n",
        "]"
      ],
      "execution_count": null,
      "outputs": []
    }
  ]
}