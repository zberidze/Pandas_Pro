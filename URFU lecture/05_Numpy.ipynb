{
  "nbformat": 4,
  "nbformat_minor": 0,
  "metadata": {
    "colab": {
      "provenance": []
    },
    "kernelspec": {
      "name": "python3",
      "display_name": "Python 3"
    }
  },
  "cells": [
    {
      "cell_type": "markdown",
      "metadata": {
        "id": "pRszXK8rzZJF"
      },
      "source": [
        "# Numpy\n",
        "https://habr.com/ru/post/352678/\n",
        "https://pythonworld.ru/numpy"
      ]
    },
    {
      "cell_type": "code",
      "metadata": {
        "id": "m8T33eQfSuf6"
      },
      "source": [
        "import numpy as np\n",
        "import seaborn as sns"
      ],
      "execution_count": null,
      "outputs": []
    },
    {
      "cell_type": "markdown",
      "metadata": {
        "id": "fXXA1yqPZmgy"
      },
      "source": [
        "### Введение"
      ]
    },
    {
      "cell_type": "markdown",
      "source": [
        "Сравним скорость обработки numpy вектора и списка"
      ],
      "metadata": {
        "id": "cQ3Yc-pcv65-"
      }
    },
    {
      "cell_type": "code",
      "metadata": {
        "colab": {
          "base_uri": "https://localhost:8080/"
        },
        "id": "MJsXK5MJZl0e",
        "outputId": "014aa1f0-5170-448d-a3bd-14276a851e30"
      },
      "source": [
        "L = range(10000)\n",
        "%timeit [i**2 for i in L]"
      ],
      "execution_count": null,
      "outputs": [
        {
          "output_type": "stream",
          "name": "stdout",
          "text": [
            "2.77 ms ± 42.4 µs per loop (mean ± std. dev. of 7 runs, 100 loops each)\n"
          ]
        }
      ]
    },
    {
      "cell_type": "code",
      "metadata": {
        "colab": {
          "base_uri": "https://localhost:8080/"
        },
        "id": "5VVVgr1qZlhi",
        "outputId": "8abe58ff-b9b4-46eb-e316-a3144c1b81b4"
      },
      "source": [
        "a = np.arange(10000)\n",
        "%timeit a**2"
      ],
      "execution_count": null,
      "outputs": [
        {
          "output_type": "stream",
          "name": "stdout",
          "text": [
            "8.38 µs ± 3.48 µs per loop (mean ± std. dev. of 7 runs, 100000 loops each)\n"
          ]
        }
      ]
    },
    {
      "cell_type": "code",
      "metadata": {
        "id": "P4zXEYYNZlYb"
      },
      "source": [
        "?np.array"
      ],
      "execution_count": null,
      "outputs": []
    },
    {
      "cell_type": "markdown",
      "metadata": {
        "id": "zDQxCA7BaUG-"
      },
      "source": [
        "Поиск в документации"
      ]
    },
    {
      "cell_type": "code",
      "metadata": {
        "colab": {
          "base_uri": "https://localhost:8080/"
        },
        "id": "0ui7q3tfZlP2",
        "outputId": "84211a1a-424f-44e1-826e-1a38458f2389"
      },
      "source": [
        "np.lookfor(\"stack\")"
      ],
      "execution_count": null,
      "outputs": [
        {
          "output_type": "stream",
          "name": "stdout",
          "text": [
            "Search results for 'stack'\n",
            "--------------------------\n",
            "numpy.dstack\n",
            "    Stack arrays in sequence depth wise (along third axis).\n",
            "numpy.hstack\n",
            "    Stack arrays in sequence horizontally (column wise).\n",
            "numpy.row_stack\n",
            "    Stack arrays in sequence vertically (row wise).\n",
            "numpy.column_stack\n",
            "    Stack 1-D arrays as columns into a 2-D array.\n",
            "numpy.ma.stack\n",
            "    Join a sequence of arrays along a new axis.\n",
            "numpy.ma.dstack\n",
            "    Stack arrays in sequence depth wise (along third axis).\n",
            "numpy.ma.hstack\n",
            "    Stack arrays in sequence horizontally (column wise).\n",
            "numpy.ma.row_stack\n",
            "    Stack arrays in sequence vertically (row wise).\n",
            "numpy.ma.column_stack\n",
            "    Stack 1-D arrays as columns into a 2-D array.\n",
            "numpy.stack\n",
            "    Join a sequence of arrays along a new axis.\n",
            "numpy.distutils.misc_util.get_frame\n",
            "    Return frame object from call stack with given level.\n",
            "numpy.cov\n",
            "    Estimate a covariance matrix, given data and weights.\n",
            "numpy.block\n",
            "    Assemble an nd-array from nested lists of blocks.\n",
            "numpy.split\n",
            "    Split an array into multiple sub-arrays as views into `ary`.\n",
            "numpy.matmul\n",
            "    Matrix product of two arrays.\n",
            "numpy.vander\n",
            "    Generate a Vandermonde matrix.\n",
            "numpy.histogram\n",
            "    Compute the histogram of a set of data.\n",
            "numpy.concatenate\n",
            "    Join a sequence of arrays along an existing axis.\n",
            "numpy.ma.vander\n",
            "    Generate a Vandermonde matrix.\n",
            "numpy.linalg.det\n",
            "    Compute the determinant of an array.\n",
            "numpy.linalg.svd\n",
            "    Singular Value Decomposition.\n",
            "numpy.take_along_axis\n",
            "    Take values from the input array by matching 1d index and data slices.\n",
            "numpy.linalg.pinv\n",
            "    Compute the (Moore-Penrose) pseudo-inverse of a matrix.\n",
            "numpy.linalg.lstsq\n",
            "    Return the least-squares solution to a linear matrix equation.\n",
            "numpy.linalg.slogdet\n",
            "    Compute the sign and (natural) logarithm of the determinant of an array.\n",
            "numpy.linalg.matrix_rank\n",
            "    Return matrix rank of array using SVD method\n",
            "numpy.linalg.matrix_power\n",
            "    Raise a square matrix to the (integer) power `n`.\n",
            "numpy.testing._private.parameterized.detect_runner\n",
            "    Guess which test runner we're using by traversing the stack and looking\n",
            "numpy.lib.recfunctions.stack_arrays\n",
            "    Superposes arrays fields by fields\n",
            "numpy.core._multiarray_umath.concatenate\n",
            "    Join a sequence of arrays along an existing axis.\n",
            "numpy.testing._private.parameterized.parameterized._terrible_magic_get_defining_classes\n",
            "    Returns the set of parent classes of the class currently being defined."
          ]
        }
      ]
    },
    {
      "cell_type": "markdown",
      "metadata": {
        "id": "tF-_RjLs5ZDR"
      },
      "source": [
        "### Генерация данных"
      ]
    },
    {
      "cell_type": "code",
      "metadata": {
        "id": "s75SF6TZzWpT",
        "colab": {
          "base_uri": "https://localhost:8080/"
        },
        "outputId": "22097160-c194-4ccb-d120-a56b8f41de3a"
      },
      "source": [
        "# создание вектора из существующего листа с указанием типа чисел\n",
        "np.array([1, 2, 3], 'float')"
      ],
      "execution_count": null,
      "outputs": [
        {
          "output_type": "execute_result",
          "data": {
            "text/plain": [
              "array([1., 2., 3.])"
            ]
          },
          "metadata": {},
          "execution_count": 117
        }
      ]
    },
    {
      "cell_type": "code",
      "metadata": {
        "id": "onkSSkFHzWtS",
        "colab": {
          "base_uri": "https://localhost:8080/"
        },
        "outputId": "0ca2345f-3834-40ba-dd9b-bf186a7630a2"
      },
      "source": [
        "# создание матрицы из существующего списка\n",
        "type(np.array([[1, 2, 3], [4, 5, 6]]))"
      ],
      "execution_count": null,
      "outputs": [
        {
          "output_type": "execute_result",
          "data": {
            "text/plain": [
              "numpy.ndarray"
            ]
          },
          "metadata": {},
          "execution_count": 118
        }
      ]
    },
    {
      "cell_type": "code",
      "metadata": {
        "colab": {
          "base_uri": "https://localhost:8080/"
        },
        "id": "-G2kYeqj0SGy",
        "outputId": "29356b8e-f0c0-40af-f1a4-f64e7cfc5115"
      },
      "source": [
        "np.array([[1, 2, 3], [4, 5, 6]])"
      ],
      "execution_count": null,
      "outputs": [
        {
          "output_type": "execute_result",
          "data": {
            "text/plain": [
              "array([[1, 2, 3],\n",
              "       [4, 5, 6]])"
            ]
          },
          "metadata": {},
          "execution_count": 119
        }
      ]
    },
    {
      "cell_type": "code",
      "metadata": {
        "id": "oKDy1R4Gzyz_",
        "colab": {
          "base_uri": "https://localhost:8080/"
        },
        "outputId": "e86f1168-1cc0-4a2f-8604-acb82fa7536e"
      },
      "source": [
        "# генерация нулевой матрицы\n",
        "np.zeros((3, 5))"
      ],
      "execution_count": null,
      "outputs": [
        {
          "output_type": "execute_result",
          "data": {
            "text/plain": [
              "array([[0., 0., 0., 0., 0.],\n",
              "       [0., 0., 0., 0., 0.],\n",
              "       [0., 0., 0., 0., 0.]])"
            ]
          },
          "metadata": {
            "tags": []
          },
          "execution_count": 24
        }
      ]
    },
    {
      "cell_type": "code",
      "metadata": {
        "id": "DJ07jeh0z587",
        "colab": {
          "base_uri": "https://localhost:8080/"
        },
        "outputId": "5c1bdd7f-48a7-4a7a-e87a-cd7fb5fb1478"
      },
      "source": [
        "# генерация единичной матрицы заданной размерности\n",
        "np.eye(5)"
      ],
      "execution_count": null,
      "outputs": [
        {
          "output_type": "execute_result",
          "data": {
            "text/plain": [
              "array([[1., 0., 0., 0., 0.],\n",
              "       [0., 1., 0., 0., 0.],\n",
              "       [0., 0., 1., 0., 0.],\n",
              "       [0., 0., 0., 1., 0.],\n",
              "       [0., 0., 0., 0., 1.]])"
            ]
          },
          "metadata": {},
          "execution_count": 120
        }
      ]
    },
    {
      "cell_type": "code",
      "metadata": {
        "colab": {
          "base_uri": "https://localhost:8080/"
        },
        "id": "EQsw-3ikba6q",
        "outputId": "bdca2a83-f189-4655-c94c-7eb07a1ce5d6"
      },
      "source": [
        "# создание диагональной матрицы, по заданной диагонали\n",
        "np.diag(np.array([1, 2, 3, 4]))"
      ],
      "execution_count": null,
      "outputs": [
        {
          "output_type": "execute_result",
          "data": {
            "text/plain": [
              "array([[1, 0, 0, 0],\n",
              "       [0, 2, 0, 0],\n",
              "       [0, 0, 3, 0],\n",
              "       [0, 0, 0, 4]])"
            ]
          },
          "metadata": {
            "tags": []
          },
          "execution_count": 14
        }
      ]
    },
    {
      "cell_type": "code",
      "metadata": {
        "id": "iGYFNoa0z545",
        "colab": {
          "base_uri": "https://localhost:8080/"
        },
        "outputId": "565f8f43-1dd5-478a-9531-13b9df6de2c8"
      },
      "source": [
        "# генерация случайных чисел основанная на случайных данных заполняющих оперативную память в данный момент\n",
        "np.empty(10)"
      ],
      "execution_count": null,
      "outputs": [
        {
          "output_type": "execute_result",
          "data": {
            "text/plain": [
              "array([0.0000e+000, 1.5563e-321, 0.0000e+000,         nan, 0.0000e+000,\n",
              "       8.9021e-320, 0.0000e+000,         nan, 0.0000e+000, 6.0054e-320])"
            ]
          },
          "metadata": {},
          "execution_count": 8
        }
      ]
    },
    {
      "cell_type": "code",
      "metadata": {
        "id": "ibEs25oC0LBP",
        "colab": {
          "base_uri": "https://localhost:8080/"
        },
        "outputId": "30b391a7-fac2-4eb9-ea6d-018f325a7ed9"
      },
      "source": [
        "# генерация чисел в диапазоне с заданным шагом\n",
        "np.arange(10, 31, 5) # начало, конец (не включается), шаг"
      ],
      "execution_count": null,
      "outputs": [
        {
          "output_type": "execute_result",
          "data": {
            "text/plain": [
              "array([10, 15, 20, 25, 30])"
            ]
          },
          "metadata": {},
          "execution_count": 121
        }
      ]
    },
    {
      "cell_type": "code",
      "metadata": {
        "id": "YEKuB8zq0LJ7",
        "colab": {
          "base_uri": "https://localhost:8080/"
        },
        "outputId": "209683f4-5f2e-4abf-d355-9bb9d06824d6"
      },
      "source": [
        "# генерация заданного количества чисел равномерно заполняющих диапазон\n",
        "np.linspace(0, 2, 9) # начало, конец (включается), количество чисел в массиве"
      ],
      "execution_count": null,
      "outputs": [
        {
          "output_type": "execute_result",
          "data": {
            "text/plain": [
              "array([0.  , 0.25, 0.5 , 0.75, 1.  , 1.25, 1.5 , 1.75, 2.  ])"
            ]
          },
          "metadata": {},
          "execution_count": 122
        }
      ]
    },
    {
      "cell_type": "code",
      "source": [
        "# прием для получание вектора (матрицы) одного размера\n",
        "np.linspace(1.5, 1.5, 10)"
      ],
      "metadata": {
        "colab": {
          "base_uri": "https://localhost:8080/"
        },
        "id": "mLMTtKdqxInW",
        "outputId": "b25fdc7b-22cf-4c92-c16a-7edd25180670"
      },
      "execution_count": null,
      "outputs": [
        {
          "output_type": "execute_result",
          "data": {
            "text/plain": [
              "array([1.5, 1.5, 1.5, 1.5, 1.5, 1.5, 1.5, 1.5, 1.5, 1.5])"
            ]
          },
          "metadata": {},
          "execution_count": 5
        }
      ]
    },
    {
      "cell_type": "markdown",
      "source": [
        "**Случайные распределения**"
      ],
      "metadata": {
        "id": "SzfEa8LuxMJs"
      }
    },
    {
      "cell_type": "code",
      "metadata": {
        "id": "yRlIUOco1J0I",
        "colab": {
          "base_uri": "https://localhost:8080/"
        },
        "outputId": "28d26475-fe77-40ce-e6c6-627b28e1b204"
      },
      "source": [
        "# генерация случайных целых чисел из диапазона 0-1, 1  не включено\n",
        "np.random.sample((3,4))"
      ],
      "execution_count": null,
      "outputs": [
        {
          "output_type": "execute_result",
          "data": {
            "text/plain": [
              "array([[0.58349114, 0.97571585, 0.41451768, 0.1101305 ],\n",
              "       [0.36811499, 0.64522402, 0.71973161, 0.20677095],\n",
              "       [0.49538391, 0.66467236, 0.57685182, 0.95927651]])"
            ]
          },
          "metadata": {},
          "execution_count": 127
        }
      ]
    },
    {
      "cell_type": "code",
      "metadata": {
        "id": "H3ez7caN1kIc",
        "colab": {
          "base_uri": "https://localhost:8080/"
        },
        "outputId": "aebdeec3-3f10-4876-9eae-d4c057fae1ce"
      },
      "source": [
        "# генерация случайных целых чисел из диапазона 0-1, 1  не включено\n",
        "np.random.sample(5)"
      ],
      "execution_count": null,
      "outputs": [
        {
          "output_type": "execute_result",
          "data": {
            "text/plain": [
              "array([0.52993122, 0.66049129, 0.92741958, 0.54328821, 0.11842195])"
            ]
          },
          "metadata": {},
          "execution_count": 128
        }
      ]
    },
    {
      "cell_type": "code",
      "source": [
        "sns.histplot(np.random.sample(100_000))"
      ],
      "metadata": {
        "colab": {
          "base_uri": "https://localhost:8080/",
          "height": 283
        },
        "id": "QrSMUwmPyEOF",
        "outputId": "51b0ab98-8019-49a3-c2a3-ff721b6250c4"
      },
      "execution_count": null,
      "outputs": [
        {
          "output_type": "execute_result",
          "data": {
            "text/plain": [
              "<matplotlib.axes._subplots.AxesSubplot at 0x7f9985726490>"
            ]
          },
          "metadata": {},
          "execution_count": 132
        },
        {
          "output_type": "display_data",
          "data": {
            "text/plain": [
              "<Figure size 432x288 with 1 Axes>"
            ],
            "image/png": "[encoded data removed]"
          },
          "metadata": {
            "needs_background": "light"
          }
        }
      ]
    },
    {
      "cell_type": "code",
      "metadata": {
        "id": "fEM2UyT51uP6",
        "colab": {
          "base_uri": "https://localhost:8080/"
        },
        "outputId": "2c071f46-bed6-4fda-95b5-fa4eae262dc5"
      },
      "source": [
        "# генерация случайных целых чисел\n",
        "np.random.randint(0, 5, 10) # с какого числа, по какое число (не включительно), сколько чисел генерировать"
      ],
      "execution_count": null,
      "outputs": [
        {
          "output_type": "execute_result",
          "data": {
            "text/plain": [
              "array([0, 0, 0, 2, 0, 3, 2, 2, 1, 3])"
            ]
          },
          "metadata": {},
          "execution_count": 8
        }
      ]
    },
    {
      "cell_type": "code",
      "metadata": {
        "id": "iOQoOOEp19WF",
        "colab": {
          "base_uri": "https://localhost:8080/"
        },
        "outputId": "5a96405a-75dc-4b2a-af31-b75091f6c9f3"
      },
      "source": [
        "# генерация случайных целых чисел\n",
        "np.random.randint(0, 10, (5, 5))"
      ],
      "execution_count": null,
      "outputs": [
        {
          "output_type": "execute_result",
          "data": {
            "text/plain": [
              "array([[4, 9, 2, 4, 2],\n",
              "       [9, 8, 0, 4, 3],\n",
              "       [4, 8, 0, 0, 1],\n",
              "       [9, 1, 8, 6, 3],\n",
              "       [0, 7, 4, 9, 3]])"
            ]
          },
          "metadata": {},
          "execution_count": 133
        }
      ]
    },
    {
      "cell_type": "code",
      "metadata": {
        "id": "5jyk2K4n2NHK",
        "colab": {
          "base_uri": "https://localhost:8080/"
        },
        "outputId": "e366bf6b-0404-4c2c-f703-4a33ae4791e0"
      },
      "source": [
        "# генерация чисел согласно равномерному распределению\n",
        "np.random.uniform(2, 8, (2, 10)) "
      ],
      "execution_count": null,
      "outputs": [
        {
          "output_type": "execute_result",
          "data": {
            "text/plain": [
              "array([[6.77088933, 6.46151321, 2.95135802, 7.50184422, 5.04628799,\n",
              "        6.04232828, 7.84270773, 6.05681358, 6.02023995, 2.07936111],\n",
              "       [6.10211569, 6.33035034, 3.58298897, 5.1199523 , 7.56490583,\n",
              "        7.44549935, 4.87843529, 2.94667105, 6.51226891, 7.15171024]])"
            ]
          },
          "metadata": {},
          "execution_count": 134
        }
      ]
    },
    {
      "cell_type": "code",
      "source": [
        "sns.histplot(np.random.uniform(2, 10, 100_000))"
      ],
      "metadata": {
        "colab": {
          "base_uri": "https://localhost:8080/",
          "height": 283
        },
        "id": "lOBViol-yRWU",
        "outputId": "9f7cebd0-83a5-48af-9866-5db808f42a7a"
      },
      "execution_count": null,
      "outputs": [
        {
          "output_type": "execute_result",
          "data": {
            "text/plain": [
              "<matplotlib.axes._subplots.AxesSubplot at 0x7f9985252890>"
            ]
          },
          "metadata": {},
          "execution_count": 135
        },
        {
          "output_type": "display_data",
          "data": {
            "text/plain": [
              "<Figure size 432x288 with 1 Axes>"
            ],
            "image/png": "[encoded data removed]"
          },
          "metadata": {
            "needs_background": "light"
          }
        }
      ]
    },
    {
      "cell_type": "code",
      "metadata": {
        "id": "QVC4Pnoo3tkl",
        "colab": {
          "base_uri": "https://localhost:8080/"
        },
        "outputId": "152a0baa-977e-4348-deb9-5fcb0ec2ab6d"
      },
      "source": [
        "# генерация чисел согласно распределению пуассона\n",
        "np.random.poisson(2.5, 10)  # lambda=2.5, numbers=5, "
      ],
      "execution_count": null,
      "outputs": [
        {
          "output_type": "execute_result",
          "data": {
            "text/plain": [
              "array([5, 1, 3, 1, 1, 1, 3, 2, 3, 3])"
            ]
          },
          "metadata": {},
          "execution_count": 139
        }
      ]
    },
    {
      "cell_type": "code",
      "source": [
        "sns.histplot(np.random.poisson(1.5, 100_000))"
      ],
      "metadata": {
        "colab": {
          "base_uri": "https://localhost:8080/",
          "height": 285
        },
        "id": "afVKhtbqx1sl",
        "outputId": "d4bdd58e-a8d5-4aed-95df-155c9153c67a"
      },
      "execution_count": null,
      "outputs": [
        {
          "output_type": "execute_result",
          "data": {
            "text/plain": [
              "<matplotlib.axes._subplots.AxesSubplot at 0x7f9985022810>"
            ]
          },
          "metadata": {},
          "execution_count": 142
        },
        {
          "output_type": "display_data",
          "data": {
            "text/plain": [
              "<Figure size 432x288 with 1 Axes>"
            ],
            "image/png": "[encoded data removed]"
          },
          "metadata": {
            "needs_background": "light"
          }
        }
      ]
    },
    {
      "cell_type": "code",
      "metadata": {
        "id": "PYbv7Aon4D0l",
        "colab": {
          "base_uri": "https://localhost:8080/"
        },
        "outputId": "d421c667-8813-4e0c-cd9a-d10705474181"
      },
      "source": [
        "# генерация чисел согласно биномиальному распределению\n",
        "np.random.binomial(4, 0.3, 5)  # n=4, p=0.3, numbers=5"
      ],
      "execution_count": null,
      "outputs": [
        {
          "output_type": "execute_result",
          "data": {
            "text/plain": [
              "array([2, 1, 0, 2, 4])"
            ]
          },
          "metadata": {},
          "execution_count": 29
        }
      ]
    },
    {
      "cell_type": "code",
      "source": [
        "sns.histplot(np.random.binomial(9, 0.1, 100_000))"
      ],
      "metadata": {
        "colab": {
          "base_uri": "https://localhost:8080/",
          "height": 283
        },
        "id": "aBxwlFwazC78",
        "outputId": "f28bea95-fddf-488d-a80c-29d6493dda72"
      },
      "execution_count": null,
      "outputs": [
        {
          "output_type": "execute_result",
          "data": {
            "text/plain": [
              "<matplotlib.axes._subplots.AxesSubplot at 0x7f998460aa50>"
            ]
          },
          "metadata": {},
          "execution_count": 146
        },
        {
          "output_type": "display_data",
          "data": {
            "text/plain": [
              "<Figure size 432x288 with 1 Axes>"
            ],
            "image/png": "[encoded data removed]"
          },
          "metadata": {
            "needs_background": "light"
          }
        }
      ]
    },
    {
      "cell_type": "code",
      "metadata": {
        "colab": {
          "base_uri": "https://localhost:8080/"
        },
        "id": "r4EtrQP-Kaxo",
        "outputId": "3eea2101-8bcf-450e-e993-b056a7800639"
      },
      "source": [
        "# нормальное распределение\n",
        "f = np.random.normal(10, 2, 100_000) # среднее - 10, среднее квадратическое отклонение - 2, число экземпляров - 100_000\n",
        "f.mean(), f.std()"
      ],
      "execution_count": null,
      "outputs": [
        {
          "output_type": "execute_result",
          "data": {
            "text/plain": [
              "(9.998469575464178, 1.998034725442042)"
            ]
          },
          "metadata": {},
          "execution_count": 147
        }
      ]
    },
    {
      "cell_type": "code",
      "source": [
        "sns.histplot(np.random.normal(10, 0.5, 100_000))"
      ],
      "metadata": {
        "colab": {
          "base_uri": "https://localhost:8080/",
          "height": 283
        },
        "id": "MGSFwgB2zh4k",
        "outputId": "4d07433d-3049-4eb7-e35a-6a72dd8da5ea"
      },
      "execution_count": null,
      "outputs": [
        {
          "output_type": "execute_result",
          "data": {
            "text/plain": [
              "<matplotlib.axes._subplots.AxesSubplot at 0x7f99845ce210>"
            ]
          },
          "metadata": {},
          "execution_count": 149
        },
        {
          "output_type": "display_data",
          "data": {
            "text/plain": [
              "<Figure size 432x288 with 1 Axes>"
            ],
            "image/png": "[encoded data removed]"
          },
          "metadata": {
            "needs_background": "light"
          }
        }
      ]
    },
    {
      "cell_type": "code",
      "source": [
        "np.random.random(10)"
      ],
      "metadata": {
        "colab": {
          "base_uri": "https://localhost:8080/"
        },
        "id": "oFb1Yw_7z7l8",
        "outputId": "e1eccc65-62d6-474a-e1c0-c6964a5940b2"
      },
      "execution_count": null,
      "outputs": [
        {
          "output_type": "execute_result",
          "data": {
            "text/plain": [
              "array([0.49628595, 0.48395175, 0.45878576, 0.63439623, 0.19018584,\n",
              "       0.83626439, 0.8737098 , 0.85500906, 0.97214981, 0.37105232])"
            ]
          },
          "metadata": {},
          "execution_count": 152
        }
      ]
    },
    {
      "cell_type": "code",
      "metadata": {
        "id": "sKpEDoQu5uol",
        "colab": {
          "base_uri": "https://localhost:8080/"
        },
        "outputId": "0f807e2b-c054-424a-af97-f22cdfdb7850"
      },
      "source": [
        "np.random.seed(420)\n",
        "np.random.random(10)"
      ],
      "execution_count": null,
      "outputs": [
        {
          "output_type": "execute_result",
          "data": {
            "text/plain": [
              "array([0.31564591, 0.45303068, 0.26698226, 0.10892818, 0.86816648,\n",
              "       0.62972852, 0.35251871, 0.0675376 , 0.62635059, 0.59866086])"
            ]
          },
          "metadata": {},
          "execution_count": 154
        }
      ]
    },
    {
      "cell_type": "code",
      "metadata": {
        "id": "8cy5T9H25vPF",
        "colab": {
          "base_uri": "https://localhost:8080/"
        },
        "outputId": "a047b401-8638-4e35-e52b-bcae1ab17395"
      },
      "source": [
        "np.random.seed(1000)\n",
        "np.random.random(10)"
      ],
      "execution_count": null,
      "outputs": [
        {
          "output_type": "execute_result",
          "data": {
            "text/plain": [
              "array([0.65358959, 0.11500694, 0.95028286, 0.4821914 , 0.87247454,\n",
              "       0.21233268, 0.04070962, 0.39719446, 0.2331322 , 0.84174072])"
            ]
          },
          "metadata": {},
          "execution_count": 156
        }
      ]
    },
    {
      "cell_type": "markdown",
      "metadata": {
        "id": "OLnVGmOu5esM"
      },
      "source": [
        "### Базовые операции"
      ]
    },
    {
      "cell_type": "code",
      "metadata": {
        "id": "PKAhmus54fxf",
        "colab": {
          "base_uri": "https://localhost:8080/"
        },
        "outputId": "9c69f3db-eea5-4cb8-8ffc-ca4de379aca4"
      },
      "source": [
        "# массивы одного размера\n",
        "import numpy as np\n",
        "a = np.array([20, 30, 40, 50])\n",
        "b = np.arange(4)\n",
        "print(\n",
        "'массив b:',\n",
        "b,\n",
        "'a + b:',\n",
        "a + b,\n",
        "'a - b:',\n",
        "a - b,\n",
        "'a * b:',\n",
        "a * b,\n",
        "'a / b:',\n",
        "a / b,\n",
        "'a ** b:',\n",
        "a ** b,\n",
        "'a % b:',\n",
        "a % b,\n",
        "'a // b:',\n",
        "a // b,\n",
        "sep = '\\n') "
      ],
      "execution_count": null,
      "outputs": [
        {
          "output_type": "stream",
          "name": "stdout",
          "text": [
            "массив b:\n",
            "[0 1 2 3]\n",
            "a + b:\n",
            "[20 31 42 53]\n",
            "a - b:\n",
            "[20 29 38 47]\n",
            "a * b:\n",
            "[  0  30  80 150]\n",
            "a / b:\n",
            "[        inf 30.         20.         16.66666667]\n",
            "a ** b:\n",
            "[     1     30   1600 125000]\n",
            "a % b:\n",
            "[0 0 0 2]\n",
            "a // b:\n",
            "[ 0 30 20 16]\n"
          ]
        },
        {
          "output_type": "stream",
          "name": "stderr",
          "text": [
            "/usr/local/lib/python3.7/dist-packages/ipykernel_launcher.py:15: RuntimeWarning: divide by zero encountered in true_divide\n",
            "  from ipykernel import kernelapp as app\n",
            "/usr/local/lib/python3.7/dist-packages/ipykernel_launcher.py:19: RuntimeWarning: divide by zero encountered in remainder\n",
            "/usr/local/lib/python3.7/dist-packages/ipykernel_launcher.py:21: RuntimeWarning: divide by zero encountered in floor_divide\n"
          ]
        }
      ]
    },
    {
      "cell_type": "markdown",
      "source": [
        "Сущность \"Ничего\""
      ],
      "metadata": {
        "id": "7qrvZTeM1ioL"
      }
    },
    {
      "cell_type": "code",
      "metadata": {
        "colab": {
          "base_uri": "https://localhost:8080/"
        },
        "id": "O-_Hf8Pt3c1Z",
        "outputId": "9ab85f2a-0ba3-42f8-b37e-00d0f98108ba"
      },
      "source": [
        "np.nan"
      ],
      "execution_count": null,
      "outputs": [
        {
          "output_type": "execute_result",
          "data": {
            "text/plain": [
              "nan"
            ]
          },
          "metadata": {},
          "execution_count": 19
        }
      ]
    },
    {
      "cell_type": "markdown",
      "source": [
        "Сущность \"Бесконечность\""
      ],
      "metadata": {
        "id": "H9gTBJrD1n2z"
      }
    },
    {
      "cell_type": "code",
      "metadata": {
        "colab": {
          "base_uri": "https://localhost:8080/"
        },
        "id": "ko7197r73lxK",
        "outputId": "28decc1b-5df7-4746-f1ae-5a7f24e0f1f6"
      },
      "source": [
        "np.inf"
      ],
      "execution_count": null,
      "outputs": [
        {
          "output_type": "execute_result",
          "data": {
            "text/plain": [
              "inf"
            ]
          },
          "metadata": {},
          "execution_count": 20
        }
      ]
    },
    {
      "cell_type": "code",
      "metadata": {
        "id": "lymuu4_Y5kEr",
        "colab": {
          "base_uri": "https://localhost:8080/",
          "height": 236
        },
        "outputId": "f21564f2-ebc9-4942-c028-c4afc3939a0c"
      },
      "source": [
        "# массивы разной размерности\n",
        "c = np.array([[1, 2, 3], [4, 5, 6]])\n",
        "print(c.shape)\n",
        "d = np.array([[1, 2], [3, 4], [5, 6]])\n",
        "print(d.shape)\n",
        "c + d"
      ],
      "execution_count": null,
      "outputs": [
        {
          "output_type": "stream",
          "name": "stdout",
          "text": [
            "(2, 3)\n",
            "(3, 2)\n"
          ]
        },
        {
          "output_type": "error",
          "ename": "ValueError",
          "evalue": "ignored",
          "traceback": [
            "\u001b[0;31m---------------------------------------------------------------------------\u001b[0m",
            "\u001b[0;31mValueError\u001b[0m                                Traceback (most recent call last)",
            "\u001b[0;32m<ipython-input-21-07aec7c4ce32>\u001b[0m in \u001b[0;36m<module>\u001b[0;34m()\u001b[0m\n\u001b[1;32m      4\u001b[0m \u001b[0md\u001b[0m \u001b[0;34m=\u001b[0m \u001b[0mnp\u001b[0m\u001b[0;34m.\u001b[0m\u001b[0marray\u001b[0m\u001b[0;34m(\u001b[0m\u001b[0;34m[\u001b[0m\u001b[0;34m[\u001b[0m\u001b[0;36m1\u001b[0m\u001b[0;34m,\u001b[0m \u001b[0;36m2\u001b[0m\u001b[0;34m]\u001b[0m\u001b[0;34m,\u001b[0m \u001b[0;34m[\u001b[0m\u001b[0;36m3\u001b[0m\u001b[0;34m,\u001b[0m \u001b[0;36m4\u001b[0m\u001b[0;34m]\u001b[0m\u001b[0;34m,\u001b[0m \u001b[0;34m[\u001b[0m\u001b[0;36m5\u001b[0m\u001b[0;34m,\u001b[0m \u001b[0;36m6\u001b[0m\u001b[0;34m]\u001b[0m\u001b[0;34m]\u001b[0m\u001b[0;34m)\u001b[0m\u001b[0;34m\u001b[0m\u001b[0;34m\u001b[0m\u001b[0m\n\u001b[1;32m      5\u001b[0m \u001b[0mprint\u001b[0m\u001b[0;34m(\u001b[0m\u001b[0md\u001b[0m\u001b[0;34m.\u001b[0m\u001b[0mshape\u001b[0m\u001b[0;34m)\u001b[0m\u001b[0;34m\u001b[0m\u001b[0;34m\u001b[0m\u001b[0m\n\u001b[0;32m----> 6\u001b[0;31m \u001b[0mc\u001b[0m \u001b[0;34m+\u001b[0m \u001b[0md\u001b[0m\u001b[0;34m\u001b[0m\u001b[0;34m\u001b[0m\u001b[0m\n\u001b[0m",
            "\u001b[0;31mValueError\u001b[0m: operands could not be broadcast together with shapes (2,3) (3,2) "
          ]
        }
      ]
    },
    {
      "cell_type": "markdown",
      "source": [
        "Транслирование операций"
      ],
      "metadata": {
        "id": "EFpfXwkW10o7"
      }
    },
    {
      "cell_type": "code",
      "metadata": {
        "id": "ba8R6rfX5kOp",
        "colab": {
          "base_uri": "https://localhost:8080/"
        },
        "outputId": "16eb64a0-ca60-4b71-d885-424e9c99437d"
      },
      "source": [
        "# но\n",
        "c = np.array([[1, 2, 3], [4, 5, 6]])\n",
        "d = np.array([10, 20, 30])\n",
        "c + d"
      ],
      "execution_count": null,
      "outputs": [
        {
          "output_type": "execute_result",
          "data": {
            "text/plain": [
              "array([[11, 22, 33],\n",
              "       [14, 25, 36]])"
            ]
          },
          "metadata": {},
          "execution_count": 158
        }
      ]
    },
    {
      "cell_type": "code",
      "metadata": {
        "id": "YomlVvtZ5kMP",
        "colab": {
          "base_uri": "https://localhost:8080/"
        },
        "outputId": "8fc76868-2300-4781-ecd6-aed0396ad44f"
      },
      "source": [
        "# и\n",
        "c = np.array([[1, 2, 3], [4, 5, 6]])\n",
        "d = np.array([10, 20]).reshape(-1,1) # превращаем строку в столбец\n",
        "c + d"
      ],
      "execution_count": null,
      "outputs": [
        {
          "output_type": "execute_result",
          "data": {
            "text/plain": [
              "array([[11, 12, 13],\n",
              "       [24, 25, 26]])"
            ]
          },
          "metadata": {
            "tags": []
          },
          "execution_count": 36
        }
      ]
    },
    {
      "cell_type": "markdown",
      "source": [
        "Операции применяемые ко всей матрице"
      ],
      "metadata": {
        "id": "amZlpJmW1-j7"
      }
    },
    {
      "cell_type": "code",
      "metadata": {
        "id": "-XVj-4xK5kIu",
        "colab": {
          "base_uri": "https://localhost:8080/"
        },
        "outputId": "ce46b8b6-954b-4ed4-dd71-ec9fdd467e71"
      },
      "source": [
        "a = np.array([[1, 2, 3], [4, 5, 6]])\n",
        "np.sum(a), a.sum(), a.min(), a.max()"
      ],
      "execution_count": null,
      "outputs": [
        {
          "output_type": "execute_result",
          "data": {
            "text/plain": [
              "(21, 21, 1, 6)"
            ]
          },
          "metadata": {},
          "execution_count": 159
        }
      ]
    },
    {
      "cell_type": "markdown",
      "source": [
        "Понятие \"ось\"\n",
        "\n",
        "Ось 0 (axis 0) - строки. Если операция делается по строкам, то поиск минимума, максимума, среднего (дргуих операций) происходит по столбцу (вдоль оси 0, вдоль строк). Таким образом остается по одному значению на столбец, а указанная ось 0 как бы схлопывается до 1 строки\n",
        "\n",
        "Ось 1 (axis 1) - столбцы. Если операция делается по столбцам, то поиск минимума, максимума, среднего (дргуих операций) происходит по строке (вдоль оси 1, вдоль столбцов). Таким образом остается по одному значению на строку, а указанная ось 1 как бы схлопывается до 1 столбца"
      ],
      "metadata": {
        "id": "sTaulrOr2Enq"
      }
    },
    {
      "cell_type": "code",
      "source": [
        "a"
      ],
      "metadata": {
        "colab": {
          "base_uri": "https://localhost:8080/"
        },
        "id": "DDr5WIkYatGd",
        "outputId": "091f0a07-40f3-4129-c733-ba99cec29e4e"
      },
      "execution_count": null,
      "outputs": [
        {
          "output_type": "execute_result",
          "data": {
            "text/plain": [
              "array([[1, 2, 3],\n",
              "       [4, 5, 6]])"
            ]
          },
          "metadata": {},
          "execution_count": 160
        }
      ]
    },
    {
      "cell_type": "code",
      "metadata": {
        "id": "o_hyC6it80dr",
        "colab": {
          "base_uri": "https://localhost:8080/"
        },
        "outputId": "52f5b757-9d28-4a7a-fd44-fd38fe6a8b07"
      },
      "source": [
        "a.min(axis=0)  # Наименьшее число в каждом столбце"
      ],
      "execution_count": null,
      "outputs": [
        {
          "output_type": "execute_result",
          "data": {
            "text/plain": [
              "array([1, 2, 3])"
            ]
          },
          "metadata": {},
          "execution_count": 161
        }
      ]
    },
    {
      "cell_type": "code",
      "metadata": {
        "id": "UaEoQn2s9K0T",
        "colab": {
          "base_uri": "https://localhost:8080/"
        },
        "outputId": "4337d925-aae8-41cc-bce9-10a9fb37a331"
      },
      "source": [
        "a.min(axis=1) # Наименьшее число в каждой строке"
      ],
      "execution_count": null,
      "outputs": [
        {
          "output_type": "execute_result",
          "data": {
            "text/plain": [
              "array([1, 4])"
            ]
          },
          "metadata": {},
          "execution_count": 53
        }
      ]
    },
    {
      "cell_type": "code",
      "metadata": {
        "id": "xP18e5jIH4ym",
        "colab": {
          "base_uri": "https://localhost:8080/"
        },
        "outputId": "6b0c0f43-b7b7-43d5-de39-2da9306b57ab"
      },
      "source": [
        "np.argmin(a, 0)"
      ],
      "execution_count": null,
      "outputs": [
        {
          "output_type": "execute_result",
          "data": {
            "text/plain": [
              "array([0, 0, 0])"
            ]
          },
          "metadata": {},
          "execution_count": 162
        }
      ]
    },
    {
      "cell_type": "code",
      "source": [
        "np.argmax(a, 0)"
      ],
      "metadata": {
        "colab": {
          "base_uri": "https://localhost:8080/"
        },
        "id": "WsxgQSd0bVYj",
        "outputId": "052a6e89-3052-4cf3-b1aa-f32286ae59d5"
      },
      "execution_count": null,
      "outputs": [
        {
          "output_type": "execute_result",
          "data": {
            "text/plain": [
              "array([1, 1, 1])"
            ]
          },
          "metadata": {},
          "execution_count": 163
        }
      ]
    },
    {
      "cell_type": "code",
      "metadata": {
        "id": "Flw-5EyqInUu",
        "colab": {
          "base_uri": "https://localhost:8080/"
        },
        "outputId": "a2b7e8bf-db2f-488b-8542-7d496715c77e"
      },
      "source": [
        "a.argmax(1)"
      ],
      "execution_count": null,
      "outputs": [
        {
          "output_type": "execute_result",
          "data": {
            "text/plain": [
              "array([2, 2])"
            ]
          },
          "metadata": {},
          "execution_count": 164
        }
      ]
    },
    {
      "cell_type": "markdown",
      "source": [
        "**Пример**\n",
        "\n",
        "Нейронная сеть предсказывающая класс изображения (рукописная цифра от 0 до 9 включительно) возвращает распределение вероятностей для каждого объекта. Если у нас есть 5 изображений, то нейронная сеть вернет 5 векторов, каждый по 10 значений (так как классов 10, так как цифр 10). Нужно вернуть вектор наиболее вероятных классов для каждого изображения, то есть вектор длинной 5 (5 изображений)"
      ],
      "metadata": {
        "id": "pgWqTKAj2_Fj"
      }
    },
    {
      "cell_type": "code",
      "source": [
        "predict = np.random.randint(1, 100, (5, 10)) # выход нейронной сети без активации\n",
        "predict = np.exp(predict) / np.sum(np.exp(predict), axis=1).reshape(-1, 1) # нейронная сеть преобразовывает результат к вероятностному распределению\n",
        "predict"
      ],
      "metadata": {
        "colab": {
          "base_uri": "https://localhost:8080/"
        },
        "id": "XWjOm3Kl4f6S",
        "outputId": "9c7841f5-e105-4c75-c840-eb6b70eb6aec"
      },
      "execution_count": null,
      "outputs": [
        {
          "output_type": "execute_result",
          "data": {
            "text/plain": [
              "array([[1.87889849e-12, 3.35350125e-04, 4.47227896e-38, 7.27884829e-33,\n",
              "        9.85084994e-34, 1.52248721e-08, 1.08027687e-30, 1.50028245e-41,\n",
              "        9.99664635e-01, 3.30459201e-37],\n",
              "       [4.65349361e-15, 9.98842527e-01, 1.75675645e-25, 9.10826487e-04,\n",
              "        1.23266961e-04, 2.22478545e-39, 2.16800969e-29, 1.12404918e-07,\n",
              "        5.37395874e-32, 1.23266961e-04],\n",
              "       [8.76296535e-26, 4.98237673e-01, 4.14298934e-07, 4.25148579e-17,\n",
              "        5.24675029e-21, 1.33459785e-33, 3.35709904e-03, 1.67140119e-04,\n",
              "        1.30053937e-23, 4.98237673e-01],\n",
              "       [9.07397465e-01, 4.51766596e-02, 4.75738116e-22, 3.51525563e-21,\n",
              "        4.51766596e-02, 9.31160357e-11, 2.24921344e-03, 6.27410913e-13,\n",
              "        3.70178119e-41, 1.87028557e-09],\n",
              "       [1.60381040e-28, 2.22736288e-39, 3.01440786e-40, 3.05902227e-07,\n",
              "        6.63967517e-36, 1.56288171e-18, 2.93748121e-30, 2.22736288e-39,\n",
              "        4.90609323e-35, 9.99999694e-01]])"
            ]
          },
          "metadata": {},
          "execution_count": 66
        }
      ]
    },
    {
      "cell_type": "markdown",
      "source": [
        "Проверяем, что нейронная сеть отдала ожидаемый результат. Сумма всех элементов вероятностного распределения должна равняться 1"
      ],
      "metadata": {
        "id": "J4ls2Ys47BQo"
      }
    },
    {
      "cell_type": "code",
      "source": [
        "predict.sum(axis=1).round(2)"
      ],
      "metadata": {
        "colab": {
          "base_uri": "https://localhost:8080/"
        },
        "id": "SyPRj_O354ni",
        "outputId": "f343e7ec-32e1-4cbf-cb48-19ecf207a7a8"
      },
      "execution_count": null,
      "outputs": [
        {
          "output_type": "execute_result",
          "data": {
            "text/plain": [
              "array([1., 1., 1., 1., 1.])"
            ]
          },
          "metadata": {},
          "execution_count": 67
        }
      ]
    },
    {
      "cell_type": "markdown",
      "source": [
        "Решаем задачу"
      ],
      "metadata": {
        "id": "XqETWENj7KHJ"
      }
    },
    {
      "cell_type": "code",
      "source": [
        "predict.argmax(axis=1) # номера классов, которые предсказала нейронная сеть\n",
        "# Обычно миенно это является итоговым вариантом, который все ожидают, а не распределение вероятностей"
      ],
      "metadata": {
        "colab": {
          "base_uri": "https://localhost:8080/"
        },
        "id": "sc0clNky7JqY",
        "outputId": "252eaa7b-67d3-4757-d7f6-58fa4d6a670d"
      },
      "execution_count": null,
      "outputs": [
        {
          "output_type": "execute_result",
          "data": {
            "text/plain": [
              "array([8, 1, 1, 0, 9])"
            ]
          },
          "metadata": {},
          "execution_count": 68
        }
      ]
    },
    {
      "cell_type": "markdown",
      "metadata": {
        "id": "MPev1fAB9YQt"
      },
      "source": [
        "### Индексы и срезы"
      ]
    },
    {
      "cell_type": "code",
      "metadata": {
        "id": "GW8OSrzX9L8u",
        "colab": {
          "base_uri": "https://localhost:8080/"
        },
        "outputId": "9e7f4b5f-a8a9-4efd-a36b-54ae84b92654"
      },
      "source": [
        "a = np.arange(10) ** 3\n",
        "a"
      ],
      "execution_count": null,
      "outputs": [
        {
          "output_type": "execute_result",
          "data": {
            "text/plain": [
              "array([  0,   1,   8,  27,  64, 125, 216, 343, 512, 729])"
            ]
          },
          "metadata": {},
          "execution_count": 165
        }
      ]
    },
    {
      "cell_type": "code",
      "metadata": {
        "id": "HHZvTWDP9SV7",
        "colab": {
          "base_uri": "https://localhost:8080/"
        },
        "outputId": "788ddaff-e18f-45a8-c787-408c3eaed412"
      },
      "source": [
        "a[2] # выбираем один элемент по индексу"
      ],
      "execution_count": null,
      "outputs": [
        {
          "output_type": "execute_result",
          "data": {
            "text/plain": [
              "8"
            ]
          },
          "metadata": {},
          "execution_count": 166
        }
      ]
    },
    {
      "cell_type": "code",
      "metadata": {
        "id": "bqmK4JOq903j",
        "colab": {
          "base_uri": "https://localhost:8080/"
        },
        "outputId": "11e0317e-1fd0-4312-e017-42557cb027fa"
      },
      "source": [
        "a[[1, 8, 3]]  # выбираем несколько элементов по индексам"
      ],
      "execution_count": null,
      "outputs": [
        {
          "output_type": "execute_result",
          "data": {
            "text/plain": [
              "array([  1, 512,  27])"
            ]
          },
          "metadata": {
            "tags": []
          },
          "execution_count": 111
        }
      ]
    },
    {
      "cell_type": "code",
      "metadata": {
        "id": "EtKuOKPZ9bkh",
        "colab": {
          "base_uri": "https://localhost:8080/"
        },
        "outputId": "c0f3d572-0950-4a47-c959-0700ddea245e"
      },
      "source": [
        "a[3:7]  # выбираем несколько элементов по диапазону индексов"
      ],
      "execution_count": null,
      "outputs": [
        {
          "output_type": "execute_result",
          "data": {
            "text/plain": [
              "array([ 27,  64, 125, 216])"
            ]
          },
          "metadata": {
            "tags": []
          },
          "execution_count": 48
        }
      ]
    },
    {
      "cell_type": "code",
      "metadata": {
        "id": "nNGkDXoK9d4C",
        "colab": {
          "base_uri": "https://localhost:8080/"
        },
        "outputId": "d55ae419-7161-4750-98cf-82255a64a689"
      },
      "source": [
        "a[3:7] = 8 # меняем несколько элементов по диапазону индексов\n",
        "a"
      ],
      "execution_count": null,
      "outputs": [
        {
          "output_type": "execute_result",
          "data": {
            "text/plain": [
              "array([  0,   1,   8,   8,   8,   8,   8, 343, 512, 729])"
            ]
          },
          "metadata": {
            "tags": []
          },
          "execution_count": 113
        }
      ]
    },
    {
      "cell_type": "code",
      "metadata": {
        "id": "wQAz_-ks9i69",
        "colab": {
          "base_uri": "https://localhost:8080/",
          "height": 34
        },
        "outputId": "fbbca038-01dc-4bad-c3c7-57dac4f0a618"
      },
      "source": [
        "a[::-1] # реверс массива"
      ],
      "execution_count": null,
      "outputs": [
        {
          "output_type": "execute_result",
          "data": {
            "text/plain": [
              "array([729, 512, 343,   8,   8,   8,   8,   8,   1,   0])"
            ]
          },
          "metadata": {
            "tags": []
          },
          "execution_count": 45
        }
      ]
    },
    {
      "cell_type": "code",
      "metadata": {
        "id": "q7IVVJ4X9q__"
      },
      "source": [
        "b = np.array([[  0, 1, 2, 3],\n",
        "              [10, 11, 12, 13],\n",
        "              [20, 21, 22, 23],\n",
        "              [30, 31, 32, 33],\n",
        "              [40, 41, 42, 43]])"
      ],
      "execution_count": null,
      "outputs": []
    },
    {
      "cell_type": "code",
      "metadata": {
        "id": "t4kAPw8u-fJP",
        "colab": {
          "base_uri": "https://localhost:8080/"
        },
        "outputId": "aa9da618-b63f-4867-e9fa-fd7015741f71"
      },
      "source": [
        " b[2,3]  # Вторая строка, третий столбец"
      ],
      "execution_count": null,
      "outputs": [
        {
          "output_type": "execute_result",
          "data": {
            "text/plain": [
              "23"
            ]
          },
          "metadata": {},
          "execution_count": 169
        }
      ]
    },
    {
      "cell_type": "code",
      "metadata": {
        "id": "EbU4uUax-hMR",
        "colab": {
          "base_uri": "https://localhost:8080/"
        },
        "outputId": "015e35c8-7c12-4631-ab3f-44e13c47ae31"
      },
      "source": [
        "b[2][3]  # Можно и так"
      ],
      "execution_count": null,
      "outputs": [
        {
          "output_type": "execute_result",
          "data": {
            "text/plain": [
              "23"
            ]
          },
          "metadata": {},
          "execution_count": 171
        }
      ]
    },
    {
      "cell_type": "code",
      "metadata": {
        "id": "2QjJoku1-pKM",
        "colab": {
          "base_uri": "https://localhost:8080/"
        },
        "outputId": "cb3cee71-caa6-45b2-cc51-3dcd155b9195"
      },
      "source": [
        "b[:,2]  # Второй столбец"
      ],
      "execution_count": null,
      "outputs": [
        {
          "output_type": "execute_result",
          "data": {
            "text/plain": [
              "array([ 2, 12, 22, 32, 42])"
            ]
          },
          "metadata": {},
          "execution_count": 72
        }
      ]
    },
    {
      "cell_type": "code",
      "metadata": {
        "id": "-FO8pnzw-yf4",
        "colab": {
          "base_uri": "https://localhost:8080/"
        },
        "outputId": "a3de2a96-8f53-46f8-d866-a2592304931b"
      },
      "source": [
        " b[:2]  # Первые две строки"
      ],
      "execution_count": null,
      "outputs": [
        {
          "output_type": "execute_result",
          "data": {
            "text/plain": [
              "array([[ 0,  1,  2,  3],\n",
              "       [10, 11, 12, 13]])"
            ]
          },
          "metadata": {},
          "execution_count": 73
        }
      ]
    },
    {
      "cell_type": "code",
      "metadata": {
        "colab": {
          "base_uri": "https://localhost:8080/"
        },
        "id": "FoSjWqpI6JFu",
        "outputId": "840d18fa-c9f3-4f15-e1b0-027efd82de12"
      },
      "source": [
        "for row in b:\n",
        "    print(row)"
      ],
      "execution_count": null,
      "outputs": [
        {
          "output_type": "stream",
          "name": "stdout",
          "text": [
            "[0 1 2 3]\n",
            "[10 11 12 13]\n",
            "[20 21 22 23]\n",
            "[30 31 32 33]\n",
            "[40 41 42 43]\n"
          ]
        }
      ]
    },
    {
      "cell_type": "code",
      "metadata": {
        "id": "SoG3FviK-32G",
        "colab": {
          "base_uri": "https://localhost:8080/"
        },
        "outputId": "17035d7e-993c-45ba-f03c-e51fcf28d1d5"
      },
      "source": [
        "b[1:3, 2: ]  # Вторая и третья строки и со второго столбца до конца"
      ],
      "execution_count": null,
      "outputs": [
        {
          "output_type": "execute_result",
          "data": {
            "text/plain": [
              "array([[12, 13],\n",
              "       [22, 23]])"
            ]
          },
          "metadata": {},
          "execution_count": 75
        }
      ]
    },
    {
      "cell_type": "code",
      "metadata": {
        "id": "XaaJWMKg_GN4",
        "colab": {
          "base_uri": "https://localhost:8080/"
        },
        "outputId": "56ad2d4e-70ad-4845-963f-f4b80f70f4b3"
      },
      "source": [
        "b[-1]  # Последняя строка. Эквивалентно b[-1,:]"
      ],
      "execution_count": null,
      "outputs": [
        {
          "output_type": "execute_result",
          "data": {
            "text/plain": [
              "array([40, 41, 42, 43])"
            ]
          },
          "metadata": {},
          "execution_count": 76
        }
      ]
    },
    {
      "cell_type": "code",
      "metadata": {
        "id": "RcOvydvQ_Lf4",
        "colab": {
          "base_uri": "https://localhost:8080/"
        },
        "outputId": "fe231410-adf4-4287-8729-dd8bb27e76b6"
      },
      "source": [
        "a = np.array(([[0, 1, 2], [10, 12, 13]], [[100, 101, 102], [110, 112, 113]]))\n",
        "a.shape # размерность массива"
      ],
      "execution_count": null,
      "outputs": [
        {
          "output_type": "execute_result",
          "data": {
            "text/plain": [
              "(2, 2, 3)"
            ]
          },
          "metadata": {},
          "execution_count": 173
        }
      ]
    },
    {
      "cell_type": "code",
      "metadata": {
        "id": "B4sL6aVwoOkn",
        "colab": {
          "base_uri": "https://localhost:8080/"
        },
        "outputId": "8ec3301a-4205-4c6c-dab5-83eeab63e4c6"
      },
      "source": [
        "a.ndim"
      ],
      "execution_count": null,
      "outputs": [
        {
          "output_type": "execute_result",
          "data": {
            "text/plain": [
              "3"
            ]
          },
          "metadata": {},
          "execution_count": 78
        }
      ]
    },
    {
      "cell_type": "markdown",
      "metadata": {
        "id": "2e6Zpfz8Bri2"
      },
      "source": [
        "### Операции с формой массива"
      ]
    },
    {
      "cell_type": "code",
      "metadata": {
        "id": "aLorN7ag_YBk",
        "colab": {
          "base_uri": "https://localhost:8080/"
        },
        "outputId": "7caea086-7f9f-43e1-abe3-ef1cb7915a9e"
      },
      "source": [
        "c = a.reshape(6,2) # смена размерности массива\n",
        "c"
      ],
      "execution_count": null,
      "outputs": [
        {
          "output_type": "execute_result",
          "data": {
            "text/plain": [
              "array([[  0,   1],\n",
              "       [  2,  10],\n",
              "       [ 12,  13],\n",
              "       [100, 101],\n",
              "       [102, 110],\n",
              "       [112, 113]])"
            ]
          },
          "metadata": {},
          "execution_count": 174
        }
      ]
    },
    {
      "cell_type": "code",
      "metadata": {
        "id": "U3VWdmm0AR2v",
        "colab": {
          "base_uri": "https://localhost:8080/"
        },
        "outputId": "2e254ee0-aa41-4f6f-c847-db9bee0daa6d"
      },
      "source": [
        "a.ravel()  # Делает массив плоским"
      ],
      "execution_count": null,
      "outputs": [
        {
          "output_type": "execute_result",
          "data": {
            "text/plain": [
              "array([  0,   1,   2,  10,  12,  13, 100, 101, 102, 110, 112, 113])"
            ]
          },
          "metadata": {
            "tags": []
          },
          "execution_count": 57
        }
      ]
    },
    {
      "cell_type": "code",
      "metadata": {
        "id": "G3IbWLxPAafl",
        "colab": {
          "base_uri": "https://localhost:8080/"
        },
        "outputId": "1b9bff89-3bc8-4a2c-b1f9-1edd4c23be28"
      },
      "source": [
        " c.flatten() # Делает массив плоским"
      ],
      "execution_count": null,
      "outputs": [
        {
          "output_type": "execute_result",
          "data": {
            "text/plain": [
              "array([  0,   1,   2,  10,  12,  13, 100, 101, 102, 110, 112, 113])"
            ]
          },
          "metadata": {
            "tags": []
          },
          "execution_count": 56
        }
      ]
    },
    {
      "cell_type": "markdown",
      "source": [
        "reshape - не преобразовывает массив без переприсваивания"
      ],
      "metadata": {
        "id": "6X6IpGuP8OBY"
      }
    },
    {
      "cell_type": "code",
      "metadata": {
        "colab": {
          "base_uri": "https://localhost:8080/"
        },
        "id": "zKX3HPR1j2QW",
        "outputId": "38bea4fd-c065-4c39-c8b6-eb9fcd6e7700"
      },
      "source": [
        "c.reshape(2,6)"
      ],
      "execution_count": null,
      "outputs": [
        {
          "output_type": "execute_result",
          "data": {
            "text/plain": [
              "array([[  0,   1,   2,  10,  12,  13],\n",
              "       [100, 101, 102, 110, 112, 113]])"
            ]
          },
          "metadata": {},
          "execution_count": 175
        }
      ]
    },
    {
      "cell_type": "code",
      "source": [
        "c"
      ],
      "metadata": {
        "colab": {
          "base_uri": "https://localhost:8080/"
        },
        "id": "w_dgyU978DHQ",
        "outputId": "d842499a-df9b-4e8b-da31-7a0160d2a980"
      },
      "execution_count": null,
      "outputs": [
        {
          "output_type": "execute_result",
          "data": {
            "text/plain": [
              "array([[  0,   1],\n",
              "       [  2,  10],\n",
              "       [ 12,  13],\n",
              "       [100, 101],\n",
              "       [102, 110],\n",
              "       [112, 113]])"
            ]
          },
          "metadata": {},
          "execution_count": 176
        }
      ]
    },
    {
      "cell_type": "code",
      "metadata": {
        "id": "mAq-q3tOAiux",
        "colab": {
          "base_uri": "https://localhost:8080/"
        },
        "outputId": "5246bcf5-db17-45c3-d80b-b6785f5353cb"
      },
      "source": [
        "c.transpose()  # Транспонирование"
      ],
      "execution_count": null,
      "outputs": [
        {
          "output_type": "execute_result",
          "data": {
            "text/plain": [
              "array([[  0,   2,  12, 100, 102, 112],\n",
              "       [  1,  10,  13, 101, 110, 113]])"
            ]
          },
          "metadata": {},
          "execution_count": 82
        }
      ]
    },
    {
      "cell_type": "code",
      "metadata": {
        "id": "ddUBBi7nBEIT",
        "colab": {
          "base_uri": "https://localhost:8080/"
        },
        "outputId": "d17c4623-296a-4b87-8a4d-8da607a8d7ba"
      },
      "source": [
        " c = c.reshape((2, 6))\n",
        " c"
      ],
      "execution_count": null,
      "outputs": [
        {
          "output_type": "execute_result",
          "data": {
            "text/plain": [
              "array([[  0,   1,   2,  10,  12,  13],\n",
              "       [100, 101, 102, 110, 112, 113]])"
            ]
          },
          "metadata": {},
          "execution_count": 84
        }
      ]
    },
    {
      "cell_type": "markdown",
      "source": [
        "resize - преобразовывает массив без переприсваивания"
      ],
      "metadata": {
        "id": "vcwdhy8n8WX6"
      }
    },
    {
      "cell_type": "code",
      "metadata": {
        "id": "AucpYcl5ArZ0",
        "colab": {
          "base_uri": "https://localhost:8080/"
        },
        "outputId": "eadaff6d-4ba7-4fcd-eed0-406c24a20bab"
      },
      "source": [
        " a.resize((6, 2))\n",
        " a.shape"
      ],
      "execution_count": null,
      "outputs": [
        {
          "output_type": "execute_result",
          "data": {
            "text/plain": [
              "(6, 2)"
            ]
          },
          "metadata": {},
          "execution_count": 177
        }
      ]
    },
    {
      "cell_type": "code",
      "metadata": {
        "id": "9OaJ_Wy1BKY5",
        "colab": {
          "base_uri": "https://localhost:8080/"
        },
        "outputId": "4fbda12c-40fc-4c50-cd8d-b8c162ee1518"
      },
      "source": [
        "a.reshape((4, -1)) # кол-во столбцов подстроится автоматически под кол-во строк в зависимости от размера массива"
      ],
      "execution_count": null,
      "outputs": [
        {
          "output_type": "execute_result",
          "data": {
            "text/plain": [
              "array([[  0,   1,   2],\n",
              "       [ 10,  12,  13],\n",
              "       [100, 101, 102],\n",
              "       [110, 112, 113]])"
            ]
          },
          "metadata": {},
          "execution_count": 86
        }
      ]
    },
    {
      "cell_type": "markdown",
      "metadata": {
        "id": "VPVBCGllB2Em"
      },
      "source": [
        "### Объединение массивов"
      ]
    },
    {
      "cell_type": "code",
      "metadata": {
        "id": "WBmKZMtKBfQa",
        "colab": {
          "base_uri": "https://localhost:8080/"
        },
        "outputId": "9135dcf9-43da-453a-8f64-a7380e2050f6"
      },
      "source": [
        "a = np.array([[1, 2], [3, 4]])\n",
        "b = np.array([[5, 6], [7, 8]])\n",
        "np.vstack((a, b))"
      ],
      "execution_count": null,
      "outputs": [
        {
          "output_type": "execute_result",
          "data": {
            "text/plain": [
              "array([[1, 2],\n",
              "       [3, 4],\n",
              "       [5, 6],\n",
              "       [7, 8]])"
            ]
          },
          "metadata": {},
          "execution_count": 178
        }
      ]
    },
    {
      "cell_type": "code",
      "metadata": {
        "id": "jUY4DmZ3CCdR",
        "colab": {
          "base_uri": "https://localhost:8080/"
        },
        "outputId": "6d053f76-e95b-4823-ac10-5870b4734ac2"
      },
      "source": [
        "np.hstack((a, b))"
      ],
      "execution_count": null,
      "outputs": [
        {
          "output_type": "execute_result",
          "data": {
            "text/plain": [
              "array([[1, 2, 5, 6],\n",
              "       [3, 4, 7, 8]])"
            ]
          },
          "metadata": {},
          "execution_count": 179
        }
      ]
    },
    {
      "cell_type": "markdown",
      "metadata": {
        "id": "u_eOpAnaChjr"
      },
      "source": [
        "### Копии и представления"
      ]
    },
    {
      "cell_type": "code",
      "metadata": {
        "id": "ASUKBfviCDUu",
        "colab": {
          "base_uri": "https://localhost:8080/"
        },
        "outputId": "9dbf97e1-8c5b-48cc-ac2f-dcd09174f294"
      },
      "source": [
        "a = np.arange(12)\n",
        "b = a  # Нового объекта создано не было\n",
        "print(b is a)  # a и b это два имени для одного и того же объекта ndarray\n",
        "b.shape = (3,4)  # изменит форму a\n",
        "a.shape"
      ],
      "execution_count": null,
      "outputs": [
        {
          "output_type": "stream",
          "name": "stdout",
          "text": [
            "True\n"
          ]
        },
        {
          "output_type": "execute_result",
          "data": {
            "text/plain": [
              "(3, 4)"
            ]
          },
          "metadata": {},
          "execution_count": 180
        }
      ]
    },
    {
      "cell_type": "code",
      "metadata": {
        "id": "XG56PZcmCld_",
        "colab": {
          "base_uri": "https://localhost:8080/"
        },
        "outputId": "463dd81d-fbb8-4b84-8c2b-f940dddab40c"
      },
      "source": [
        "c = a.view()\n",
        "print(c is a) \n",
        "print(c.base is a )  # c это представление данных, принадлежащих a"
      ],
      "execution_count": null,
      "outputs": [
        {
          "output_type": "stream",
          "name": "stdout",
          "text": [
            "False\n",
            "True\n"
          ]
        }
      ]
    },
    {
      "cell_type": "code",
      "metadata": {
        "id": "9km5SvRpClmS",
        "colab": {
          "base_uri": "https://localhost:8080/"
        },
        "outputId": "43f93a7a-f57b-4670-8c48-470f5f1fde75"
      },
      "source": [
        "c.shape = (2,6)  # форма а не поменяется\n",
        "a.shape"
      ],
      "execution_count": null,
      "outputs": [
        {
          "output_type": "execute_result",
          "data": {
            "text/plain": [
              "(3, 4)"
            ]
          },
          "metadata": {},
          "execution_count": 185
        }
      ]
    },
    {
      "cell_type": "code",
      "metadata": {
        "id": "G6M38sNfClrh",
        "colab": {
          "base_uri": "https://localhost:8080/"
        },
        "outputId": "62e47960-57bc-4939-b168-9cfe2c129b01"
      },
      "source": [
        "c[0,4] = 1234  # данные а изменятся\n",
        "a"
      ],
      "execution_count": null,
      "outputs": [
        {
          "output_type": "execute_result",
          "data": {
            "text/plain": [
              "array([[   0,    1,    2,    3],\n",
              "       [1234,    5,    6,    7],\n",
              "       [   8,    9,   10,   11]])"
            ]
          },
          "metadata": {},
          "execution_count": 186
        }
      ]
    },
    {
      "cell_type": "code",
      "metadata": {
        "id": "crCfeyVYClj5",
        "colab": {
          "base_uri": "https://localhost:8080/"
        },
        "outputId": "de35d2c6-66df-43b2-f322-ff0338177a3a"
      },
      "source": [
        "# Срез массива это представление\n",
        "s = a[:,1:3]\n",
        "s[:] = 10\n",
        "a"
      ],
      "execution_count": null,
      "outputs": [
        {
          "output_type": "execute_result",
          "data": {
            "text/plain": [
              "array([[   0,   10,   10,    3],\n",
              "       [1234,   10,   10,    7],\n",
              "       [   8,   10,   10,   11]])"
            ]
          },
          "metadata": {},
          "execution_count": 187
        }
      ]
    },
    {
      "cell_type": "code",
      "metadata": {
        "id": "pmvM_pQEDeGQ",
        "colab": {
          "base_uri": "https://localhost:8080/"
        },
        "outputId": "1ba92640-be8f-488c-e280-6338534573b3"
      },
      "source": [
        " d = a.copy()  # создается новый объект массива с новыми данными\n",
        " print(d is a)\n",
        " print(d.base is a)  # d не имеет ничего общего с а\n",
        " d[0, 0] = 9999\n",
        " a"
      ],
      "execution_count": null,
      "outputs": [
        {
          "output_type": "stream",
          "name": "stdout",
          "text": [
            "False\n",
            "False\n"
          ]
        },
        {
          "output_type": "execute_result",
          "data": {
            "text/plain": [
              "array([[   0,   10,   10,    3],\n",
              "       [1234,   10,   10,    7],\n",
              "       [   8,   10,   10,   11]])"
            ]
          },
          "metadata": {},
          "execution_count": 188
        }
      ]
    },
    {
      "cell_type": "markdown",
      "metadata": {
        "id": "b9TcTn3nEM1H"
      },
      "source": [
        "### Разное"
      ]
    },
    {
      "cell_type": "code",
      "metadata": {
        "id": "m6_Zbhh9ELzm",
        "colab": {
          "base_uri": "https://localhost:8080/"
        },
        "outputId": "8119bb67-4b5a-4317-852e-83ed2d36f807"
      },
      "source": [
        "a = np.random.randint(-10, 10, 20).reshape(4,5)\n",
        "a"
      ],
      "execution_count": null,
      "outputs": [
        {
          "output_type": "execute_result",
          "data": {
            "text/plain": [
              "array([[  7, -10,   3,   8,  -9],\n",
              "       [  1,   4,   5,   5,   7],\n",
              "       [ -5,   1,   2,  -5,  -2],\n",
              "       [  8,  -8,   3,  -1,  -4]])"
            ]
          },
          "metadata": {},
          "execution_count": 191
        }
      ]
    },
    {
      "cell_type": "markdown",
      "source": [
        "Маски и фильтры"
      ],
      "metadata": {
        "id": "5Ek8xMbG8gon"
      }
    },
    {
      "cell_type": "markdown",
      "source": [
        "Маска"
      ],
      "metadata": {
        "id": "lPB9XOq78jsK"
      }
    },
    {
      "cell_type": "code",
      "metadata": {
        "colab": {
          "base_uri": "https://localhost:8080/"
        },
        "id": "LTzJxpWJO6ur",
        "outputId": "a2a8eed4-515a-4781-87f7-9946bdbe89b7"
      },
      "source": [
        "np.where(a > 0)"
      ],
      "execution_count": null,
      "outputs": [
        {
          "output_type": "execute_result",
          "data": {
            "text/plain": [
              "(array([0, 0, 0, 1, 1, 1, 1, 1, 2, 2, 3, 3]),\n",
              " array([0, 2, 3, 0, 1, 2, 3, 4, 1, 2, 0, 2]))"
            ]
          },
          "metadata": {},
          "execution_count": 192
        }
      ]
    },
    {
      "cell_type": "markdown",
      "source": [
        "Фильтр"
      ],
      "metadata": {
        "id": "YyO1mZ218lgn"
      }
    },
    {
      "cell_type": "code",
      "metadata": {
        "id": "pL5t9huFEMBA",
        "colab": {
          "base_uri": "https://localhost:8080/"
        },
        "outputId": "29897756-e57a-4462-df5e-1bfb24389c3d"
      },
      "source": [
        "a[np.where(a < 0)]"
      ],
      "execution_count": null,
      "outputs": [
        {
          "output_type": "execute_result",
          "data": {
            "text/plain": [
              "array([-10,  -9,  -5,  -5,  -2,  -8,  -1,  -4])"
            ]
          },
          "metadata": {},
          "execution_count": 193
        }
      ]
    },
    {
      "cell_type": "markdown",
      "source": [
        "Заменить отрицательные значения на их кубы"
      ],
      "metadata": {
        "id": "Ro9GJ2qT9DoH"
      }
    },
    {
      "cell_type": "code",
      "source": [
        "np.where(a < 0, a ** 3 , a)  # таким образом мы решаем задачу точечного изменения матрицы по условию"
      ],
      "metadata": {
        "colab": {
          "base_uri": "https://localhost:8080/"
        },
        "id": "9TUJ8Ifz9DRA",
        "outputId": "fb9f02a3-3028-49b7-9d79-1acbe3940dc0"
      },
      "execution_count": null,
      "outputs": [
        {
          "output_type": "execute_result",
          "data": {
            "text/plain": [
              "array([[    7, -1000,     3,     8,  -729],\n",
              "       [    1,     4,     5,     5,     7],\n",
              "       [ -125,     1,     2,  -125,    -8],\n",
              "       [    8,  -512,     3,    -1,   -64]])"
            ]
          },
          "metadata": {},
          "execution_count": 194
        }
      ]
    },
    {
      "cell_type": "code",
      "source": [
        "np.where(a < 0, a ** 2 , a + 10)  # таким образом мы решаем задачу точечного изменения матрицы по условию"
      ],
      "metadata": {
        "colab": {
          "base_uri": "https://localhost:8080/"
        },
        "id": "ZIgYp62_g5Q-",
        "outputId": "ec5515d0-8367-4d4e-9a7a-3119734445b0"
      },
      "execution_count": null,
      "outputs": [
        {
          "output_type": "execute_result",
          "data": {
            "text/plain": [
              "array([[ 17, 100,  13,  18,  81],\n",
              "       [ 11,  14,  15,  15,  17],\n",
              "       [ 25,  11,  12,  25,   4],\n",
              "       [ 18,  64,  13,   1,  16]])"
            ]
          },
          "metadata": {},
          "execution_count": 195
        }
      ]
    },
    {
      "cell_type": "markdown",
      "source": [
        "Маска"
      ],
      "metadata": {
        "id": "SvKLm8M48nvz"
      }
    },
    {
      "cell_type": "code",
      "metadata": {
        "colab": {
          "base_uri": "https://localhost:8080/"
        },
        "id": "fSLlHm79PIJg",
        "outputId": "1a8423cd-c4ed-4e09-9e11-514ada710151"
      },
      "source": [
        "a<0"
      ],
      "execution_count": null,
      "outputs": [
        {
          "output_type": "execute_result",
          "data": {
            "text/plain": [
              "array([[False,  True,  True, False,  True],\n",
              "       [False, False, False, False, False],\n",
              "       [ True, False, False, False,  True],\n",
              "       [False,  True,  True, False, False]])"
            ]
          },
          "metadata": {
            "tags": []
          },
          "execution_count": 70
        }
      ]
    },
    {
      "cell_type": "markdown",
      "source": [
        "Фильтр"
      ],
      "metadata": {
        "id": "ZDIw9JVg8rlP"
      }
    },
    {
      "cell_type": "code",
      "metadata": {
        "id": "G5_LzrKIEMJY",
        "colab": {
          "base_uri": "https://localhost:8080/"
        },
        "outputId": "25e8e2c7-877f-4681-d80c-ac0bfa0a4ac2"
      },
      "source": [
        "a[a<0]"
      ],
      "execution_count": null,
      "outputs": [
        {
          "output_type": "execute_result",
          "data": {
            "text/plain": [
              "array([ -1,  -6,  -1,  -5, -10,  -6,  -3])"
            ]
          },
          "metadata": {
            "tags": []
          },
          "execution_count": 71
        }
      ]
    },
    {
      "cell_type": "markdown",
      "source": [
        "Поиск пропусков в данных и бесконечностей"
      ],
      "metadata": {
        "id": "M6Uer0ej8wUn"
      }
    },
    {
      "cell_type": "code",
      "metadata": {
        "id": "yIh62g0vEMFz"
      },
      "source": [
        "a = np.array([1, np.NaN, np.Inf], float)"
      ],
      "execution_count": null,
      "outputs": []
    },
    {
      "cell_type": "code",
      "metadata": {
        "id": "x4ugBrDaGi0x",
        "colab": {
          "base_uri": "https://localhost:8080/"
        },
        "outputId": "0d8c095f-f0a0-4be3-cc36-ff9c18b423eb"
      },
      "source": [
        " np.isnan(a)"
      ],
      "execution_count": null,
      "outputs": [
        {
          "output_type": "execute_result",
          "data": {
            "text/plain": [
              "array([False,  True, False])"
            ]
          },
          "metadata": {
            "tags": []
          },
          "execution_count": 73
        }
      ]
    },
    {
      "cell_type": "code",
      "metadata": {
        "id": "wZRLVBfJGi6v",
        "colab": {
          "base_uri": "https://localhost:8080/"
        },
        "outputId": "8c357963-088d-4529-df38-a453f098f2c3"
      },
      "source": [
        "np.isinf(a)"
      ],
      "execution_count": null,
      "outputs": [
        {
          "output_type": "execute_result",
          "data": {
            "text/plain": [
              "array([False, False,  True])"
            ]
          },
          "metadata": {
            "tags": []
          },
          "execution_count": 7
        }
      ]
    },
    {
      "cell_type": "code",
      "source": [
        "np.where(np.isinf(a), 0, a)"
      ],
      "metadata": {
        "colab": {
          "base_uri": "https://localhost:8080/"
        },
        "id": "ZbjgzgCIhVTb",
        "outputId": "03839b3f-a6d4-4676-e0d6-bb7fb9a3e624"
      },
      "execution_count": null,
      "outputs": [
        {
          "output_type": "execute_result",
          "data": {
            "text/plain": [
              "array([ 1., nan,  0.])"
            ]
          },
          "metadata": {},
          "execution_count": 197
        }
      ]
    },
    {
      "cell_type": "markdown",
      "source": [
        "Матричное умножение"
      ],
      "metadata": {
        "id": "tSvgVCI_9n2A"
      }
    },
    {
      "cell_type": "code",
      "metadata": {
        "id": "-Jxtyu8wHcDS"
      },
      "source": [
        "a = np.random.randint(-10, 10, 20).reshape(4,5)\n",
        "b = np.random.randint(-10, 10, 40).reshape(5,8)"
      ],
      "execution_count": null,
      "outputs": []
    },
    {
      "cell_type": "markdown",
      "source": [
        "Число столбцов левой матрицы должно быть равно числу строк правой"
      ],
      "metadata": {
        "id": "HIWQMDMs9vE3"
      }
    },
    {
      "cell_type": "code",
      "metadata": {
        "colab": {
          "base_uri": "https://localhost:8080/"
        },
        "id": "_j86jkf3Pnb0",
        "outputId": "e3becfa4-031e-49ea-e846-3dfe593a8ef4"
      },
      "source": [
        "np.dot(a,b)"
      ],
      "execution_count": null,
      "outputs": [
        {
          "output_type": "execute_result",
          "data": {
            "text/plain": [
              "array([[  76, -108,  -28,   57,   -6,   75,  -74,   51],\n",
              "       [  22,   -1, -103,   18,  -95,   46, -101,   40],\n",
              "       [  11,   12,    2,  -53,   71,   13,   21,  -73],\n",
              "       [  82, -120,   48,   22,    6,  102,    2,   26]])"
            ]
          },
          "metadata": {},
          "execution_count": 95
        }
      ]
    },
    {
      "cell_type": "code",
      "metadata": {
        "id": "58TR6lpIHhDT",
        "colab": {
          "base_uri": "https://localhost:8080/"
        },
        "outputId": "f541c974-821b-4aab-ca3e-1cebb9de888f"
      },
      "source": [
        "a @ b"
      ],
      "execution_count": null,
      "outputs": [
        {
          "output_type": "execute_result",
          "data": {
            "text/plain": [
              "array([[  76, -108,  -28,   57,   -6,   75,  -74,   51],\n",
              "       [  22,   -1, -103,   18,  -95,   46, -101,   40],\n",
              "       [  11,   12,    2,  -53,   71,   13,   21,  -73],\n",
              "       [  82, -120,   48,   22,    6,  102,    2,   26]])"
            ]
          },
          "metadata": {},
          "execution_count": 96
        }
      ]
    },
    {
      "cell_type": "code",
      "metadata": {
        "id": "CKQiIrkRHlxe"
      },
      "source": [
        "if b.shape[1] == a.shape[0]:\n",
        "    b @ a"
      ],
      "execution_count": null,
      "outputs": []
    },
    {
      "cell_type": "code",
      "metadata": {
        "id": "Kdsc05CkHokk",
        "colab": {
          "base_uri": "https://localhost:8080/"
        },
        "outputId": "218df432-a84a-4019-e6a3-4da51ed2cdc3"
      },
      "source": [
        "a.diagonal()"
      ],
      "execution_count": null,
      "outputs": [
        {
          "output_type": "execute_result",
          "data": {
            "text/plain": [
              "array([ 4,  8, -6, -6])"
            ]
          },
          "metadata": {},
          "execution_count": 97
        }
      ]
    },
    {
      "cell_type": "markdown",
      "source": [
        "# Игрушечные наборы данных для экспериментов"
      ],
      "metadata": {
        "id": "O2fSnyB_DqKO"
      }
    },
    {
      "cell_type": "code",
      "source": [
        "import sklearn.datasets as sets\n",
        "datasets = {0:'boston', 1:'iris', 2:'diabets', 3:'digits', 4:'linnerud', 5:'wine', 6:'cancer', 7:'olivetti_faces', 8:'20_newsgroups',\n",
        "            9:'20_newsgroups_vec', 10:'people_labeled_faces', 11:'pairs_labeled_faces', 12:'covertype', 13:'RCV1_multilabel',\n",
        "            14:'kddcup99', 15:'california_housing', }\n",
        "choise = 1\n",
        "if choise == 0:\n",
        "  ds = sets.load_boston() #regression\n",
        "elif choise == 1:\n",
        "  ds = sets.load_iris() # classification\n",
        "elif choise == 2:\n",
        "  ds = sets.load_diabetes() # regression\n",
        "elif choise == 3:\n",
        "  ds = sets.load_digits() # classification\n",
        "elif choise == 4:\n",
        "  ds = sets.load_linnerud() # multivariate regression\n",
        "elif choise == 5:\n",
        "  ds = sets.load_wine() # classification\n",
        "elif choise == 6:\n",
        "  ds = sets.load_breast_cancer() # classification\n",
        "elif choise == 7:\n",
        "  ds = sets.fetch_olivetti_faces() # classification\n",
        "elif choise == 8:\n",
        "  ds = sets.fetch_20newsgroups() # classification\n",
        "elif choise == 9:\n",
        "  ds = sets.fetch_20newsgroups_vectorized() # classification\n",
        "elif choise == 10:\n",
        "  ds = sets.fetch_lfw_people() # classification\n",
        "elif choise == 11:\n",
        "  ds = sets.fetch_lfw_pairs() # classification\n",
        "elif choise == 12:\n",
        "  ds = sets.fetch_covtype() # classification\n",
        "elif choise == 13:\n",
        "  ds = sets.fetch_rcv1() # classification\n",
        "elif choise == 14:\n",
        "  ds = sets.fetch_kddcup99() # classification\n",
        "elif choise == 15:\n",
        "  ds = sets.fetch_california_housing() # regression"
      ],
      "metadata": {
        "id": "ZJD0SaYADvXz"
      },
      "execution_count": null,
      "outputs": []
    },
    {
      "cell_type": "markdown",
      "source": [
        "Описание набора данных"
      ],
      "metadata": {
        "id": "wb82GH7REBiV"
      }
    },
    {
      "cell_type": "code",
      "source": [
        "print(ds.DESCR)"
      ],
      "metadata": {
        "colab": {
          "base_uri": "https://localhost:8080/"
        },
        "id": "EK_KeQHLD2FW",
        "outputId": "0872d4d4-81d2-4675-d49e-5b01d6066ee4"
      },
      "execution_count": null,
      "outputs": [
        {
          "output_type": "stream",
          "name": "stdout",
          "text": [
            ".. _iris_dataset:\n",
            "\n",
            "Iris plants dataset\n",
            "--------------------\n",
            "\n",
            "**Data Set Characteristics:**\n",
            "\n",
            "    :Number of Instances: 150 (50 in each of three classes)\n",
            "    :Number of Attributes: 4 numeric, predictive attributes and the class\n",
            "    :Attribute Information:\n",
            "        - sepal length in cm\n",
            "        - sepal width in cm\n",
            "        - petal length in cm\n",
            "        - petal width in cm\n",
            "        - class:\n",
            "                - Iris-Setosa\n",
            "                - Iris-Versicolour\n",
            "                - Iris-Virginica\n",
            "                \n",
            "    :Summary Statistics:\n",
            "\n",
            "    ============== ==== ==== ======= ===== ====================\n",
            "                    Min  Max   Mean    SD   Class Correlation\n",
            "    ============== ==== ==== ======= ===== ====================\n",
            "    sepal length:   4.3  7.9   5.84   0.83    0.7826\n",
            "    sepal width:    2.0  4.4   3.05   0.43   -0.4194\n",
            "    petal length:   1.0  6.9   3.76   1.76    0.9490  (high!)\n",
            "    petal width:    0.1  2.5   1.20   0.76    0.9565  (high!)\n",
            "    ============== ==== ==== ======= ===== ====================\n",
            "\n",
            "    :Missing Attribute Values: None\n",
            "    :Class Distribution: 33.3% for each of 3 classes.\n",
            "    :Creator: R.A. Fisher\n",
            "    :Donor: Michael Marshall (MARSHALL%PLU@io.arc.nasa.gov)\n",
            "    :Date: July, 1988\n",
            "\n",
            "The famous Iris database, first used by Sir R.A. Fisher. The dataset is taken\n",
            "from Fisher's paper. Note that it's the same as in R, but not as in the UCI\n",
            "Machine Learning Repository, which has two wrong data points.\n",
            "\n",
            "This is perhaps the best known database to be found in the\n",
            "pattern recognition literature.  Fisher's paper is a classic in the field and\n",
            "is referenced frequently to this day.  (See Duda & Hart, for example.)  The\n",
            "data set contains 3 classes of 50 instances each, where each class refers to a\n",
            "type of iris plant.  One class is linearly separable from the other 2; the\n",
            "latter are NOT linearly separable from each other.\n",
            "\n",
            ".. topic:: References\n",
            "\n",
            "   - Fisher, R.A. \"The use of multiple measurements in taxonomic problems\"\n",
            "     Annual Eugenics, 7, Part II, 179-188 (1936); also in \"Contributions to\n",
            "     Mathematical Statistics\" (John Wiley, NY, 1950).\n",
            "   - Duda, R.O., & Hart, P.E. (1973) Pattern Classification and Scene Analysis.\n",
            "     (Q327.D83) John Wiley & Sons.  ISBN 0-471-22361-1.  See page 218.\n",
            "   - Dasarathy, B.V. (1980) \"Nosing Around the Neighborhood: A New System\n",
            "     Structure and Classification Rule for Recognition in Partially Exposed\n",
            "     Environments\".  IEEE Transactions on Pattern Analysis and Machine\n",
            "     Intelligence, Vol. PAMI-2, No. 1, 67-71.\n",
            "   - Gates, G.W. (1972) \"The Reduced Nearest Neighbor Rule\".  IEEE Transactions\n",
            "     on Information Theory, May 1972, 431-433.\n",
            "   - See also: 1988 MLC Proceedings, 54-64.  Cheeseman et al\"s AUTOCLASS II\n",
            "     conceptual clustering system finds 3 classes in the data.\n",
            "   - Many, many more ...\n"
          ]
        }
      ]
    },
    {
      "cell_type": "markdown",
      "source": [
        "Имена признаков и названия целевых классов"
      ],
      "metadata": {
        "id": "jhbiW2rnEE2u"
      }
    },
    {
      "cell_type": "code",
      "metadata": {
        "id": "59mLor4WoeZg",
        "colab": {
          "base_uri": "https://localhost:8080/"
        },
        "outputId": "9c6c43da-0d0d-4230-b120-e2445e3d0459"
      },
      "source": [
        "print(ds.feature_names)\n",
        "print(ds.target_names)"
      ],
      "execution_count": null,
      "outputs": [
        {
          "output_type": "stream",
          "name": "stdout",
          "text": [
            "['sepal length (cm)', 'sepal width (cm)', 'petal length (cm)', 'petal width (cm)']\n",
            "['setosa' 'versicolor' 'virginica']\n"
          ]
        }
      ]
    },
    {
      "cell_type": "markdown",
      "source": [
        "Матрица со значениями признаков"
      ],
      "metadata": {
        "id": "VJqBCovpENj4"
      }
    },
    {
      "cell_type": "code",
      "metadata": {
        "id": "9Yt4tJ2_otjm",
        "colab": {
          "base_uri": "https://localhost:8080/"
        },
        "outputId": "ff4599f5-c971-40a3-989f-05804c30a5fe"
      },
      "source": [
        "data = ds.data\n",
        "type(data)"
      ],
      "execution_count": null,
      "outputs": [
        {
          "output_type": "execute_result",
          "data": {
            "text/plain": [
              "numpy.ndarray"
            ]
          },
          "metadata": {},
          "execution_count": 200
        }
      ]
    },
    {
      "cell_type": "code",
      "metadata": {
        "colab": {
          "base_uri": "https://localhost:8080/"
        },
        "id": "ZgxY_56q3YVG",
        "outputId": "a1ce21d6-3056-4c55-8a8f-36a22dedb2f9"
      },
      "source": [
        "data"
      ],
      "execution_count": null,
      "outputs": [
        {
          "output_type": "execute_result",
          "data": {
            "text/plain": [
              "array([[5.1, 3.5, 1.4, 0.2],\n",
              "       [4.9, 3. , 1.4, 0.2],\n",
              "       [4.7, 3.2, 1.3, 0.2],\n",
              "       [4.6, 3.1, 1.5, 0.2],\n",
              "       [5. , 3.6, 1.4, 0.2],\n",
              "       [5.4, 3.9, 1.7, 0.4],\n",
              "       [4.6, 3.4, 1.4, 0.3],\n",
              "       [5. , 3.4, 1.5, 0.2],\n",
              "       [4.4, 2.9, 1.4, 0.2],\n",
              "       [4.9, 3.1, 1.5, 0.1],\n",
              "       [5.4, 3.7, 1.5, 0.2],\n",
              "       [4.8, 3.4, 1.6, 0.2],\n",
              "       [4.8, 3. , 1.4, 0.1],\n",
              "       [4.3, 3. , 1.1, 0.1],\n",
              "       [5.8, 4. , 1.2, 0.2],\n",
              "       [5.7, 4.4, 1.5, 0.4],\n",
              "       [5.4, 3.9, 1.3, 0.4],\n",
              "       [5.1, 3.5, 1.4, 0.3],\n",
              "       [5.7, 3.8, 1.7, 0.3],\n",
              "       [5.1, 3.8, 1.5, 0.3],\n",
              "       [5.4, 3.4, 1.7, 0.2],\n",
              "       [5.1, 3.7, 1.5, 0.4],\n",
              "       [4.6, 3.6, 1. , 0.2],\n",
              "       [5.1, 3.3, 1.7, 0.5],\n",
              "       [4.8, 3.4, 1.9, 0.2],\n",
              "       [5. , 3. , 1.6, 0.2],\n",
              "       [5. , 3.4, 1.6, 0.4],\n",
              "       [5.2, 3.5, 1.5, 0.2],\n",
              "       [5.2, 3.4, 1.4, 0.2],\n",
              "       [4.7, 3.2, 1.6, 0.2],\n",
              "       [4.8, 3.1, 1.6, 0.2],\n",
              "       [5.4, 3.4, 1.5, 0.4],\n",
              "       [5.2, 4.1, 1.5, 0.1],\n",
              "       [5.5, 4.2, 1.4, 0.2],\n",
              "       [4.9, 3.1, 1.5, 0.2],\n",
              "       [5. , 3.2, 1.2, 0.2],\n",
              "       [5.5, 3.5, 1.3, 0.2],\n",
              "       [4.9, 3.6, 1.4, 0.1],\n",
              "       [4.4, 3. , 1.3, 0.2],\n",
              "       [5.1, 3.4, 1.5, 0.2],\n",
              "       [5. , 3.5, 1.3, 0.3],\n",
              "       [4.5, 2.3, 1.3, 0.3],\n",
              "       [4.4, 3.2, 1.3, 0.2],\n",
              "       [5. , 3.5, 1.6, 0.6],\n",
              "       [5.1, 3.8, 1.9, 0.4],\n",
              "       [4.8, 3. , 1.4, 0.3],\n",
              "       [5.1, 3.8, 1.6, 0.2],\n",
              "       [4.6, 3.2, 1.4, 0.2],\n",
              "       [5.3, 3.7, 1.5, 0.2],\n",
              "       [5. , 3.3, 1.4, 0.2],\n",
              "       [7. , 3.2, 4.7, 1.4],\n",
              "       [6.4, 3.2, 4.5, 1.5],\n",
              "       [6.9, 3.1, 4.9, 1.5],\n",
              "       [5.5, 2.3, 4. , 1.3],\n",
              "       [6.5, 2.8, 4.6, 1.5],\n",
              "       [5.7, 2.8, 4.5, 1.3],\n",
              "       [6.3, 3.3, 4.7, 1.6],\n",
              "       [4.9, 2.4, 3.3, 1. ],\n",
              "       [6.6, 2.9, 4.6, 1.3],\n",
              "       [5.2, 2.7, 3.9, 1.4],\n",
              "       [5. , 2. , 3.5, 1. ],\n",
              "       [5.9, 3. , 4.2, 1.5],\n",
              "       [6. , 2.2, 4. , 1. ],\n",
              "       [6.1, 2.9, 4.7, 1.4],\n",
              "       [5.6, 2.9, 3.6, 1.3],\n",
              "       [6.7, 3.1, 4.4, 1.4],\n",
              "       [5.6, 3. , 4.5, 1.5],\n",
              "       [5.8, 2.7, 4.1, 1. ],\n",
              "       [6.2, 2.2, 4.5, 1.5],\n",
              "       [5.6, 2.5, 3.9, 1.1],\n",
              "       [5.9, 3.2, 4.8, 1.8],\n",
              "       [6.1, 2.8, 4. , 1.3],\n",
              "       [6.3, 2.5, 4.9, 1.5],\n",
              "       [6.1, 2.8, 4.7, 1.2],\n",
              "       [6.4, 2.9, 4.3, 1.3],\n",
              "       [6.6, 3. , 4.4, 1.4],\n",
              "       [6.8, 2.8, 4.8, 1.4],\n",
              "       [6.7, 3. , 5. , 1.7],\n",
              "       [6. , 2.9, 4.5, 1.5],\n",
              "       [5.7, 2.6, 3.5, 1. ],\n",
              "       [5.5, 2.4, 3.8, 1.1],\n",
              "       [5.5, 2.4, 3.7, 1. ],\n",
              "       [5.8, 2.7, 3.9, 1.2],\n",
              "       [6. , 2.7, 5.1, 1.6],\n",
              "       [5.4, 3. , 4.5, 1.5],\n",
              "       [6. , 3.4, 4.5, 1.6],\n",
              "       [6.7, 3.1, 4.7, 1.5],\n",
              "       [6.3, 2.3, 4.4, 1.3],\n",
              "       [5.6, 3. , 4.1, 1.3],\n",
              "       [5.5, 2.5, 4. , 1.3],\n",
              "       [5.5, 2.6, 4.4, 1.2],\n",
              "       [6.1, 3. , 4.6, 1.4],\n",
              "       [5.8, 2.6, 4. , 1.2],\n",
              "       [5. , 2.3, 3.3, 1. ],\n",
              "       [5.6, 2.7, 4.2, 1.3],\n",
              "       [5.7, 3. , 4.2, 1.2],\n",
              "       [5.7, 2.9, 4.2, 1.3],\n",
              "       [6.2, 2.9, 4.3, 1.3],\n",
              "       [5.1, 2.5, 3. , 1.1],\n",
              "       [5.7, 2.8, 4.1, 1.3],\n",
              "       [6.3, 3.3, 6. , 2.5],\n",
              "       [5.8, 2.7, 5.1, 1.9],\n",
              "       [7.1, 3. , 5.9, 2.1],\n",
              "       [6.3, 2.9, 5.6, 1.8],\n",
              "       [6.5, 3. , 5.8, 2.2],\n",
              "       [7.6, 3. , 6.6, 2.1],\n",
              "       [4.9, 2.5, 4.5, 1.7],\n",
              "       [7.3, 2.9, 6.3, 1.8],\n",
              "       [6.7, 2.5, 5.8, 1.8],\n",
              "       [7.2, 3.6, 6.1, 2.5],\n",
              "       [6.5, 3.2, 5.1, 2. ],\n",
              "       [6.4, 2.7, 5.3, 1.9],\n",
              "       [6.8, 3. , 5.5, 2.1],\n",
              "       [5.7, 2.5, 5. , 2. ],\n",
              "       [5.8, 2.8, 5.1, 2.4],\n",
              "       [6.4, 3.2, 5.3, 2.3],\n",
              "       [6.5, 3. , 5.5, 1.8],\n",
              "       [7.7, 3.8, 6.7, 2.2],\n",
              "       [7.7, 2.6, 6.9, 2.3],\n",
              "       [6. , 2.2, 5. , 1.5],\n",
              "       [6.9, 3.2, 5.7, 2.3],\n",
              "       [5.6, 2.8, 4.9, 2. ],\n",
              "       [7.7, 2.8, 6.7, 2. ],\n",
              "       [6.3, 2.7, 4.9, 1.8],\n",
              "       [6.7, 3.3, 5.7, 2.1],\n",
              "       [7.2, 3.2, 6. , 1.8],\n",
              "       [6.2, 2.8, 4.8, 1.8],\n",
              "       [6.1, 3. , 4.9, 1.8],\n",
              "       [6.4, 2.8, 5.6, 2.1],\n",
              "       [7.2, 3. , 5.8, 1.6],\n",
              "       [7.4, 2.8, 6.1, 1.9],\n",
              "       [7.9, 3.8, 6.4, 2. ],\n",
              "       [6.4, 2.8, 5.6, 2.2],\n",
              "       [6.3, 2.8, 5.1, 1.5],\n",
              "       [6.1, 2.6, 5.6, 1.4],\n",
              "       [7.7, 3. , 6.1, 2.3],\n",
              "       [6.3, 3.4, 5.6, 2.4],\n",
              "       [6.4, 3.1, 5.5, 1.8],\n",
              "       [6. , 3. , 4.8, 1.8],\n",
              "       [6.9, 3.1, 5.4, 2.1],\n",
              "       [6.7, 3.1, 5.6, 2.4],\n",
              "       [6.9, 3.1, 5.1, 2.3],\n",
              "       [5.8, 2.7, 5.1, 1.9],\n",
              "       [6.8, 3.2, 5.9, 2.3],\n",
              "       [6.7, 3.3, 5.7, 2.5],\n",
              "       [6.7, 3. , 5.2, 2.3],\n",
              "       [6.3, 2.5, 5. , 1.9],\n",
              "       [6.5, 3. , 5.2, 2. ],\n",
              "       [6.2, 3.4, 5.4, 2.3],\n",
              "       [5.9, 3. , 5.1, 1.8]])"
            ]
          },
          "metadata": {},
          "execution_count": 201
        }
      ]
    },
    {
      "cell_type": "markdown",
      "source": [
        "Размер набора данных"
      ],
      "metadata": {
        "id": "AKzQQIZxEUPA"
      }
    },
    {
      "cell_type": "code",
      "metadata": {
        "id": "-7ejnqmmwr_J",
        "colab": {
          "base_uri": "https://localhost:8080/"
        },
        "outputId": "be330d3e-7e1d-4cee-8c7a-f25f59244c15"
      },
      "source": [
        "data.shape"
      ],
      "execution_count": null,
      "outputs": [
        {
          "output_type": "execute_result",
          "data": {
            "text/plain": [
              "(150, 4)"
            ]
          },
          "metadata": {},
          "execution_count": 103
        }
      ]
    },
    {
      "cell_type": "markdown",
      "source": [
        "### Статистики по признакам"
      ],
      "metadata": {
        "id": "3HNIVvrYEe9A"
      }
    },
    {
      "cell_type": "markdown",
      "source": [
        "Среднее"
      ],
      "metadata": {
        "id": "LhS2S81AE3Fa"
      }
    },
    {
      "cell_type": "code",
      "metadata": {
        "id": "RmRL0mZ3o5ri",
        "colab": {
          "base_uri": "https://localhost:8080/"
        },
        "outputId": "06607c9d-2320-49bb-b1af-7059a828b70e"
      },
      "source": [
        "for feature, value in zip(ds.feature_names, data.mean(axis=0)):\n",
        "    print(f\"{feature}: {value}\")"
      ],
      "execution_count": null,
      "outputs": [
        {
          "output_type": "stream",
          "name": "stdout",
          "text": [
            "sepal length (cm): 5.843333333333335\n",
            "sepal width (cm): 3.057333333333334\n",
            "petal length (cm): 3.7580000000000027\n",
            "petal width (cm): 1.199333333333334\n"
          ]
        }
      ]
    },
    {
      "cell_type": "markdown",
      "source": [
        "Среднее квадратическое отклонение"
      ],
      "metadata": {
        "id": "1xYsEQM8FOnm"
      }
    },
    {
      "cell_type": "code",
      "source": [
        "for feature, value in zip(ds.feature_names, data.std(axis=0)):\n",
        "    print(f\"{feature}: {value}\")"
      ],
      "metadata": {
        "colab": {
          "base_uri": "https://localhost:8080/"
        },
        "id": "2rSZRPQEFMld",
        "outputId": "f5a73e3c-734c-4d69-fa79-3d257338dfc8"
      },
      "execution_count": null,
      "outputs": [
        {
          "output_type": "stream",
          "name": "stdout",
          "text": [
            "sepal length (cm): 0.8253012917851409\n",
            "sepal width (cm): 0.43441096773549437\n",
            "petal length (cm): 1.7594040657753032\n",
            "petal width (cm): 0.7596926279021594\n"
          ]
        }
      ]
    },
    {
      "cell_type": "markdown",
      "source": [
        "Минимум"
      ],
      "metadata": {
        "id": "0Kl7lD4DFRo_"
      }
    },
    {
      "cell_type": "code",
      "source": [
        "for feature, value in zip(ds.feature_names, data.min(axis=0)):\n",
        "    print(f\"{feature}: {value}\")"
      ],
      "metadata": {
        "colab": {
          "base_uri": "https://localhost:8080/"
        },
        "id": "6gqTE3z6E2lt",
        "outputId": "50526c0c-a213-46cc-dec5-6e02d06fb7e5"
      },
      "execution_count": null,
      "outputs": [
        {
          "output_type": "stream",
          "name": "stdout",
          "text": [
            "sepal length (cm): 4.3\n",
            "sepal width (cm): 2.0\n",
            "petal length (cm): 1.0\n",
            "petal width (cm): 0.1\n"
          ]
        }
      ]
    },
    {
      "cell_type": "markdown",
      "source": [
        "Максимум"
      ],
      "metadata": {
        "id": "lgdnrkBCFTGP"
      }
    },
    {
      "cell_type": "code",
      "source": [
        "for feature, value in zip(ds.feature_names, data.max(axis=0)):\n",
        "    print(f\"{feature}: {value}\")"
      ],
      "metadata": {
        "colab": {
          "base_uri": "https://localhost:8080/"
        },
        "id": "WViHNNPEFJyT",
        "outputId": "f3f3188c-4a27-4cca-d8ea-bdd73ecac5b1"
      },
      "execution_count": null,
      "outputs": [
        {
          "output_type": "stream",
          "name": "stdout",
          "text": [
            "sepal length (cm): 7.9\n",
            "sepal width (cm): 4.4\n",
            "petal length (cm): 6.9\n",
            "petal width (cm): 2.5\n"
          ]
        }
      ]
    }
  ]
}