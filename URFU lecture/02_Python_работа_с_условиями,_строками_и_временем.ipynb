{
  "nbformat": 4,
  "nbformat_minor": 0,
  "metadata": {
    "colab": {
      "provenance": [],
      "collapsed_sections": [
        "XA7jfix-4FRq",
        "OKNGVB50nydi",
        "kzboUxMsROSU",
        "8Fmy_AoVRVm-",
        "u-p0Enz4mA92",
        "Pr6mmJVzP0Bf",
        "dxyDx0vC475v",
        "wBYyobfbO2vy"
      ]
    },
    "kernelspec": {
      "name": "python3",
      "display_name": "Python 3"
    }
  },
  "cells": [
    {
      "cell_type": "markdown",
      "source": [
        "# Условные операторы"
      ],
      "metadata": {
        "id": "vN9qPRyJ2X9Z"
      }
    },
    {
      "cell_type": "markdown",
      "source": [
        "## Одиночный условный оператор"
      ],
      "metadata": {
        "id": "XA7jfix-4FRq"
      }
    },
    {
      "cell_type": "markdown",
      "source": [
        "\n",
        "\n",
        "```\n",
        "Если условие выполнено верно, то:\n",
        "    Выполняем ВСЕ интсрукции,\n",
        "    которые находятся ниже со смещением на 4 пробельных символа\n",
        "```"
      ],
      "metadata": {
        "id": "5Myl4e7S2nl0"
      }
    },
    {
      "cell_type": "code",
      "source": [
        "if <условие> == True:\n",
        "    # ваш код\n",
        "    # ещё ваш код\n",
        "# код выполняется без учета условия"
      ],
      "metadata": {
        "id": "QliObaT33BLL"
      },
      "execution_count": null,
      "outputs": []
    },
    {
      "cell_type": "markdown",
      "source": [
        "Простейшая реализация интерфейса `if`"
      ],
      "metadata": {
        "id": "B3iRCT06LVcf"
      }
    },
    {
      "cell_type": "code",
      "source": [
        "flag = True\n",
        "if flag == True:\n",
        "    print('True')"
      ],
      "metadata": {
        "colab": {
          "base_uri": "https://localhost:8080/"
        },
        "id": "zB5soUZA2WGn",
        "outputId": "cd3883e7-de47-4725-8015-6c4cb0e017b7"
      },
      "execution_count": null,
      "outputs": [
        {
          "output_type": "stream",
          "name": "stdout",
          "text": [
            "True\n"
          ]
        }
      ]
    },
    {
      "cell_type": "markdown",
      "source": [
        "По сути логическое условие выше избыточно. Булева переменная сама по себе является переключателем"
      ],
      "metadata": {
        "id": "H_HZfJpALdnA"
      }
    },
    {
      "cell_type": "code",
      "source": [
        "flag = False\n",
        "if not flag:\n",
        "  print('False')"
      ],
      "metadata": {
        "colab": {
          "base_uri": "https://localhost:8080/"
        },
        "id": "4H-PZE4T2V5M",
        "outputId": "5e54be0b-d724-4be7-bec0-08fe4f5af228"
      },
      "execution_count": null,
      "outputs": [
        {
          "output_type": "stream",
          "name": "stdout",
          "text": [
            "False\n"
          ]
        }
      ]
    },
    {
      "cell_type": "markdown",
      "source": [
        "А вот в подоных ситуациях нужны условия. Как операторы сравнения можно использовать:\n",
        "*   `>`\n",
        "*   `>=`\n",
        "*   `<`\n",
        "*   `<=`\n",
        "*   `==`\n",
        "*   `!=`\n",
        "*   `is`"
      ],
      "metadata": {
        "id": "_3HnRwTYLqd2"
      }
    },
    {
      "cell_type": "code",
      "source": [
        "threshold = 5\n",
        "if threshold > 0:\n",
        "    print(1)"
      ],
      "metadata": {
        "id": "Ocq3zNzz2VtO"
      },
      "execution_count": null,
      "outputs": []
    },
    {
      "cell_type": "code",
      "source": [
        "name = input()\n",
        "if name == 'Bond':\n",
        "    print(\"Hello, \", name)\n",
        "\n",
        "if type(name) is str:\n",
        "    print(\"Твоё имя - это строка, но не цифра!\")\n",
        "    \n",
        "if len(name) <= 10:\n",
        "    print(\"Твоё имя длинной\", len(name), \"символов\")"
      ],
      "metadata": {
        "id": "jWU9VJIh2Vhx",
        "colab": {
          "base_uri": "https://localhost:8080/"
        },
        "outputId": "ca706d23-0d32-4441-995e-4d846a536b43"
      },
      "execution_count": null,
      "outputs": [
        {
          "output_type": "stream",
          "name": "stdout",
          "text": [
            "Петр\n",
            "Твоё имя - это строка, но не цифра!\n",
            "Твоё имя длинной 4 символов\n"
          ]
        }
      ]
    },
    {
      "cell_type": "markdown",
      "source": [
        "## Сложное ветвление"
      ],
      "metadata": {
        "id": "OKNGVB50nydi"
      }
    },
    {
      "cell_type": "markdown",
      "source": [
        "**Валидация формы регистрации на сайте**"
      ],
      "metadata": {
        "id": "3ROwV0M3N7GF"
      }
    },
    {
      "cell_type": "code",
      "source": [
        "login = input()\n",
        "psswrd = input()\n",
        "true_login = 'user'\n",
        "true_psswrd = '12345678'\n",
        "\n",
        "if login == true_login and psswrd == true_psswrd:\n",
        "    print(\"Вы на сайте\")\n",
        "elif login == true_login and psswrd != true_psswrd:\n",
        "    print(\"Вы ввели неверный пароль\")\n",
        "elif login != true_login and psswrd == true_psswrd:\n",
        "    print(\"Вы ввели неверного клиента\")\n",
        "else:\n",
        "    print(\"Все данные неверны\")"
      ],
      "metadata": {
        "id": "HJ3P0dx12VYe",
        "colab": {
          "base_uri": "https://localhost:8080/"
        },
        "outputId": "c74c35b9-c762-493e-e730-e23c459523f3"
      },
      "execution_count": null,
      "outputs": [
        {
          "output_type": "stream",
          "name": "stdout",
          "text": [
            "ывыв\n",
            "ывы\n",
            "Все данные неверны\n"
          ]
        }
      ]
    },
    {
      "cell_type": "markdown",
      "source": [
        "# Задание 1"
      ],
      "metadata": {
        "id": "kzboUxMsROSU"
      }
    },
    {
      "cell_type": "markdown",
      "source": [
        "Проанализируйте код про валидацию логина и пароля. Подумайте какая логическая ошибка там допущена. Перепишите логику проверки так, как вы считаете верным. В текстовом поле объясните что и почему было неверно в старой логике"
      ],
      "metadata": {
        "id": "QJyLC7L4RRzk"
      }
    },
    {
      "cell_type": "code",
      "source": [],
      "metadata": {
        "id": "SZvHh4-_nsVn"
      },
      "execution_count": null,
      "outputs": []
    },
    {
      "cell_type": "markdown",
      "source": [
        "# if продолжение"
      ],
      "metadata": {
        "id": "8Fmy_AoVRVm-"
      }
    },
    {
      "cell_type": "code",
      "source": [
        "\"\"\"Что если стоит задача определить ввел ли пользователь хоть что-то. Прежде чем передавать в анализатор.\n",
        "   Или почистить набор текстов от пустых\"\"\"\n",
        "text = input()\n",
        "if len(text) != 0:\n",
        "    print(\"Do something\")\n",
        "else:\n",
        "    print(\"Nothing to analyze\")"
      ],
      "metadata": {
        "id": "no_qBm5G2VNH",
        "colab": {
          "base_uri": "https://localhost:8080/"
        },
        "outputId": "3c087e9a-c1c7-4409-f714-0fabecf3f9ac"
      },
      "execution_count": null,
      "outputs": [
        {
          "output_type": "stream",
          "name": "stdout",
          "text": [
            "\n",
            "Nothing to analyze\n"
          ]
        }
      ]
    },
    {
      "cell_type": "code",
      "source": [
        "\"\"\"Что если стоит задача определить ввел ли пользователь хоть что-то. Прежде чем передавать в анализатор.\n",
        "   Или почистить набор текстов от пустых\"\"\"\n",
        "text = input()\n",
        "if text:\n",
        "    print(\"Do something\")\n",
        "else:\n",
        "    print(\"Nothing to analyze\")"
      ],
      "metadata": {
        "id": "kKNcH0tM2Uxv",
        "colab": {
          "base_uri": "https://localhost:8080/"
        },
        "outputId": "78f7eb70-8c7c-46d4-f361-d7609467c2eb"
      },
      "execution_count": null,
      "outputs": [
        {
          "output_type": "stream",
          "name": "stdout",
          "text": [
            "\n",
            "Nothing to analyze\n"
          ]
        }
      ]
    },
    {
      "cell_type": "markdown",
      "source": [
        "Эквивалентами `False` могут быть\n",
        "*   `\"\"` - пустая строка\n",
        "*   `0`\n",
        "*   `0.0`\n",
        "*   `[]` - пустой список\n",
        "*   `()` - пустой кортеж\n",
        "*   `{}` - пустой словарь\n",
        "\n"
      ],
      "metadata": {
        "id": "sP1-uhIwgwKS"
      }
    },
    {
      "cell_type": "markdown",
      "source": [
        "Угадайте число\n",
        "\n",
        "*   Если вы угадали, то вывести поздравления\n",
        "*   если не угадали, то:\n",
        "  *  если ошиблись в меньшую сторону, то напечатать \"Мало\"\n",
        "  *  если ошиблись в большую сторону, то напечатать \"Много\""
      ],
      "metadata": {
        "id": "2SSfmDsQkg6Q"
      }
    },
    {
      "cell_type": "code",
      "source": [
        "answer = input()\n",
        "if answer == \"42\":\n",
        "    print(\"Поздравляю! Вы угадали\")\n",
        "else:\n",
        "    answer = int(answer)\n",
        "    if answer > 42:\n",
        "        print(\"Много\")\n",
        "    else:\n",
        "        print(\"Мало\")"
      ],
      "metadata": {
        "id": "uKBH0rF22S2m",
        "colab": {
          "base_uri": "https://localhost:8080/"
        },
        "outputId": "6ed402a7-8f1b-4c21-d590-40ca2f571708"
      },
      "execution_count": null,
      "outputs": [
        {
          "output_type": "stream",
          "name": "stdout",
          "text": [
            "67\n",
            "Много\n"
          ]
        }
      ]
    },
    {
      "cell_type": "markdown",
      "source": [
        "Запись в одну строку"
      ],
      "metadata": {
        "id": "-s7hqg28trSS"
      }
    },
    {
      "cell_type": "code",
      "source": [
        "x = int(input())\n",
        "y = 0 if x <= 0 else x\n",
        "y"
      ],
      "metadata": {
        "colab": {
          "base_uri": "https://localhost:8080/"
        },
        "id": "Z7f77JdMtuMd",
        "outputId": "48f09f62-eff3-437d-8eaa-f82cd15a345e"
      },
      "execution_count": null,
      "outputs": [
        {
          "name": "stdout",
          "output_type": "stream",
          "text": [
            "10\n"
          ]
        },
        {
          "output_type": "execute_result",
          "data": {
            "text/plain": [
              "10"
            ]
          },
          "metadata": {},
          "execution_count": 36
        }
      ]
    },
    {
      "cell_type": "markdown",
      "source": [
        "# Задание 2"
      ],
      "metadata": {
        "id": "u-p0Enz4mA92"
      }
    },
    {
      "cell_type": "code",
      "source": [
        "\"\"\"Написать скрипт, который переводить градусы из  Фаренгейта (°F) в градусы Цельсия (°C)\n",
        "Формура перевода: Цельсий = (Фаренгейт — 32) : 1,8 \n",
        "Функция должна напечатать\n",
        "\"Тепло\" - если температура в C больше 20\n",
        "\"Умеренно\" - если температура в C от 5 до 20 \n",
        "\"Холодно\" - если температура в C меньше 5\"\"\"\n",
        "\n"
      ],
      "metadata": {
        "id": "jCqtv0kqmBRu"
      },
      "execution_count": null,
      "outputs": []
    },
    {
      "cell_type": "markdown",
      "metadata": {
        "id": "Pr6mmJVzP0Bf"
      },
      "source": [
        "# Строки в Python"
      ]
    },
    {
      "cell_type": "markdown",
      "metadata": {
        "id": "oTojddMOP6FE"
      },
      "source": [
        "## Форматирование строк"
      ]
    },
    {
      "cell_type": "markdown",
      "metadata": {
        "id": "g0QK5VTyQGE1"
      },
      "source": [
        "Начнем с видов представления строк: '', \"\", '''''' и \"\"\"\"\"\""
      ]
    },
    {
      "cell_type": "markdown",
      "metadata": {
        "id": "LwXkOmMBQvIL"
      },
      "source": [
        "Можно применять оба вида ковычек"
      ]
    },
    {
      "cell_type": "code",
      "metadata": {
        "id": "easfIFcSQmhL"
      },
      "source": [
        "my_str = 'Мир!'"
      ],
      "execution_count": null,
      "outputs": []
    },
    {
      "cell_type": "code",
      "metadata": {
        "id": "NGAUeJPIQmSQ"
      },
      "source": [
        "my_str = \"Мир!\""
      ],
      "execution_count": null,
      "outputs": []
    },
    {
      "cell_type": "markdown",
      "metadata": {
        "id": "sbLAmHOdQz11"
      },
      "source": [
        "**НО**"
      ]
    },
    {
      "cell_type": "code",
      "metadata": {
        "id": "Cr-PXvjf2I75"
      },
      "source": [
        "my_str = \"Мой любимый автор О'Генри\""
      ],
      "execution_count": null,
      "outputs": []
    },
    {
      "cell_type": "code",
      "metadata": {
        "id": "aO0tUgez2I6I"
      },
      "source": [
        "# my_str = 'Мой любимый автор О\\'Генри'\n",
        "my_str = 'Мой любимый автор О'Генри'"
      ],
      "execution_count": null,
      "outputs": []
    },
    {
      "cell_type": "code",
      "metadata": {
        "id": "0Nam-WBp2I4R"
      },
      "source": [
        "my_str = 'Моя любимая книга \"Война и мир\"'"
      ],
      "execution_count": null,
      "outputs": []
    },
    {
      "cell_type": "code",
      "metadata": {
        "id": "Ea6CS11h2I07",
        "colab": {
          "base_uri": "https://localhost:8080/",
          "height": 133
        },
        "outputId": "c5815dce-ce5a-4e3d-e9f6-b136766bd563"
      },
      "source": [
        "my_str = \"Моя любимая книга \"Война и мир\"\""
      ],
      "execution_count": null,
      "outputs": [
        {
          "output_type": "error",
          "ename": "SyntaxError",
          "evalue": "ignored",
          "traceback": [
            "\u001b[0;36m  File \u001b[0;32m\"<ipython-input-9-47a70567ee8f>\"\u001b[0;36m, line \u001b[0;32m1\u001b[0m\n\u001b[0;31m    my_str = \"Моя любимая книга \"Война и мир\"\"\u001b[0m\n\u001b[0m                                     ^\u001b[0m\n\u001b[0;31mSyntaxError\u001b[0m\u001b[0;31m:\u001b[0m invalid syntax\n"
          ]
        }
      ]
    },
    {
      "cell_type": "markdown",
      "metadata": {
        "id": "ESs52ZKpQ3tb"
      },
      "source": [
        "А если нам все же нужно внутри строки использовать оба вида кавычек?"
      ]
    },
    {
      "cell_type": "code",
      "metadata": {
        "id": "pR1N7JJw2Itq",
        "colab": {
          "base_uri": "https://localhost:8080/"
        },
        "outputId": "99a92691-60f0-4810-8978-9a0c92fb99e1"
      },
      "source": [
        "my_str = \"\"\"Моя любимая книга \"Война и мир\"\n",
        "Мой любимый автор О'Генри\"\"\"\n",
        "print(my_str)"
      ],
      "execution_count": null,
      "outputs": [
        {
          "output_type": "stream",
          "name": "stdout",
          "text": [
            "Моя любимая книга \"Война и мир\"\n",
            "Мой любимый автор О'Генри\n"
          ]
        }
      ]
    },
    {
      "cell_type": "markdown",
      "metadata": {
        "id": "GK3D3AWXRVpj"
      },
      "source": [
        "### Теперь поговорим о форматировании строк и их динамическом изменении"
      ]
    },
    {
      "cell_type": "markdown",
      "metadata": {
        "id": "TTKE07mIJpsy"
      },
      "source": [
        "**Выражение форматирования строк: ’ . . . %s. . . ’ % (значения)**"
      ]
    },
    {
      "cell_type": "code",
      "metadata": {
        "colab": {
          "base_uri": "https://localhost:8080/"
        },
        "id": "k-0qEVxeJsOs",
        "outputId": "56449852-c52d-47b8-92b4-4de07cfdaea3"
      },
      "source": [
        "name = \"Vasya\" #input()\n",
        "print('hello %s!' % (name))"
      ],
      "execution_count": null,
      "outputs": [
        {
          "output_type": "stream",
          "name": "stdout",
          "text": [
            "hello Vasya!\n"
          ]
        }
      ]
    },
    {
      "cell_type": "markdown",
      "metadata": {
        "id": "Qb_LBg0ZJ7k2"
      },
      "source": [
        "**Вызов метода форматирования строк: '...{}...'.format (значения)**"
      ]
    },
    {
      "cell_type": "code",
      "metadata": {
        "colab": {
          "base_uri": "https://localhost:8080/"
        },
        "id": "fpVSmAylJsKV",
        "outputId": "6d1ff30a-14b9-41bb-d988-dc2d6c9c9951"
      },
      "source": [
        "name, age = 'Vasya', 18\n",
        "print('Hello! My name is {}. I am {} year old'.format(name, age))"
      ],
      "execution_count": null,
      "outputs": [
        {
          "output_type": "stream",
          "name": "stdout",
          "text": [
            "Hello! My name is Vasya. I am 18 year old\n"
          ]
        }
      ]
    },
    {
      "cell_type": "markdown",
      "metadata": {
        "id": "bAllrF1PdoZj"
      },
      "source": [
        "**Выражение форматирования строк: f’ . . . {значение}. . . ’**"
      ]
    },
    {
      "cell_type": "code",
      "metadata": {
        "colab": {
          "base_uri": "https://localhost:8080/"
        },
        "id": "WaVpXyQ8doAn",
        "outputId": "7730c080-0d3b-4ab5-914d-7de1c3649168"
      },
      "source": [
        "name, age = 'Vasya', 18\n",
        "print(f'Hello! My name is {name}. I am {age} year old')"
      ],
      "execution_count": null,
      "outputs": [
        {
          "output_type": "stream",
          "name": "stdout",
          "text": [
            "Hello! My name is Vasya. I am 18 year old\n"
          ]
        }
      ]
    },
    {
      "cell_type": "markdown",
      "metadata": {
        "id": "576W-B_VLhi3"
      },
      "source": [
        "### **Подстановки с учетом ожидаемых типов данных**"
      ]
    },
    {
      "cell_type": "code",
      "metadata": {
        "colab": {
          "base_uri": "https://localhost:8080/",
          "height": 35
        },
        "id": "nAK7M47YJsF0",
        "outputId": "54bab57b-3759-4625-d996-ce07517388b7"
      },
      "source": [
        "'That is %d %s bird!' % (1, 'small')"
      ],
      "execution_count": null,
      "outputs": [
        {
          "output_type": "execute_result",
          "data": {
            "application/vnd.google.colaboratory.intrinsic+json": {
              "type": "string"
            },
            "text/plain": [
              "'That is 1 small bird!'"
            ]
          },
          "metadata": {},
          "execution_count": 15
        }
      ]
    },
    {
      "cell_type": "code",
      "metadata": {
        "colab": {
          "base_uri": "https://localhost:8080/",
          "height": 35
        },
        "id": "OjhdRdvPJsAX",
        "outputId": "174d2d73-dcb6-4939-b41b-8f80e79173d5"
      },
      "source": [
        "'%d %s %d you' % (1, 'spam', 4.0)"
      ],
      "execution_count": null,
      "outputs": [
        {
          "output_type": "execute_result",
          "data": {
            "application/vnd.google.colaboratory.intrinsic+json": {
              "type": "string"
            },
            "text/plain": [
              "'1 spam 4 you'"
            ]
          },
          "metadata": {},
          "execution_count": 18
        }
      ]
    },
    {
      "cell_type": "markdown",
      "metadata": {
        "id": "al87KMbTLv9L"
      },
      "source": [
        "**Коды типов в форматировании строк**\n",
        "* s - Строка (или строка str (X)\n",
        "* r - То же, что и s, но применяется герг, а не str\n",
        "* c - Символ (int или str)\n",
        "* d - Десятичное число (целое число с основанием 10)\n",
        "* i - Целое число\n",
        "* u - То же, что и d (устарел: больше не является беззнаковым)\n",
        "любого объекта)\n",
        "* o - Восьмеричное целое число (с основанием 8)\n",
        "* x - Шестнадцатеричное целое число (с основанием 16)\n",
        "* X - То же, что и х, но в верхнем регистре\n",
        "* e - Число с плавающей точкой со степенью, в нижнем регистре\n",
        "* E - То же, что и е, но в верхнем регистре\n",
        "* f - Десятичное число с плавающей точкой\n",
        "* F - То же, что и f, но в верхнем регистре\n",
        "* g - Число с плавающей точкой е или f\n",
        "* G - Число с плавающей точкой Е или F\n",
        "* % - Литерал % (записывается как %%)"
      ]
    },
    {
      "cell_type": "markdown",
      "metadata": {
        "id": "AKV-duRMM93W"
      },
      "source": [
        "Выравнивание длин цифр. Полезно для большей \"читабельности\" вывода"
      ]
    },
    {
      "cell_type": "code",
      "metadata": {
        "colab": {
          "base_uri": "https://localhost:8080/",
          "height": 35
        },
        "id": "2_2B2FpfJr7t",
        "outputId": "2d584139-c607-4950-9e16-e1b57f0913a2"
      },
      "source": [
        "x = 1234\n",
        "res = 'integers: . . .%d. . .% 10d' % (x, x)\n",
        "res"
      ],
      "execution_count": null,
      "outputs": [
        {
          "output_type": "execute_result",
          "data": {
            "text/plain": [
              "'integers: . . .1234. . .      1234'"
            ],
            "application/vnd.google.colaboratory.intrinsic+json": {
              "type": "string"
            }
          },
          "metadata": {},
          "execution_count": 44
        }
      ]
    },
    {
      "cell_type": "code",
      "metadata": {
        "colab": {
          "base_uri": "https://localhost:8080/"
        },
        "id": "cu7vSVfqTnmt",
        "outputId": "7101e9a8-1f84-4eae-f150-6df4f9ad82b7"
      },
      "source": [
        "a, b = 145, 52\n",
        "print(\"% 7d\" % a)\n",
        "print(\"% 7d\" % b)"
      ],
      "execution_count": null,
      "outputs": [
        {
          "output_type": "stream",
          "name": "stdout",
          "text": [
            "    145\n",
            "     52\n"
          ]
        }
      ]
    },
    {
      "cell_type": "markdown",
      "source": [
        "# Задание 3"
      ],
      "metadata": {
        "id": "dxyDx0vC475v"
      }
    },
    {
      "cell_type": "code",
      "metadata": {
        "id": "0N6FvdyiJrde"
      },
      "source": [
        "# дполагается, что в отчет будут попадать числа длинной не более 10 цифр \n",
        "x, y, z, r = 15, 1456, 1, 54556\n",
        "# ведите все числа по очереди отдельными принтами так, чтобы они были выровнены по правой стороне. \n",
        "# как заполнитель можете использовать не только 0, но и просто пробел\n",
        "# ваш код"
      ],
      "execution_count": null,
      "outputs": []
    },
    {
      "cell_type": "markdown",
      "metadata": {
        "id": "wBYyobfbO2vy"
      },
      "source": [
        "# Работа с цифрами с плавающей точкой"
      ]
    },
    {
      "cell_type": "code",
      "metadata": {
        "colab": {
          "base_uri": "https://localhost:8080/",
          "height": 35
        },
        "id": "RinpIr-3OgXU",
        "outputId": "f052ffb2-1e06-4a9a-fb40-7443ab157534"
      },
      "source": [
        "x = 100.23456789 # 0.00001\n",
        "'%e | %f | %g' % (x, x, x)"
      ],
      "execution_count": null,
      "outputs": [
        {
          "output_type": "execute_result",
          "data": {
            "text/plain": [
              "'1.002346e+02 | 100.234568 | 100.235'"
            ],
            "application/vnd.google.colaboratory.intrinsic+json": {
              "type": "string"
            }
          },
          "metadata": {},
          "execution_count": 46
        }
      ]
    },
    {
      "cell_type": "code",
      "metadata": {
        "colab": {
          "base_uri": "https://localhost:8080/",
          "height": 35
        },
        "id": "uP1vJKX2OgRa",
        "outputId": "477c5427-9ba5-45e7-8b85-3d3585eb6856"
      },
      "source": [
        "'%010.4f | %.2f | %+08.1f' % (x, x, x)"
      ],
      "execution_count": null,
      "outputs": [
        {
          "output_type": "execute_result",
          "data": {
            "text/plain": [
              "'00100.2346 | 100.23 | +00100.2'"
            ],
            "application/vnd.google.colaboratory.intrinsic+json": {
              "type": "string"
            }
          },
          "metadata": {},
          "execution_count": 49
        }
      ]
    },
    {
      "cell_type": "code",
      "metadata": {
        "colab": {
          "base_uri": "https://localhost:8080/",
          "height": 35
        },
        "id": "RdXmyKQ5OgGA",
        "outputId": "57f50ae1-dce3-4dee-f93c-ad1d78592c41"
      },
      "source": [
        "# Вернемся к отчету из прошлого задания. Предположим, что у нас все те числа по 10 цифр максимум, но дробные.\n",
        "# Если flag равен 'simple', то дроби хотим видеть только до 2 знаков после запятой.\n",
        "# иначе если  'science', то хотим видеть научный формат, но тоже до 2 знаков после запятой\n",
        "flag = 'simple' # 'science'\n",
        "x, y, z, r = 15.15456445, 1456.57451, 1.15454, 54556.0000\n",
        "# ведите все числа по очереди отдельными принтами так, чтобы они были выровнены по правой стороне. \n",
        "# как заполнитель можете использовать не только 0, но и просто пробел\n",
        "# ваш код\n"
      ],
      "execution_count": null,
      "outputs": [
        {
          "output_type": "execute_result",
          "data": {
            "application/vnd.google.colaboratory.intrinsic+json": {
              "type": "string"
            },
            "text/plain": [
              "'     15.15 | 1456.57 | +001.2'"
            ]
          },
          "metadata": {},
          "execution_count": 67
        }
      ]
    },
    {
      "cell_type": "markdown",
      "metadata": {
        "id": "784r9IlITuFp"
      },
      "source": [
        "## Встроенные методы строк"
      ]
    },
    {
      "cell_type": "markdown",
      "metadata": {
        "id": "q7L828GPT-aS"
      },
      "source": [
        "Хотелось бы напомнить, что строки  - неизменяемый тип данных"
      ]
    },
    {
      "cell_type": "code",
      "metadata": {
        "colab": {
          "base_uri": "https://localhost:8080/",
          "height": 35
        },
        "id": "KFx8jiByTx9A",
        "outputId": "2f1c7526-501d-4020-dd89-7e009006bed1"
      },
      "source": [
        "s = 'spam'\n",
        "s[0] #мы можем посмотреть любой символ по его индексу"
      ],
      "execution_count": null,
      "outputs": [
        {
          "output_type": "execute_result",
          "data": {
            "text/plain": [
              "'s'"
            ],
            "application/vnd.google.colaboratory.intrinsic+json": {
              "type": "string"
            }
          },
          "metadata": {},
          "execution_count": 50
        }
      ]
    },
    {
      "cell_type": "code",
      "metadata": {
        "colab": {
          "base_uri": "https://localhost:8080/",
          "height": 186
        },
        "id": "DxA7uXy0Tya9",
        "outputId": "ee59655b-9139-45ea-a513-9bdb70ac10a0"
      },
      "source": [
        "s = 'spam'\n",
        "s[0] = 'a' # но не можем поменть произвольный символ в строке"
      ],
      "execution_count": null,
      "outputs": [
        {
          "output_type": "error",
          "ename": "TypeError",
          "evalue": "ignored",
          "traceback": [
            "\u001b[0;31m---------------------------------------------------------------------------\u001b[0m",
            "\u001b[0;31mTypeError\u001b[0m                                 Traceback (most recent call last)",
            "\u001b[0;32m<ipython-input-51-dc5de93b7f97>\u001b[0m in \u001b[0;36m<module>\u001b[0;34m\u001b[0m\n\u001b[1;32m      1\u001b[0m \u001b[0ms\u001b[0m \u001b[0;34m=\u001b[0m \u001b[0;34m'spam'\u001b[0m\u001b[0;34m\u001b[0m\u001b[0;34m\u001b[0m\u001b[0m\n\u001b[0;32m----> 2\u001b[0;31m \u001b[0ms\u001b[0m\u001b[0;34m[\u001b[0m\u001b[0;36m0\u001b[0m\u001b[0;34m]\u001b[0m \u001b[0;34m=\u001b[0m \u001b[0;34m'a'\u001b[0m \u001b[0;31m# но не можем поменть произвольный символ в строке\u001b[0m\u001b[0;34m\u001b[0m\u001b[0;34m\u001b[0m\u001b[0m\n\u001b[0m",
            "\u001b[0;31mTypeError\u001b[0m: 'str' object does not support item assignment"
          ]
        }
      ]
    },
    {
      "cell_type": "code",
      "metadata": {
        "colab": {
          "base_uri": "https://localhost:8080/",
          "height": 53
        },
        "id": "LcdJ_hMDTyWd",
        "outputId": "046603e9-7993-488e-d470-9ddd782939e7"
      },
      "source": [
        "s_1 = 'spam'\n",
        "print(s_1[1:])\n",
        "s_2 = 'a' + s_1[1:] # но мы можем создать новую строки на основе старой\n",
        "s_2"
      ],
      "execution_count": null,
      "outputs": [
        {
          "output_type": "stream",
          "name": "stdout",
          "text": [
            "pam\n"
          ]
        },
        {
          "output_type": "execute_result",
          "data": {
            "text/plain": [
              "'apam'"
            ],
            "application/vnd.google.colaboratory.intrinsic+json": {
              "type": "string"
            }
          },
          "metadata": {},
          "execution_count": 52
        }
      ]
    },
    {
      "cell_type": "code",
      "metadata": {
        "colab": {
          "base_uri": "https://localhost:8080/",
          "height": 35
        },
        "id": "3EjN7qfYXiGs",
        "outputId": "85288243-e892-4ef8-c326-e479175d7fa8"
      },
      "source": [
        "s_1[1:] # операция среза с i-го символа до конца"
      ],
      "execution_count": null,
      "outputs": [
        {
          "output_type": "execute_result",
          "data": {
            "application/vnd.google.colaboratory.intrinsic+json": {
              "type": "string"
            },
            "text/plain": [
              "'pam'"
            ]
          },
          "metadata": {},
          "execution_count": 37
        }
      ]
    },
    {
      "cell_type": "code",
      "source": [
        "s_1[:2] # операция среза до i-го символа не включая сам i-й символ"
      ],
      "metadata": {
        "colab": {
          "base_uri": "https://localhost:8080/",
          "height": 35
        },
        "id": "fxxu45xK6-Ha",
        "outputId": "36320701-d9fb-4627-e6b7-50d4c4054b60"
      },
      "execution_count": null,
      "outputs": [
        {
          "output_type": "execute_result",
          "data": {
            "text/plain": [
              "'sp'"
            ],
            "application/vnd.google.colaboratory.intrinsic+json": {
              "type": "string"
            }
          },
          "metadata": {},
          "execution_count": 53
        }
      ]
    },
    {
      "cell_type": "code",
      "metadata": {
        "colab": {
          "base_uri": "https://localhost:8080/"
        },
        "id": "zMKMTc0DTySm",
        "outputId": "18e7a3c1-7ebf-4cc8-8d22-81de3b2d7a88"
      },
      "source": [
        "s_2 is s_1 # можем убедиться, что это дествительно разные строки"
      ],
      "execution_count": null,
      "outputs": [
        {
          "output_type": "execute_result",
          "data": {
            "text/plain": [
              "False"
            ]
          },
          "metadata": {},
          "execution_count": 54
        }
      ]
    },
    {
      "cell_type": "markdown",
      "metadata": {
        "id": "6wgrb-l-U-JA"
      },
      "source": [
        "Теперь давайте посмотрим, какие встроенные методы строк бывают и чем они нам помогут"
      ]
    },
    {
      "cell_type": "code",
      "metadata": {
        "colab": {
          "base_uri": "https://localhost:8080/"
        },
        "id": "cNFwwvcvTyF2",
        "outputId": "4325e1de-1982-4618-e49f-ee20148b8f25"
      },
      "source": [
        "help(str)"
      ],
      "execution_count": null,
      "outputs": [
        {
          "output_type": "stream",
          "name": "stdout",
          "text": [
            "Help on class str in module builtins:\n",
            "\n",
            "class str(object)\n",
            " |  str(object='') -> str\n",
            " |  str(bytes_or_buffer[, encoding[, errors]]) -> str\n",
            " |  \n",
            " |  Create a new string object from the given object. If encoding or\n",
            " |  errors is specified, then the object must expose a data buffer\n",
            " |  that will be decoded using the given encoding and error handler.\n",
            " |  Otherwise, returns the result of object.__str__() (if defined)\n",
            " |  or repr(object).\n",
            " |  encoding defaults to sys.getdefaultencoding().\n",
            " |  errors defaults to 'strict'.\n",
            " |  \n",
            " |  Methods defined here:\n",
            " |  \n",
            " |  __add__(self, value, /)\n",
            " |      Return self+value.\n",
            " |  \n",
            " |  __contains__(self, key, /)\n",
            " |      Return key in self.\n",
            " |  \n",
            " |  __eq__(self, value, /)\n",
            " |      Return self==value.\n",
            " |  \n",
            " |  __format__(self, format_spec, /)\n",
            " |      Return a formatted version of the string as described by format_spec.\n",
            " |  \n",
            " |  __ge__(self, value, /)\n",
            " |      Return self>=value.\n",
            " |  \n",
            " |  __getattribute__(self, name, /)\n",
            " |      Return getattr(self, name).\n",
            " |  \n",
            " |  __getitem__(self, key, /)\n",
            " |      Return self[key].\n",
            " |  \n",
            " |  __getnewargs__(...)\n",
            " |  \n",
            " |  __gt__(self, value, /)\n",
            " |      Return self>value.\n",
            " |  \n",
            " |  __hash__(self, /)\n",
            " |      Return hash(self).\n",
            " |  \n",
            " |  __iter__(self, /)\n",
            " |      Implement iter(self).\n",
            " |  \n",
            " |  __le__(self, value, /)\n",
            " |      Return self<=value.\n",
            " |  \n",
            " |  __len__(self, /)\n",
            " |      Return len(self).\n",
            " |  \n",
            " |  __lt__(self, value, /)\n",
            " |      Return self<value.\n",
            " |  \n",
            " |  __mod__(self, value, /)\n",
            " |      Return self%value.\n",
            " |  \n",
            " |  __mul__(self, value, /)\n",
            " |      Return self*value.\n",
            " |  \n",
            " |  __ne__(self, value, /)\n",
            " |      Return self!=value.\n",
            " |  \n",
            " |  __repr__(self, /)\n",
            " |      Return repr(self).\n",
            " |  \n",
            " |  __rmod__(self, value, /)\n",
            " |      Return value%self.\n",
            " |  \n",
            " |  __rmul__(self, value, /)\n",
            " |      Return value*self.\n",
            " |  \n",
            " |  __sizeof__(self, /)\n",
            " |      Return the size of the string in memory, in bytes.\n",
            " |  \n",
            " |  __str__(self, /)\n",
            " |      Return str(self).\n",
            " |  \n",
            " |  capitalize(self, /)\n",
            " |      Return a capitalized version of the string.\n",
            " |      \n",
            " |      More specifically, make the first character have upper case and the rest lower\n",
            " |      case.\n",
            " |  \n",
            " |  casefold(self, /)\n",
            " |      Return a version of the string suitable for caseless comparisons.\n",
            " |  \n",
            " |  center(self, width, fillchar=' ', /)\n",
            " |      Return a centered string of length width.\n",
            " |      \n",
            " |      Padding is done using the specified fill character (default is a space).\n",
            " |  \n",
            " |  count(...)\n",
            " |      S.count(sub[, start[, end]]) -> int\n",
            " |      \n",
            " |      Return the number of non-overlapping occurrences of substring sub in\n",
            " |      string S[start:end].  Optional arguments start and end are\n",
            " |      interpreted as in slice notation.\n",
            " |  \n",
            " |  encode(self, /, encoding='utf-8', errors='strict')\n",
            " |      Encode the string using the codec registered for encoding.\n",
            " |      \n",
            " |      encoding\n",
            " |        The encoding in which to encode the string.\n",
            " |      errors\n",
            " |        The error handling scheme to use for encoding errors.\n",
            " |        The default is 'strict' meaning that encoding errors raise a\n",
            " |        UnicodeEncodeError.  Other possible values are 'ignore', 'replace' and\n",
            " |        'xmlcharrefreplace' as well as any other name registered with\n",
            " |        codecs.register_error that can handle UnicodeEncodeErrors.\n",
            " |  \n",
            " |  endswith(...)\n",
            " |      S.endswith(suffix[, start[, end]]) -> bool\n",
            " |      \n",
            " |      Return True if S ends with the specified suffix, False otherwise.\n",
            " |      With optional start, test S beginning at that position.\n",
            " |      With optional end, stop comparing S at that position.\n",
            " |      suffix can also be a tuple of strings to try.\n",
            " |  \n",
            " |  expandtabs(self, /, tabsize=8)\n",
            " |      Return a copy where all tab characters are expanded using spaces.\n",
            " |      \n",
            " |      If tabsize is not given, a tab size of 8 characters is assumed.\n",
            " |  \n",
            " |  find(...)\n",
            " |      S.find(sub[, start[, end]]) -> int\n",
            " |      \n",
            " |      Return the lowest index in S where substring sub is found,\n",
            " |      such that sub is contained within S[start:end].  Optional\n",
            " |      arguments start and end are interpreted as in slice notation.\n",
            " |      \n",
            " |      Return -1 on failure.\n",
            " |  \n",
            " |  format(...)\n",
            " |      S.format(*args, **kwargs) -> str\n",
            " |      \n",
            " |      Return a formatted version of S, using substitutions from args and kwargs.\n",
            " |      The substitutions are identified by braces ('{' and '}').\n",
            " |  \n",
            " |  format_map(...)\n",
            " |      S.format_map(mapping) -> str\n",
            " |      \n",
            " |      Return a formatted version of S, using substitutions from mapping.\n",
            " |      The substitutions are identified by braces ('{' and '}').\n",
            " |  \n",
            " |  index(...)\n",
            " |      S.index(sub[, start[, end]]) -> int\n",
            " |      \n",
            " |      Return the lowest index in S where substring sub is found, \n",
            " |      such that sub is contained within S[start:end].  Optional\n",
            " |      arguments start and end are interpreted as in slice notation.\n",
            " |      \n",
            " |      Raises ValueError when the substring is not found.\n",
            " |  \n",
            " |  isalnum(self, /)\n",
            " |      Return True if the string is an alpha-numeric string, False otherwise.\n",
            " |      \n",
            " |      A string is alpha-numeric if all characters in the string are alpha-numeric and\n",
            " |      there is at least one character in the string.\n",
            " |  \n",
            " |  isalpha(self, /)\n",
            " |      Return True if the string is an alphabetic string, False otherwise.\n",
            " |      \n",
            " |      A string is alphabetic if all characters in the string are alphabetic and there\n",
            " |      is at least one character in the string.\n",
            " |  \n",
            " |  isascii(self, /)\n",
            " |      Return True if all characters in the string are ASCII, False otherwise.\n",
            " |      \n",
            " |      ASCII characters have code points in the range U+0000-U+007F.\n",
            " |      Empty string is ASCII too.\n",
            " |  \n",
            " |  isdecimal(self, /)\n",
            " |      Return True if the string is a decimal string, False otherwise.\n",
            " |      \n",
            " |      A string is a decimal string if all characters in the string are decimal and\n",
            " |      there is at least one character in the string.\n",
            " |  \n",
            " |  isdigit(self, /)\n",
            " |      Return True if the string is a digit string, False otherwise.\n",
            " |      \n",
            " |      A string is a digit string if all characters in the string are digits and there\n",
            " |      is at least one character in the string.\n",
            " |  \n",
            " |  isidentifier(self, /)\n",
            " |      Return True if the string is a valid Python identifier, False otherwise.\n",
            " |      \n",
            " |      Use keyword.iskeyword() to test for reserved identifiers such as \"def\" and\n",
            " |      \"class\".\n",
            " |  \n",
            " |  islower(self, /)\n",
            " |      Return True if the string is a lowercase string, False otherwise.\n",
            " |      \n",
            " |      A string is lowercase if all cased characters in the string are lowercase and\n",
            " |      there is at least one cased character in the string.\n",
            " |  \n",
            " |  isnumeric(self, /)\n",
            " |      Return True if the string is a numeric string, False otherwise.\n",
            " |      \n",
            " |      A string is numeric if all characters in the string are numeric and there is at\n",
            " |      least one character in the string.\n",
            " |  \n",
            " |  isprintable(self, /)\n",
            " |      Return True if the string is printable, False otherwise.\n",
            " |      \n",
            " |      A string is printable if all of its characters are considered printable in\n",
            " |      repr() or if it is empty.\n",
            " |  \n",
            " |  isspace(self, /)\n",
            " |      Return True if the string is a whitespace string, False otherwise.\n",
            " |      \n",
            " |      A string is whitespace if all characters in the string are whitespace and there\n",
            " |      is at least one character in the string.\n",
            " |  \n",
            " |  istitle(self, /)\n",
            " |      Return True if the string is a title-cased string, False otherwise.\n",
            " |      \n",
            " |      In a title-cased string, upper- and title-case characters may only\n",
            " |      follow uncased characters and lowercase characters only cased ones.\n",
            " |  \n",
            " |  isupper(self, /)\n",
            " |      Return True if the string is an uppercase string, False otherwise.\n",
            " |      \n",
            " |      A string is uppercase if all cased characters in the string are uppercase and\n",
            " |      there is at least one cased character in the string.\n",
            " |  \n",
            " |  join(self, iterable, /)\n",
            " |      Concatenate any number of strings.\n",
            " |      \n",
            " |      The string whose method is called is inserted in between each given string.\n",
            " |      The result is returned as a new string.\n",
            " |      \n",
            " |      Example: '.'.join(['ab', 'pq', 'rs']) -> 'ab.pq.rs'\n",
            " |  \n",
            " |  ljust(self, width, fillchar=' ', /)\n",
            " |      Return a left-justified string of length width.\n",
            " |      \n",
            " |      Padding is done using the specified fill character (default is a space).\n",
            " |  \n",
            " |  lower(self, /)\n",
            " |      Return a copy of the string converted to lowercase.\n",
            " |  \n",
            " |  lstrip(self, chars=None, /)\n",
            " |      Return a copy of the string with leading whitespace removed.\n",
            " |      \n",
            " |      If chars is given and not None, remove characters in chars instead.\n",
            " |  \n",
            " |  partition(self, sep, /)\n",
            " |      Partition the string into three parts using the given separator.\n",
            " |      \n",
            " |      This will search for the separator in the string.  If the separator is found,\n",
            " |      returns a 3-tuple containing the part before the separator, the separator\n",
            " |      itself, and the part after it.\n",
            " |      \n",
            " |      If the separator is not found, returns a 3-tuple containing the original string\n",
            " |      and two empty strings.\n",
            " |  \n",
            " |  replace(self, old, new, count=-1, /)\n",
            " |      Return a copy with all occurrences of substring old replaced by new.\n",
            " |      \n",
            " |        count\n",
            " |          Maximum number of occurrences to replace.\n",
            " |          -1 (the default value) means replace all occurrences.\n",
            " |      \n",
            " |      If the optional argument count is given, only the first count occurrences are\n",
            " |      replaced.\n",
            " |  \n",
            " |  rfind(...)\n",
            " |      S.rfind(sub[, start[, end]]) -> int\n",
            " |      \n",
            " |      Return the highest index in S where substring sub is found,\n",
            " |      such that sub is contained within S[start:end].  Optional\n",
            " |      arguments start and end are interpreted as in slice notation.\n",
            " |      \n",
            " |      Return -1 on failure.\n",
            " |  \n",
            " |  rindex(...)\n",
            " |      S.rindex(sub[, start[, end]]) -> int\n",
            " |      \n",
            " |      Return the highest index in S where substring sub is found,\n",
            " |      such that sub is contained within S[start:end].  Optional\n",
            " |      arguments start and end are interpreted as in slice notation.\n",
            " |      \n",
            " |      Raises ValueError when the substring is not found.\n",
            " |  \n",
            " |  rjust(self, width, fillchar=' ', /)\n",
            " |      Return a right-justified string of length width.\n",
            " |      \n",
            " |      Padding is done using the specified fill character (default is a space).\n",
            " |  \n",
            " |  rpartition(self, sep, /)\n",
            " |      Partition the string into three parts using the given separator.\n",
            " |      \n",
            " |      This will search for the separator in the string, starting at the end. If\n",
            " |      the separator is found, returns a 3-tuple containing the part before the\n",
            " |      separator, the separator itself, and the part after it.\n",
            " |      \n",
            " |      If the separator is not found, returns a 3-tuple containing two empty strings\n",
            " |      and the original string.\n",
            " |  \n",
            " |  rsplit(self, /, sep=None, maxsplit=-1)\n",
            " |      Return a list of the words in the string, using sep as the delimiter string.\n",
            " |      \n",
            " |        sep\n",
            " |          The delimiter according which to split the string.\n",
            " |          None (the default value) means split according to any whitespace,\n",
            " |          and discard empty strings from the result.\n",
            " |        maxsplit\n",
            " |          Maximum number of splits to do.\n",
            " |          -1 (the default value) means no limit.\n",
            " |      \n",
            " |      Splits are done starting at the end of the string and working to the front.\n",
            " |  \n",
            " |  rstrip(self, chars=None, /)\n",
            " |      Return a copy of the string with trailing whitespace removed.\n",
            " |      \n",
            " |      If chars is given and not None, remove characters in chars instead.\n",
            " |  \n",
            " |  split(self, /, sep=None, maxsplit=-1)\n",
            " |      Return a list of the words in the string, using sep as the delimiter string.\n",
            " |      \n",
            " |      sep\n",
            " |        The delimiter according which to split the string.\n",
            " |        None (the default value) means split according to any whitespace,\n",
            " |        and discard empty strings from the result.\n",
            " |      maxsplit\n",
            " |        Maximum number of splits to do.\n",
            " |        -1 (the default value) means no limit.\n",
            " |  \n",
            " |  splitlines(self, /, keepends=False)\n",
            " |      Return a list of the lines in the string, breaking at line boundaries.\n",
            " |      \n",
            " |      Line breaks are not included in the resulting list unless keepends is given and\n",
            " |      true.\n",
            " |  \n",
            " |  startswith(...)\n",
            " |      S.startswith(prefix[, start[, end]]) -> bool\n",
            " |      \n",
            " |      Return True if S starts with the specified prefix, False otherwise.\n",
            " |      With optional start, test S beginning at that position.\n",
            " |      With optional end, stop comparing S at that position.\n",
            " |      prefix can also be a tuple of strings to try.\n",
            " |  \n",
            " |  strip(self, chars=None, /)\n",
            " |      Return a copy of the string with leading and trailing whitespace removed.\n",
            " |      \n",
            " |      If chars is given and not None, remove characters in chars instead.\n",
            " |  \n",
            " |  swapcase(self, /)\n",
            " |      Convert uppercase characters to lowercase and lowercase characters to uppercase.\n",
            " |  \n",
            " |  title(self, /)\n",
            " |      Return a version of the string where each word is titlecased.\n",
            " |      \n",
            " |      More specifically, words start with uppercased characters and all remaining\n",
            " |      cased characters have lower case.\n",
            " |  \n",
            " |  translate(self, table, /)\n",
            " |      Replace each character in the string using the given translation table.\n",
            " |      \n",
            " |        table\n",
            " |          Translation table, which must be a mapping of Unicode ordinals to\n",
            " |          Unicode ordinals, strings, or None.\n",
            " |      \n",
            " |      The table must implement lookup/indexing via __getitem__, for instance a\n",
            " |      dictionary or list.  If this operation raises LookupError, the character is\n",
            " |      left untouched.  Characters mapped to None are deleted.\n",
            " |  \n",
            " |  upper(self, /)\n",
            " |      Return a copy of the string converted to uppercase.\n",
            " |  \n",
            " |  zfill(self, width, /)\n",
            " |      Pad a numeric string with zeros on the left, to fill a field of the given width.\n",
            " |      \n",
            " |      The string is never truncated.\n",
            " |  \n",
            " |  ----------------------------------------------------------------------\n",
            " |  Static methods defined here:\n",
            " |  \n",
            " |  __new__(*args, **kwargs) from builtins.type\n",
            " |      Create and return a new object.  See help(type) for accurate signature.\n",
            " |  \n",
            " |  maketrans(x, y=None, z=None, /)\n",
            " |      Return a translation table usable for str.translate().\n",
            " |      \n",
            " |      If there is only one argument, it must be a dictionary mapping Unicode\n",
            " |      ordinals (integers) or characters to Unicode ordinals, strings or None.\n",
            " |      Character keys will be then converted to ordinals.\n",
            " |      If there are two arguments, they must be strings of equal length, and\n",
            " |      in the resulting dictionary, each character in x will be mapped to the\n",
            " |      character at the same position in y. If there is a third argument, it\n",
            " |      must be a string, whose characters will be mapped to None in the result.\n",
            "\n"
          ]
        }
      ]
    },
    {
      "cell_type": "markdown",
      "metadata": {
        "id": "7HW3u0A4apGW"
      },
      "source": [
        "**В python строковые символы в верхнем и нижнем регистре считаются разными объектами**"
      ]
    },
    {
      "cell_type": "code",
      "metadata": {
        "colab": {
          "base_uri": "https://localhost:8080/"
        },
        "id": "ImITK2ClTyCF",
        "outputId": "c811222d-0e63-4afd-9722-c675d95f5dae"
      },
      "source": [
        "'a' == 'A'"
      ],
      "execution_count": null,
      "outputs": [
        {
          "output_type": "execute_result",
          "data": {
            "text/plain": [
              "False"
            ]
          },
          "metadata": {},
          "execution_count": 55
        }
      ]
    },
    {
      "cell_type": "markdown",
      "metadata": {
        "id": "KQ8Q24Zu4Qwi"
      },
      "source": [
        "Поэтому одной из наиболее частых задач является приведение строк к общему регистру"
      ]
    },
    {
      "cell_type": "code",
      "metadata": {
        "colab": {
          "base_uri": "https://localhost:8080/"
        },
        "id": "Zn1XF0UW4RUF",
        "outputId": "ded9bfa0-e35f-4ea6-cb64-c13752e1ff1e"
      },
      "source": [
        "s1 = 'a'\n",
        "s2 = 'A'\n",
        "print(s1.upper(), s2.upper(), s1.upper() == s2.upper())"
      ],
      "execution_count": null,
      "outputs": [
        {
          "output_type": "stream",
          "name": "stdout",
          "text": [
            "A A True\n"
          ]
        }
      ]
    },
    {
      "cell_type": "code",
      "metadata": {
        "colab": {
          "base_uri": "https://localhost:8080/"
        },
        "id": "7ngBMTXy4Sew",
        "outputId": "ee2bd883-ca49-4335-85cc-020cbf9da7f7"
      },
      "source": [
        "s1 = 'a'\n",
        "s2 = 'A'\n",
        "print(s1.lower(), s2.lower(), s1.lower() == s2.lower())"
      ],
      "execution_count": null,
      "outputs": [
        {
          "output_type": "stream",
          "name": "stdout",
          "text": [
            "a a True\n"
          ]
        }
      ]
    },
    {
      "cell_type": "markdown",
      "metadata": {
        "id": "XFoPWE4M6N_T"
      },
      "source": [
        "Сделайте так, чтобы строки s1 s2 были равны. В случае верно написанного кода будет напечатано \"Строки равны\""
      ]
    },
    {
      "cell_type": "code",
      "metadata": {
        "id": "fpedtmu15t2P"
      },
      "source": [
        "s1 = 'aFAfffGGGgHj'\n",
        "s2 = 'afafffGgGgHj'\n",
        "# ваш код\n",
        "if s1 == s2:\n",
        "    print('Строки равны')"
      ],
      "execution_count": null,
      "outputs": []
    },
    {
      "cell_type": "markdown",
      "metadata": {
        "id": "dJ8BaJjT6nb7"
      },
      "source": [
        "**Иногда важно получить статистику по символам содержащимся в слове. Например это касается проверки паролей на соответствие неким требованиям.**"
      ]
    },
    {
      "cell_type": "code",
      "metadata": {
        "colab": {
          "base_uri": "https://localhost:8080/"
        },
        "id": "1N5UbXnR69JY",
        "outputId": "ac7256b3-3c9d-4239-f00f-a27f63be0c1c"
      },
      "source": [
        "s1 = '!HelloWord14&'\n",
        "print(s1.count('l'), s1.count('x'), s1.count('!H'))"
      ],
      "execution_count": null,
      "outputs": [
        {
          "output_type": "stream",
          "name": "stdout",
          "text": [
            "2 0 1\n"
          ]
        }
      ]
    },
    {
      "cell_type": "markdown",
      "metadata": {
        "id": "sDR6MJWM7zlV"
      },
      "source": [
        "Либо нужно найти слова, которые соответствуют некому шаблону. Начинаются с каких-то символов, заканчиваются ими, содержат некую подстроку"
      ]
    },
    {
      "cell_type": "code",
      "metadata": {
        "id": "s_DABB346887"
      },
      "source": [
        "s1 = '!Hello4Word14&'"
      ],
      "execution_count": null,
      "outputs": []
    },
    {
      "cell_type": "code",
      "metadata": {
        "colab": {
          "base_uri": "https://localhost:8080/"
        },
        "id": "xPzq152N68O4",
        "outputId": "d404851f-f36e-46f0-b506-4aa47a11f1a9"
      },
      "source": [
        "s1.startswith(\"!\")"
      ],
      "execution_count": null,
      "outputs": [
        {
          "output_type": "execute_result",
          "data": {
            "text/plain": [
              "True"
            ]
          },
          "metadata": {},
          "execution_count": 59
        }
      ]
    },
    {
      "cell_type": "code",
      "metadata": {
        "colab": {
          "base_uri": "https://localhost:8080/"
        },
        "id": "5ny2OzAQ8jyG",
        "outputId": "38c80353-d0c2-4cc3-c870-3ee2d8f90d45"
      },
      "source": [
        "s1.endswith('!')"
      ],
      "execution_count": null,
      "outputs": [
        {
          "output_type": "execute_result",
          "data": {
            "text/plain": [
              "False"
            ]
          },
          "metadata": {},
          "execution_count": 60
        }
      ]
    },
    {
      "cell_type": "markdown",
      "metadata": {
        "id": "Cdy5cKC19Tzs"
      },
      "source": [
        "Получаем индекс искомой подстроки. Если ее не найдено, то получаем -1"
      ]
    },
    {
      "cell_type": "code",
      "metadata": {
        "colab": {
          "base_uri": "https://localhost:8080/"
        },
        "id": "FFt6fm_R4Sb4",
        "outputId": "70445dbf-313e-4c99-8cda-0f74ea1d95bd"
      },
      "source": [
        "s1.rfind('4'), s1.find('x'), s1.find('Word')"
      ],
      "execution_count": null,
      "outputs": [
        {
          "output_type": "execute_result",
          "data": {
            "text/plain": [
              "(12, -1, 7)"
            ]
          },
          "metadata": {},
          "execution_count": 62
        }
      ]
    },
    {
      "cell_type": "code",
      "metadata": {
        "colab": {
          "base_uri": "https://localhost:8080/"
        },
        "id": "odbNOfGoa0HQ",
        "outputId": "83203525-1822-4820-ba1c-30fe99295e1b"
      },
      "source": [
        "s_3 = 'log.comercial.com'\n",
        "s_3.rfind('.com')"
      ],
      "execution_count": null,
      "outputs": [
        {
          "output_type": "execute_result",
          "data": {
            "text/plain": [
              "13"
            ]
          },
          "metadata": {},
          "execution_count": 68
        }
      ]
    },
    {
      "cell_type": "code",
      "source": [
        "print(s_3[:3], s_3[3])\n",
        "print(s_3[-3:], s_3[-3]) # отсчет идет не с 0, а с -1"
      ],
      "metadata": {
        "colab": {
          "base_uri": "https://localhost:8080/"
        },
        "id": "hLsCXHfV9mk0",
        "outputId": "d0798b2d-bde0-4d9d-bb70-0e22504a9247"
      },
      "execution_count": null,
      "outputs": [
        {
          "output_type": "stream",
          "name": "stdout",
          "text": [
            "log .\n",
            "com c\n"
          ]
        }
      ]
    },
    {
      "cell_type": "code",
      "metadata": {
        "colab": {
          "base_uri": "https://localhost:8080/",
          "height": 186
        },
        "id": "R8ClUnNE4SUS",
        "outputId": "45f8fbfb-040f-4c4d-dbb3-6cc784f0078c"
      },
      "source": [
        "s1 = '!HelloWord14&'\n",
        "s1.index('x')"
      ],
      "execution_count": null,
      "outputs": [
        {
          "output_type": "error",
          "ename": "ValueError",
          "evalue": "ignored",
          "traceback": [
            "\u001b[0;31m---------------------------------------------------------------------------\u001b[0m",
            "\u001b[0;31mValueError\u001b[0m                                Traceback (most recent call last)",
            "\u001b[0;32m<ipython-input-70-00bbe635387d>\u001b[0m in \u001b[0;36m<module>\u001b[0;34m\u001b[0m\n\u001b[1;32m      1\u001b[0m \u001b[0ms1\u001b[0m \u001b[0;34m=\u001b[0m \u001b[0;34m'!HelloWord14&'\u001b[0m\u001b[0;34m\u001b[0m\u001b[0;34m\u001b[0m\u001b[0m\n\u001b[0;32m----> 2\u001b[0;31m \u001b[0ms1\u001b[0m\u001b[0;34m.\u001b[0m\u001b[0mindex\u001b[0m\u001b[0;34m(\u001b[0m\u001b[0;34m'x'\u001b[0m\u001b[0;34m)\u001b[0m\u001b[0;34m\u001b[0m\u001b[0;34m\u001b[0m\u001b[0m\n\u001b[0m",
            "\u001b[0;31mValueError\u001b[0m: substring not found"
          ]
        }
      ]
    },
    {
      "cell_type": "markdown",
      "metadata": {
        "id": "z3oNWiE79Z3F"
      },
      "source": [
        "Проверяем вхождение подстроки в строку. Без учета индексов"
      ]
    },
    {
      "cell_type": "code",
      "metadata": {
        "colab": {
          "base_uri": "https://localhost:8080/"
        },
        "id": "mYiMNX-64SZf",
        "outputId": "d6e1ef12-8d49-40db-efbe-820beb5265ba"
      },
      "source": [
        "'5' in s1"
      ],
      "execution_count": null,
      "outputs": [
        {
          "output_type": "execute_result",
          "data": {
            "text/plain": [
              "False"
            ]
          },
          "metadata": {},
          "execution_count": 76
        }
      ]
    },
    {
      "cell_type": "code",
      "metadata": {
        "id": "n4Qs6f-W4SW1"
      },
      "source": [
        "# Пусть заданы следующие правила к паролю.\n",
        "# Он должен начинаться с '#'или '@', содержать цифру 5 и не содержать символ '%',\n",
        "# а также содержать все буквы в нижнем регистре\n",
        "s1, s2, s3 = '@ff5gg%', '#ggRr5', '#kkk5ddd' # Flase, False, True\n",
        "# ваш код определяющий корректность пароля\n",
        "    "
      ],
      "execution_count": null,
      "outputs": []
    },
    {
      "cell_type": "markdown",
      "metadata": {
        "id": "mVz7pNKP-8Q6"
      },
      "source": [
        "**У вас могут возникать задачи на исправление неких опечаток, или замену одного шаблона другим по достаточно большому тексту**"
      ]
    },
    {
      "cell_type": "code",
      "metadata": {
        "colab": {
          "base_uri": "https://localhost:8080/"
        },
        "id": "2BAoWq8N4SRz",
        "outputId": "809d20da-355d-4ef2-d0ac-370d5c420c86"
      },
      "source": [
        "s1 = '''!HeloWord14&!HeloWord14&!HeloWord14&!HeloWord14&!HeloWord14&!HeloWord14&!HeloWord14&!HeloWord14&!HeloWord14&\n",
        "!HeloWord14&!HeloWord14&!HeloWord14&!HeloWord14&!HeloWord14&!HeloWord14&!HeloWord14&!HeloWord14&!HeloWord14&\n",
        "        !HeloWord14&!HeloWord14&!HeloWord14&!HeloWord14&!HeloWord14&!HeloWord14&!HeloWord14&!HeloWord14&!HeloWord14&'''\n",
        "print(s1.replace('Helo', 'Hello')) # print"
      ],
      "execution_count": null,
      "outputs": [
        {
          "output_type": "stream",
          "name": "stdout",
          "text": [
            "!HelloWord14&!HelloWord14&!HelloWord14&!HelloWord14&!HelloWord14&!HelloWord14&!HelloWord14&!HelloWord14&!HelloWord14&\n",
            "!HelloWord14&!HelloWord14&!HelloWord14&!HelloWord14&!HelloWord14&!HelloWord14&!HelloWord14&!HelloWord14&!HelloWord14&\n",
            "        !HelloWord14&!HelloWord14&!HelloWord14&!HelloWord14&!HelloWord14&!HelloWord14&!HelloWord14&!HelloWord14&!HelloWord14&\n"
          ]
        }
      ]
    },
    {
      "cell_type": "code",
      "metadata": {
        "colab": {
          "base_uri": "https://localhost:8080/"
        },
        "id": "roPCOYd44SO8",
        "outputId": "32507c61-7c4c-4f97-9b86-976a53177bb6"
      },
      "source": [
        "print(s1.replace('14', ''))"
      ],
      "execution_count": null,
      "outputs": [
        {
          "output_type": "stream",
          "name": "stdout",
          "text": [
            "!HeloWord&!HeloWord&!HeloWord&!HeloWord&!HeloWord&!HeloWord&!HeloWord&!HeloWord&!HeloWord&\n",
            "!HeloWord&!HeloWord&!HeloWord&!HeloWord&!HeloWord&!HeloWord&!HeloWord&!HeloWord&!HeloWord&\n",
            "        !HeloWord&!HeloWord&!HeloWord&!HeloWord&!HeloWord&!HeloWord&!HeloWord&!HeloWord&!HeloWord&\n"
          ]
        }
      ]
    },
    {
      "cell_type": "markdown",
      "metadata": {
        "id": "Ai05jYs_AZy-"
      },
      "source": [
        "**Еще одна распространенная задача - это разбиение предложения на слова, или какого-то слова на составные части**"
      ]
    },
    {
      "cell_type": "code",
      "metadata": {
        "colab": {
          "base_uri": "https://localhost:8080/"
        },
        "id": "NXn2a9bG4SMJ",
        "outputId": "fa2c74ae-facb-4d90-bfac-ceff70e82e44"
      },
      "source": [
        "s1 = \"Hello my dear friends!\"\n",
        "s1.split()"
      ],
      "execution_count": null,
      "outputs": [
        {
          "output_type": "execute_result",
          "data": {
            "text/plain": [
              "['Hello', 'my', 'dear', 'friends!']"
            ]
          },
          "metadata": {},
          "execution_count": 26
        }
      ]
    },
    {
      "cell_type": "code",
      "metadata": {
        "colab": {
          "base_uri": "https://localhost:8080/"
        },
        "id": "1uyfqaut4SJq",
        "outputId": "0316036e-e894-4462-97ba-60654953d639"
      },
      "source": [
        "# а давайте разделим название сайта (домен) на составляющие: поддомен, имя сайта, суфикс (зона)\n",
        "domen = 'login.google.ru'\n",
        "domen.split('.')"
      ],
      "execution_count": null,
      "outputs": [
        {
          "output_type": "execute_result",
          "data": {
            "text/plain": [
              "['login', 'google', 'ru']"
            ]
          },
          "metadata": {},
          "execution_count": 56
        }
      ]
    },
    {
      "cell_type": "markdown",
      "metadata": {
        "id": "5We1uwf3Ikvw"
      },
      "source": [
        "Также при чтении данных из файла, всё является строкой, даже числа. И бывает нужно выявить цифры, чтобы их преобразовать в нужный тип и использовать дальше"
      ]
    },
    {
      "cell_type": "code",
      "metadata": {
        "colab": {
          "base_uri": "https://localhost:8080/"
        },
        "id": "thWgsiOOIkbx",
        "outputId": "bc8885f1-e3ef-4aa4-ebc2-b65019d0a589"
      },
      "source": [
        "s1, s2, s3 = '14', '14.5', 'ff4'\n",
        "s1.isdigit(), s2.isdigit(), s3.isdigit() "
      ],
      "execution_count": null,
      "outputs": [
        {
          "output_type": "execute_result",
          "data": {
            "text/plain": [
              "(True, False, False)"
            ]
          },
          "metadata": {},
          "execution_count": 81
        }
      ]
    },
    {
      "cell_type": "code",
      "metadata": {
        "colab": {
          "base_uri": "https://localhost:8080/",
          "height": 168
        },
        "id": "cf9fMlmQehcS",
        "outputId": "ec6ce8e5-f421-43be-f837-9a27e2940362"
      },
      "source": [
        "int(\"fff\")"
      ],
      "execution_count": null,
      "outputs": [
        {
          "output_type": "error",
          "ename": "ValueError",
          "evalue": "ignored",
          "traceback": [
            "\u001b[0;31m---------------------------------------------------------------------------\u001b[0m",
            "\u001b[0;31mValueError\u001b[0m                                Traceback (most recent call last)",
            "\u001b[0;32m<ipython-input-80-f6e6d394a37a>\u001b[0m in \u001b[0;36m<module>\u001b[0;34m\u001b[0m\n\u001b[0;32m----> 1\u001b[0;31m \u001b[0mint\u001b[0m\u001b[0;34m(\u001b[0m\u001b[0;34m\"fff\"\u001b[0m\u001b[0;34m)\u001b[0m\u001b[0;34m\u001b[0m\u001b[0;34m\u001b[0m\u001b[0m\n\u001b[0m",
            "\u001b[0;31mValueError\u001b[0m: invalid literal for int() with base 10: 'fff'"
          ]
        }
      ]
    },
    {
      "cell_type": "code",
      "metadata": {
        "colab": {
          "base_uri": "https://localhost:8080/"
        },
        "id": "bbXlWoE4JPHH",
        "outputId": "055219da-73ef-4790-8111-cfe470b62bd8"
      },
      "source": [
        "if s1.isdigit():\n",
        "    s1 = int(s1)\n",
        "    print(type(s1))"
      ],
      "execution_count": null,
      "outputs": [
        {
          "output_type": "stream",
          "name": "stdout",
          "text": [
            "<class 'int'>\n"
          ]
        }
      ]
    },
    {
      "cell_type": "code",
      "metadata": {
        "id": "-qPTRnBb4SHJ"
      },
      "source": [
        "'''Создайте программу, которая по почте пользователя, например, user@myserver.com узнает сервер этой почты.\n",
        "А также суфикс указывающий на доменную зону сервера (http://www.general-domain.ru/katalog/domennee-zone-mira.php)\n",
        "Формат ввода: ii_ivanov@gmail.com\n",
        "Формат вывода: gmail.com, com\n",
        "'''"
      ],
      "execution_count": null,
      "outputs": []
    },
    {
      "cell_type": "code",
      "metadata": {
        "id": "6RAV79zh4SEZ"
      },
      "source": [
        "'''Человек вводит на сайте номер телефона, ему позволено для удобства использовать кроме плюса и цифр знаки ‘-’, ‘)’, ‘(’ и пробелы. Уберите их из ввода. \n",
        "Формат ввода: +7 (812) 134-12-324\n",
        "Формат вывода: +781213412324\n",
        "'''"
      ],
      "execution_count": null,
      "outputs": []
    },
    {
      "cell_type": "code",
      "metadata": {
        "id": "o3ZQs_2g4SBa"
      },
      "source": [
        "'''В некоторых изданиях, например, NY Times (www.nytimes.com) заголовки статей печатают так, чтобы каждое слово было с большой буквы.\n",
        "На вход вашей программе подается строка со словами, разделенными пробелом. Напишите ее как заголовок в NY Times. Может использоваться как кириллица, так и латиница.\n",
        "Формат ввода: Python изучают все больше людей\n",
        "Формат вывода: Python Изучают Все Больше Людей\n",
        "'''"
      ],
      "execution_count": null,
      "outputs": []
    },
    {
      "cell_type": "markdown",
      "metadata": {
        "id": "z8e1NSezG0Vt"
      },
      "source": [
        "# Дата и время в Python"
      ]
    },
    {
      "cell_type": "markdown",
      "metadata": {
        "id": "qoDlJT4MkLS1"
      },
      "source": [
        "## datetime"
      ]
    },
    {
      "cell_type": "markdown",
      "metadata": {
        "id": "drY_103kgBm4"
      },
      "source": [
        "**Классы, предоставляемые модулем datetime:**\n",
        "* Класс `datetime.date(year, month, day)` - стандартная дата. Атрибуты: year, month, day. Неизменяемый объект.\n",
        "\n",
        "* Класс `datetime.time(hour=0, minute=0, second=0, microsecond=0, tzinfo=None)` - стандартное время, не зависит от даты. Атрибуты: hour, minute, second, microsecond, tzinfo.\n",
        "\n",
        "* Класс `datetime.timedelta` - разница между двумя моментами времени, с точностью до микросекунд.\n",
        "\n",
        "* Класс `datetime.tzinfo` - абстрактный базовый класс для информации о временной зоне (например, для учета часового пояса и / или летнего времени).\n",
        "\n",
        "* Класс `datetime.datetime(year, month, day, hour=0, minute=0, second=0, microsecond=0, tzinfo=None)` - комбинация даты и времени."
      ]
    },
    {
      "cell_type": "code",
      "metadata": {
        "id": "enJkrzVu4R-T"
      },
      "source": [
        "import datetime"
      ],
      "execution_count": null,
      "outputs": []
    },
    {
      "cell_type": "code",
      "metadata": {
        "colab": {
          "base_uri": "https://localhost:8080/"
        },
        "id": "AoTjHd8mhrNc",
        "outputId": "4b98bd25-5cef-4dda-88a9-6b24b4e5e1fb"
      },
      "source": [
        "help(datetime)"
      ],
      "execution_count": null,
      "outputs": [
        {
          "output_type": "stream",
          "name": "stdout",
          "text": [
            "Help on module datetime:\n",
            "\n",
            "NAME\n",
            "    datetime - Fast implementation of the datetime type.\n",
            "\n",
            "MODULE REFERENCE\n",
            "    https://docs.python.org/3.7/library/datetime\n",
            "    \n",
            "    The following documentation is automatically generated from the Python\n",
            "    source files.  It may be incomplete, incorrect or include features that\n",
            "    are considered implementation detail and may vary between Python\n",
            "    implementations.  When in doubt, consult the module reference at the\n",
            "    location listed above.\n",
            "\n",
            "CLASSES\n",
            "    builtins.object\n",
            "        date\n",
            "            datetime\n",
            "        time\n",
            "        timedelta\n",
            "        tzinfo\n",
            "            timezone\n",
            "    \n",
            "    class date(builtins.object)\n",
            "     |  date(year, month, day) --> date object\n",
            "     |  \n",
            "     |  Methods defined here:\n",
            "     |  \n",
            "     |  __add__(self, value, /)\n",
            "     |      Return self+value.\n",
            "     |  \n",
            "     |  __eq__(self, value, /)\n",
            "     |      Return self==value.\n",
            "     |  \n",
            "     |  __format__(...)\n",
            "     |      Formats self with strftime.\n",
            "     |  \n",
            "     |  __ge__(self, value, /)\n",
            "     |      Return self>=value.\n",
            "     |  \n",
            "     |  __getattribute__(self, name, /)\n",
            "     |      Return getattr(self, name).\n",
            "     |  \n",
            "     |  __gt__(self, value, /)\n",
            "     |      Return self>value.\n",
            "     |  \n",
            "     |  __hash__(self, /)\n",
            "     |      Return hash(self).\n",
            "     |  \n",
            "     |  __le__(self, value, /)\n",
            "     |      Return self<=value.\n",
            "     |  \n",
            "     |  __lt__(self, value, /)\n",
            "     |      Return self<value.\n",
            "     |  \n",
            "     |  __ne__(self, value, /)\n",
            "     |      Return self!=value.\n",
            "     |  \n",
            "     |  __radd__(self, value, /)\n",
            "     |      Return value+self.\n",
            "     |  \n",
            "     |  __reduce__(...)\n",
            "     |      __reduce__() -> (cls, state)\n",
            "     |  \n",
            "     |  __repr__(self, /)\n",
            "     |      Return repr(self).\n",
            "     |  \n",
            "     |  __rsub__(self, value, /)\n",
            "     |      Return value-self.\n",
            "     |  \n",
            "     |  __str__(self, /)\n",
            "     |      Return str(self).\n",
            "     |  \n",
            "     |  __sub__(self, value, /)\n",
            "     |      Return self-value.\n",
            "     |  \n",
            "     |  ctime(...)\n",
            "     |      Return ctime() style string.\n",
            "     |  \n",
            "     |  isocalendar(...)\n",
            "     |      Return a 3-tuple containing ISO year, week number, and weekday.\n",
            "     |  \n",
            "     |  isoformat(...)\n",
            "     |      Return string in ISO 8601 format, YYYY-MM-DD.\n",
            "     |  \n",
            "     |  isoweekday(...)\n",
            "     |      Return the day of the week represented by the date.\n",
            "     |      Monday == 1 ... Sunday == 7\n",
            "     |  \n",
            "     |  replace(...)\n",
            "     |      Return date with new specified fields.\n",
            "     |  \n",
            "     |  strftime(...)\n",
            "     |      format -> strftime() style string.\n",
            "     |  \n",
            "     |  timetuple(...)\n",
            "     |      Return time tuple, compatible with time.localtime().\n",
            "     |  \n",
            "     |  toordinal(...)\n",
            "     |      Return proleptic Gregorian ordinal.  January 1 of year 1 is day 1.\n",
            "     |  \n",
            "     |  weekday(...)\n",
            "     |      Return the day of the week represented by the date.\n",
            "     |      Monday == 0 ... Sunday == 6\n",
            "     |  \n",
            "     |  ----------------------------------------------------------------------\n",
            "     |  Class methods defined here:\n",
            "     |  \n",
            "     |  fromisoformat(...) from builtins.type\n",
            "     |      str -> Construct a date from the output of date.isoformat()\n",
            "     |  \n",
            "     |  fromordinal(...) from builtins.type\n",
            "     |      int -> date corresponding to a proleptic Gregorian ordinal.\n",
            "     |  \n",
            "     |  fromtimestamp(...) from builtins.type\n",
            "     |      timestamp -> local date from a POSIX timestamp (like time.time()).\n",
            "     |  \n",
            "     |  today(...) from builtins.type\n",
            "     |      Current date or datetime:  same as self.__class__.fromtimestamp(time.time()).\n",
            "     |  \n",
            "     |  ----------------------------------------------------------------------\n",
            "     |  Static methods defined here:\n",
            "     |  \n",
            "     |  __new__(*args, **kwargs) from builtins.type\n",
            "     |      Create and return a new object.  See help(type) for accurate signature.\n",
            "     |  \n",
            "     |  ----------------------------------------------------------------------\n",
            "     |  Data descriptors defined here:\n",
            "     |  \n",
            "     |  day\n",
            "     |  \n",
            "     |  month\n",
            "     |  \n",
            "     |  year\n",
            "     |  \n",
            "     |  ----------------------------------------------------------------------\n",
            "     |  Data and other attributes defined here:\n",
            "     |  \n",
            "     |  max = datetime.date(9999, 12, 31)\n",
            "     |  \n",
            "     |  min = datetime.date(1, 1, 1)\n",
            "     |  \n",
            "     |  resolution = datetime.timedelta(days=1)\n",
            "    \n",
            "    class datetime(date)\n",
            "     |  datetime(year, month, day[, hour[, minute[, second[, microsecond[,tzinfo]]]]])\n",
            "     |  \n",
            "     |  The year, month and day arguments are required. tzinfo may be None, or an\n",
            "     |  instance of a tzinfo subclass. The remaining arguments may be ints.\n",
            "     |  \n",
            "     |  Method resolution order:\n",
            "     |      datetime\n",
            "     |      date\n",
            "     |      builtins.object\n",
            "     |  \n",
            "     |  Methods defined here:\n",
            "     |  \n",
            "     |  __add__(self, value, /)\n",
            "     |      Return self+value.\n",
            "     |  \n",
            "     |  __eq__(self, value, /)\n",
            "     |      Return self==value.\n",
            "     |  \n",
            "     |  __ge__(self, value, /)\n",
            "     |      Return self>=value.\n",
            "     |  \n",
            "     |  __getattribute__(self, name, /)\n",
            "     |      Return getattr(self, name).\n",
            "     |  \n",
            "     |  __gt__(self, value, /)\n",
            "     |      Return self>value.\n",
            "     |  \n",
            "     |  __hash__(self, /)\n",
            "     |      Return hash(self).\n",
            "     |  \n",
            "     |  __le__(self, value, /)\n",
            "     |      Return self<=value.\n",
            "     |  \n",
            "     |  __lt__(self, value, /)\n",
            "     |      Return self<value.\n",
            "     |  \n",
            "     |  __ne__(self, value, /)\n",
            "     |      Return self!=value.\n",
            "     |  \n",
            "     |  __radd__(self, value, /)\n",
            "     |      Return value+self.\n",
            "     |  \n",
            "     |  __reduce__(...)\n",
            "     |      __reduce__() -> (cls, state)\n",
            "     |  \n",
            "     |  __reduce_ex__(...)\n",
            "     |      __reduce_ex__(proto) -> (cls, state)\n",
            "     |  \n",
            "     |  __repr__(self, /)\n",
            "     |      Return repr(self).\n",
            "     |  \n",
            "     |  __rsub__(self, value, /)\n",
            "     |      Return value-self.\n",
            "     |  \n",
            "     |  __str__(self, /)\n",
            "     |      Return str(self).\n",
            "     |  \n",
            "     |  __sub__(self, value, /)\n",
            "     |      Return self-value.\n",
            "     |  \n",
            "     |  astimezone(...)\n",
            "     |      tz -> convert to local time in new timezone tz\n",
            "     |  \n",
            "     |  ctime(...)\n",
            "     |      Return ctime() style string.\n",
            "     |  \n",
            "     |  date(...)\n",
            "     |      Return date object with same year, month and day.\n",
            "     |  \n",
            "     |  dst(...)\n",
            "     |      Return self.tzinfo.dst(self).\n",
            "     |  \n",
            "     |  isoformat(...)\n",
            "     |      [sep] -> string in ISO 8601 format, YYYY-MM-DDT[HH[:MM[:SS[.mmm[uuu]]]]][+HH:MM].\n",
            "     |      sep is used to separate the year from the time, and defaults to 'T'.\n",
            "     |      timespec specifies what components of the time to include (allowed values are 'auto', 'hours', 'minutes', 'seconds', 'milliseconds', and 'microseconds').\n",
            "     |  \n",
            "     |  replace(...)\n",
            "     |      Return datetime with new specified fields.\n",
            "     |  \n",
            "     |  time(...)\n",
            "     |      Return time object with same time but with tzinfo=None.\n",
            "     |  \n",
            "     |  timestamp(...)\n",
            "     |      Return POSIX timestamp as float.\n",
            "     |  \n",
            "     |  timetuple(...)\n",
            "     |      Return time tuple, compatible with time.localtime().\n",
            "     |  \n",
            "     |  timetz(...)\n",
            "     |      Return time object with same time and tzinfo.\n",
            "     |  \n",
            "     |  tzname(...)\n",
            "     |      Return self.tzinfo.tzname(self).\n",
            "     |  \n",
            "     |  utcoffset(...)\n",
            "     |      Return self.tzinfo.utcoffset(self).\n",
            "     |  \n",
            "     |  utctimetuple(...)\n",
            "     |      Return UTC time tuple, compatible with time.localtime().\n",
            "     |  \n",
            "     |  ----------------------------------------------------------------------\n",
            "     |  Class methods defined here:\n",
            "     |  \n",
            "     |  combine(...) from builtins.type\n",
            "     |      date, time -> datetime with same date and time fields\n",
            "     |  \n",
            "     |  fromisoformat(...) from builtins.type\n",
            "     |      string -> datetime from datetime.isoformat() output\n",
            "     |  \n",
            "     |  fromtimestamp(...) from builtins.type\n",
            "     |      timestamp[, tz] -> tz's local time from POSIX timestamp.\n",
            "     |  \n",
            "     |  now(tz=None) from builtins.type\n",
            "     |      Returns new datetime object representing current time local to tz.\n",
            "     |      \n",
            "     |        tz\n",
            "     |          Timezone object.\n",
            "     |      \n",
            "     |      If no tz is specified, uses local timezone.\n",
            "     |  \n",
            "     |  strptime(...) from builtins.type\n",
            "     |      string, format -> new datetime parsed from a string (like time.strptime()).\n",
            "     |  \n",
            "     |  utcfromtimestamp(...) from builtins.type\n",
            "     |      Construct a naive UTC datetime from a POSIX timestamp.\n",
            "     |  \n",
            "     |  utcnow(...) from builtins.type\n",
            "     |      Return a new datetime representing UTC day and time.\n",
            "     |  \n",
            "     |  ----------------------------------------------------------------------\n",
            "     |  Static methods defined here:\n",
            "     |  \n",
            "     |  __new__(*args, **kwargs) from builtins.type\n",
            "     |      Create and return a new object.  See help(type) for accurate signature.\n",
            "     |  \n",
            "     |  ----------------------------------------------------------------------\n",
            "     |  Data descriptors defined here:\n",
            "     |  \n",
            "     |  fold\n",
            "     |  \n",
            "     |  hour\n",
            "     |  \n",
            "     |  microsecond\n",
            "     |  \n",
            "     |  minute\n",
            "     |  \n",
            "     |  second\n",
            "     |  \n",
            "     |  tzinfo\n",
            "     |  \n",
            "     |  ----------------------------------------------------------------------\n",
            "     |  Data and other attributes defined here:\n",
            "     |  \n",
            "     |  max = datetime.datetime(9999, 12, 31, 23, 59, 59, 999999)\n",
            "     |  \n",
            "     |  min = datetime.datetime(1, 1, 1, 0, 0)\n",
            "     |  \n",
            "     |  resolution = datetime.timedelta(microseconds=1)\n",
            "     |  \n",
            "     |  ----------------------------------------------------------------------\n",
            "     |  Methods inherited from date:\n",
            "     |  \n",
            "     |  __format__(...)\n",
            "     |      Formats self with strftime.\n",
            "     |  \n",
            "     |  isocalendar(...)\n",
            "     |      Return a 3-tuple containing ISO year, week number, and weekday.\n",
            "     |  \n",
            "     |  isoweekday(...)\n",
            "     |      Return the day of the week represented by the date.\n",
            "     |      Monday == 1 ... Sunday == 7\n",
            "     |  \n",
            "     |  strftime(...)\n",
            "     |      format -> strftime() style string.\n",
            "     |  \n",
            "     |  toordinal(...)\n",
            "     |      Return proleptic Gregorian ordinal.  January 1 of year 1 is day 1.\n",
            "     |  \n",
            "     |  weekday(...)\n",
            "     |      Return the day of the week represented by the date.\n",
            "     |      Monday == 0 ... Sunday == 6\n",
            "     |  \n",
            "     |  ----------------------------------------------------------------------\n",
            "     |  Class methods inherited from date:\n",
            "     |  \n",
            "     |  fromordinal(...) from builtins.type\n",
            "     |      int -> date corresponding to a proleptic Gregorian ordinal.\n",
            "     |  \n",
            "     |  today(...) from builtins.type\n",
            "     |      Current date or datetime:  same as self.__class__.fromtimestamp(time.time()).\n",
            "     |  \n",
            "     |  ----------------------------------------------------------------------\n",
            "     |  Data descriptors inherited from date:\n",
            "     |  \n",
            "     |  day\n",
            "     |  \n",
            "     |  month\n",
            "     |  \n",
            "     |  year\n",
            "    \n",
            "    class time(builtins.object)\n",
            "     |  time([hour[, minute[, second[, microsecond[, tzinfo]]]]]) --> a time object\n",
            "     |  \n",
            "     |  All arguments are optional. tzinfo may be None, or an instance of\n",
            "     |  a tzinfo subclass. The remaining arguments may be ints.\n",
            "     |  \n",
            "     |  Methods defined here:\n",
            "     |  \n",
            "     |  __eq__(self, value, /)\n",
            "     |      Return self==value.\n",
            "     |  \n",
            "     |  __format__(...)\n",
            "     |      Formats self with strftime.\n",
            "     |  \n",
            "     |  __ge__(self, value, /)\n",
            "     |      Return self>=value.\n",
            "     |  \n",
            "     |  __getattribute__(self, name, /)\n",
            "     |      Return getattr(self, name).\n",
            "     |  \n",
            "     |  __gt__(self, value, /)\n",
            "     |      Return self>value.\n",
            "     |  \n",
            "     |  __hash__(self, /)\n",
            "     |      Return hash(self).\n",
            "     |  \n",
            "     |  __le__(self, value, /)\n",
            "     |      Return self<=value.\n",
            "     |  \n",
            "     |  __lt__(self, value, /)\n",
            "     |      Return self<value.\n",
            "     |  \n",
            "     |  __ne__(self, value, /)\n",
            "     |      Return self!=value.\n",
            "     |  \n",
            "     |  __reduce__(...)\n",
            "     |      __reduce__() -> (cls, state)\n",
            "     |  \n",
            "     |  __reduce_ex__(...)\n",
            "     |      __reduce_ex__(proto) -> (cls, state)\n",
            "     |  \n",
            "     |  __repr__(self, /)\n",
            "     |      Return repr(self).\n",
            "     |  \n",
            "     |  __str__(self, /)\n",
            "     |      Return str(self).\n",
            "     |  \n",
            "     |  dst(...)\n",
            "     |      Return self.tzinfo.dst(self).\n",
            "     |  \n",
            "     |  isoformat(...)\n",
            "     |      Return string in ISO 8601 format, [HH[:MM[:SS[.mmm[uuu]]]]][+HH:MM].\n",
            "     |      \n",
            "     |      timespec specifies what components of the time to include.\n",
            "     |  \n",
            "     |  replace(...)\n",
            "     |      Return time with new specified fields.\n",
            "     |  \n",
            "     |  strftime(...)\n",
            "     |      format -> strftime() style string.\n",
            "     |  \n",
            "     |  tzname(...)\n",
            "     |      Return self.tzinfo.tzname(self).\n",
            "     |  \n",
            "     |  utcoffset(...)\n",
            "     |      Return self.tzinfo.utcoffset(self).\n",
            "     |  \n",
            "     |  ----------------------------------------------------------------------\n",
            "     |  Class methods defined here:\n",
            "     |  \n",
            "     |  fromisoformat(...) from builtins.type\n",
            "     |      string -> time from time.isoformat() output\n",
            "     |  \n",
            "     |  ----------------------------------------------------------------------\n",
            "     |  Static methods defined here:\n",
            "     |  \n",
            "     |  __new__(*args, **kwargs) from builtins.type\n",
            "     |      Create and return a new object.  See help(type) for accurate signature.\n",
            "     |  \n",
            "     |  ----------------------------------------------------------------------\n",
            "     |  Data descriptors defined here:\n",
            "     |  \n",
            "     |  fold\n",
            "     |  \n",
            "     |  hour\n",
            "     |  \n",
            "     |  microsecond\n",
            "     |  \n",
            "     |  minute\n",
            "     |  \n",
            "     |  second\n",
            "     |  \n",
            "     |  tzinfo\n",
            "     |  \n",
            "     |  ----------------------------------------------------------------------\n",
            "     |  Data and other attributes defined here:\n",
            "     |  \n",
            "     |  max = datetime.time(23, 59, 59, 999999)\n",
            "     |  \n",
            "     |  min = datetime.time(0, 0)\n",
            "     |  \n",
            "     |  resolution = datetime.timedelta(microseconds=1)\n",
            "    \n",
            "    class timedelta(builtins.object)\n",
            "     |  Difference between two datetime values.\n",
            "     |  \n",
            "     |  timedelta(days=0, seconds=0, microseconds=0, milliseconds=0, minutes=0, hours=0, weeks=0)\n",
            "     |  \n",
            "     |  All arguments are optional and default to 0.\n",
            "     |  Arguments may be integers or floats, and may be positive or negative.\n",
            "     |  \n",
            "     |  Methods defined here:\n",
            "     |  \n",
            "     |  __abs__(self, /)\n",
            "     |      abs(self)\n",
            "     |  \n",
            "     |  __add__(self, value, /)\n",
            "     |      Return self+value.\n",
            "     |  \n",
            "     |  __bool__(self, /)\n",
            "     |      self != 0\n",
            "     |  \n",
            "     |  __divmod__(self, value, /)\n",
            "     |      Return divmod(self, value).\n",
            "     |  \n",
            "     |  __eq__(self, value, /)\n",
            "     |      Return self==value.\n",
            "     |  \n",
            "     |  __floordiv__(self, value, /)\n",
            "     |      Return self//value.\n",
            "     |  \n",
            "     |  __ge__(self, value, /)\n",
            "     |      Return self>=value.\n",
            "     |  \n",
            "     |  __getattribute__(self, name, /)\n",
            "     |      Return getattr(self, name).\n",
            "     |  \n",
            "     |  __gt__(self, value, /)\n",
            "     |      Return self>value.\n",
            "     |  \n",
            "     |  __hash__(self, /)\n",
            "     |      Return hash(self).\n",
            "     |  \n",
            "     |  __le__(self, value, /)\n",
            "     |      Return self<=value.\n",
            "     |  \n",
            "     |  __lt__(self, value, /)\n",
            "     |      Return self<value.\n",
            "     |  \n",
            "     |  __mod__(self, value, /)\n",
            "     |      Return self%value.\n",
            "     |  \n",
            "     |  __mul__(self, value, /)\n",
            "     |      Return self*value.\n",
            "     |  \n",
            "     |  __ne__(self, value, /)\n",
            "     |      Return self!=value.\n",
            "     |  \n",
            "     |  __neg__(self, /)\n",
            "     |      -self\n",
            "     |  \n",
            "     |  __pos__(self, /)\n",
            "     |      +self\n",
            "     |  \n",
            "     |  __radd__(self, value, /)\n",
            "     |      Return value+self.\n",
            "     |  \n",
            "     |  __rdivmod__(self, value, /)\n",
            "     |      Return divmod(value, self).\n",
            "     |  \n",
            "     |  __reduce__(...)\n",
            "     |      __reduce__() -> (cls, state)\n",
            "     |  \n",
            "     |  __repr__(self, /)\n",
            "     |      Return repr(self).\n",
            "     |  \n",
            "     |  __rfloordiv__(self, value, /)\n",
            "     |      Return value//self.\n",
            "     |  \n",
            "     |  __rmod__(self, value, /)\n",
            "     |      Return value%self.\n",
            "     |  \n",
            "     |  __rmul__(self, value, /)\n",
            "     |      Return value*self.\n",
            "     |  \n",
            "     |  __rsub__(self, value, /)\n",
            "     |      Return value-self.\n",
            "     |  \n",
            "     |  __rtruediv__(self, value, /)\n",
            "     |      Return value/self.\n",
            "     |  \n",
            "     |  __str__(self, /)\n",
            "     |      Return str(self).\n",
            "     |  \n",
            "     |  __sub__(self, value, /)\n",
            "     |      Return self-value.\n",
            "     |  \n",
            "     |  __truediv__(self, value, /)\n",
            "     |      Return self/value.\n",
            "     |  \n",
            "     |  total_seconds(...)\n",
            "     |      Total seconds in the duration.\n",
            "     |  \n",
            "     |  ----------------------------------------------------------------------\n",
            "     |  Static methods defined here:\n",
            "     |  \n",
            "     |  __new__(*args, **kwargs) from builtins.type\n",
            "     |      Create and return a new object.  See help(type) for accurate signature.\n",
            "     |  \n",
            "     |  ----------------------------------------------------------------------\n",
            "     |  Data descriptors defined here:\n",
            "     |  \n",
            "     |  days\n",
            "     |      Number of days.\n",
            "     |  \n",
            "     |  microseconds\n",
            "     |      Number of microseconds (>= 0 and less than 1 second).\n",
            "     |  \n",
            "     |  seconds\n",
            "     |      Number of seconds (>= 0 and less than 1 day).\n",
            "     |  \n",
            "     |  ----------------------------------------------------------------------\n",
            "     |  Data and other attributes defined here:\n",
            "     |  \n",
            "     |  max = datetime.timedelta(days=999999999, seconds=86399, microseconds=9...\n",
            "     |  \n",
            "     |  min = datetime.timedelta(days=-999999999)\n",
            "     |  \n",
            "     |  resolution = datetime.timedelta(microseconds=1)\n",
            "    \n",
            "    class timezone(tzinfo)\n",
            "     |  Fixed offset from UTC implementation of tzinfo.\n",
            "     |  \n",
            "     |  Method resolution order:\n",
            "     |      timezone\n",
            "     |      tzinfo\n",
            "     |      builtins.object\n",
            "     |  \n",
            "     |  Methods defined here:\n",
            "     |  \n",
            "     |  __eq__(self, value, /)\n",
            "     |      Return self==value.\n",
            "     |  \n",
            "     |  __ge__(self, value, /)\n",
            "     |      Return self>=value.\n",
            "     |  \n",
            "     |  __getinitargs__(...)\n",
            "     |      pickle support\n",
            "     |  \n",
            "     |  __gt__(self, value, /)\n",
            "     |      Return self>value.\n",
            "     |  \n",
            "     |  __hash__(self, /)\n",
            "     |      Return hash(self).\n",
            "     |  \n",
            "     |  __le__(self, value, /)\n",
            "     |      Return self<=value.\n",
            "     |  \n",
            "     |  __lt__(self, value, /)\n",
            "     |      Return self<value.\n",
            "     |  \n",
            "     |  __ne__(self, value, /)\n",
            "     |      Return self!=value.\n",
            "     |  \n",
            "     |  __repr__(self, /)\n",
            "     |      Return repr(self).\n",
            "     |  \n",
            "     |  __str__(self, /)\n",
            "     |      Return str(self).\n",
            "     |  \n",
            "     |  dst(...)\n",
            "     |      Return None.\n",
            "     |  \n",
            "     |  fromutc(...)\n",
            "     |      datetime in UTC -> datetime in local time.\n",
            "     |  \n",
            "     |  tzname(...)\n",
            "     |      If name is specified when timezone is created, returns the name.  Otherwise returns offset as 'UTC(+|-)HH:MM'.\n",
            "     |  \n",
            "     |  utcoffset(...)\n",
            "     |      Return fixed offset.\n",
            "     |  \n",
            "     |  ----------------------------------------------------------------------\n",
            "     |  Static methods defined here:\n",
            "     |  \n",
            "     |  __new__(*args, **kwargs) from builtins.type\n",
            "     |      Create and return a new object.  See help(type) for accurate signature.\n",
            "     |  \n",
            "     |  ----------------------------------------------------------------------\n",
            "     |  Data and other attributes defined here:\n",
            "     |  \n",
            "     |  max = datetime.timezone(datetime.timedelta(seconds=86340))\n",
            "     |  \n",
            "     |  min = datetime.timezone(datetime.timedelta(days=-1, seconds=60))\n",
            "     |  \n",
            "     |  utc = datetime.timezone.utc\n",
            "     |  \n",
            "     |  ----------------------------------------------------------------------\n",
            "     |  Methods inherited from tzinfo:\n",
            "     |  \n",
            "     |  __getattribute__(self, name, /)\n",
            "     |      Return getattr(self, name).\n",
            "     |  \n",
            "     |  __reduce__(...)\n",
            "     |      -> (cls, state)\n",
            "    \n",
            "    class tzinfo(builtins.object)\n",
            "     |  Abstract base class for time zone info objects.\n",
            "     |  \n",
            "     |  Methods defined here:\n",
            "     |  \n",
            "     |  __getattribute__(self, name, /)\n",
            "     |      Return getattr(self, name).\n",
            "     |  \n",
            "     |  __reduce__(...)\n",
            "     |      -> (cls, state)\n",
            "     |  \n",
            "     |  dst(...)\n",
            "     |      datetime -> DST offset as timedelta positive east of UTC.\n",
            "     |  \n",
            "     |  fromutc(...)\n",
            "     |      datetime in UTC -> datetime in local time.\n",
            "     |  \n",
            "     |  tzname(...)\n",
            "     |      datetime -> string name of time zone.\n",
            "     |  \n",
            "     |  utcoffset(...)\n",
            "     |      datetime -> timedelta showing offset from UTC, negative values indicating West of UTC\n",
            "     |  \n",
            "     |  ----------------------------------------------------------------------\n",
            "     |  Static methods defined here:\n",
            "     |  \n",
            "     |  __new__(*args, **kwargs) from builtins.type\n",
            "     |      Create and return a new object.  See help(type) for accurate signature.\n",
            "\n",
            "DATA\n",
            "    MAXYEAR = 9999\n",
            "    MINYEAR = 1\n",
            "    datetime_CAPI = <capsule object \"datetime.datetime_CAPI\">\n",
            "\n",
            "FILE\n",
            "    /usr/lib/python3.7/datetime.py\n",
            "\n",
            "\n"
          ]
        }
      ]
    },
    {
      "cell_type": "code",
      "metadata": {
        "id": "TuuSgmUY4R42"
      },
      "source": [
        "from datetime import datetime, date, time"
      ],
      "execution_count": null,
      "outputs": []
    },
    {
      "cell_type": "markdown",
      "metadata": {
        "id": "GCVhjqFAiUid"
      },
      "source": [
        "Дата"
      ]
    },
    {
      "cell_type": "code",
      "metadata": {
        "colab": {
          "base_uri": "https://localhost:8080/"
        },
        "id": "CV5rVq02iSWV",
        "outputId": "866cc6b7-bce1-4204-dcda-a2b5b7edbfcb"
      },
      "source": [
        "d = date(2005, 7, 14)\n",
        "d"
      ],
      "execution_count": null,
      "outputs": [
        {
          "output_type": "execute_result",
          "data": {
            "text/plain": [
              "datetime.date(2005, 7, 14)"
            ]
          },
          "metadata": {},
          "execution_count": 85
        }
      ]
    },
    {
      "cell_type": "code",
      "metadata": {
        "colab": {
          "base_uri": "https://localhost:8080/"
        },
        "id": "M9q1T1mk4Rsz",
        "outputId": "e7dca17e-da70-4cf4-88af-a646c529d945"
      },
      "source": [
        "d.day"
      ],
      "execution_count": null,
      "outputs": [
        {
          "output_type": "execute_result",
          "data": {
            "text/plain": [
              "14"
            ]
          },
          "metadata": {},
          "execution_count": 75
        }
      ]
    },
    {
      "cell_type": "code",
      "metadata": {
        "colab": {
          "base_uri": "https://localhost:8080/"
        },
        "id": "A8rOo08ZiFFs",
        "outputId": "aea316d6-4aa1-4eda-9dec-ff9e4b3abc66"
      },
      "source": [
        "d.year"
      ],
      "execution_count": null,
      "outputs": [
        {
          "output_type": "execute_result",
          "data": {
            "text/plain": [
              "2005"
            ]
          },
          "metadata": {},
          "execution_count": 76
        }
      ]
    },
    {
      "cell_type": "code",
      "metadata": {
        "colab": {
          "base_uri": "https://localhost:8080/"
        },
        "id": "kNZ0lgj9ix1s",
        "outputId": "5e121abb-48af-4f3d-f0ca-992767e905f1"
      },
      "source": [
        "d.weekday()"
      ],
      "execution_count": null,
      "outputs": [
        {
          "output_type": "execute_result",
          "data": {
            "text/plain": [
              "3"
            ]
          },
          "metadata": {},
          "execution_count": 83
        }
      ]
    },
    {
      "cell_type": "markdown",
      "metadata": {
        "id": "ZAeyGTcYiWy4"
      },
      "source": [
        "Время"
      ]
    },
    {
      "cell_type": "code",
      "metadata": {
        "colab": {
          "base_uri": "https://localhost:8080/"
        },
        "id": "JFFiaBJQiHtB",
        "outputId": "1f62db2e-dc64-4877-fc01-5e0f8470c04c"
      },
      "source": [
        "t = time(12, 30)\n",
        "t"
      ],
      "execution_count": null,
      "outputs": [
        {
          "output_type": "execute_result",
          "data": {
            "text/plain": [
              "datetime.time(12, 30)"
            ]
          },
          "metadata": {},
          "execution_count": 65
        }
      ]
    },
    {
      "cell_type": "code",
      "metadata": {
        "colab": {
          "base_uri": "https://localhost:8080/"
        },
        "id": "4TJ_afsKfowV",
        "outputId": "f84462e3-7b7d-412c-a77d-ca95959597de"
      },
      "source": [
        "t.hour"
      ],
      "execution_count": null,
      "outputs": [
        {
          "output_type": "execute_result",
          "data": {
            "text/plain": [
              "12"
            ]
          },
          "metadata": {},
          "execution_count": 66
        }
      ]
    },
    {
      "cell_type": "markdown",
      "metadata": {
        "id": "reEucIluiYTU"
      },
      "source": [
        "Можно объеденить"
      ]
    },
    {
      "cell_type": "code",
      "metadata": {
        "colab": {
          "base_uri": "https://localhost:8080/"
        },
        "id": "EVNM-gsPiOD7",
        "outputId": "e9f761aa-6f9b-41e4-83a2-4797d25003cd"
      },
      "source": [
        "datetime.combine(d, t)"
      ],
      "execution_count": null,
      "outputs": [
        {
          "output_type": "execute_result",
          "data": {
            "text/plain": [
              "datetime.datetime(2005, 7, 14, 12, 30)"
            ]
          },
          "metadata": {},
          "execution_count": 78
        }
      ]
    },
    {
      "cell_type": "markdown",
      "metadata": {
        "id": "rF7uDwVfjPmz"
      },
      "source": [
        "Преобразуем строку в формат даты"
      ]
    },
    {
      "cell_type": "code",
      "metadata": {
        "colab": {
          "base_uri": "https://localhost:8080/"
        },
        "id": "Mw3E1KbajPSL",
        "outputId": "96fa6287-c5e8-42f0-b869-749bf1ce72c9"
      },
      "source": [
        "dt = datetime.strptime(\"25/10/07 17:45\", \"%d/%m/%y %H:%M\")\n",
        "dt"
      ],
      "execution_count": null,
      "outputs": [
        {
          "output_type": "execute_result",
          "data": {
            "text/plain": [
              "datetime.datetime(2007, 10, 25, 17, 45)"
            ]
          },
          "metadata": {},
          "execution_count": 89
        }
      ]
    },
    {
      "cell_type": "markdown",
      "metadata": {
        "id": "pbgE3FOuieNx"
      },
      "source": [
        "Получим информацию о дате и времени сейчас"
      ]
    },
    {
      "cell_type": "code",
      "metadata": {
        "colab": {
          "base_uri": "https://localhost:8080/"
        },
        "id": "C13bzP1nieJa",
        "outputId": "e6fbde86-e1a3-4ba1-c7a7-c28ae9d35636"
      },
      "source": [
        "datetime.now()"
      ],
      "execution_count": null,
      "outputs": [
        {
          "output_type": "execute_result",
          "data": {
            "text/plain": [
              "datetime.datetime(2022, 9, 23, 15, 53, 5, 952326)"
            ]
          },
          "metadata": {},
          "execution_count": 90
        }
      ]
    },
    {
      "cell_type": "code",
      "metadata": {
        "colab": {
          "base_uri": "https://localhost:8080/",
          "height": 35
        },
        "id": "tqbv1NQRieFT",
        "outputId": "f2e3c208-546b-40cf-8a89-fe1d60620f38"
      },
      "source": [
        "# Используя знания о форматировании строк и о работе с датами, напишите код,\n",
        "# который выводит фразу \"Сегодня 15 число 10-го месяца 2019 года, а времени всего на 17 минут больше 19-и часов\"\n",
        "#только естественно все цифры должны быть с поправкой на действительно сегодня и на текущее время, а также динамично менятся при перезапуске кода\n",
        "today = datetime.now()\n",
        "f\"Сегодня {today.year} год\"\n",
        "# ваш код"
      ],
      "execution_count": null,
      "outputs": [
        {
          "output_type": "execute_result",
          "data": {
            "application/vnd.google.colaboratory.intrinsic+json": {
              "type": "string"
            },
            "text/plain": [
              "'Сегодня 2021 год'"
            ]
          },
          "metadata": {},
          "execution_count": 68
        }
      ]
    },
    {
      "cell_type": "markdown",
      "metadata": {
        "id": "KA-RITZJkRVv"
      },
      "source": [
        "## time"
      ]
    },
    {
      "cell_type": "markdown",
      "metadata": {
        "id": "E4Gs4ESPkXGM"
      },
      "source": [
        "* `time.altzone` - смещение DST часового пояса в секундах к западу от нулевого меридиана. Если часовой пояс находится восточнее, смещение отрицательно.\n",
        "\n",
        "* `time.asctime([t])` - преобразовывает кортеж или struct_time в строку вида \"Thu Sep 27 16:42:37 2012\". Если аргумент не указан, используется текущее время.\n",
        "\n",
        "* `time.clock()` - в Unix, возвращает текущее время. В Windows, возвращает время, прошедшее с момента первого вызова данной функции.\n",
        "\n",
        "* `time.ctime([сек])` - преобразует время, выраженное в секундах с начала эпохи в строку вида \"Thu Sep 27 16:42:37 2012\".\n",
        "\n",
        "* `time.daylight` - не 0, если определено, зимнее время или летнее (DST).\n",
        "\n",
        "* `time.gmtime([сек])` - преобразует время, выраженное в секундах с начала эпохи в struct_time, где DST флаг всегда равен нулю.\n",
        "\n",
        "* `time.localtime([сек])` - как gmtime, но с DST флагом.\n",
        "\n",
        "* `time.mktime(t)` - преобразует кортеж или struct_time в число секунд с начала эпохи. Обратна функции time.localtime.\n",
        "\n",
        "* `time.sleep(сек)` - приостановить выполнение программы на заданное количество секунд.\n",
        "\n",
        "* `time.strftime(формат, [t])` - преобразует кортеж или struct_time в строку по формату:"
      ]
    },
    {
      "cell_type": "code",
      "metadata": {
        "id": "MaAshBEKlALj"
      },
      "source": [
        "import time"
      ],
      "execution_count": null,
      "outputs": []
    },
    {
      "cell_type": "markdown",
      "metadata": {
        "id": "0a1svxjLlDlN"
      },
      "source": [
        "При извлеении информации с разных сайтов, поисковые роботы вынуждены копировать поведение людей. Например действовать не очень быстро, находиться на разных страницах разное время. И вот тут нам может помочь функция sleep()"
      ]
    },
    {
      "cell_type": "code",
      "metadata": {
        "colab": {
          "base_uri": "https://localhost:8080/"
        },
        "id": "sxT7qtiKieBM",
        "outputId": "08ba55fa-0f58-46aa-8a1c-0b1219bc3c66"
      },
      "source": [
        "%%time\n",
        "time.sleep(60*60)"
      ],
      "execution_count": null,
      "outputs": [
        {
          "output_type": "stream",
          "name": "stdout",
          "text": [
            "CPU times: user 15.4 ms, sys: 2.53 ms, total: 17.9 ms\n",
            "Wall time: 3 s\n"
          ]
        }
      ]
    },
    {
      "cell_type": "code",
      "metadata": {
        "id": "OJqxzqiBid8_"
      },
      "source": [
        "# давайте напишем функцию, которая будет \"спать\" заданное число секунд\n",
        "def my_sleep():\n",
        "    \n",
        "# ваш код\n",
        "my_sleep()"
      ],
      "execution_count": null,
      "outputs": []
    },
    {
      "cell_type": "markdown",
      "metadata": {
        "id": "fypBmxVQlnw0"
      },
      "source": [
        "Также, для профилирования кода, часто полезно знать, а сколько же отрабатывает каждая конкретная функция. Так можно найти, так называемые, узкие места кода. То есть функции, которые выполняются значительно дольше других"
      ]
    },
    {
      "cell_type": "code",
      "metadata": {
        "colab": {
          "base_uri": "https://localhost:8080/"
        },
        "id": "ysw9gxPNid45",
        "outputId": "2a0f57ec-c684-4702-9bd6-5ff1f5dfaf17"
      },
      "source": [
        "t1 = time.perf_counter()\n",
        "time.sleep(3)\n",
        "time.perf_counter() - t1"
      ],
      "execution_count": null,
      "outputs": [
        {
          "output_type": "execute_result",
          "data": {
            "text/plain": [
              "3.003354873999342"
            ]
          },
          "metadata": {},
          "execution_count": 93
        }
      ]
    },
    {
      "cell_type": "markdown",
      "metadata": {
        "id": "ThRoYX-BnEE5"
      },
      "source": [
        "Но что если мы хотим в такие принты оборачивать любую произвольную функцию?"
      ]
    },
    {
      "cell_type": "code",
      "metadata": {
        "colab": {
          "base_uri": "https://localhost:8080/"
        },
        "id": "dpiRezgPidw_",
        "outputId": "b5e491ce-fee0-4774-88dc-079dbd9b3e28"
      },
      "source": [
        "# *param - любое количество параметров\n",
        "def my_logs(func, *param):\n",
        "    print(f\"{func.__name__} started now\")\n",
        "    res = func(*param)\n",
        "    print(f\"{func.__name__} finished now with result: {res}\")\n",
        "\n",
        "my_logs(my_sum, 2, 3)"
      ],
      "execution_count": null,
      "outputs": [
        {
          "output_type": "stream",
          "name": "stdout",
          "text": [
            "my_sum started now\n",
            "my_sum finished now with result: 5\n"
          ]
        }
      ]
    },
    {
      "cell_type": "markdown",
      "metadata": {
        "id": "TVAz0nIgn5UB"
      },
      "source": [
        "Зная все вышеизложенное, напишите функцию, которая будет принимать любую функцию:\n",
        "* перед ее запуском будет говорить, что \"функция\" запущена в \"время\"\n",
        "* после ее запуска будет говорить, что \"функция\" выполнилась в \"время\"\n",
        "* время работы \"функции\": \"время работы функции\"\n",
        "\n",
        "Затем протестируйте новую функцию на функции, которая умеет засыпать на указанное время"
      ]
    },
    {
      "cell_type": "code",
      "metadata": {
        "id": "0aB2ezgPids2"
      },
      "source": [
        "# ваш код тут"
      ],
      "execution_count": null,
      "outputs": []
    }
  ]
}