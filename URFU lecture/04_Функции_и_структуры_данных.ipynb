{
  "nbformat": 4,
  "nbformat_minor": 0,
  "metadata": {
    "colab": {
      "provenance": [],
      "collapsed_sections": [
        "KdPryc4aKV1x",
        "SevmZ_pnPsMf",
        "MC_E2-3gULy0",
        "HN7IaF60Xg1r",
        "e4U7_m_YsvpT",
        "h49bl2PNNzkI"
      ]
    },
    "kernelspec": {
      "name": "python3",
      "display_name": "Python 3"
    }
  },
  "cells": [
    {
      "cell_type": "markdown",
      "metadata": {
        "id": "KdPryc4aKV1x"
      },
      "source": [
        "# Tuple"
      ]
    },
    {
      "cell_type": "markdown",
      "metadata": {
        "id": "EyeOicTNKz9D"
      },
      "source": [
        "\n",
        "\n",
        "*   Неизменяемый тип. Иногда полезно, когда список нельзя изменить\n",
        "*   Меньший размер.\n",
        "\n"
      ]
    },
    {
      "cell_type": "code",
      "metadata": {
        "id": "l4quhMAX0iN-",
        "outputId": "c8e209c1-db46-4cf7-ab85-2eeef103f064",
        "colab": {
          "base_uri": "https://localhost:8080/",
          "height": 52
        }
      },
      "source": [
        "a = (1, 2, 3, 4, 5, 6, 7, 8, 9, 10)\n",
        "b = [1, 2, 3, 4, 5, 6, 7, 8, 9, 10]\n",
        "print(a.__sizeof__())\n",
        "print(b.__sizeof__())"
      ],
      "execution_count": null,
      "outputs": [
        {
          "output_type": "stream",
          "text": [
            "104\n",
            "120\n"
          ],
          "name": "stdout"
        }
      ]
    },
    {
      "cell_type": "markdown",
      "metadata": {
        "id": "Et78fecNLfeR"
      },
      "source": [
        "Присваивание значений переменным"
      ]
    },
    {
      "cell_type": "code",
      "metadata": {
        "id": "rjq70DrZLlob",
        "outputId": "1b3e469a-2f8b-4592-da0c-d72a272ef8dc",
        "colab": {
          "base_uri": "https://localhost:8080/",
          "height": 34
        }
      },
      "source": [
        "x, y, z, w, q = (1, 2, 3, 4, 5)\n",
        "print(x, y, z, w, q)"
      ],
      "execution_count": null,
      "outputs": [
        {
          "output_type": "stream",
          "text": [
            "1 2 3 4 5\n"
          ],
          "name": "stdout"
        }
      ]
    },
    {
      "cell_type": "markdown",
      "metadata": {
        "id": "3LBDZf-hLl_T"
      },
      "source": [
        "Использование в качестве ключей словаря"
      ]
    },
    {
      "cell_type": "code",
      "metadata": {
        "id": "CdSc6QT3Lkrf",
        "outputId": "0ed23b37-3c2f-4768-c112-7da9b93359be",
        "colab": {
          "base_uri": "https://localhost:8080/"
        }
      },
      "source": [
        "d = {(1, 1, 1) : 1}\n",
        "print(d)"
      ],
      "execution_count": null,
      "outputs": [
        {
          "output_type": "stream",
          "name": "stdout",
          "text": [
            "{(1, 1, 1): 1}\n"
          ]
        }
      ]
    },
    {
      "cell_type": "markdown",
      "source": [
        "А вот список нельзя использовать, как ключ"
      ],
      "metadata": {
        "id": "yQ8Pa65_bKwE"
      }
    },
    {
      "cell_type": "code",
      "source": [
        "d = {[1, 1, 1] : 1}"
      ],
      "metadata": {
        "colab": {
          "base_uri": "https://localhost:8080/",
          "height": 168
        },
        "id": "GkaAPFJ2bJgk",
        "outputId": "47fd1b1c-f69b-4b8e-c90e-b07f8d1a822e"
      },
      "execution_count": null,
      "outputs": [
        {
          "output_type": "error",
          "ename": "TypeError",
          "evalue": "ignored",
          "traceback": [
            "\u001b[0;31m---------------------------------------------------------------------------\u001b[0m",
            "\u001b[0;31mTypeError\u001b[0m                                 Traceback (most recent call last)",
            "\u001b[0;32m<ipython-input-26-46b8ea6d6092>\u001b[0m in \u001b[0;36m<module>\u001b[0;34m\u001b[0m\n\u001b[0;32m----> 1\u001b[0;31m \u001b[0md\u001b[0m \u001b[0;34m=\u001b[0m \u001b[0;34m{\u001b[0m\u001b[0;34m[\u001b[0m\u001b[0;36m1\u001b[0m\u001b[0;34m,\u001b[0m \u001b[0;36m1\u001b[0m\u001b[0;34m,\u001b[0m \u001b[0;36m1\u001b[0m\u001b[0;34m]\u001b[0m \u001b[0;34m:\u001b[0m \u001b[0;36m1\u001b[0m\u001b[0;34m}\u001b[0m\u001b[0;34m\u001b[0m\u001b[0;34m\u001b[0m\u001b[0m\n\u001b[0m",
            "\u001b[0;31mTypeError\u001b[0m: unhashable type: 'list'"
          ]
        }
      ]
    },
    {
      "cell_type": "code",
      "metadata": {
        "id": "uDegPMLzMpmy"
      },
      "source": [
        "# объявление tuple\n",
        "t = tuple()"
      ],
      "execution_count": null,
      "outputs": []
    },
    {
      "cell_type": "code",
      "metadata": {
        "id": "hx3y2XnTMpk0",
        "outputId": "9d18fc2e-597b-4353-cdff-421db804778e",
        "colab": {
          "base_uri": "https://localhost:8080/"
        }
      },
      "source": [
        "t = ()\n",
        "print(type(t))"
      ],
      "execution_count": null,
      "outputs": [
        {
          "output_type": "stream",
          "name": "stdout",
          "text": [
            "<class 'tuple'>\n"
          ]
        }
      ]
    },
    {
      "cell_type": "code",
      "metadata": {
        "id": "aYthg5e6Mpgx",
        "outputId": "c5364ebf-7b77-43ca-84b5-a5e4c10e3b64",
        "colab": {
          "base_uri": "https://localhost:8080/",
          "height": 52
        }
      },
      "source": [
        "t = ('s')\n",
        "print(t)\n",
        "type(t)"
      ],
      "execution_count": null,
      "outputs": [
        {
          "output_type": "stream",
          "text": [
            "s\n"
          ],
          "name": "stdout"
        },
        {
          "output_type": "execute_result",
          "data": {
            "text/plain": [
              "str"
            ]
          },
          "metadata": {
            "tags": []
          },
          "execution_count": 101
        }
      ]
    },
    {
      "cell_type": "code",
      "metadata": {
        "id": "dvN2diirMpcC",
        "outputId": "fdbc040a-3434-4c97-e3b1-0b9c9fd9f925",
        "colab": {
          "base_uri": "https://localhost:8080/",
          "height": 52
        }
      },
      "source": [
        "t = ('s', )\n",
        "print(t)\n",
        "type(t)"
      ],
      "execution_count": null,
      "outputs": [
        {
          "output_type": "stream",
          "text": [
            "('s',)\n"
          ],
          "name": "stdout"
        },
        {
          "output_type": "execute_result",
          "data": {
            "text/plain": [
              "tuple"
            ]
          },
          "metadata": {
            "tags": []
          },
          "execution_count": 9
        }
      ]
    },
    {
      "cell_type": "code",
      "metadata": {
        "id": "irdA3AmmMpXQ",
        "outputId": "528d95d1-cae2-437f-ed50-0076eecdc5bd",
        "colab": {
          "base_uri": "https://localhost:8080/",
          "height": 52
        }
      },
      "source": [
        "t = 's', \n",
        "print(t)\n",
        "type(t)"
      ],
      "execution_count": null,
      "outputs": [
        {
          "output_type": "stream",
          "text": [
            "('s',)\n"
          ],
          "name": "stdout"
        },
        {
          "output_type": "execute_result",
          "data": {
            "text/plain": [
              "tuple"
            ]
          },
          "metadata": {
            "tags": []
          },
          "execution_count": 10
        }
      ]
    },
    {
      "cell_type": "code",
      "metadata": {
        "id": "dVZklNegMpSw",
        "outputId": "b3df8683-2c2b-4084-d9b0-f8dc742a521b",
        "colab": {
          "base_uri": "https://localhost:8080/",
          "height": 382
        }
      },
      "source": [
        "t = tuple('урок программирования')\n",
        "t"
      ],
      "execution_count": null,
      "outputs": [
        {
          "output_type": "execute_result",
          "data": {
            "text/plain": [
              "('у',\n",
              " 'р',\n",
              " 'о',\n",
              " 'к',\n",
              " ' ',\n",
              " 'п',\n",
              " 'р',\n",
              " 'о',\n",
              " 'г',\n",
              " 'р',\n",
              " 'а',\n",
              " 'м',\n",
              " 'м',\n",
              " 'и',\n",
              " 'р',\n",
              " 'о',\n",
              " 'в',\n",
              " 'а',\n",
              " 'н',\n",
              " 'и',\n",
              " 'я')"
            ]
          },
          "metadata": {
            "tags": []
          },
          "execution_count": 11
        }
      ]
    },
    {
      "cell_type": "code",
      "metadata": {
        "id": "ALUnePwYMpQS",
        "outputId": "ef68eadf-e796-4486-9509-27977409bcdb",
        "colab": {
          "base_uri": "https://localhost:8080/",
          "height": 34
        }
      },
      "source": [
        "x, y = 12, 19\n",
        "x, y = y, x\n",
        "print(x, y)"
      ],
      "execution_count": null,
      "outputs": [
        {
          "output_type": "stream",
          "text": [
            "19 12\n"
          ],
          "name": "stdout"
        }
      ]
    },
    {
      "cell_type": "markdown",
      "source": [
        "Делаем tuple немного изменяемым"
      ],
      "metadata": {
        "id": "OxaimKYbbexs"
      }
    },
    {
      "cell_type": "code",
      "metadata": {
        "id": "n50ZsjXaMpNd",
        "outputId": "c840fdca-65e9-4350-86b9-e3d17a411919",
        "colab": {
          "base_uri": "https://localhost:8080/",
          "height": 34
        }
      },
      "source": [
        "t = ([], 1, 2)\n",
        "t[0].append(1)\n",
        "t"
      ],
      "execution_count": null,
      "outputs": [
        {
          "output_type": "execute_result",
          "data": {
            "text/plain": [
              "([1], 1, 2)"
            ]
          },
          "metadata": {
            "tags": []
          },
          "execution_count": 103
        }
      ]
    },
    {
      "cell_type": "markdown",
      "source": [
        "Пара приемов распаковки переменных"
      ],
      "metadata": {
        "id": "3mLeoA40bk-U"
      }
    },
    {
      "cell_type": "code",
      "source": [
        "x, y, *z = 1, 2, 3, 4, 5, 6, 7\n",
        "x, y, z"
      ],
      "metadata": {
        "colab": {
          "base_uri": "https://localhost:8080/"
        },
        "id": "dlHo2TMPbnqk",
        "outputId": "7a1c3171-f308-41a8-f130-99d06f7aa483"
      },
      "execution_count": null,
      "outputs": [
        {
          "output_type": "execute_result",
          "data": {
            "text/plain": [
              "(1, 2, [3, 4, 5, 6, 7])"
            ]
          },
          "metadata": {},
          "execution_count": 12
        }
      ]
    },
    {
      "cell_type": "code",
      "source": [
        "x, *y, z = 1, 2, 3, 4, 5, 6, 7\n",
        "x, y, z"
      ],
      "metadata": {
        "colab": {
          "base_uri": "https://localhost:8080/"
        },
        "id": "SbugrW4YcJeD",
        "outputId": "2c1d354e-ff8b-4540-fe35-7c8b29e6833e"
      },
      "execution_count": null,
      "outputs": [
        {
          "output_type": "execute_result",
          "data": {
            "text/plain": [
              "(1, [2, 3, 4, 5, 6], 7)"
            ]
          },
          "metadata": {},
          "execution_count": 14
        }
      ]
    },
    {
      "cell_type": "code",
      "source": [
        "*x, y, z = 1, 2, 3, 4, 5, 6, 7\n",
        "x, y, z"
      ],
      "metadata": {
        "colab": {
          "base_uri": "https://localhost:8080/"
        },
        "id": "pUdIMXVlcMub",
        "outputId": "db299312-77af-4164-b54b-ad49e430e5f7"
      },
      "execution_count": null,
      "outputs": [
        {
          "output_type": "execute_result",
          "data": {
            "text/plain": [
              "([1, 2, 3, 4, 5], 6, 7)"
            ]
          },
          "metadata": {},
          "execution_count": 15
        }
      ]
    },
    {
      "cell_type": "markdown",
      "metadata": {
        "id": "SevmZ_pnPsMf"
      },
      "source": [
        "# SET"
      ]
    },
    {
      "cell_type": "code",
      "metadata": {
        "id": "r7ZgxlR6MpMY"
      },
      "source": [
        "a = set()"
      ],
      "execution_count": null,
      "outputs": []
    },
    {
      "cell_type": "code",
      "metadata": {
        "id": "FgJAQxxJMpJS",
        "outputId": "2808bd74-debf-4706-8ba3-e89da2bbd00d",
        "colab": {
          "base_uri": "https://localhost:8080/",
          "height": 34
        }
      },
      "source": [
        "a = set('hello')\n",
        "a"
      ],
      "execution_count": null,
      "outputs": [
        {
          "output_type": "execute_result",
          "data": {
            "text/plain": [
              "{'e', 'h', 'l', 'o'}"
            ]
          },
          "metadata": {
            "tags": []
          },
          "execution_count": 105
        }
      ]
    },
    {
      "cell_type": "code",
      "metadata": {
        "id": "HnyEDu5JMpHH",
        "outputId": "1e16d161-9f84-4672-fd53-6ad2de8f8e3c",
        "colab": {
          "base_uri": "https://localhost:8080/",
          "height": 34
        }
      },
      "source": [
        "a = {'h', 'e', 'l', 'l', 'o'}\n",
        "a"
      ],
      "execution_count": null,
      "outputs": [
        {
          "output_type": "execute_result",
          "data": {
            "text/plain": [
              "{'e', 'h', 'l', 'o'}"
            ]
          },
          "metadata": {
            "tags": []
          },
          "execution_count": 106
        }
      ]
    },
    {
      "cell_type": "markdown",
      "source": [
        "Как не нужно объявлять множества"
      ],
      "metadata": {
        "id": "ZdKX9rCAZGao"
      }
    },
    {
      "cell_type": "code",
      "metadata": {
        "id": "F_ebRDvmmtDL",
        "outputId": "ae138c8b-39c3-44a1-aea5-e929eba0d325",
        "colab": {
          "base_uri": "https://localhost:8080/"
        }
      },
      "source": [
        "a = {}\n",
        "print(type(a))"
      ],
      "execution_count": null,
      "outputs": [
        {
          "output_type": "stream",
          "name": "stdout",
          "text": [
            "<class 'dict'>\n"
          ]
        }
      ]
    },
    {
      "cell_type": "code",
      "metadata": {
        "id": "8AkpGK4lMpEc",
        "outputId": "74d1a26e-d235-4f7a-f1ae-78db3f0d2364",
        "colab": {
          "base_uri": "https://localhost:8080/",
          "height": 34
        }
      },
      "source": [
        "# генератор множеств\n",
        "a = {i ** 2 for i in range(10)}\n",
        "a"
      ],
      "execution_count": null,
      "outputs": [
        {
          "output_type": "execute_result",
          "data": {
            "text/plain": [
              "{0, 1, 4, 9, 16, 25, 36, 49, 64, 81}"
            ]
          },
          "metadata": {
            "tags": []
          },
          "execution_count": 110
        }
      ]
    },
    {
      "cell_type": "code",
      "metadata": {
        "id": "DC00EZV3MpCr"
      },
      "source": [
        "set_1 = {1,2,3,4,5,6,7,8,9}\n",
        "set_2 = {7,8,9, 10, 10, 11, 12, 13, 14}"
      ],
      "execution_count": null,
      "outputs": []
    },
    {
      "cell_type": "code",
      "metadata": {
        "id": "IkyedbNRMo_y",
        "outputId": "b648d301-b09e-41bd-b5a0-89f863d1607e",
        "colab": {
          "base_uri": "https://localhost:8080/"
        }
      },
      "source": [
        "len(set_1)"
      ],
      "execution_count": null,
      "outputs": [
        {
          "output_type": "execute_result",
          "data": {
            "text/plain": [
              "9"
            ]
          },
          "metadata": {},
          "execution_count": 31
        }
      ]
    },
    {
      "cell_type": "code",
      "metadata": {
        "id": "wtScfPBYMo77",
        "outputId": "b4a28ee3-413c-4024-d6fe-b2da7e40aaff",
        "colab": {
          "base_uri": "https://localhost:8080/"
        }
      },
      "source": [
        "8 in set_1 # принадлежит ли x множеству set_1."
      ],
      "execution_count": null,
      "outputs": [
        {
          "output_type": "execute_result",
          "data": {
            "text/plain": [
              "True"
            ]
          },
          "metadata": {},
          "execution_count": 32
        }
      ]
    },
    {
      "cell_type": "code",
      "metadata": {
        "id": "GzrQ9HViMotU",
        "outputId": "f7168717-455e-4422-946d-6a8754fb621b",
        "colab": {
          "base_uri": "https://localhost:8080/"
        }
      },
      "source": [
        "set_1 = {1,2,3,4,5,6,7,8,9}\n",
        "set_2 = {7,8,9, 10, 10, 11, 12, 13, 14}\n",
        "set_1.isdisjoint(set_2) # истина, если set_1 и set_2 не имеют общих элементов"
      ],
      "execution_count": null,
      "outputs": [
        {
          "output_type": "execute_result",
          "data": {
            "text/plain": [
              "False"
            ]
          },
          "metadata": {},
          "execution_count": 33
        }
      ]
    },
    {
      "cell_type": "code",
      "metadata": {
        "id": "fUaQPu4WRTzP",
        "outputId": "8c7daf81-2623-425f-c9e4-3270db950158",
        "colab": {
          "base_uri": "https://localhost:8080/",
          "height": 34
        }
      },
      "source": [
        "set_1 == set_2 # все элементы set_1 принадлежат set_2, все элементы set_2 принадлежат set_1."
      ],
      "execution_count": null,
      "outputs": [
        {
          "output_type": "execute_result",
          "data": {
            "text/plain": [
              "False"
            ]
          },
          "metadata": {
            "tags": []
          },
          "execution_count": 117
        }
      ]
    },
    {
      "cell_type": "markdown",
      "source": [
        "Множество `А` принадлежит множеству `B`. `А` является подмножеством `B`"
      ],
      "metadata": {
        "id": "Iu9FvihuVlof"
      }
    },
    {
      "cell_type": "markdown",
      "source": [
        "![image.png](data:image/png;base64,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)"
      ],
      "metadata": {
        "id": "Xir4lmXJVhwv"
      }
    },
    {
      "cell_type": "code",
      "metadata": {
        "id": "BuVtFlzJRTwt",
        "outputId": "cb4da428-cd55-4943-dc47-378a1b97538c",
        "colab": {
          "base_uri": "https://localhost:8080/",
          "height": 34
        }
      },
      "source": [
        "set_1 = {1,2,3,4,5,6,7,8,9}\n",
        "set_2 = {7,8,9, 10, 10, 11, 12, 13, 14}\n",
        "set_3 = {1,5,8}\n",
        "set_3.issubset(set_1) # принадлежит ли set_3 множеству set_1 "
      ],
      "execution_count": null,
      "outputs": [
        {
          "output_type": "execute_result",
          "data": {
            "text/plain": [
              "True"
            ]
          },
          "metadata": {
            "tags": []
          },
          "execution_count": 118
        }
      ]
    },
    {
      "cell_type": "code",
      "metadata": {
        "id": "eEvjW_1_SIM4",
        "outputId": "09b47846-cc78-471a-d6b3-253184a9c461",
        "colab": {
          "base_uri": "https://localhost:8080/",
          "height": 34
        }
      },
      "source": [
        "set_3 <= set_1 # аналогично предыдущему "
      ],
      "execution_count": null,
      "outputs": [
        {
          "output_type": "execute_result",
          "data": {
            "text/plain": [
              "True"
            ]
          },
          "metadata": {
            "tags": []
          },
          "execution_count": 119
        }
      ]
    },
    {
      "cell_type": "markdown",
      "source": [
        "Тоже самое, но в дуругую сторону"
      ],
      "metadata": {
        "id": "xhxXRnupV03n"
      }
    },
    {
      "cell_type": "code",
      "metadata": {
        "id": "wWAZJUC5RTva",
        "outputId": "3d0148e8-85f2-4df0-930d-2d3765b63d16",
        "colab": {
          "base_uri": "https://localhost:8080/",
          "height": 34
        }
      },
      "source": [
        "set_3.issuperset(set_1) # является ли set_3 суперсетом для set_1"
      ],
      "execution_count": null,
      "outputs": [
        {
          "output_type": "execute_result",
          "data": {
            "text/plain": [
              "False"
            ]
          },
          "metadata": {
            "tags": []
          },
          "execution_count": 120
        }
      ]
    },
    {
      "cell_type": "code",
      "metadata": {
        "id": "TrlL-OooRTti",
        "outputId": "87f66ea7-1e53-4614-d7a6-4655a95955c3",
        "colab": {
          "base_uri": "https://localhost:8080/",
          "height": 34
        }
      },
      "source": [
        "set_3 >= set_1 # аналогично предыдущему "
      ],
      "execution_count": null,
      "outputs": [
        {
          "output_type": "execute_result",
          "data": {
            "text/plain": [
              "False"
            ]
          },
          "metadata": {
            "tags": []
          },
          "execution_count": 121
        }
      ]
    },
    {
      "cell_type": "markdown",
      "source": [
        "Объединение множеств - это все элементы, которые входят и в множество `А` и в множество `B`"
      ],
      "metadata": {
        "id": "b4ZpJCJuV8-O"
      }
    },
    {
      "cell_type": "markdown",
      "source": [
        "![image.png](data:image/png;base64,iVBORw0KGgoAAAANSUhEUgAAAgYAAAFKCAYAAABmTZcqAAAAAXNSR0IArs4c6QAAAARnQU1BAACxjwv8YQUAAAAJcEhZcwAADsMAAA7DAcdvqGQAAEgUSURBVHhe7Z0x19w2krU13yTKvKHCDTfzhs5mQ4UOJ9yfop+yoUL9hJ3M4SpTuKHDVeZsPj9tXQ+NaTRJoKpAgPWcg9N42WRdVAFNXrLb8p/+/itvkiRJkiRJfuX/fXtNkiRJkiRJY5AkSZIkyT9IY5AkSZIkye+kMUiSJEmS5HfSGCRJkiRJ8jv5XyUkSZI48n//939v/vd///fxasG//Mu/vPnXf/3Xx2uSeJDGIEmSxJH/+Z//efNf//Vfj1cL/v3f//3Nf/7nfz5ek8SDNAZJkiQbrO/wifXf//3fj9czaBywfUJA/z/+4z8erxbkE4ikJI1BkiTJBus7/NYLucYB2ycErUajRj6BSErSGCRJciv2ngj0XnjLO31MQcuFlzF8+PDh0eeVONBqXFqfQOQThfuRxiBJkluxd2Hdu1DuUd7pK9bZC2vNGOwZmxrluI4+gcgnCvcjjUGSJEtSu4DqAsl7zy7YvRfC2gX9KBo34yQW47O4MLc+gagZpXySsC5pDJIkWZLaBU8XXi5qzy64vRe8XmOgcTNOjmV8Fhfg2rhqBkrwHsfyuqXXQCXXJY1BkiRTU7uwlRc07QdcaLkwWl7YFJ8LO7pcyFvi9xqLkt5x1QyWasjrll5jlYwnjUGSJFNz9MKl/YALo96zuoApPhdiYnPhbYlvbQx6xyVjwesWtm2NlyB+PkmYmz//uvB+W4FJkiQXhgvTly9fHo2LkZq2lRcuLn7v379/88MPPzz6v/zyy5uffvrpzdu3b9/89a9/fWynbwVj+Pjx42McP/744+n42/zoM2ZivHv37tsebfSOi30ZA+PZNuJ9+vTpYTzYRzHV5/3tPPH3dr/kuuQTgyRJpkB3vrxu4SK1fTIgykfa1nfiJb3xrZ44lHjlrbiMd/uEABOQTxLmJv8nSkmSXAouNFwkubhsG9t4r4QLJxcbLnjbxjbeUzwuVFxotd0Kq/jW4/TOWxCT2GXdSzSeo/OajCOfGCRJcim4UPQ8GShRPC4+unC92v8sVvG5SFre2XvnXRsvepiR8mLPNo7hdQvjyicJ1yKfGCRJMhQuIFzE9u4guaBx8eACtG1se3WxU3zrO2fF1Xg1vrPxvccXHVd1ODpPirc3/0kc+cQgSZKhcCHYPiHgYsOFhNctXFTYdvbixsXG8k5caNxcxHThaxmfVZySq+XN/piJ8qLPNsbKKxAvnyCMJZ8YJEkSChcGLi61O0QuMFwUuOhsG9vOXCylY33HLHrj63jlr7x7x3nVvJXf3rwqfm19JP7kE4MkSULhRP/qCQEXCfq9FzPpcFHRBcgiruCi1XNH7jW+q+ddwjgxGbr400eDV2D8+QQhlnxikCRJCJz4uWjRdBEALlic9LnA6ELWcxErdRS/N65Q/N47cqs4Ypa8SzTOcv6ll08O4sknBkmShMCJfXsny8UFuAhY3tGWOlxorhjf+s57lrz3IL6eGqAnI4JmPjmIIZ8YJEniAid4LiblHR8XEk7unOh1gbG8uEjX+s5W9Mb3Gt/V8z4LsdGQjvTL9ZTYk8YgSRIXuIBwx8fdMI2Tue76uLDcFdUl6/Gcsj5aP/TZpr/1NCGxJ41BkiQm7N3RlXeA1njf0VrFtx7nLHkfpdTDENBKXe1XW29JO/kbgyRJTODEzF0cr6CTOq/ASZ2+10VF+lwcdCGx1LOKr7te0J1wD7PkfZRafdDHLPAK9NmXV2Bc+RsEG/KJQZIkTXCC5qJR3rFp+94dnzWlrpWe4io/YhL7bHzv8VnHFd7xxZ4OfbbV1pOOL9djcp40BkmSNMEJnDtJ7uponIw5Ya/2nbny7M3PKs6qnK0P77GP1h/HcKz+JhYxk/OkMUiS5BBH78h0Z+d1Z1myd6fZi1V863HOkvdRzurxHvtgCGjl/oq3t16Tf+bPvzqr377MSZIkecGXL18ed2EfP358nGg5yXJC/vHHHx+vnJTZzomdv9+/f/84wb99+/ZbBB80Ll49dMmHvID4xG7BKo7wzts7fklvfRgXx/zwww+P47UeP3369Hj9+eefH++/e/fu2xFJjXxikCTJS3TnVd5xlXdsnHQ5udPoR91halwaj5Wu4vfmYxWnxCuu8I4vrHQ4hmO1Hss40qHRT+qkMUiS5CWcsLlz5K6LE66+wx39HXk5LuvxWMX3HufseNWHGMTSeiU2GmihmdRJY5AkyVPKO6zaHZnVHd9ZvHV749fq1zvOq+d9Fi891VvrldhoYA5ompfkn0ljkCTJUziJHrmTO7rf3fCqi3e9V59P5Uejn/wz+ePD5OGa+YERjQ9KbyMePwTy+pFS4ovWA3dUvHLnxQ/PuPvazunR/azZrlf6XLT4wZnVj8qs4nM8P9QkBj/QJIZFXbziKu+o+bSq8x6lDrlsG2z7Sf7Lh8mvcCLAPfNqAScS7jJ4TeZD64GTKHeMzCMn7fLx7tH9rPHWtYrPHbfuu/QdtwVecaPnM0qv1EEDuImhlujl+eqPpDFYABa87tRb0AeEVwv44G0/gGfhg+p5Qkr+SLl+jp4wvS5Qe3jpqg5cSHouGFZxSrziiuj5jNKr6dQMA3W9+/knjcECaIHz2kLvhbxEFxZeW+BElw4+jnL9aD1Q/1cnyOgLifDSLS8Ue/nXsIpT4hVXRM9nlF5NpzRaOl9R17uff/I3BhPAAtZ3ZCzesm2/PzuD4vLdmv6RGk40rY0T1C+//PL4h0QY19nxCH3fpw9u2die3wn2o/nnxLhdP8zlq++WdZyOYX+P74ZLvHWJa/HdvVUcobw1T3zOLL/7965rSZTeng61U599OG8B21XXbf9O5BODCdCdAq/PYMHron4GxeVEY+HYFY8PYct4BBf/rYMvSUdvQ22+WA/0a3ei5XHMw6v9rfDWtbqDtb4T9s47ej6j9I7q8L5uOEDnH/a763kmnxhcCBamHC6LU23rep/BYucOAjdMf6+x4LmzJx6vbLNw7Ixxe6fEh7HUPtIUSw0n/8zFo7OtE39v90ueQ52oKydOXlkP2/XDOnhVQ47x+FV8jdp4OWFb6Co+jT41aPk8WMUpIZ5nvb3jl0TpHdVhG3NUnn84Tvvz6jHGq5LG4EKwGHG4LGYcqxoLlIssi5vXsrHgWdBHF650eOV4TrJnjq/BxZnxAnH1ITsL4+BYLgDElHP/61//+ojL3+jo30BXy38L/Ri98281z0fxWq/CKr7XOL3rHT2fUXqtOjr/8MrxzCd/3+m8ksYgEC7wLDIai7Zs2/d41Z3yv/3bvz1OMjIAZWPBHjn5SN/6zmubF33GxFhbP0iMhWN5mvHTTz89/pYpIDaoPlvYj8YYytrS2K597kjv/FvP81HQu/Idc29da3jX2zt+SZRerw5zpn0VQ/PIa8+czkL+xiAQThzcUfD6DBYwFz8WIvsBd8q6IHLC6UH6xCcmJ64rx8Wty7fySmxARxf6LWzjGF6fwbju/NuE3nnymuc9auvAit74s32uRPR8RulZ6XA85xLisUY4/i7nj/wnkR1hYWlR0eizrQYLj0VHo1/+3YrGIf1Z4vKh5ANdxpMOH/pt29NV3KPzsQq989R7fCvSra2DXqzie41zlvyPEqVnpcMxHKvjFZdGf2XyqwRHeAyFc9VvBlhMXMD2fivAI3L2B7azrQeNg1fiWX33ebW4vM9+1JHjysaHm7re7f/P3jtPvce34q1rFZ8LkOXnVXjFFd7xS6L0rHV0XuGVuKwX/l75vJHGwBAu/CwaGotTfblLFhMnHxmAsrHwdBzHsM3iOzjieXxHax1X9cOR88qFnHrh2I/EZR9qVdZVDYir3yawPw1d6s6rts2M6kjbrsOz9RQc6/kdf0nvOtjDKv62zvRZYxafV6+4wjt+SZSelw5rQjEUm228rnTe2JK/MTCEEw13ILwCC3PrWDkB0ef1GTqehcZxnKhe7X8UXK78H6/EtsA6rlf+YvtBBvrkwCugt8J3iLV12FpPr/VTw3sdWMX3Gucs+R8lSs9bh7icK9BZ8byxJX9j0AELRYuERp9tggXJYmGRaqE+W6SKo+N1XG3/oyguC5gPSG88MVtcsVdX6dfm8+po/OW49/Ku4T0fNbx1reJ7jXOW/I8SpeetQyxiEhsNtNCUrv5egTQGHbA4cKjcRdG4mGAA9DcukkW0h+Lo+KPH7TFb3CjK8Wu+6LNNf7MP+85CLa/W+Zl9npPEEz4LfCZ03pjtfPGKNAYnkDNkEdBKhyhHyUKh7TnW0mnq+F6nO2tcPlR82Hrj7VHq1eZL+9Xm+yponBqf5uXoOqxR1il6Xqz1rOJ7jXOW/I8SpTdKp/x86X0a/ZnJ3xicgAnHFfIKWhy8AouD/tFFqXgsIi2wM8fXyLiv4SLPnTTwiiagz4eeV6DPvrwC4+IOgdcr4VW/Wp288F4HVvFn/Rx4xy+J0hutA5wjeJ/PDLpXPE+cIZ8YvIAFoMneNrbxHguAyWeRaKGcWYyKLwd69vga1nEVr8z7qnFr7NVF+rX51PHlOhjNXl5nsY53FG9dq/he9abRJxYxr5r/UaL0RuvQ6LON9zSPM5PG4AVMMg6RuyUafS0KHOFdvnNVHbgYcsG0ytsrbo2zeppnzT/HcGy5HlYjel7uTtY7uRppDJ4gZyjnVzpFPry0Vmdac569zBJX8Wj05bitxlvSqqf9avNdxo1G+rPOi7DOo8Qqvtc4Z8n/KFF6V9NhG++xD/tyDMfOSP7G4AlMKA6eSeWCwCt/A26ebUx+6yIs42sx9S5qr7i6SwbdOffgNc4aVnoczweeV6BPbYjDuiBuJNZ1jJ4X4a1rFd9rnNafr5LoeY3Su5oO78sQjDwvWJBPDH6FCdVk0uizjYllUmn0y7/PIp1a/Fa84+455bN4xa1hpae6cnLQCYJtil+uHy+kJx2Nq7eOVnU6ilcewiq+1zgV16veXuPewzsvcTWdsr5l/WcijcGvMOE4Qtw6jZM7J37r7/qkYx1/trirQC2oCbWhRlo/1IzaebHKvHjnYRXfa5yz5J+cgxpTa2pO7ZkD5mImbm0Mao5Ozo8JZkJp9Hsd6VHneRbruGVdVI+r5l/DW6+si/Q4GdBUPysUX3FL/Va861TDW9cqvtc4Z8n/KFF6V9dhH/bV/opDoz8DtzYGTPjWUeuOT866fP8ujtsr7+h6RukRk9iKL10afStWmZdkTaLW0Sw67MsxHEsMYhFzBm5pDEoHJ4fHBNKYUCawfP+oYyyRHjGJ3RqnZJa4imdVzz2i9USpU46jFe98FN96HdXw1rOK7zXOWfI/S5TuLDrsyzE6TvFo9K/MLY0BE/3KCe69fxbreMIrrjXR4xytpydP9NnGe+zTyizzfBTvfKzie41zlvwTG6g9c8BcMCfMDXN0ZW5lDErHtufoyvfPYh1PeMdl0bKYe+MJr7g1RutxAqBJV+/T6J/FK5/oOglvXav4s9Y9el6j9GbV4VhiEIuYxEbjytzKGDApr5z03vtnsY4nZot7V6gdNaSW1JTaUuOrkPOdWBC1jlbTuTJLGwM5PyaYJqcmB1c6QSunqDh7emeZNW5vPY9yNb2yjtq/XI81vPJRXOmX4/TCKx9hFd+77lfP/yxRurPrEINYxCQ2GmhdkT9/4MvQRfny5cvD+X38+PFxImYScIDv379/TM7bt2+/7fkbTBb7AfuxTwvS5fWV3lky7muuqsff2s76+vTp0+P1559/fmx/9+7dtz3/iFc+XnH38Na1iu81Tq+4wjt+Davz5h6z6zAPmg/iM0/8Xfv8j2TJJwZyfKUjk2MrHaC1Q7SOJ2aJq3g0+sQiptV4S66uV3u/jCPOxj+L4luvoxpR+VjFt66Pd/7Cetx7ROmtokMsYiqu9Gj0r8SSxoCJxTnjynB8+pV47buicv/8rrWP6HrOosc+7Kv1yLHEIBYxxWrr0Tufq9drtfkUUXmtpkNMYqOBFppoX4mljEHpwOTQmABa6QBr+5f7HUXxmGQmvzVOScZ9zSx67MO+5XpUPE4SNPps0/5W+UTXSXjrWsX3Gucs+R9FejT6aKHppRuVX5SO6oUGWuXn/gosZQwo8hnHd3b/PazjidniJseg1tSc2jMHepLgNR8536+ZtT7R4851ZIvqSaN/BZYwBq0O1sohturvMWvc3noeZXY91Z1YxPzb3/72aNb5eM33Ht7zYxXfqz7e+YsoHbFaXlepn7bT6I9kCWNAgUc6WC/9jPua1fWsGDVub12r+F7jnHW9XIWo+kXPU6m395ujEUxtDEqHhevCfe05vppja8U6nvAa59l67eEVt8YqemXc77777s3333//mGvmXNt7kY71+tzDW9cqvtc4Z8n/KKvqjc4LQ0CTrt6n0R/B1MaAwrY4vdbjZscr7+h6rqKnuDT6xCQ2Gmhpe5I8Y5XPQfIbV/r8T2kMSkeFy8Jt7Tm91uNqKJ5O6q1xSjLua1bRU9zPnz+/+fr16yMmsRVf79PonyW6TsJb1yq+1zij6h49v6vldbX60Wcb77EP+3LMCKY0BhStxbm2HlfDOp7wipvMAXNtcecwah1561rF9xrnqLqvQlT9oudppnUxlTGQ45KTksPac3qtx9Wwjie847IwWYi98YRX3Bqr6Ckujb5+W6D4NPr6u9z/KF7jr1GOs8zDCqu8vOrjXXfv+CWr6l01L7bxHvuwL8dwbCRTGQOK1OK4Wo+rYR1PZNzXrKKnuDT6xCR2GV/b0WYM2v+qRM/PXYmuc85rLFf43E9hDOS05JzkqI46PCtn2DuOGhn3NavpKb7WIycAWhlfuuzDvhrPHmV8rzqVeOtaxfcaZ1T+NPrERsNap8Q7L7Gajjirx3vsw74co/mOZApjQHGu4Fi9xpFxX7OqHjGJbR0/ul5RWOXlVR/vuq86ryIqv+g6zjhvUz0xoMAU9KjDs3aGXk5zlriKR6NPLGJajbeGV31qeM/H2fppP8bCmHR8SWv8XqTrNT/WeVmP13p8NazHvceqerPkxT7syzEcSwxiRTDVbwzOQjFXdtjRZD37UP1o9I9Cjak1Naf2teNHzY+37qi8jnL18bWyal6zQK2pObVnDpgL5iSCSxuDVqel4+Sw5LxanWHrOPbIuK9ZTa81Pvuwr/ZXHBp9EV0vcdW6lXiNc5b8zxKlu5qO6NVjX47hWGIQi5gRXNoYUIwWx9p6XA3reGK2uNFE5xGlR0xin42v4xgbY2SsjDk5xqyfi1U+zzWi8ouu48zzdkljIKclhyTndNRxWTnD3nHUmDVubz2P4pXHHl55WuVTHqe4nHhoUfMjvOolrOJb1b/EO38RpSNW1Zs1L47hWGIQi5jE9uSSxoDkr+C0vMaRcV9zlfm3QvnQ6PdCLagJtaFG+r+zRdfLe56s4nuN0zv/Uaya16xQe+aAuWBOmBvmyJNLGQM5LDkiOaWjTsvaEVrHE7PEVTwafWIR02q8NbzqU8Nbzzp+OQ+j6kWjX47HCqu8vOrjXXfv+DWidFfTEdZ6HEsMYhGT2Gh4ciljQNI9TrX3+OSP3KWeUXkSk9hW8a3jHSU/ZzGsXueo/KLruMK8XcIYyGHJCckhHXVavceXKB4TzIS2xinJuK8ZpUejjxaaXvXjJEGzzkvjRgMt5eOF9zxZxfcap3f+IkpHrKq3Sl7EIBYxiY0GWh5cwhiQZI/D6j2+xDqemC1uNNF5eOtFx6fRZxvvzYpV3bzq7z2vo1g1r1VgLpiTiM/5pZ4YkCTJH3VYOk7OSY6q1aFZxxOzxj07H6145bGHd55e8Wv1QgMtbbcmql5lXq06XuONqoNX/BpRuqvpCG89YhGT2GighaYHl/qNwVkojqXDtY4nMu5rovVmZ1S9vHVzHfzG6nWIyi+6jivN21Bj0OuwrBya4siByZlZOT6rcQqv8XrXoYZ1ffbw1hsVn0afbbynebRilrp5jdM7fxGlI1bVu0sdafQtGWoMKOAVHNZVxnEUr/HOVodWvPMcVUc00EITbcbAWO5Gfj7OsWpeq6N58/icT/nEwNqZeTm9jPuaUXo0+mihaV0/TrC06PlRPrzHPsqzlz3dXqzje413tjocJUp3NR0xKi8afbbxniVT/saAYszgcGcZ5yii6+Otp/g0+taMWk9Rdbv752T1OkTlF13HFfMaYgxaHZaOk0PiGI5tdWit49jDepzCe7zWcWt41WcP7zyvEl/1ZB/2VZ3PIj0dr7hXrZtVnBKvuCVROmJVvbvkhTmg0Wcb77GPBUOMAUm0OJ/W42pYxxMZ9zXRetGQCzmNykv61JYaU2tqfpbZ5mmVz0cUq38OV8fqc/6MKZ8YnD2uRHHksIhBrF6nl3GPId3eeTyKt14Znw8qzUrn7Ph5j33Yl2M0v2eJrltrfMVRnsq/d7xecUus6nCWKN3VdMTovGj09bf2o9HvYcrfGPRCgWe6s5gt7tXwznP2+KOwysurPlF1X3V+xap1vEpe9NnGe+zDvhzTQ6gxaHVY1s7MOp7IuK8ZpUejjxaa1rre89M6fu3PmBib4uzhlY/ozavEa7zedRBROmJVvbvmRZ9tvMc+7MsxPYQaAwbd4rBaj0uuRfQ8zr5uesfPvhzDscQgFjH38K7b7PMyO1n/ZI8QYyDHIycjh7PnsFqPq6F4fDD4ILTGKcm4r5EejT5aaEbpeuVZ5mVN7/jLOh8db6/uHlbxvcbpnb+I0ilZLb/oOq6+PiDEGJBYi0NtPa6GdTyRcV8TrReF8qLRvyrUmppTe+bg6uM9ite6ilqvUTqjWLWOd1gfoU8MSJTE9pyP9qfRZ1+OaXVM1vFExj2GdI/Ofy/eeorPB5ZmrWM9fo4lBrGIqfkviaqbVXyv8UbVgUZf82OtU+KdV0mUXub1G7zHPuzLMRxLjBZCf2NwFJKydErW8UTGvSbeeSo+jT6x0Zh9nqLqtvr622PV+U3Gwlwyp8wtc8xcM+ctuBqDVmdl5cgUR85Jjqo1XonVOEus43rXoYZXfWpE5Smdz58/v/n69au5jlfdNE5iElt1iq5bb15e9fGKWxKlU7JaftF1vHpe7MO+HMOxxCBWC67GgMGNdKij9a/CqDpE6+Z8v4ZaUBNqQ42oFTWbrW5e4831Y0NUHaPna9W8nnGpJwbWjszL4WXc10iPRh8tNKN0vfIs43///fdvvvvuu2/v9uM9fs0DsdHQ/ETXrTe+13hnq8NRonWj9DIvPy71GwMKMYNj9xrnLPnvsUoeJd55Zd3WZlQdsv7JWVyMwVnHo/1p9NmXY1qdkpfjsh6n8I5rXYc9onW99bzmR3jHL1F8akXNZqmb4lmP1ytuSZROyWr5Rddx9fXxDBdjQGJnHOrZ/fewjicy7jXxznP2+CXERgMtNGfJy6tO0fVflag6Rs/Xqnm94lJPDI7uX0NxaPSJQaxe55VxjyHd3nk8SlSeZV40+lZ5RtdNeOtaxVccGn1iEMuq7tZxS6zqcJZo3Si9zOs1HMOxxCAWMYl9hkv9xqAXiuDhuDLuMaJ175KnNRo/jf7V8ap31DyOWi+jdJOxMMfMNXPO3Ld8zocaA2sn5uXsMu5rpEejjxaaUbpeedbiW+l6j7+GdPXvMFhjnZdXnaLqHz3P0qPRRwvN2fMbVcfZ8uJYYhCLmFoHZxhqDBh0Otr5WXUevfPKuiUeRNc/Si/zisPUGBx1PtpPTkYOp9UpWTsukXGPEa0bpeetM7puf/nLXx6NPtt4j316scrLqz5RdY/SKYnWXbWeq6+TV5gaAxI74nyO7ncU63gi416Tu+RpTVm3Dx8+PBp9tvEe+1yF2T8nuU6TWQl9YqD3afR5j31aHZJ1PJFxjyHd2nxbE5VnLS+rfKPrJkpdLlY0+mxTXVuxzsurTlH1j9IRq+plXn1Ih0b/CKG/MaAAlg7aOp7IuMeI1o3Sq+lY6Y+aL29WzWsWousfpZd59SEdGv0jhBoDK4dUOiBiEMvKcVmNs2S2uDW861/DO8+9vHr19+J70TvuPazz8hqvdx1ElE5JtO6q9Zw9rzIujT7beO8IocbACpKMdJDJH1m1/t55jarbbHl5jTeq/qPmOUnAYv2FGANrZxTltO4ad49o3Sg9b51RdaPRRwvNq+blPV6rce4RpSNW1cu82rCIH2IMGOAMDtprnLPFvRp3ydOa2eqW89xGdN2i9DKvcZgYg5pD0XYafbbxXqtD8nJa1uMUs8XdQ7rW9a8RledeXr15R9dNHNVlG++xD/uq3ntY5+VVp6j6R+mUROuuWs/Z86rFpdFnG++xD/u+wsQYIPbMAdW2t2IdT2TcY0TrRunt6fSOY9R8HYWxMCbGxhgZK2Pe4+p5iahxzlKPZE1q66/l8x3yxKDcfhbFkdORA2qNV2I1zpLZ4tbwrn8N7zyP5tU7Du88Ss7qKW/25RjVYw+rvLzqo7jKR3laxRdROiVedasRpZd5tVGLT6PPNt5jH/Z9RchvDHohmXTi41i1/pnXNfAab1QdRtU7WnfVeq6+TlpwMQbWzsjLaWXcY0TrRul566w6X9bxvcYbVf9V57lk1XrOnpdHXBdjwABncEZe45wt7tVYJc9V5+su6zBJZsDj89hlDEqnQqPPNt7DteBeWh2Mt8OyGqeYLe4e0rWuf42oPL3zisqjpDcvjbP8HAvrvHrHW8MrbkmUTkm07qr1XCUvj/h/+vuvfOufhsHgVBgYTgVwLcDfDJCBtg6yjN8bT2TcY0TrRumd1WFN838hBP3fCF8x63xxHCcX4pAzx3H3QRywzsurTlH1j9IpidZdtZ6r5HX0/HTmPGbyxIBGX5AwydNaki/j9sYTXnGF4ls5N+/x1hitexUH3zqeqDyE9Gj00ULzrK6OY8yMXfGEdV5edfKKWxKlUxKtu2o9Z8/rbFzeYx/25RiOJcYzTH5jgAiOCEeCC+n9jsM6nvCK68Wo8c5WJy9mqUPOV5Lcj7Ofe95jH/blGI4lxjNMjMHXr1/ffP78+SGCeKsjkgOSk5HDGeWwjjJb3D2idaP0zup472+Ft651fK/xRtV/1XkuWbWeq+R1Nj7vsQ/7cgzHEuMZLv9VQisMdsY7n1nHfRWi6uets+o6sM7Lq06rrKMa0bqr1nP1dWKBiTH47rvv3nz//ffdjsjLYXnHlfOSI7tqHfaI1pUeHxyal67XPJWMqp+3npWO9zzMVo+zROuuWs/Z84oYv4kxYHC4oas6Igro4dxmi7tHtK70aPS9GFVPb2bLa9V5SJJIIj5HJsYAt4JraXUu3s6KRr93nGK2uHuM1rWe9xJvnag8SmbLy2u8UfVfdZ5LVq3nKnlF5HGJ3xiQoIcDyrjHGKUr0EIzWteK0fXzYpa8osZ5l8/nqvVcfZ1YMtQYyPnQ6ON6cD9WDsjLWc0Wt4Z3/WuUefLhoVnretfzKvXz1uvNK2oevOsRXXcRrbtqPWfPK7JeQ40BCc7urGZmVP2jdL11Vq8fMYndG39UnZJkJSI/R5d4YkDCJHh1Z7WCE9yyuq63TnT9pEejjxaaXrpW8b3qFFX/su76mxP0s6b9eonKT0TpZV5tRNbtEr8xsIbCeTir2eIma5Hr5I9E1UM6NPr6m39v/lnTfr1E5Sei9DKv6zPEGHg5H8Wl0ScmsXvjzxZ3D+la13+PKF1vnVXrp/g0+r14jbccJzGJ7TUPZR40+rU6leNrpdT1XmdRepnXOaLrBUOMAQl6OKuMe4zVdb11RtXPG+VFo9+LV51G1R8NtKSnv8snBoyJsVnVMbk3I9Z7kzFodTA6jkafYzj26s5qtrh7ROtKj0YfLTStdb11ovIoka73fJU6NPrK9yxe4x5VD07KNOnR6Gu72lXrVmNUPTOvY0TXDZqMAQNscTCtxyVzEzXv3jqj1m+0LrHRQAtNtBnD3bjLfEfpZV7zEPLEQPvT6LMvx1g5Hy9HNVvcPVp1dRyN/lmi8vXWicqjJDovTm40+mzjPfY5itd4o+tf6qke3vqj88y8zuGlE12vLSG/MSAxT0flFX+2uHu06uo4Gv1kLazXo9f69op7lNH6yb0Yud5CjIG3o6LRJyaxe+PPFncP6bLAaEfnoTxO4z6Kjree9xJvnag8SqLyotEnNhqtOtbxSrzrIWo6e/q944vKT4yupxer5BVdty0hxsALCjbTnYlX3D2kS6N/lNbjRFS+3jpReZTMlteoOlnTmkdv/tH1i9LLvObD1Rh4OR7FpdEnJrGt43uN2zruHmd1y/qepTzeen5Kzua3RxmPRj9q3qLq5103q/F6xS2RDid6Wk2v3E+NbbzHvhxzdJyK13p8K9KNqqu3jpg9r+jx0+hvcTUGJObhqLzirg41olZ79eqt7+zzM3r8ub7/SFQ9pEOjX0P7lf9+wV0/L4ktV1jvLsagdCK4HVzP1R3VbHHPcnQeescbla/3fNHoH62bFd71s44/23hr1HRWyU+MrqcXq+QVlcfXr1/ffP78+aGF5hYXY0BCMzpgr3HPWo+r413XVefNOq/V6sTYyUF5lPmVTwrUeI992JdjrkrUfEWvi1XzGoHrEwMKSMGsHI93XDknYhK7N75X3D2ky8KlHa2Xjmutb+/xR4muq3d8EV0/Kx2vcY+qByd7mvRq75eN99iHfTlmj6j8SkbV1Tu/2fPyHn8Z//vvv3/z3XfffXv3j7j+xsAaEvJwarPF3UO6upM5qt873qh8o3SISWyv+CWj1stVWW09leR8J1u818OZ+KbGwNtJ0egTk9i98b3iCq967NGaV+94o/KN0jlaNyu887KO7zVexaXR954H77rXiNaN0su82rhSfFNjgKCH45kt7lUgF3JaLa+kDev1np/LuYiqa/T8rZrXSEyMgZwIjT4uBDdi5Xi8nNRscfcodVm8tD19HUejr7/5ANC0vUap65Wvt47i7+VrTXRexEajV8dr3N71EHs6R8dxdrxR+Qnp0eijhaaX7qj8vPW8dLzH3xLfxBggmA7/H4yqR6uujqPR19/6jYK212jVPYu3juLv5WtNVF7R6/Hq7NXlaN3O1jd6PnL+r433/LTE7zIGciI0+rgQ3MjVnZR3XK961GjV7R1v7/FHidbhv+3lv/H1Jjovq/VuHU94xa1R09N2TqQ0+mwrt5fvcywx9sZd0/UiSi/zauOK8buMAUJXczpHmC3uHq265XF6QlC2WryofEfV1ZtZ8/Ia91XqoXHQ6OvvZ58N2mrrspXo+YvSi87rCjQZA9wGroPi6IND38rpyOHQ6EuvN/5scY8i/bPzUB7Hon/WavFadc/irVPGf/Xf91oSnVfrutBx2k6jzzbesxq3dz3EUZ2j+R3dLyo/kXo2eOl4j78nfpMxQATXNJtDmy1uEsOq89eaV+24Veq0lwd9tj17OvCs9dbVi1Xma1W856cnvsmPD62Qw6HRx93gcq7u0LydX41W3d7xRuXrraP4NPrERsMrH3H1+tWO8xp3VD3Enh59tnEyPdKOjvdqeVqRebVx5fhNxgAhnAiNvhWKmw73GK316q1z1Dx564xab6N0r0rWY26i5y9K787r8pJPDJgQJsDKQc0Wdw/p0uijifaevo5jodN0fEltP23X30d1W5GeV32949eYLa9V5mHV+S5JPRu8dLzHbxH/kr8xsIYCeTg/r7h7tOrqOBr98m+h7foOtdw/Ot/kHNbztMq8j8ojWjc/p9fGe34s4jcZA9wHLuTqDkpxafStxu0V9yi99To7Xu2PFprW81TSm98e3vFrROVFo69569XxGnfUPHjV5ShReYroumZe55gh/iW+SiABDwc1W1xvGCNj3f6imlaO/+h+XnjXd9T8rZpXK1Hjna0usxBd11wvcQw1BnI2NPq4GtyNlYPycmbejq9Gr67qy2LftjJOuZ/e1/Zyfyu814PYq6N0eY99NJ5WrpLXWazjiah6CK889ojWTT0bvHS8x380/pH9hhoDBpZO/jij6hWle5X1gCbajIGxMCbG1sqs69xr3LPW4yzRed6lrrPiPT9H4x/Z7xJPDBgoA7u6M/N2fDWkS6OPJtrR+t55e+scja/6sg/7qu6tXCWvs/D/i+D/G2Ed17seIkqnRrT+qnVdJa+rxD+y3yV+Y2ANCXs4M6+4e4zSXY1V65jr4zlZFx+i6xqll+vlHwwxBl7OSXFp9IlJ7N74XnGP4lWvPaJ0vXVGzd/s9eP/F8H/N8IqXlQ9RLSeWD3PVfW8dLzH7xF/iDEgAQ9nNlvcqxOVt7fOqPmbfd0wVsZsNe67fI6i87xLXWfFe3484ocaAzkbGn1cDe6m1+F4xRUejuwIo3W96imkw4KmeeUZXcfo+lnl5T1u6/HWiNKpEa2/al1XyWvG+KHGgIF7OCevuKMZlVeUrnRo9Fchun5WOqvMR1T970Z0XaP0cr38M13GAFeCO6GIFBfXgnup4eWcZou7h3RVT9XZWz9a17u+3vFrROVlPU9e446eh2g9sXqeq+p56XiP3zN+lzFgMLgrXBZua/Y7jRJyGeEk76ardWStNyofb7zzsp6PVeehJDrPu9R1VrznxzN+yBOD2RyZ4iof5WnpyF7hlVeN6HzL/FjUNGu9UXX01rPWUTwafWIR02r8s9blLNH6q9Z1lbxmjh/yGwMG7uFsZot7VaLzXbW+s+alcdPoz8qq62o00XWN0sv1UsfVGMjR0OjjZnA1vc7GK67wdGKvWF3Xe97EqnX0iq+4/CuH/GuHVkTPw6rzXpJ6NnjpeI8/oj6uxoCBezgyr7ijWTUvEZVfro9rsPp6FtF53qWus+I9PxHzb2IMcCu4FgbHoBkwDVeDu9H7V3dkEU7sGdL1qleN6Hy99Vavo7VOWa9Z/6XDKJ0a0fqr1nWVvGaPDybGgMHhWnAvGAL9//s9HY0HFHqEE7+brhdZx3No3DT6jJmxz7YOVlvHVyG6rlF6uV72cXli8Le//e3R6LPNytF4OSXFpdFXPh5O7BkRDvAZUbqr6Qjp0eijhaa1rldeiqvfFliNf9Q8ROmJ1fNcVc9Lx3v8kfPh+hsDayiIh9Pzipv8xqr1jcprtvrd5fMUnedd6jor3vMTOf8uxsDru0oafWISuze+V9yjRDrALVG6UfVdtY5e9SvHzWeVz2wvXuOtUebhpVMjWj9KL/NqY/b4W1yMAYPGzVg5Ggrh4ZS84h5llH6U7mo60XjlNVvcGqvO+2hWncdcL8dxMQa4GNyMlaPxckqRDmyLdGn0retVI1o3qr5eOqoPMYmtus2al+IpD+VnNf7ounjlsUdUniL1bPDS8R6/Vfwzcab6jcEqMDEjnOso3VmhNtSIWlEzakcNZ63jKvM/Oo9o/VXmbVW858cq/pk4psYA94ELQYxB4E5wKa3M6vD2GKUfpbuKDrGISWw00ELTW9crfhlXefXqeNejJFqvZNV8M682Zol/Jo6pMUAMF4IbwZXgThhEKxzr4cS84ia/EVXfVedxtvrl52kNoudxtnV+Jy75xEDORscrbq8T84p7FOlTG2q0qq633qh5jKqjtU4tnpXOrHU5S7R+6tngpeM9/uj52HLJ3xhQCA+H5xX3KKP0R+dtTdbxHKvM/+g8ovVXmbdV8Z6fkfN/KWMgh0SjjzvCJc3i8Gp451UjWjeqvlE6Nbzq6JXXbHFrjJ73VfPNvNqYPf4rLmUMKMCKDnlUXtG6q86fIBdy8sprtvqtPt93YdXzRK7PdlyMAa4Gd8MkMDm4HtzPHl4OaaTzglH6UbrSodHX/FvrjZ5Hb6zzq8Wz0omaj9HzHq2fejZ46XiP3zp+SzwXY4A47gyXhlvDtTGoUaCdztGPqPqOnkfpj17PR6nVa3Qdz3KVeY/Sn21+7ob3/FjHb4l3iScG3s5O+hqXVfw9vPLaI1o3Sm90XjT6bOM9K6zzUjyNk1jEVNxePevx7hGtV7JqvplXG7PFb4l3id8YMGAPB+YV9yij9EfnvQpRdbTW8R53rq81iJ7HWT9Pd8TVGOBKcCdMCpOFa8G9CDkZbdf+Vg7M2nkdxTuvGtG6UfWN0inx1vWar9q4e/PxGm+N3vH2Eq2fejZ46XiPP3o+XuFqDEgOt4Zrw73h4kha0F/R2Y3KK1o3Si/XiQ29equurxp3yzd5jff8XGn+L/HEgPfYZxZnt8co/Shd6dDoa56t9aJ0Smp1lD7beE/jaqWm08pevF496/HuEa1Xsmq+d5tHK7zzsI7fE+8SvzGwhkKk8/Yjqr6j5rGmS6PPNt5jH/a9CrnukyNEr5Ncl2PoqXuIMcCl4FYYFINloDT6bLNyXnJINPrStYq/h7ejrBGtG6U3Ki8afbTQlK7+ZiyMSfudxSuvWtxePa/x1ojWK1k931X1vHS8x3/FcYcYAwa1vdP68OHDo1k7SAow0pmO0h+d9ypE1TF6vnr1ZhtvL3fLdxW86ug9P1ec/9AnBnIsszq7GtKl0S/z9SJaN6q+UTols+ZXi6ftNPps472zelF1EdF6wqpeZ4nKd/V59NLzziO6TkcI/Y0BSeOGVnPETOgIxxetG6U3qp6zUqtX1vEcq9crOr9cf/MSagxwQbih1RzXKP1o3Si9q+fFe+zDvhzDscTYwyuvWtxePa/x1ojWK1k931X1vHS8x3/lcYcaAy8oQDrTpJWz64f32Id9OYZjibHHbOs0erx3+xzfLV8vvOroPT9XHvcQY4B7wcUwWJLA3eByziJnpOMV19rZ1fByfHtE60bpzVJP3mMf9uUYjiVGDcXXfjq+N7/auM/mU8Mqzh5e9TlKVJ4l0fWNym8VPe88rjzuIcaAweJicDO4GtwNSZyFYzwd3R6j9KN1o/RGz6cXXnnV4s5Wx9HjXXXdiej8Vq/nHZjyiYEckY5TPGtHV2OUfrRulF50XkK6rEHWoncdrXT26tWrF1UXEa1Xsnq+q+qNXjetzDDuKX9jQEHveIcRrRuld5d6WuE97lnrMgtZXxvy8+vHUGOAS8ItURSKhYvCTe0x2nGN0o/WjdIblReNPlpoWut65VWL26sXVRfhVZ+jjNKP0o3ObxU97zyi69TCUGNAUXBLuCbcEy6KYiWJJ6yxCMcepSN69WYbby+j9b2523xasfq6OMJUTwxGO61R+tG6UXqz15NjOJYYxCImsYV1fnvxevWsx7tHtF7J6vmuquet4xV/pnFP9RsDEr7jHUa0bpTe6PnshbEyZsZODuRCTl7MXq+7k/Nnw6x19B63ZfxLGANcDe6GJEgO14P7EXJC2q79rR1XjVH60bqj9Jhz5j6qnlZ6qk+5br3yqsXt1fMab41ovZJR+lG6q8+nl553HjPFv4QxIAncDS4Ht4PrITlBf6RDHKUfrTu6zt5E5TfbvN1tnY3W9+Zu82nF6uviDJd6YiCHI+dDo+/ttPYYpR+tG6W3aj0Vn0af2Gj06tTGbaVXi+9FtF7J6vmuquetE123K3Op3xgwGbg03BquDffGJCVrwZyu6My98qrFXbWOq5HzZEPWMY5LGQPcGS5NTm20gxulH60bpScdGn000Jo9P+VBbDSsdcrxS6e3jt51KYnWKxmlH6W7+nx66XnnMWP8P3/4lW/9y/D27dtHgrziDkkYh/j+/fvft0fw5cuXh0PlNVI/WjdKLzov4a1LHOLxYWSt8jc6bLOAmHwOgLi//PKLST7R8xGtVzJKv5w/q3VREp1ftJ5XHb3zmDH+pZ4YCE6wuB5rZ3UUOTAa/ajxjNblg8eC8tKL0hHR9VR8ciNH6bZS1quM25tPGd+rLiJar2T1fFfV89aZNb7i0ugTk9gW8S9pDARF5HskXBBOEVdEcb1BAy000Y76LmuU7qpE1bPUsVqvtbje+SQ25OfZhqzjczzrcmljIAdEshRBzsgbbwdZI1o3Sm/1epY6NPps472zKF7teHIgl9Z8ouoiovVKRulH6a4+n1563nnMHP/SxiDxhQUV4cSjdFahrBeNvlX9oudj9Pyvvv7uNp9WeOcxc52mMAa4INwQRaXYuCTckjXeDq9GtK70VEfV11o3Sqckqp41HeXZul7LuIrTm4/iajwap1d9RK1OUUTrp54N3jqzxo+o/xTGgORxW7gu3BcujKJYQ8wRDi9aN0pv9XrWdGj02cZ77MO+oxk1H3cj62xD1vE5EXWZ6omBnJEcE41+L2W8Us+L0bosMBaUl16UTom37t686W+0GYP226Mct463ysO7LiXReiWj9KN0V59PLz3vPGaPD1P9xoAieNyJEWOEMx2lm/ThNW9lXK3zWdfH6PW9+ucrOr9V6umdxwp1msoY4IpwR3JIck40+q1EOLBnROtG6a1ez6M6bOM99mFfjuHYGopb7qc4rflE1aVklK6I1k89G7x1Zo0fOd9TGQNBUXBhuDFcGe6MYiWvoUYRTjZKp2SUbo3WdWqdx9XqsipZZxuyjs+JrMuUxgCXhFuSY5KTotE/SqQD2xKtW9anrJ81q+Z3Ni+Ng305RuMrKccvrPI4O+5eovVKRulH6a4+n1563nnMHn/LlMZAUBxcE+4JF4WbomhHYd8RzjRad1SeUUTl56WjuDT6xCT2rPM0er2N1vcmOr9V6umdx0rrbmpjgFvCNck5yVHR6Nco9yvjeBPp/CBKLzovcfX82Id9OYZjiUEsUcblpELrzSN6PqSn/JS3t27JqLxTrw9vnVnjR883TG0MBMXCnXEyxa3h2ihiDd5bxdldiazrc46uT+1nVbfo+bjr/Oe6tyHr+JwRdVnCGOCecFFyUnJYNPolIxwYROtG6ZX1LufDi+j8WnVUD44lhupUxuVDT7PKI6o+IlqvZJR+lO7q8+ml553H7PGfsYQxEBQNN8XJFXeFy6KYV4GxRDq/KL3ovMTs+Y2q26qsXs/o/Fapp3ceK667pYwBLgo3JUclp8WEbRsTycRFOC/QOGj0y3F6EeU0ox1tVD29dLzHr/jR8xH9uSpZPe9V9bx1Zo0fPd9bljIGgiLi2nBvGIEPHz78obEt0tkxsSvfyUQTVU8vHe/xR6+3u67vu+ZtTdbxOSPrsqQxwFXhrkqHNcqBRetG6a1eTyudMg6Nvtf4o+dl1DoQo/SjdFefTy897zxmj/+KJY2BoJi4LD0pyDsZW6J0Zifr5Mvq9Y3Ob5V6euex8rpb2hjgrnBZTNq2MXlMKm4MV+ZFtOOTnvJS/l66o/Lz1rPSqc2H1zqMqo+I1quxet6r6nnrzBo/er6fsbQxKKHIuDpOyrg83B7F94LY6fTtiMrPSqcWh0afbbzHPuzbS/T8R+tdhbvmbU3W8TlXqMutjAGuC/clByZnRqNvRRm31PUiymlG6ZTMkp+Op9HnWGIojv4mNhrar5U9PS+kG70OxCj9KN3o/FbR885j9vhHuJUxEBQbF4Ybw5XhzpgEK4i1shNePb9eoutz1/nIz5ktq9TTO487fN5uaQxwX7gwOTE5NCaaRp9trUQ7vig96ag+ZR29iM7vrI6OK9fPXn30Plpo6rizRNVHROvVWD3vVfW8dWaNHz3fr7ilMRAUH7eH6+OErv96ATfI5MwCY41wsFE6JVfPT8dp/Rw9nvfYh305hhjEujqj1sFo7pq3NVnH51ypLrc2BrgxXFnpzOTcaPSPEu34ynHW8rFi1fxadcrjxNHjy/1q8Wpo/6j5EKN0xep5R+e3ip53Ht7jptEnJrG95+EVf/71DufDt/5tefv27WOif/jhh4dTYzJwbV++fHlsf/fu3bc9X8P+OD5eifP+/fvH8cT3IFqPDwR1AfTQ8iQqv1ad8rgff/zx8co6OjNO9tP+Z9Zd67h7iV4HJavnHZ1ftJ5XHb3z8IrvPe4Wbv3EQMihMSk0OTU5ORYxTY6uZJTjk661gy2J0im5Wn7ar1wP7Msx5fo5io7XcdJR/BpHx21FtF5JWZeybl6sXucoPW+d2eIrHo0+sYjpVf8zpDF4ApO+/e5X3x3j6lgUJWzjPfblmNW+M1s9v6OoDloP1vUo111tvY1i9DoYpZ/r34as4x+5cj3SGDyh5tzk8JhImpyetZPcI/Vs2NPR++V8C/blGKvxlfGkX+rujduLUbpi9byj81tFzzsP6/iKR6NPLGJ61/8MaQxewCLAxekOEVfHBUJ/4/ZYLNGgubLzjspvT0fva761n/72GpfWndZbuc5Wn/+7Ej2vq6wj7zys489Q9zQGL5CTY/JopaMrnV8U1g62RpROyaj8aPT5wNLKed1bD1ZIR/E1To0nqj4iWq9klP7qdY7S89aZJb7i0OgTg1hede8hjcEJWBS4O90xcnHgAoL7Y9GsBjmtcEdxFOWr+VXe+js6f6230ets9DoYpX+39e9F1vE3ZqpDGoMTyOExqTQ5PW1nkpl8Jp4mZ2iFtzMWo5ztqPzKv4XyLuc7CumX68q7PqKsi8YTXQeNIypvEaUbnd8qet55WMePrnsP+e8YdMB/Z8oEl//+wadPnx6vP//88+P9o/8Owh5R/73rqP+uNjo/5okPKR9YXn/55ZeHbuu/R+AFY2M9Me7tOL3nJWo+9lD+wDgYQwRRutF1jtbzqqN3HtbxR63jFvKJQQcYAVwfk0wrHaAcIouBRp9tZ1EcHS9dL8cpPRYyi9fb2UblJx3NR5mfdGvzOQqNi7Ey5uh5idIrGaUfrbuqnrfOLPGj59eCNAaGMOl8b6TvpLm4cAHS37hPFsdZOIZjiUXM1b6ji8pPOpqHcr6uWleNc7V532PUul/98xZF1vE3ZqxDfpVgCI+Y+NqASdfE8xiKrxSA92k4SBZL2diufbYQ4+PHj4/3eczNI+5yHwuIjxaNPjmgZfVVSA2r/Lbjf1ZfvcejeHJCR3rkyjaPuvbCmDQ2cuRVdxz0rcc8ah2UoB+x7kuidKPrHK3nVUfvPKziKw5PC3jlM8vXETwxiFjHPfzp77/yrZ8Yw8LggsQr0Mc18voMFgxuktctHCP/xiuu0wMWMM6W8aLBOPhQeD/2sspP4+f1GeRCbF6BvCLys0LrifyoGeN+tl56GbUOSqLWfcmqn7doPa86eudhFf8qn6MW8qsER1gALAYWhRbGq0XBAmIx8YHaNi4GLKi943uR/tX1anViG+/VODsfV0Pj17hVh728z9I6L1aM0o/WXVXPW+fq8XU8jT7HEsOr3h7kE4NAWCQsNl6fwXsyAltYnBGOE+2IOyXBB6fFUes4XreoTrw+g7ie9YtC64j8mTPysXxyEL0OSlrXRS/RutF1jtLzrqN3Hr3xR61fS/I3BoHwvRLfU7FInjXguyj9JkGwoHif43mPi8K2sQB5r/V7K463+E7tLOg9+w5yO54yV9p2rFsYN9/hEUc13Tbyaa3RlSAHzY3qoLx4bc1xW3f61CxiHZSgn78tsCNaz6uO3nn0xtfxGANeOW/P8puCknxicCFYWFz4eN3CNlwsr89g4fXcMY5yuDVnrvHw+gzGxr68bpGBmsmZ96D1Qp2oJXnPuA5KvO8Ia0TpRtc5Ws+rjt559Ma/yufHgnxicCFwlbhTFtO2AQ60fJIgOI7GguRCcbbJJbOALRwu41DMZ3pqfJB++umn3/8rAV7ZrmOJ8wxq8uzJADFmc+Y9aL1QJ/6xJtaHatICNR9xpy6264Y+eVjeEdaI1o2uc5Sedx298+iNH1XnCPKJwQSw0Lhg8voM3sOl89oCH2BLhyvnzOsrlBdsdTUeXp/BfhbjXAWrO7RRd+pi1B1XtG50naP0vOvonUdv/NGfH0vyicEE4Dpx3XzInjXArdaeKOyhCy06z37DcLYxFlrNyAjlRds6a8Zyh98KWEGdmTdqopMw/aM14vjtnFFjyzu9o6A/4o4rSje6ztF6XnX0zqM3vvf4RpBPDBaAxcgFmdcWOBa3y6sFfDBwy7y2IKPidce2Gpp/7tiYR+p25rcGo+7US0bdcUXpRtd5lSch3nn0xr/K58eSNAbJ7wubVwv4YHj8wzvJa8oTFCcn4AT16kQ16oIsGG+PsWklWje6zlF63nX0zuNsfOXLK9D3yHskaQySf1rovfABmd0xz0h5gqYPnKhenbC8T7x7lIaGcUasn2jd6DpH6XnX0TuPs/GVL69Arh55jyR/Y5A8vgfk+zAWtUUjVsR3w8kf0TwC33fqNyds13xs+5zIr/DdKPr52wI7ovW86uidx9n42h9DoGOA42b99wpq5D+JnCSLwYmKJwR4ft0BcVfEXY6eIgB9tvEe+3AMxya2RNd5lXn1zuNs/HJ/fb5W/NykMUiSxeBRJncvnLxo9NnGHQ53OzT6+psTHic27RfFKP1o3VX1vHWuEl/70eizD/uWn6+VSGOQJIvDSY+7Gk5i3O1w18PJcDSMYcSd7Sjd1bhLHe+4XtIYJMni6A5Hdzbed2JHGTWOKN3o/FbR887jaHztR6PPPuzrXdcrkMYgSW4CJ8Htk4O8Y/aFC0/knWa0nhfeeRyNv0o9W0hjkCQ34Sp3PN53hDWidVfV89YZHV/v0+jzHvt41fOKpDFIkpvByZC7H+6CuBviroiTZBRojbgTG6W7GqvXMddJGoMkuR3lHZDukDgR0nSn5MXeHZsXUbrR+a2i551HLb62l+uf99jHu55XJI1BktwUTo7bJwf677KjnyCsBrWLvOOM1vPCO49afG3X+p+9jhakMUiSm1K7I9IdlO6crKjdsXkTrbuqnrdOdHwafbbxnkATbe95uzJpDJLk5nCC5O5Id0zcLXHXxF0UJ04riDXiznaU7mqsVscyH63/XB9pDJLk9ugOiZMjTXdKusMq76ha8b4jrBGlG53fKnreeZTxafTZxntooVmu/zuTxiBJkj/AiZO7Jk6SHk8OVoUaRd5RR+t54Z1HGV/reva6eZLGIEmSP6A7KN056Y5Ld1hn8b4jrBGtu6qet05UfBp9gQZa3vM0I2kMkiR5CidpiycHHDPiznaU7mqsUsdcD8dJY5AkyVPKOyrdeXFipZV3YDW87whrROlG57eKnnceik+jL9BAy7tuM5PGIEmSl3DS3j450K+3W58grAY1iLwTjdbzwjsPxdc61TqetV6RpDFIkuQltTss3ZFxYqeVd2bed4Q1onVX1fPWsY6veOV6JCaxMR807/lZgT//6vw/fOsnSZJUefv27eME/sMPPzxOsJxcOQF/+vTp8frzzz8/3n/37t1j/y9fvjzu1nhl//fv3z/eJ44n0bpc2Mgf0EPLkyg97zpa56Hxfvz48REXU0DcH3/88fHKuvVcByuRTwySJDnE3p1Xecem5nXHWcP6TrRGlI5YRc8qruJondFnmyAmsWvrNanzp7//yrd+kiTJYTgJc3LXyZi+jADofU7IPJjk5BwBY9CDUE9dLkTcoZKnLjxc6LwuPtF6XnW0ykNxeAViEI9XIJ5nfVYmnxgkSdIEJ1xO6pyMdYJnGyd8TtafP39+8/Xr19//ptH3Qjq9d6JHWVXPW6c1vo7LJwT+pDFIksQETvLPfvXNBYA7Oxp9L6TDRYMLQ/76vI2r1lHj4ukFTePT3znfdqQxSJLEhPKO7S9/+cuj6c5Nd3zlnZ4VrXeiZ4nSEavotcbVcTT6gmOJofXmXZc7kb8xSJLEFE7enPy3J3FgG3d5nLy5u+NEbgmxuXMEXrlYeMAFijtX8tMFiQud10UpWs+rjq15lMdxDHCcZx3uTD4xSJLEFE7UnPQ5iW8b23iPEzwney5ANPpsa0XxZr+jrhGl561zNL72K9cH+3JMuZ4Se9IYJEkSAhcDnhRwUtddKY27QS4WrXAsMYhJ7PyuuY2r1FHj0PrIeY0njUGSJCHojq+806vdIR7l6J1oL1E6YhW9vbh6vzb/7Msx3vkn/yB/Y5AkSSic9LlI6ORPnwsCr8AF4MxvEDiWO0vglbtLD7hgbb/rZnxc6LwuVtF6XnXcy0Pv8wq8x368Avt55p38M/nEIEmSUDjBc3Hg5K8LxfakzwWEi4TuINXYJjMB2s/6DrfGqnreOopPo6+/a/OKNmOorY/En3xikCTJULgocFHSxYE+Fwxet3CB2D5J4IKywh11jSg97zoqD3SexWUburwC73vOY7JPPjFIkmQoXAC4GHFx0IXp2UWBC9f2TlNt9jvqktn1ynmiz7YaaKG5N/9JHPnEIEmSS8FFhItUeTFhm4wAaD8uJDPfUZdE61FTyycTGj+voHkih2e/HSEvz/yS86QxSJJkCsoLjuCiwsWM1y1WFxzrC+ceUXq6YFNPNKnTmR996nhet7Bta+AEcc/ET8aRxiBJkikYdSFa1RjIaFFPNKjTGSM1yqgl/qQxSJJkarwuUDIixG25oz5LtN5RAzLKkCXjSGOQJMnUeF24ZDiI23JHfZZovaPGQOPidUuv8UquSxqDJEmW5OwFTejCxnFHLpxWHL1Q9yIjRX5owqt69BqsZD7SGCRJsiRnnyQIXfA4bkVjIMOkJxPwqh41I5VPBtYljUGSJLei9iRB6ELIhZP9oOfOeO8CKgOjO3j2e6Wn/XltQfkDOugdMUr5ZOA+pDFIkuRW7F1YeY8LJRdQXSx77oz3Lqy6UDMeDAn7vdLT/ry2oPwBHfSePREQjKMn/2Q+0hgkSZJs6L3wlnBRfXXhlR4cuTOXcdHFvZc945LcjzQGSZIkG/aeKJxl70Je3sHv3ZnvGY2z5BOBpCSNQZIkiSPWTyDyDj/xJo1BkiSJI9ZPIPIOP/EmjUGSJEmSJL+T/9vlJEmSJEm+8ebN/wd9ydZU6yCiNgAAAABJRU5ErkJggg==)"
      ],
      "metadata": {
        "id": "GDT-2F1FWHFG"
      }
    },
    {
      "cell_type": "code",
      "metadata": {
        "id": "LZONVAIDRTnI"
      },
      "source": [
        "# объединение \n",
        "set_1 = {1,2,3,4,5,6,7,8,9}\n",
        "set_2 = {7,8,9, 10, 10, 11, 12, 13, 14}\n",
        "set_1 = set_1.union(set_2, set_3)"
      ],
      "execution_count": null,
      "outputs": []
    },
    {
      "cell_type": "code",
      "metadata": {
        "id": "13nu9WOxAiDP",
        "outputId": "47e4a415-e100-43f6-859a-844d6cc527b8",
        "colab": {
          "base_uri": "https://localhost:8080/",
          "height": 34
        }
      },
      "source": [
        "set_1"
      ],
      "execution_count": null,
      "outputs": [
        {
          "output_type": "execute_result",
          "data": {
            "text/plain": [
              "{1, 2, 3, 4, 5, 6, 7, 8, 9, 10, 11, 12, 13, 14}"
            ]
          },
          "metadata": {
            "tags": []
          },
          "execution_count": 125
        }
      ]
    },
    {
      "cell_type": "code",
      "metadata": {
        "id": "15jfjqgpRTkR",
        "outputId": "ac3801c7-92e4-43a3-a7a4-9a5fe262ab7e",
        "colab": {
          "base_uri": "https://localhost:8080/",
          "height": 34
        }
      },
      "source": [
        "set_1 | set_2 | set_3 # где | - логическое ИЛИ"
      ],
      "execution_count": null,
      "outputs": [
        {
          "output_type": "execute_result",
          "data": {
            "text/plain": [
              "{1, 2, 3, 4, 5, 6, 7, 8, 9, 10, 11, 12, 13, 14}"
            ]
          },
          "metadata": {
            "tags": []
          },
          "execution_count": 45
        }
      ]
    },
    {
      "cell_type": "markdown",
      "source": [
        "Пересечение множеств `А` и `B` - это те элементы, которые принадлежат одновременно обоим множествам"
      ],
      "metadata": {
        "id": "PMJC3nJsWaue"
      }
    },
    {
      "cell_type": "markdown",
      "source": [
        "![image.png](data:image/png;base64,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)"
      ],
      "metadata": {
        "id": "v4C-_DTMWamM"
      }
    },
    {
      "cell_type": "code",
      "metadata": {
        "id": "Oq-3CC_LRTh4",
        "outputId": "4bacf246-0321-4e54-893f-2bfd0ac1ae8b",
        "colab": {
          "base_uri": "https://localhost:8080/",
          "height": 34
        }
      },
      "source": [
        "# пересечение\n",
        "set_1 = {1,2,3,4,5,6,7,8,9}\n",
        "set_2 = {7,8,9, 10, 10, 11, 12, 13, 14}\n",
        "set_1.intersection(set_2)"
      ],
      "execution_count": null,
      "outputs": [
        {
          "output_type": "execute_result",
          "data": {
            "text/plain": [
              "{7, 8, 9}"
            ]
          },
          "metadata": {
            "tags": []
          },
          "execution_count": 127
        }
      ]
    },
    {
      "cell_type": "code",
      "metadata": {
        "id": "-P9IdUyfRTgC",
        "outputId": "b374db48-b62d-4579-b53d-8e868e5efe3d",
        "colab": {
          "base_uri": "https://localhost:8080/",
          "height": 34
        }
      },
      "source": [
        "set_1 & set_2 # где & - логическое И"
      ],
      "execution_count": null,
      "outputs": [
        {
          "output_type": "execute_result",
          "data": {
            "text/plain": [
              "{7, 8, 9}"
            ]
          },
          "metadata": {
            "tags": []
          },
          "execution_count": 25
        }
      ]
    },
    {
      "cell_type": "markdown",
      "source": [
        "Разность множеств `А` и `B` - это элементы множества `А`, которые есть в `А` **и только** в `А`. Значит, что при перестановке `B` - `A` смысл поменяется на диаметрально противоположный. Результатом будут элементы `В`, которые принадлежат `В` и тольк `В`"
      ],
      "metadata": {
        "id": "EQ_Lb9qZWx2e"
      }
    },
    {
      "cell_type": "markdown",
      "source": [
        "![image.png](data:image/png;base64,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)"
      ],
      "metadata": {
        "id": "5FGcnfccXQ_N"
      }
    },
    {
      "cell_type": "code",
      "metadata": {
        "id": "ONghyIxzRTeY",
        "outputId": "310886a2-a267-4231-bfc9-a602b23d6cd9",
        "colab": {
          "base_uri": "https://localhost:8080/",
          "height": 34
        }
      },
      "source": [
        "# разница множеств\n",
        "set_1 = {1,2,3,4,5,6,7,8,9}\n",
        "set_3 = {1,5,8}\n",
        "set_1.difference(set_3)"
      ],
      "execution_count": null,
      "outputs": [
        {
          "output_type": "execute_result",
          "data": {
            "text/plain": [
              "{2, 3, 4, 6, 7, 9}"
            ]
          },
          "metadata": {
            "tags": []
          },
          "execution_count": 129
        }
      ]
    },
    {
      "cell_type": "code",
      "metadata": {
        "id": "qtPwcT-5RTcF"
      },
      "source": [
        "set_5 = set_3 - set_1"
      ],
      "execution_count": null,
      "outputs": []
    },
    {
      "cell_type": "code",
      "metadata": {
        "id": "LMXwXuu4o9mi",
        "outputId": "06fed01a-237c-49a2-c98e-9f20d42e0815",
        "colab": {
          "base_uri": "https://localhost:8080/",
          "height": 34
        }
      },
      "source": [
        "set_5"
      ],
      "execution_count": null,
      "outputs": [
        {
          "output_type": "execute_result",
          "data": {
            "text/plain": [
              "set()"
            ]
          },
          "metadata": {
            "tags": []
          },
          "execution_count": 131
        }
      ]
    },
    {
      "cell_type": "markdown",
      "source": [
        "Симметрическая разность. Оставит лишь элементы, которые принадлежат только `А` и только `В`, но не обоим одновременно"
      ],
      "metadata": {
        "id": "JWEKV8OmX1_e"
      }
    },
    {
      "cell_type": "markdown",
      "source": [
        "![image.png](data:image/png;base64,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)"
      ],
      "metadata": {
        "id": "9hT5vkw8X12e"
      }
    },
    {
      "cell_type": "code",
      "source": [
        "# разница множеств\n",
        "set_1 = {1,2,3,4,5,6,7}\n",
        "set_3 = {4,5,6,7,8,9}\n",
        "set_1.symmetric_difference(set_3)"
      ],
      "metadata": {
        "colab": {
          "base_uri": "https://localhost:8080/"
        },
        "id": "LuXDf91wX2aO",
        "outputId": "ebad5090-60f1-4b58-f47f-4e41f122b080"
      },
      "execution_count": null,
      "outputs": [
        {
          "output_type": "execute_result",
          "data": {
            "text/plain": [
              "{1, 2, 3, 8, 9}"
            ]
          },
          "metadata": {},
          "execution_count": 3
        }
      ]
    },
    {
      "cell_type": "code",
      "source": [
        "set_1 ^ set_3"
      ],
      "metadata": {
        "colab": {
          "base_uri": "https://localhost:8080/"
        },
        "id": "HT_AZoqxYmtW",
        "outputId": "d13d680d-e8a5-49d2-8fcb-aa9266bbb1e7"
      },
      "execution_count": null,
      "outputs": [
        {
          "output_type": "execute_result",
          "data": {
            "text/plain": [
              "{1, 2, 3, 8, 9}"
            ]
          },
          "metadata": {},
          "execution_count": 4
        }
      ]
    },
    {
      "cell_type": "markdown",
      "source": [
        "Копирование множеств"
      ],
      "metadata": {
        "id": "KCDSWzvTYpsm"
      }
    },
    {
      "cell_type": "code",
      "metadata": {
        "id": "f46v7kKgRTXc",
        "outputId": "d19f0ae3-602a-4040-ee77-a2e2dd333d5b",
        "colab": {
          "base_uri": "https://localhost:8080/",
          "height": 34
        }
      },
      "source": [
        "set_4 = set_1.copy()\n",
        "set_4"
      ],
      "execution_count": null,
      "outputs": [
        {
          "output_type": "execute_result",
          "data": {
            "text/plain": [
              "{1, 2, 3, 4, 5, 6, 7, 8, 9}"
            ]
          },
          "metadata": {
            "tags": []
          },
          "execution_count": 132
        }
      ]
    },
    {
      "cell_type": "markdown",
      "metadata": {
        "id": "MC_E2-3gULy0"
      },
      "source": [
        "## Операции, непосредственно изменяющие множество"
      ]
    },
    {
      "cell_type": "code",
      "metadata": {
        "id": "bJpPvrLGRTU5",
        "outputId": "ad5f5a60-9d53-4efd-eed1-f10b289e7942",
        "colab": {
          "base_uri": "https://localhost:8080/",
          "height": 34
        }
      },
      "source": [
        "# объединение\n",
        "set_1 = {1,2,3}\n",
        "set_2 = {2,3,4,5}\n",
        "set_1.update(set_2)\n",
        "set_1"
      ],
      "execution_count": null,
      "outputs": [
        {
          "output_type": "execute_result",
          "data": {
            "text/plain": [
              "{1, 2, 3, 4, 5}"
            ]
          },
          "metadata": {
            "tags": []
          },
          "execution_count": 136
        }
      ]
    },
    {
      "cell_type": "code",
      "metadata": {
        "id": "dtEWDEx1VD46",
        "outputId": "8b8229fb-2876-4742-8c19-bf5be537f9db",
        "colab": {
          "base_uri": "https://localhost:8080/",
          "height": 34
        }
      },
      "source": [
        "# объединение\n",
        "set_1 = {1,2,3}\n",
        "set_2 = {2,3,4,5}\n",
        "set_1 |= set_2\n",
        "set_1"
      ],
      "execution_count": null,
      "outputs": [
        {
          "output_type": "execute_result",
          "data": {
            "text/plain": [
              "{1, 2, 3, 4, 5}"
            ]
          },
          "metadata": {
            "tags": []
          },
          "execution_count": 137
        }
      ]
    },
    {
      "cell_type": "code",
      "metadata": {
        "id": "lVtfv8OBRTRm",
        "outputId": "01509f9d-df2c-41ea-857d-ae5eda66eb93",
        "colab": {
          "base_uri": "https://localhost:8080/",
          "height": 34
        }
      },
      "source": [
        "# пересечение\n",
        "set_1 = {1,2,3}\n",
        "set_2 = {2,3,4,5}\n",
        "set_1.intersection_update(set_2)\n",
        "set_1"
      ],
      "execution_count": null,
      "outputs": [
        {
          "output_type": "execute_result",
          "data": {
            "text/plain": [
              "{2, 3}"
            ]
          },
          "metadata": {
            "tags": []
          },
          "execution_count": 138
        }
      ]
    },
    {
      "cell_type": "code",
      "metadata": {
        "id": "bCq7EGPuUqDC",
        "outputId": "bb8b1b41-ea73-4688-90dc-ce6bac105ad1",
        "colab": {
          "base_uri": "https://localhost:8080/",
          "height": 34
        }
      },
      "source": [
        "set_1 = {1,2,3}\n",
        "set_2 = {2,3,4,5}\n",
        "set_1 &= set_2\n",
        "set_1"
      ],
      "execution_count": null,
      "outputs": [
        {
          "output_type": "execute_result",
          "data": {
            "text/plain": [
              "{2, 3}"
            ]
          },
          "metadata": {
            "tags": []
          },
          "execution_count": 139
        }
      ]
    },
    {
      "cell_type": "code",
      "metadata": {
        "id": "cGtqrfpyVUe-",
        "outputId": "fef5854d-000a-4a12-acd1-4ae9d69e8da6",
        "colab": {
          "base_uri": "https://localhost:8080/",
          "height": 34
        }
      },
      "source": [
        "# вычитание\n",
        "set_1 = {1,2,3}\n",
        "set_2 = {2,3,4,5}\n",
        "set_1.difference_update(set_2)\n",
        "set_1"
      ],
      "execution_count": null,
      "outputs": [
        {
          "output_type": "execute_result",
          "data": {
            "text/plain": [
              "{1}"
            ]
          },
          "metadata": {
            "tags": []
          },
          "execution_count": 140
        }
      ]
    },
    {
      "cell_type": "code",
      "metadata": {
        "id": "RY54_ErnVUbn",
        "outputId": "0c6f0185-74ed-4044-e09d-3cfebb104241",
        "colab": {
          "base_uri": "https://localhost:8080/",
          "height": 34
        }
      },
      "source": [
        "set_1 = {1,2,3}\n",
        "set_2 = {2,3,4,5}\n",
        "set_2 -= set_1\n",
        "set_2"
      ],
      "execution_count": null,
      "outputs": [
        {
          "output_type": "execute_result",
          "data": {
            "text/plain": [
              "{4, 5}"
            ]
          },
          "metadata": {
            "tags": []
          },
          "execution_count": 141
        }
      ]
    },
    {
      "cell_type": "code",
      "metadata": {
        "id": "O8d3L1JpVUZJ",
        "outputId": "59c49e59-9130-4988-979e-18dbf34ac595",
        "colab": {
          "base_uri": "https://localhost:8080/",
          "height": 34
        }
      },
      "source": [
        "# симметричная разница\n",
        "set_1 = {1,2,3}\n",
        "set_2 = {2,3,4,5}\n",
        "set_1.symmetric_difference_update(set_2)\n",
        "set_1"
      ],
      "execution_count": null,
      "outputs": [
        {
          "output_type": "execute_result",
          "data": {
            "text/plain": [
              "{1, 4, 5}"
            ]
          },
          "metadata": {
            "tags": []
          },
          "execution_count": 65
        }
      ]
    },
    {
      "cell_type": "code",
      "metadata": {
        "id": "b8lR--oZVUXR",
        "outputId": "cbd4b7d8-4971-4507-8539-d831e1917850",
        "colab": {
          "base_uri": "https://localhost:8080/"
        }
      },
      "source": [
        "set_1 = {1,2,3}\n",
        "set_2 = {2,3,4,5}\n",
        "set_2 ^= set_1\n",
        "set_2"
      ],
      "execution_count": null,
      "outputs": [
        {
          "output_type": "execute_result",
          "data": {
            "text/plain": [
              "{1, 4, 5}"
            ]
          },
          "metadata": {},
          "execution_count": 34
        }
      ]
    },
    {
      "cell_type": "code",
      "metadata": {
        "id": "ZpA6-NJ2VUU1",
        "outputId": "ebaeac29-8278-4df4-8c73-8eb758d80671",
        "colab": {
          "base_uri": "https://localhost:8080/"
        }
      },
      "source": [
        "set_1.add(5)\n",
        "set_1"
      ],
      "execution_count": null,
      "outputs": [
        {
          "output_type": "execute_result",
          "data": {
            "text/plain": [
              "{1, 2, 3, 5}"
            ]
          },
          "metadata": {},
          "execution_count": 35
        }
      ]
    },
    {
      "cell_type": "code",
      "metadata": {
        "id": "PLcNz_qmVUSn",
        "outputId": "57530e7b-a676-461f-e8b3-d386a11782dc",
        "colab": {
          "base_uri": "https://localhost:8080/"
        }
      },
      "source": [
        "set_1.remove(5)\n",
        "set_1"
      ],
      "execution_count": null,
      "outputs": [
        {
          "output_type": "execute_result",
          "data": {
            "text/plain": [
              "{1, 2, 3}"
            ]
          },
          "metadata": {},
          "execution_count": 36
        }
      ]
    },
    {
      "cell_type": "code",
      "metadata": {
        "id": "taW1VBmqVUQH",
        "outputId": "6ebbdf5a-1873-471d-8b2d-9736ae7aad1b",
        "colab": {
          "base_uri": "https://localhost:8080/",
          "height": 168
        }
      },
      "source": [
        "set_1.remove(5)"
      ],
      "execution_count": null,
      "outputs": [
        {
          "output_type": "error",
          "ename": "KeyError",
          "evalue": "ignored",
          "traceback": [
            "\u001b[0;31m---------------------------------------------------------------------------\u001b[0m",
            "\u001b[0;31mKeyError\u001b[0m                                  Traceback (most recent call last)",
            "\u001b[0;32m<ipython-input-37-7072d7b63d33>\u001b[0m in \u001b[0;36m<module>\u001b[0;34m\u001b[0m\n\u001b[0;32m----> 1\u001b[0;31m \u001b[0mset_1\u001b[0m\u001b[0;34m.\u001b[0m\u001b[0mremove\u001b[0m\u001b[0;34m(\u001b[0m\u001b[0;36m5\u001b[0m\u001b[0;34m)\u001b[0m\u001b[0;34m\u001b[0m\u001b[0;34m\u001b[0m\u001b[0m\n\u001b[0m",
            "\u001b[0;31mKeyError\u001b[0m: 5"
          ]
        }
      ]
    },
    {
      "cell_type": "code",
      "metadata": {
        "id": "fbUAiT2xVUOI"
      },
      "source": [
        "set_1.discard(5)"
      ],
      "execution_count": null,
      "outputs": []
    },
    {
      "cell_type": "code",
      "metadata": {
        "id": "cqawIXDCVULR",
        "outputId": "516058c8-4fab-4118-9923-f41975c1d02f",
        "colab": {
          "base_uri": "https://localhost:8080/"
        }
      },
      "source": [
        "set_1.discard(2)\n",
        "set_1"
      ],
      "execution_count": null,
      "outputs": [
        {
          "output_type": "execute_result",
          "data": {
            "text/plain": [
              "{1, 3}"
            ]
          },
          "metadata": {},
          "execution_count": 40
        }
      ]
    },
    {
      "cell_type": "code",
      "metadata": {
        "id": "jkz65njfVUI6",
        "outputId": "9499437e-a24f-4eab-d777-d3add6137b0c",
        "colab": {
          "base_uri": "https://localhost:8080/"
        }
      },
      "source": [
        "# извлекаем первый элемент и возвращаем его\n",
        "set_2 = {1,2,3,4,5}\n",
        "r = set_2.pop()\n",
        "r"
      ],
      "execution_count": null,
      "outputs": [
        {
          "output_type": "execute_result",
          "data": {
            "text/plain": [
              "1"
            ]
          },
          "metadata": {},
          "execution_count": 41
        }
      ]
    },
    {
      "cell_type": "code",
      "metadata": {
        "id": "yM4j_v28qdLW",
        "outputId": "8dd3fde7-7037-4bd4-902b-31797d11161c",
        "colab": {
          "base_uri": "https://localhost:8080/"
        }
      },
      "source": [
        "set_2"
      ],
      "execution_count": null,
      "outputs": [
        {
          "output_type": "execute_result",
          "data": {
            "text/plain": [
              "{2, 3, 4, 5}"
            ]
          },
          "metadata": {},
          "execution_count": 42
        }
      ]
    },
    {
      "cell_type": "code",
      "metadata": {
        "id": "gIVq2SCkVUG7",
        "outputId": "fc15eacf-914c-40ac-b790-0bc63c5fc311",
        "colab": {
          "base_uri": "https://localhost:8080/",
          "height": 168
        }
      },
      "source": [
        "{}.pop()"
      ],
      "execution_count": null,
      "outputs": [
        {
          "output_type": "error",
          "ename": "TypeError",
          "evalue": "ignored",
          "traceback": [
            "\u001b[0;31m---------------------------------------------------------------------------\u001b[0m",
            "\u001b[0;31mTypeError\u001b[0m                                 Traceback (most recent call last)",
            "\u001b[0;32m<ipython-input-43-efdd55b4009b>\u001b[0m in \u001b[0;36m<module>\u001b[0;34m\u001b[0m\n\u001b[0;32m----> 1\u001b[0;31m \u001b[0;34m{\u001b[0m\u001b[0;34m}\u001b[0m\u001b[0;34m.\u001b[0m\u001b[0mpop\u001b[0m\u001b[0;34m(\u001b[0m\u001b[0;34m)\u001b[0m\u001b[0;34m\u001b[0m\u001b[0;34m\u001b[0m\u001b[0m\n\u001b[0m",
            "\u001b[0;31mTypeError\u001b[0m: pop expected at least 1 arguments, got 0"
          ]
        }
      ]
    },
    {
      "cell_type": "code",
      "metadata": {
        "id": "t0zlJQqxVUDw",
        "outputId": "87ad8104-452e-48eb-9635-f70a3d48f17f",
        "colab": {
          "base_uri": "https://localhost:8080/",
          "height": 34
        }
      },
      "source": [
        "set_2.clear()\n",
        "set_2"
      ],
      "execution_count": null,
      "outputs": [
        {
          "output_type": "execute_result",
          "data": {
            "text/plain": [
              "set()"
            ]
          },
          "metadata": {
            "tags": []
          },
          "execution_count": 152
        }
      ]
    },
    {
      "cell_type": "markdown",
      "metadata": {
        "id": "HN7IaF60Xg1r"
      },
      "source": [
        "# Dict"
      ]
    },
    {
      "cell_type": "code",
      "metadata": {
        "id": "VXe3cPptXiuL",
        "outputId": "7c5dc9a8-e7ad-4667-ea32-474ecdd217f5",
        "colab": {
          "base_uri": "https://localhost:8080/"
        }
      },
      "source": [
        "d = {}\n",
        "type(d)"
      ],
      "execution_count": null,
      "outputs": [
        {
          "output_type": "execute_result",
          "data": {
            "text/plain": [
              "dict"
            ]
          },
          "metadata": {},
          "execution_count": 44
        }
      ]
    },
    {
      "cell_type": "code",
      "metadata": {
        "id": "0E8aaqfjXjz4",
        "outputId": "aa42545a-21b2-4ea3-e210-f6839ea9cd74",
        "colab": {
          "base_uri": "https://localhost:8080/",
          "height": 34
        }
      },
      "source": [
        "d = {'k1':1, 'k2':2, 1:2, (1,):0,}\n",
        "d"
      ],
      "execution_count": null,
      "outputs": [
        {
          "output_type": "execute_result",
          "data": {
            "text/plain": [
              "{(1,): 0, 1: 2, 'k1': 1, 'k2': 2}"
            ]
          },
          "metadata": {
            "tags": []
          },
          "execution_count": 154
        }
      ]
    },
    {
      "cell_type": "code",
      "metadata": {
        "id": "PBUMgQ7bXjv5",
        "outputId": "4748236f-c7ff-4fa8-c990-917e4397f7f5",
        "colab": {
          "base_uri": "https://localhost:8080/",
          "height": 34
        }
      },
      "source": [
        "d = dict(k1=1, k2=2)\n",
        "d"
      ],
      "execution_count": null,
      "outputs": [
        {
          "output_type": "execute_result",
          "data": {
            "text/plain": [
              "{'k1': 1, 'k2': 2}"
            ]
          },
          "metadata": {
            "tags": []
          },
          "execution_count": 155
        }
      ]
    },
    {
      "cell_type": "code",
      "metadata": {
        "id": "KHyChflFXjtl",
        "outputId": "eac23988-db84-4eb3-8175-11174df236d9",
        "colab": {
          "base_uri": "https://localhost:8080/",
          "height": 34
        }
      },
      "source": [
        "# з списка tuple's\n",
        "d = dict([('k1', 1), ('k2', 2)])\n",
        "d"
      ],
      "execution_count": null,
      "outputs": [
        {
          "output_type": "execute_result",
          "data": {
            "text/plain": [
              "{'k1': 1, 'k2': 2}"
            ]
          },
          "metadata": {
            "tags": []
          },
          "execution_count": 156
        }
      ]
    },
    {
      "cell_type": "code",
      "metadata": {
        "id": "7zheGZXfXjq0",
        "outputId": "0fa7176b-7628-4811-c4dc-7b40b7c860cb",
        "colab": {
          "base_uri": "https://localhost:8080/",
          "height": 34
        }
      },
      "source": [
        "d = dict.fromkeys(['k1', 'k2'])\n",
        "d"
      ],
      "execution_count": null,
      "outputs": [
        {
          "output_type": "execute_result",
          "data": {
            "text/plain": [
              "{'k1': None, 'k2': None}"
            ]
          },
          "metadata": {
            "tags": []
          },
          "execution_count": 93
        }
      ]
    },
    {
      "cell_type": "code",
      "metadata": {
        "id": "eYosbepSXjo4",
        "outputId": "951abc79-fc8c-436b-fa71-e15ede35bc19",
        "colab": {
          "base_uri": "https://localhost:8080/",
          "height": 34
        }
      },
      "source": [
        "d = dict.fromkeys(['k1', 'k2'], [])\n",
        "d['k1'].append(10)\n",
        "d"
      ],
      "execution_count": null,
      "outputs": [
        {
          "output_type": "execute_result",
          "data": {
            "text/plain": [
              "{'k1': [10], 'k2': [10]}"
            ]
          },
          "metadata": {
            "tags": []
          },
          "execution_count": 158
        }
      ]
    },
    {
      "cell_type": "code",
      "source": [
        "d = dict.fromkeys(['k1', 'k2'], 0)\n",
        "d['k1'] = 10\n",
        "d"
      ],
      "metadata": {
        "colab": {
          "base_uri": "https://localhost:8080/"
        },
        "id": "k1CEyqbI65H9",
        "outputId": "b4ff9210-7d0f-4e19-8db4-33f5ab8ca01d"
      },
      "execution_count": null,
      "outputs": [
        {
          "output_type": "execute_result",
          "data": {
            "text/plain": [
              "{'k1': 10, 'k2': 0}"
            ]
          },
          "metadata": {},
          "execution_count": 46
        }
      ]
    },
    {
      "cell_type": "code",
      "metadata": {
        "id": "BWQ-hlhtXjmv",
        "outputId": "3cd48e96-e1cc-4bb5-c9ed-ef0e52288c27",
        "colab": {
          "base_uri": "https://localhost:8080/"
        }
      },
      "source": [
        "# генератор\n",
        "d = {'k' + str(a): a ** 2 for a in range(7)}\n",
        "d"
      ],
      "execution_count": null,
      "outputs": [
        {
          "output_type": "execute_result",
          "data": {
            "text/plain": [
              "{'k0': 0, 'k1': 1, 'k2': 4, 'k3': 9, 'k4': 16, 'k5': 25, 'k6': 36}"
            ]
          },
          "metadata": {},
          "execution_count": 47
        }
      ]
    },
    {
      "cell_type": "markdown",
      "source": [
        "Инверсированный словарь"
      ],
      "metadata": {
        "id": "2ncOe2Je7U1s"
      }
    },
    {
      "cell_type": "code",
      "metadata": {
        "id": "LMVA1PIkrwKE",
        "outputId": "510267c7-32b2-4917-9fc6-7dbcf0a01c35",
        "colab": {
          "base_uri": "https://localhost:8080/"
        }
      },
      "source": [
        "de = {val:key for key, val in d.items()}\n",
        "de"
      ],
      "execution_count": null,
      "outputs": [
        {
          "output_type": "execute_result",
          "data": {
            "text/plain": [
              "{0: 'k0', 1: 'k1', 4: 'k2', 9: 'k3', 16: 'k4', 25: 'k5', 36: 'k6'}"
            ]
          },
          "metadata": {},
          "execution_count": 48
        }
      ]
    },
    {
      "cell_type": "code",
      "metadata": {
        "id": "0FOhoEZzXjjT",
        "outputId": "fa9cb222-c37c-4c84-e907-e1d7de93983a",
        "colab": {
          "base_uri": "https://localhost:8080/",
          "height": 186
        }
      },
      "source": [
        "# по номеру обращаться нельзя\n",
        "d[1]"
      ],
      "execution_count": null,
      "outputs": [
        {
          "output_type": "error",
          "ename": "KeyError",
          "evalue": "ignored",
          "traceback": [
            "\u001b[0;31m---------------------------------------------------------------------------\u001b[0m",
            "\u001b[0;31mKeyError\u001b[0m                                  Traceback (most recent call last)",
            "\u001b[0;32m<ipython-input-49-91606e8fafdd>\u001b[0m in \u001b[0;36m<module>\u001b[0;34m\u001b[0m\n\u001b[1;32m      1\u001b[0m \u001b[0;31m# по номеру обращаться нельзя\u001b[0m\u001b[0;34m\u001b[0m\u001b[0;34m\u001b[0m\u001b[0;34m\u001b[0m\u001b[0m\n\u001b[0;32m----> 2\u001b[0;31m \u001b[0md\u001b[0m\u001b[0;34m[\u001b[0m\u001b[0;36m1\u001b[0m\u001b[0;34m]\u001b[0m\u001b[0;34m\u001b[0m\u001b[0;34m\u001b[0m\u001b[0m\n\u001b[0m",
            "\u001b[0;31mKeyError\u001b[0m: 1"
          ]
        }
      ]
    },
    {
      "cell_type": "code",
      "metadata": {
        "id": "TnOUKjqoXjgr",
        "outputId": "643b1f30-d9b3-40b2-9eb8-163ea4b6b6d9",
        "colab": {
          "base_uri": "https://localhost:8080/"
        }
      },
      "source": [
        "d['k0']"
      ],
      "execution_count": null,
      "outputs": [
        {
          "output_type": "execute_result",
          "data": {
            "text/plain": [
              "0"
            ]
          },
          "metadata": {},
          "execution_count": 50
        }
      ]
    },
    {
      "cell_type": "code",
      "metadata": {
        "id": "_IGL70NKXjeY",
        "outputId": "a08d0d40-d5ad-496e-8e0c-af3711371256",
        "colab": {
          "base_uri": "https://localhost:8080/"
        }
      },
      "source": [
        "d['k0'] = 100\n",
        "d"
      ],
      "execution_count": null,
      "outputs": [
        {
          "output_type": "execute_result",
          "data": {
            "text/plain": [
              "{'k0': 100, 'k1': 1, 'k2': 4, 'k3': 9, 'k4': 16, 'k5': 25, 'k6': 36}"
            ]
          },
          "metadata": {},
          "execution_count": 51
        }
      ]
    },
    {
      "cell_type": "markdown",
      "source": [
        "Очистка словаря"
      ],
      "metadata": {
        "id": "6aUh84l7ZYOW"
      }
    },
    {
      "cell_type": "code",
      "metadata": {
        "id": "gaO4nNxZXjbm",
        "outputId": "4548408c-7e4f-4093-fd90-952e21a0d92f",
        "colab": {
          "base_uri": "https://localhost:8080/"
        }
      },
      "source": [
        "d.clear()\n",
        "d"
      ],
      "execution_count": null,
      "outputs": [
        {
          "output_type": "execute_result",
          "data": {
            "text/plain": [
              "{}"
            ]
          },
          "metadata": {},
          "execution_count": 52
        }
      ]
    },
    {
      "cell_type": "code",
      "metadata": {
        "id": "fTmF-FrzXjZk"
      },
      "source": [
        "d = {'k' + str(a): a ** 2 for a in range(7)}"
      ],
      "execution_count": null,
      "outputs": []
    },
    {
      "cell_type": "code",
      "source": [
        "d[1]"
      ],
      "metadata": {
        "colab": {
          "base_uri": "https://localhost:8080/",
          "height": 168
        },
        "id": "VVQwXOi_7-5o",
        "outputId": "b8b8c06f-5e50-4f05-bff4-82bb8f34a79a"
      },
      "execution_count": null,
      "outputs": [
        {
          "output_type": "error",
          "ename": "KeyError",
          "evalue": "ignored",
          "traceback": [
            "\u001b[0;31m---------------------------------------------------------------------------\u001b[0m",
            "\u001b[0;31mKeyError\u001b[0m                                  Traceback (most recent call last)",
            "\u001b[0;32m<ipython-input-55-abe283337115>\u001b[0m in \u001b[0;36m<module>\u001b[0;34m\u001b[0m\n\u001b[0;32m----> 1\u001b[0;31m \u001b[0md\u001b[0m\u001b[0;34m[\u001b[0m\u001b[0;36m1\u001b[0m\u001b[0;34m]\u001b[0m\u001b[0;34m\u001b[0m\u001b[0;34m\u001b[0m\u001b[0m\n\u001b[0m",
            "\u001b[0;31mKeyError\u001b[0m: 1"
          ]
        }
      ]
    },
    {
      "cell_type": "code",
      "metadata": {
        "id": "vabjUvQmXjW0",
        "outputId": "442fe0ac-332b-4363-f53b-d37db32e35da",
        "colab": {
          "base_uri": "https://localhost:8080/",
          "height": 35
        }
      },
      "source": [
        "# получение по ключу. если ключа нет, то дефолтное значение\n",
        "d.get(1, 'er')"
      ],
      "execution_count": null,
      "outputs": [
        {
          "output_type": "execute_result",
          "data": {
            "text/plain": [
              "'er'"
            ],
            "application/vnd.google.colaboratory.intrinsic+json": {
              "type": "string"
            }
          },
          "metadata": {},
          "execution_count": 56
        }
      ]
    },
    {
      "cell_type": "markdown",
      "source": [
        "Получаем tuples bиз пар ключ-значение"
      ],
      "metadata": {
        "id": "cW2XJsbZZf5-"
      }
    },
    {
      "cell_type": "code",
      "metadata": {
        "id": "_xGBr6_pXjTj",
        "outputId": "65c4a502-e76f-40ae-a1e9-74593c2bc47f",
        "colab": {
          "base_uri": "https://localhost:8080/",
          "height": 34
        }
      },
      "source": [
        "d.items()"
      ],
      "execution_count": null,
      "outputs": [
        {
          "output_type": "execute_result",
          "data": {
            "text/plain": [
              "dict_items([('k0', 0), ('k1', 1), ('k2', 4), ('k3', 9), ('k4', 16), ('k5', 25), ('k6', 36)])"
            ]
          },
          "metadata": {
            "tags": []
          },
          "execution_count": 172
        }
      ]
    },
    {
      "cell_type": "code",
      "source": [
        "for key, val in d.items():\n",
        "    print(key, val)"
      ],
      "metadata": {
        "colab": {
          "base_uri": "https://localhost:8080/"
        },
        "id": "QGgAwZGT8ZVn",
        "outputId": "316da0c9-c135-4d7b-a73e-661dd7e375a1"
      },
      "execution_count": null,
      "outputs": [
        {
          "output_type": "stream",
          "name": "stdout",
          "text": [
            "k0 0\n",
            "k1 1\n",
            "k2 4\n",
            "k3 9\n",
            "k4 16\n",
            "k5 25\n",
            "k6 36\n"
          ]
        }
      ]
    },
    {
      "cell_type": "markdown",
      "source": [
        "Список ключей"
      ],
      "metadata": {
        "id": "7vRCpLaaZpYk"
      }
    },
    {
      "cell_type": "code",
      "metadata": {
        "id": "x9NiMYTvXjRc",
        "outputId": "6bab3119-ff1f-4943-d3e3-3d371ce49fe2",
        "colab": {
          "base_uri": "https://localhost:8080/",
          "height": 34
        }
      },
      "source": [
        "d.keys()"
      ],
      "execution_count": null,
      "outputs": [
        {
          "output_type": "execute_result",
          "data": {
            "text/plain": [
              "dict_keys(['k0', 'k1', 'k2', 'k3', 'k4', 'k5', 'k6'])"
            ]
          },
          "metadata": {
            "tags": []
          },
          "execution_count": 173
        }
      ]
    },
    {
      "cell_type": "markdown",
      "source": [
        "Список значений"
      ],
      "metadata": {
        "id": "v1DBW_EJZrsc"
      }
    },
    {
      "cell_type": "code",
      "metadata": {
        "id": "Ui_zIVzsXjPQ",
        "outputId": "137f387b-f596-4732-e19c-e0139cd3afa0",
        "colab": {
          "base_uri": "https://localhost:8080/",
          "height": 34
        }
      },
      "source": [
        "d.values()"
      ],
      "execution_count": null,
      "outputs": [
        {
          "output_type": "execute_result",
          "data": {
            "text/plain": [
              "dict_values([0, 1, 4, 9, 16, 25, 36])"
            ]
          },
          "metadata": {
            "tags": []
          },
          "execution_count": 174
        }
      ]
    },
    {
      "cell_type": "markdown",
      "source": [
        "Извлечение значений по ключу"
      ],
      "metadata": {
        "id": "o4cphGr-aDBc"
      }
    },
    {
      "cell_type": "code",
      "metadata": {
        "id": "Edx5QGdGXjMm",
        "outputId": "424ca875-b3d5-4af7-f52c-2f22e468bbee",
        "colab": {
          "base_uri": "https://localhost:8080/",
          "height": 35
        }
      },
      "source": [
        "d.pop('k10', 'nothing')"
      ],
      "execution_count": null,
      "outputs": [
        {
          "output_type": "execute_result",
          "data": {
            "application/vnd.google.colaboratory.intrinsic+json": {
              "type": "string"
            },
            "text/plain": [
              "'nothing'"
            ]
          },
          "metadata": {
            "tags": []
          },
          "execution_count": 175
        }
      ]
    },
    {
      "cell_type": "code",
      "metadata": {
        "id": "mHfYDD-htElh",
        "outputId": "c5a2e809-5118-4986-9818-194bf9713ac4",
        "colab": {
          "base_uri": "https://localhost:8080/"
        }
      },
      "source": [
        "k = d.pop('k1')\n",
        "d, k"
      ],
      "execution_count": null,
      "outputs": [
        {
          "output_type": "execute_result",
          "data": {
            "text/plain": [
              "({'k0': 0, 'k2': 4, 'k3': 9, 'k4': 16, 'k5': 25, 'k6': 36}, 1)"
            ]
          },
          "metadata": {},
          "execution_count": 58
        }
      ]
    },
    {
      "cell_type": "markdown",
      "source": [
        "Извлечение пары ключ-значение"
      ],
      "metadata": {
        "id": "TWaT2FYXaGQ1"
      }
    },
    {
      "cell_type": "code",
      "metadata": {
        "id": "2QuqHmRLXjKv",
        "outputId": "08848514-2951-4ab2-f723-edcda0839cbf",
        "colab": {
          "base_uri": "https://localhost:8080/"
        }
      },
      "source": [
        "d.popitem()"
      ],
      "execution_count": null,
      "outputs": [
        {
          "output_type": "execute_result",
          "data": {
            "text/plain": [
              "('k6', 36)"
            ]
          },
          "metadata": {},
          "execution_count": 59
        }
      ]
    },
    {
      "cell_type": "code",
      "metadata": {
        "id": "Di0zbVg5tWAu",
        "outputId": "4912b8d4-c037-402f-a0e4-e03a1ebc48a1",
        "colab": {
          "base_uri": "https://localhost:8080/"
        }
      },
      "source": [
        "d"
      ],
      "execution_count": null,
      "outputs": [
        {
          "output_type": "execute_result",
          "data": {
            "text/plain": [
              "{'k0': 0, 'k2': 4, 'k3': 9, 'k4': 16, 'k5': 25}"
            ]
          },
          "metadata": {},
          "execution_count": 60
        }
      ]
    },
    {
      "cell_type": "markdown",
      "source": [
        "Обновление словаря новыми знчениями"
      ],
      "metadata": {
        "id": "4ateyIkcaPJW"
      }
    },
    {
      "cell_type": "code",
      "source": [
        "d[\"new_key\"] = 10"
      ],
      "metadata": {
        "id": "OUyEHM_n9M5_"
      },
      "execution_count": null,
      "outputs": []
    },
    {
      "cell_type": "code",
      "metadata": {
        "id": "4wnA_DPfXjCW",
        "outputId": "6e5da8e8-1b88-4d7b-b8e1-56c48640af3b",
        "colab": {
          "base_uri": "https://localhost:8080/"
        }
      },
      "source": [
        "d.update({'1':12, '2':12})\n",
        "d"
      ],
      "execution_count": null,
      "outputs": [
        {
          "output_type": "execute_result",
          "data": {
            "text/plain": [
              "{'k0': 0,\n",
              " 'k2': 4,\n",
              " 'k3': 9,\n",
              " 'k4': 16,\n",
              " 'k5': 25,\n",
              " 'new_key': 10,\n",
              " '1': 12,\n",
              " '2': 12}"
            ]
          },
          "metadata": {},
          "execution_count": 62
        }
      ]
    },
    {
      "cell_type": "code",
      "metadata": {
        "id": "IP2PiM1at0Vu",
        "outputId": "8160a4d6-b51f-4a5f-d8b0-1e13fc7b099a",
        "colab": {
          "base_uri": "https://localhost:8080/"
        }
      },
      "source": [
        "d.update({'3':1000})\n",
        "d"
      ],
      "execution_count": null,
      "outputs": [
        {
          "output_type": "execute_result",
          "data": {
            "text/plain": [
              "{'k0': 0,\n",
              " 'k2': 4,\n",
              " 'k3': 9,\n",
              " 'k4': 16,\n",
              " 'k5': 25,\n",
              " 'new_key': 10,\n",
              " '1': 12,\n",
              " '2': 12,\n",
              " '3': 1000}"
            ]
          },
          "metadata": {},
          "execution_count": 63
        }
      ]
    },
    {
      "cell_type": "markdown",
      "source": [
        "Сортировка словаря"
      ],
      "metadata": {
        "id": "RB3JSCRgameL"
      }
    },
    {
      "cell_type": "code",
      "metadata": {
        "id": "RsiQKCDUuRJ0",
        "outputId": "d1b3bf56-f4c6-4f52-b1ad-f0edf7e5baa1",
        "colab": {
          "base_uri": "https://localhost:8080/"
        }
      },
      "source": [
        "sorted(d.items(), key=lambda item: item[1], reverse=False)"
      ],
      "execution_count": null,
      "outputs": [
        {
          "output_type": "execute_result",
          "data": {
            "text/plain": [
              "[('k0', 0),\n",
              " ('k2', 4),\n",
              " ('k3', 9),\n",
              " ('new_key', 10),\n",
              " ('1', 12),\n",
              " ('2', 12),\n",
              " ('k4', 16),\n",
              " ('k5', 25),\n",
              " ('3', 1000)]"
            ]
          },
          "metadata": {},
          "execution_count": 65
        }
      ]
    },
    {
      "cell_type": "code",
      "metadata": {
        "id": "d_vy0hqIg-Rk",
        "outputId": "b2d3f48c-7545-4aed-d12e-3063b5037dae",
        "colab": {
          "base_uri": "https://localhost:8080/"
        }
      },
      "source": [
        "x = {'1': 3, '3': 0, '4': 1,'2': 5, '0': 0}\n",
        "# y = {k: v for k, v in sorted(x.items(), key=lambda item: item[1])}\n",
        "y = dict(sorted(x.items(), key=lambda item: item[0]))\n",
        "y"
      ],
      "execution_count": null,
      "outputs": [
        {
          "output_type": "execute_result",
          "data": {
            "text/plain": [
              "{'0': 0, '1': 3, '2': 5, '3': 0, '4': 1}"
            ]
          },
          "metadata": {},
          "execution_count": 7
        }
      ]
    },
    {
      "cell_type": "code",
      "metadata": {
        "id": "55q4YCy6hD5H",
        "outputId": "4b18eff9-9abe-48e4-ccca-ea991d42a8bb",
        "colab": {
          "base_uri": "https://localhost:8080/"
        }
      },
      "source": [
        "x = {'1': 3, '3': 0, '4': 1,'2': 5, '0': 0}\n",
        "# y = {k: v for k, v in sorted(x.items(), key=lambda item: int(item[0]), reverse=True)}\n",
        "y = dict(sorted(x.items(), key=lambda item: int(item[1]), reverse=True))\n",
        "y"
      ],
      "execution_count": null,
      "outputs": [
        {
          "output_type": "execute_result",
          "data": {
            "text/plain": [
              "{'2': 5, '1': 3, '4': 1, '3': 0, '0': 0}"
            ]
          },
          "metadata": {},
          "execution_count": 8
        }
      ]
    },
    {
      "cell_type": "markdown",
      "metadata": {
        "id": "H3XikeAZE1eH"
      },
      "source": [
        "# Функции"
      ]
    },
    {
      "cell_type": "code",
      "metadata": {
        "id": "thboOpc2Z5fu",
        "outputId": "59cb113b-58b7-438b-ecfc-e63b158a370d",
        "colab": {
          "base_uri": "https://localhost:8080/"
        }
      },
      "source": [
        "# функция без аргументов\n",
        "def my_func():\n",
        "    print('Hi, everyone')\n",
        "\n",
        "my_func()"
      ],
      "execution_count": null,
      "outputs": [
        {
          "output_type": "stream",
          "name": "stdout",
          "text": [
            "Hi, everyone\n"
          ]
        }
      ]
    },
    {
      "cell_type": "code",
      "metadata": {
        "id": "x7gR0332Z5f7",
        "colab": {
          "base_uri": "https://localhost:8080/"
        },
        "outputId": "8ebc2dc9-db38-4f76-fb31-7920a026919f"
      },
      "source": [
        "# функция с аргументами, ничего не вовращает + docstrings\n",
        "def my_sum(a, b):\n",
        "    \"\"\"\n",
        "        функция считает сумму двух чисел a и b\n",
        "    \"\"\"\n",
        "    print(a+b)\n",
        "\n",
        "sum_ = my_sum(5,3)\n",
        "# sum_ + 5\n",
        "type(sum_)\n",
        "# my_sum(5,3)"
      ],
      "execution_count": null,
      "outputs": [
        {
          "output_type": "stream",
          "name": "stdout",
          "text": [
            "8\n"
          ]
        },
        {
          "output_type": "execute_result",
          "data": {
            "text/plain": [
              "NoneType"
            ]
          },
          "metadata": {},
          "execution_count": 70
        }
      ]
    },
    {
      "cell_type": "code",
      "metadata": {
        "collapsed": true,
        "id": "P3_6Ue_1Z5f9",
        "colab": {
          "base_uri": "https://localhost:8080/"
        },
        "outputId": "c62144f0-45ca-4a07-c03c-2fbd178f67ce"
      },
      "source": [
        "help(str)"
      ],
      "execution_count": null,
      "outputs": [
        {
          "output_type": "stream",
          "name": "stdout",
          "text": [
            "Help on class str in module builtins:\n",
            "\n",
            "class str(object)\n",
            " |  str(object='') -> str\n",
            " |  str(bytes_or_buffer[, encoding[, errors]]) -> str\n",
            " |  \n",
            " |  Create a new string object from the given object. If encoding or\n",
            " |  errors is specified, then the object must expose a data buffer\n",
            " |  that will be decoded using the given encoding and error handler.\n",
            " |  Otherwise, returns the result of object.__str__() (if defined)\n",
            " |  or repr(object).\n",
            " |  encoding defaults to sys.getdefaultencoding().\n",
            " |  errors defaults to 'strict'.\n",
            " |  \n",
            " |  Methods defined here:\n",
            " |  \n",
            " |  __add__(self, value, /)\n",
            " |      Return self+value.\n",
            " |  \n",
            " |  __contains__(self, key, /)\n",
            " |      Return key in self.\n",
            " |  \n",
            " |  __eq__(self, value, /)\n",
            " |      Return self==value.\n",
            " |  \n",
            " |  __format__(self, format_spec, /)\n",
            " |      Return a formatted version of the string as described by format_spec.\n",
            " |  \n",
            " |  __ge__(self, value, /)\n",
            " |      Return self>=value.\n",
            " |  \n",
            " |  __getattribute__(self, name, /)\n",
            " |      Return getattr(self, name).\n",
            " |  \n",
            " |  __getitem__(self, key, /)\n",
            " |      Return self[key].\n",
            " |  \n",
            " |  __getnewargs__(...)\n",
            " |  \n",
            " |  __gt__(self, value, /)\n",
            " |      Return self>value.\n",
            " |  \n",
            " |  __hash__(self, /)\n",
            " |      Return hash(self).\n",
            " |  \n",
            " |  __iter__(self, /)\n",
            " |      Implement iter(self).\n",
            " |  \n",
            " |  __le__(self, value, /)\n",
            " |      Return self<=value.\n",
            " |  \n",
            " |  __len__(self, /)\n",
            " |      Return len(self).\n",
            " |  \n",
            " |  __lt__(self, value, /)\n",
            " |      Return self<value.\n",
            " |  \n",
            " |  __mod__(self, value, /)\n",
            " |      Return self%value.\n",
            " |  \n",
            " |  __mul__(self, value, /)\n",
            " |      Return self*value.\n",
            " |  \n",
            " |  __ne__(self, value, /)\n",
            " |      Return self!=value.\n",
            " |  \n",
            " |  __repr__(self, /)\n",
            " |      Return repr(self).\n",
            " |  \n",
            " |  __rmod__(self, value, /)\n",
            " |      Return value%self.\n",
            " |  \n",
            " |  __rmul__(self, value, /)\n",
            " |      Return value*self.\n",
            " |  \n",
            " |  __sizeof__(self, /)\n",
            " |      Return the size of the string in memory, in bytes.\n",
            " |  \n",
            " |  __str__(self, /)\n",
            " |      Return str(self).\n",
            " |  \n",
            " |  capitalize(self, /)\n",
            " |      Return a capitalized version of the string.\n",
            " |      \n",
            " |      More specifically, make the first character have upper case and the rest lower\n",
            " |      case.\n",
            " |  \n",
            " |  casefold(self, /)\n",
            " |      Return a version of the string suitable for caseless comparisons.\n",
            " |  \n",
            " |  center(self, width, fillchar=' ', /)\n",
            " |      Return a centered string of length width.\n",
            " |      \n",
            " |      Padding is done using the specified fill character (default is a space).\n",
            " |  \n",
            " |  count(...)\n",
            " |      S.count(sub[, start[, end]]) -> int\n",
            " |      \n",
            " |      Return the number of non-overlapping occurrences of substring sub in\n",
            " |      string S[start:end].  Optional arguments start and end are\n",
            " |      interpreted as in slice notation.\n",
            " |  \n",
            " |  encode(self, /, encoding='utf-8', errors='strict')\n",
            " |      Encode the string using the codec registered for encoding.\n",
            " |      \n",
            " |      encoding\n",
            " |        The encoding in which to encode the string.\n",
            " |      errors\n",
            " |        The error handling scheme to use for encoding errors.\n",
            " |        The default is 'strict' meaning that encoding errors raise a\n",
            " |        UnicodeEncodeError.  Other possible values are 'ignore', 'replace' and\n",
            " |        'xmlcharrefreplace' as well as any other name registered with\n",
            " |        codecs.register_error that can handle UnicodeEncodeErrors.\n",
            " |  \n",
            " |  endswith(...)\n",
            " |      S.endswith(suffix[, start[, end]]) -> bool\n",
            " |      \n",
            " |      Return True if S ends with the specified suffix, False otherwise.\n",
            " |      With optional start, test S beginning at that position.\n",
            " |      With optional end, stop comparing S at that position.\n",
            " |      suffix can also be a tuple of strings to try.\n",
            " |  \n",
            " |  expandtabs(self, /, tabsize=8)\n",
            " |      Return a copy where all tab characters are expanded using spaces.\n",
            " |      \n",
            " |      If tabsize is not given, a tab size of 8 characters is assumed.\n",
            " |  \n",
            " |  find(...)\n",
            " |      S.find(sub[, start[, end]]) -> int\n",
            " |      \n",
            " |      Return the lowest index in S where substring sub is found,\n",
            " |      such that sub is contained within S[start:end].  Optional\n",
            " |      arguments start and end are interpreted as in slice notation.\n",
            " |      \n",
            " |      Return -1 on failure.\n",
            " |  \n",
            " |  format(...)\n",
            " |      S.format(*args, **kwargs) -> str\n",
            " |      \n",
            " |      Return a formatted version of S, using substitutions from args and kwargs.\n",
            " |      The substitutions are identified by braces ('{' and '}').\n",
            " |  \n",
            " |  format_map(...)\n",
            " |      S.format_map(mapping) -> str\n",
            " |      \n",
            " |      Return a formatted version of S, using substitutions from mapping.\n",
            " |      The substitutions are identified by braces ('{' and '}').\n",
            " |  \n",
            " |  index(...)\n",
            " |      S.index(sub[, start[, end]]) -> int\n",
            " |      \n",
            " |      Return the lowest index in S where substring sub is found, \n",
            " |      such that sub is contained within S[start:end].  Optional\n",
            " |      arguments start and end are interpreted as in slice notation.\n",
            " |      \n",
            " |      Raises ValueError when the substring is not found.\n",
            " |  \n",
            " |  isalnum(self, /)\n",
            " |      Return True if the string is an alpha-numeric string, False otherwise.\n",
            " |      \n",
            " |      A string is alpha-numeric if all characters in the string are alpha-numeric and\n",
            " |      there is at least one character in the string.\n",
            " |  \n",
            " |  isalpha(self, /)\n",
            " |      Return True if the string is an alphabetic string, False otherwise.\n",
            " |      \n",
            " |      A string is alphabetic if all characters in the string are alphabetic and there\n",
            " |      is at least one character in the string.\n",
            " |  \n",
            " |  isascii(self, /)\n",
            " |      Return True if all characters in the string are ASCII, False otherwise.\n",
            " |      \n",
            " |      ASCII characters have code points in the range U+0000-U+007F.\n",
            " |      Empty string is ASCII too.\n",
            " |  \n",
            " |  isdecimal(self, /)\n",
            " |      Return True if the string is a decimal string, False otherwise.\n",
            " |      \n",
            " |      A string is a decimal string if all characters in the string are decimal and\n",
            " |      there is at least one character in the string.\n",
            " |  \n",
            " |  isdigit(self, /)\n",
            " |      Return True if the string is a digit string, False otherwise.\n",
            " |      \n",
            " |      A string is a digit string if all characters in the string are digits and there\n",
            " |      is at least one character in the string.\n",
            " |  \n",
            " |  isidentifier(self, /)\n",
            " |      Return True if the string is a valid Python identifier, False otherwise.\n",
            " |      \n",
            " |      Use keyword.iskeyword() to test for reserved identifiers such as \"def\" and\n",
            " |      \"class\".\n",
            " |  \n",
            " |  islower(self, /)\n",
            " |      Return True if the string is a lowercase string, False otherwise.\n",
            " |      \n",
            " |      A string is lowercase if all cased characters in the string are lowercase and\n",
            " |      there is at least one cased character in the string.\n",
            " |  \n",
            " |  isnumeric(self, /)\n",
            " |      Return True if the string is a numeric string, False otherwise.\n",
            " |      \n",
            " |      A string is numeric if all characters in the string are numeric and there is at\n",
            " |      least one character in the string.\n",
            " |  \n",
            " |  isprintable(self, /)\n",
            " |      Return True if the string is printable, False otherwise.\n",
            " |      \n",
            " |      A string is printable if all of its characters are considered printable in\n",
            " |      repr() or if it is empty.\n",
            " |  \n",
            " |  isspace(self, /)\n",
            " |      Return True if the string is a whitespace string, False otherwise.\n",
            " |      \n",
            " |      A string is whitespace if all characters in the string are whitespace and there\n",
            " |      is at least one character in the string.\n",
            " |  \n",
            " |  istitle(self, /)\n",
            " |      Return True if the string is a title-cased string, False otherwise.\n",
            " |      \n",
            " |      In a title-cased string, upper- and title-case characters may only\n",
            " |      follow uncased characters and lowercase characters only cased ones.\n",
            " |  \n",
            " |  isupper(self, /)\n",
            " |      Return True if the string is an uppercase string, False otherwise.\n",
            " |      \n",
            " |      A string is uppercase if all cased characters in the string are uppercase and\n",
            " |      there is at least one cased character in the string.\n",
            " |  \n",
            " |  join(self, iterable, /)\n",
            " |      Concatenate any number of strings.\n",
            " |      \n",
            " |      The string whose method is called is inserted in between each given string.\n",
            " |      The result is returned as a new string.\n",
            " |      \n",
            " |      Example: '.'.join(['ab', 'pq', 'rs']) -> 'ab.pq.rs'\n",
            " |  \n",
            " |  ljust(self, width, fillchar=' ', /)\n",
            " |      Return a left-justified string of length width.\n",
            " |      \n",
            " |      Padding is done using the specified fill character (default is a space).\n",
            " |  \n",
            " |  lower(self, /)\n",
            " |      Return a copy of the string converted to lowercase.\n",
            " |  \n",
            " |  lstrip(self, chars=None, /)\n",
            " |      Return a copy of the string with leading whitespace removed.\n",
            " |      \n",
            " |      If chars is given and not None, remove characters in chars instead.\n",
            " |  \n",
            " |  partition(self, sep, /)\n",
            " |      Partition the string into three parts using the given separator.\n",
            " |      \n",
            " |      This will search for the separator in the string.  If the separator is found,\n",
            " |      returns a 3-tuple containing the part before the separator, the separator\n",
            " |      itself, and the part after it.\n",
            " |      \n",
            " |      If the separator is not found, returns a 3-tuple containing the original string\n",
            " |      and two empty strings.\n",
            " |  \n",
            " |  replace(self, old, new, count=-1, /)\n",
            " |      Return a copy with all occurrences of substring old replaced by new.\n",
            " |      \n",
            " |        count\n",
            " |          Maximum number of occurrences to replace.\n",
            " |          -1 (the default value) means replace all occurrences.\n",
            " |      \n",
            " |      If the optional argument count is given, only the first count occurrences are\n",
            " |      replaced.\n",
            " |  \n",
            " |  rfind(...)\n",
            " |      S.rfind(sub[, start[, end]]) -> int\n",
            " |      \n",
            " |      Return the highest index in S where substring sub is found,\n",
            " |      such that sub is contained within S[start:end].  Optional\n",
            " |      arguments start and end are interpreted as in slice notation.\n",
            " |      \n",
            " |      Return -1 on failure.\n",
            " |  \n",
            " |  rindex(...)\n",
            " |      S.rindex(sub[, start[, end]]) -> int\n",
            " |      \n",
            " |      Return the highest index in S where substring sub is found,\n",
            " |      such that sub is contained within S[start:end].  Optional\n",
            " |      arguments start and end are interpreted as in slice notation.\n",
            " |      \n",
            " |      Raises ValueError when the substring is not found.\n",
            " |  \n",
            " |  rjust(self, width, fillchar=' ', /)\n",
            " |      Return a right-justified string of length width.\n",
            " |      \n",
            " |      Padding is done using the specified fill character (default is a space).\n",
            " |  \n",
            " |  rpartition(self, sep, /)\n",
            " |      Partition the string into three parts using the given separator.\n",
            " |      \n",
            " |      This will search for the separator in the string, starting at the end. If\n",
            " |      the separator is found, returns a 3-tuple containing the part before the\n",
            " |      separator, the separator itself, and the part after it.\n",
            " |      \n",
            " |      If the separator is not found, returns a 3-tuple containing two empty strings\n",
            " |      and the original string.\n",
            " |  \n",
            " |  rsplit(self, /, sep=None, maxsplit=-1)\n",
            " |      Return a list of the words in the string, using sep as the delimiter string.\n",
            " |      \n",
            " |        sep\n",
            " |          The delimiter according which to split the string.\n",
            " |          None (the default value) means split according to any whitespace,\n",
            " |          and discard empty strings from the result.\n",
            " |        maxsplit\n",
            " |          Maximum number of splits to do.\n",
            " |          -1 (the default value) means no limit.\n",
            " |      \n",
            " |      Splits are done starting at the end of the string and working to the front.\n",
            " |  \n",
            " |  rstrip(self, chars=None, /)\n",
            " |      Return a copy of the string with trailing whitespace removed.\n",
            " |      \n",
            " |      If chars is given and not None, remove characters in chars instead.\n",
            " |  \n",
            " |  split(self, /, sep=None, maxsplit=-1)\n",
            " |      Return a list of the words in the string, using sep as the delimiter string.\n",
            " |      \n",
            " |      sep\n",
            " |        The delimiter according which to split the string.\n",
            " |        None (the default value) means split according to any whitespace,\n",
            " |        and discard empty strings from the result.\n",
            " |      maxsplit\n",
            " |        Maximum number of splits to do.\n",
            " |        -1 (the default value) means no limit.\n",
            " |  \n",
            " |  splitlines(self, /, keepends=False)\n",
            " |      Return a list of the lines in the string, breaking at line boundaries.\n",
            " |      \n",
            " |      Line breaks are not included in the resulting list unless keepends is given and\n",
            " |      true.\n",
            " |  \n",
            " |  startswith(...)\n",
            " |      S.startswith(prefix[, start[, end]]) -> bool\n",
            " |      \n",
            " |      Return True if S starts with the specified prefix, False otherwise.\n",
            " |      With optional start, test S beginning at that position.\n",
            " |      With optional end, stop comparing S at that position.\n",
            " |      prefix can also be a tuple of strings to try.\n",
            " |  \n",
            " |  strip(self, chars=None, /)\n",
            " |      Return a copy of the string with leading and trailing whitespace removed.\n",
            " |      \n",
            " |      If chars is given and not None, remove characters in chars instead.\n",
            " |  \n",
            " |  swapcase(self, /)\n",
            " |      Convert uppercase characters to lowercase and lowercase characters to uppercase.\n",
            " |  \n",
            " |  title(self, /)\n",
            " |      Return a version of the string where each word is titlecased.\n",
            " |      \n",
            " |      More specifically, words start with uppercased characters and all remaining\n",
            " |      cased characters have lower case.\n",
            " |  \n",
            " |  translate(self, table, /)\n",
            " |      Replace each character in the string using the given translation table.\n",
            " |      \n",
            " |        table\n",
            " |          Translation table, which must be a mapping of Unicode ordinals to\n",
            " |          Unicode ordinals, strings, or None.\n",
            " |      \n",
            " |      The table must implement lookup/indexing via __getitem__, for instance a\n",
            " |      dictionary or list.  If this operation raises LookupError, the character is\n",
            " |      left untouched.  Characters mapped to None are deleted.\n",
            " |  \n",
            " |  upper(self, /)\n",
            " |      Return a copy of the string converted to uppercase.\n",
            " |  \n",
            " |  zfill(self, width, /)\n",
            " |      Pad a numeric string with zeros on the left, to fill a field of the given width.\n",
            " |      \n",
            " |      The string is never truncated.\n",
            " |  \n",
            " |  ----------------------------------------------------------------------\n",
            " |  Static methods defined here:\n",
            " |  \n",
            " |  __new__(*args, **kwargs) from builtins.type\n",
            " |      Create and return a new object.  See help(type) for accurate signature.\n",
            " |  \n",
            " |  maketrans(x, y=None, z=None, /)\n",
            " |      Return a translation table usable for str.translate().\n",
            " |      \n",
            " |      If there is only one argument, it must be a dictionary mapping Unicode\n",
            " |      ordinals (integers) or characters to Unicode ordinals, strings or None.\n",
            " |      Character keys will be then converted to ordinals.\n",
            " |      If there are two arguments, they must be strings of equal length, and\n",
            " |      in the resulting dictionary, each character in x will be mapped to the\n",
            " |      character at the same position in y. If there is a third argument, it\n",
            " |      must be a string, whose characters will be mapped to None in the result.\n",
            "\n"
          ]
        }
      ]
    },
    {
      "cell_type": "code",
      "metadata": {
        "id": "zRL8T1cbZ5f-",
        "outputId": "97d2071f-0101-4d3c-ca65-5042791a278d",
        "colab": {
          "base_uri": "https://localhost:8080/"
        }
      },
      "source": [
        "# help(print)\n",
        "help(my_sum)"
      ],
      "execution_count": null,
      "outputs": [
        {
          "output_type": "stream",
          "name": "stdout",
          "text": [
            "Help on function my_sum in module __main__:\n",
            "\n",
            "my_sum(a, b)\n",
            "    функция считает сумму двух чисел a и b\n",
            "\n"
          ]
        }
      ]
    },
    {
      "cell_type": "code",
      "metadata": {
        "colab": {
          "base_uri": "https://localhost:8080/"
        },
        "id": "C-nDNVBwZ5gA",
        "outputId": "9608ee69-4dc0-4d3d-8250-04d7e7b778c6"
      },
      "source": [
        "# функция с аргументами, возвращает значение\n",
        "def my_sum(a, b):\n",
        "    return a+b\n",
        "\n",
        "sum_ = my_sum(5,3)\n",
        "# sum_\n",
        "# sum_ + 5\n",
        "print(type(sum_))\n",
        "sum_"
      ],
      "execution_count": null,
      "outputs": [
        {
          "output_type": "stream",
          "name": "stdout",
          "text": [
            "<class 'int'>\n"
          ]
        },
        {
          "output_type": "execute_result",
          "data": {
            "text/plain": [
              "8"
            ]
          },
          "metadata": {},
          "execution_count": 73
        }
      ]
    },
    {
      "cell_type": "code",
      "source": [
        "my_sum()"
      ],
      "metadata": {
        "colab": {
          "base_uri": "https://localhost:8080/",
          "height": 168
        },
        "id": "xwfO2pqNU6KQ",
        "outputId": "32792ad0-443e-4445-886f-a5343911fc33"
      },
      "execution_count": null,
      "outputs": [
        {
          "output_type": "error",
          "ename": "TypeError",
          "evalue": "ignored",
          "traceback": [
            "\u001b[0;31m---------------------------------------------------------------------------\u001b[0m",
            "\u001b[0;31mTypeError\u001b[0m                                 Traceback (most recent call last)",
            "\u001b[0;32m<ipython-input-74-b1920a2b537f>\u001b[0m in \u001b[0;36m<module>\u001b[0;34m\u001b[0m\n\u001b[0;32m----> 1\u001b[0;31m \u001b[0mmy_sum\u001b[0m\u001b[0;34m(\u001b[0m\u001b[0;34m)\u001b[0m\u001b[0;34m\u001b[0m\u001b[0;34m\u001b[0m\u001b[0m\n\u001b[0m",
            "\u001b[0;31mTypeError\u001b[0m: my_sum() missing 2 required positional arguments: 'a' and 'b'"
          ]
        }
      ]
    },
    {
      "cell_type": "code",
      "metadata": {
        "id": "2tsUlNvtZ5gC",
        "colab": {
          "base_uri": "https://localhost:8080/"
        },
        "outputId": "f8c38da4-1953-4386-c8c4-9f341a85ac72"
      },
      "source": [
        "# функция с аргументами по умолчанию\n",
        "def my_sum(a=1, b=3):\n",
        "    return a+b\n",
        "\n",
        "my_sum()"
      ],
      "execution_count": null,
      "outputs": [
        {
          "output_type": "execute_result",
          "data": {
            "text/plain": [
              "4"
            ]
          },
          "metadata": {},
          "execution_count": 75
        }
      ]
    },
    {
      "cell_type": "code",
      "source": [
        "my_sum(2,5)"
      ],
      "metadata": {
        "colab": {
          "base_uri": "https://localhost:8080/"
        },
        "id": "DLjACHIjBprY",
        "outputId": "69c59736-5c47-4b20-9871-b1cfc8d09beb"
      },
      "execution_count": null,
      "outputs": [
        {
          "output_type": "execute_result",
          "data": {
            "text/plain": [
              "7"
            ]
          },
          "metadata": {},
          "execution_count": 76
        }
      ]
    },
    {
      "cell_type": "code",
      "source": [
        "# произвольное число аргументов\n",
        "def my_sum(*args):\n",
        "  print(args)\n",
        "  return sum(args)\n",
        "\n",
        "s = my_sum(1, 2, 3, 4, 5, 6, 7, 8)\n",
        "s"
      ],
      "metadata": {
        "id": "-H2SWbukum4-",
        "colab": {
          "base_uri": "https://localhost:8080/"
        },
        "outputId": "4fdffa2a-eb6b-4f21-db96-56146d2e70c8"
      },
      "execution_count": null,
      "outputs": [
        {
          "output_type": "stream",
          "name": "stdout",
          "text": [
            "(1, 2, 3, 4, 5, 6, 7, 8)\n"
          ]
        },
        {
          "output_type": "execute_result",
          "data": {
            "text/plain": [
              "36"
            ]
          },
          "metadata": {},
          "execution_count": 13
        }
      ]
    },
    {
      "cell_type": "code",
      "source": [
        "# метод передачи параметров большим листом\n",
        "# произвольное число аргументов\n",
        "def my_sum(*args):\n",
        "  print(args)\n",
        "  return sum(args)\n",
        "\n",
        "l = tuple(range(20))\n",
        "s = my_sum(*l)\n",
        "s"
      ],
      "metadata": {
        "id": "mim7ivluum2c",
        "colab": {
          "base_uri": "https://localhost:8080/"
        },
        "outputId": "4807279a-bb13-4ea9-e04c-fc79068a4a75"
      },
      "execution_count": null,
      "outputs": [
        {
          "output_type": "stream",
          "name": "stdout",
          "text": [
            "(0, 1, 2, 3, 4, 5, 6, 7, 8, 9, 10, 11, 12, 13, 14, 15, 16, 17, 18, 19)\n"
          ]
        },
        {
          "output_type": "execute_result",
          "data": {
            "text/plain": [
              "190"
            ]
          },
          "metadata": {},
          "execution_count": 78
        }
      ]
    },
    {
      "cell_type": "code",
      "source": [
        "# если приходит болььше аргументов, чем нужно\n",
        "def my_sum_first_5(x1, x2, x3, x4, x5, *args):\n",
        "  print(\"Лишние аргументы: \", args)\n",
        "  return x1 + x2 + x3 + x4 + x5\n",
        "\n",
        "l = tuple(range(10))\n",
        "s = my_sum_first_5(*l)\n",
        "s"
      ],
      "metadata": {
        "id": "woxvtxc4u7GD",
        "colab": {
          "base_uri": "https://localhost:8080/"
        },
        "outputId": "296070f4-dad7-4f21-e518-f6ab6a62120f"
      },
      "execution_count": null,
      "outputs": [
        {
          "output_type": "stream",
          "name": "stdout",
          "text": [
            "Лишние аргументы:  (5, 6, 7, 8, 9)\n"
          ]
        },
        {
          "output_type": "execute_result",
          "data": {
            "text/plain": [
              "10"
            ]
          },
          "metadata": {},
          "execution_count": 79
        }
      ]
    },
    {
      "cell_type": "code",
      "source": [
        "# если приходит болььше аргументов, чем нужно\n",
        "# передача именованных аргументов\n",
        "def my_sum_first_5(x1, x3, x5, x7, x10, **kwargs):\n",
        "  print(\"Лишние аргументы: \", kwargs)\n",
        "  return x1 + x3 + x5 + x7 + x10\n",
        "\n",
        "l = {f\"x{v + 1}\":v for v in range(10)}\n",
        "print(l)\n",
        "s = my_sum_first_5(**l)\n",
        "s"
      ],
      "metadata": {
        "id": "9B6Q2fqyvBBr",
        "colab": {
          "base_uri": "https://localhost:8080/"
        },
        "outputId": "45bf6497-b150-4935-b15b-4c1404900cea"
      },
      "execution_count": null,
      "outputs": [
        {
          "output_type": "stream",
          "name": "stdout",
          "text": [
            "{'x1': 0, 'x2': 1, 'x3': 2, 'x4': 3, 'x5': 4, 'x6': 5, 'x7': 6, 'x8': 7, 'x9': 8, 'x10': 9}\n",
            "Лишние аргументы:  {'x2': 1, 'x4': 3, 'x6': 5, 'x8': 7, 'x9': 8}\n"
          ]
        },
        {
          "output_type": "execute_result",
          "data": {
            "text/plain": [
              "21"
            ]
          },
          "metadata": {},
          "execution_count": 80
        }
      ]
    },
    {
      "cell_type": "markdown",
      "metadata": {
        "id": "f71YAqlU2G-B"
      },
      "source": [
        "### Позиционирование"
      ]
    },
    {
      "cell_type": "code",
      "metadata": {
        "id": "dqPRiLq7XDwE",
        "outputId": "052a5430-55be-4bc5-c47a-d90df75dbb24",
        "colab": {
          "base_uri": "https://localhost:8080/"
        }
      },
      "source": [
        "# позиционирование\n",
        "def triangle_perimeter(a, b, c):\n",
        "  return a + b + c\n",
        "\n",
        "tr = triangle_perimeter(1, 2, 3)\n",
        "tr"
      ],
      "execution_count": null,
      "outputs": [
        {
          "output_type": "execute_result",
          "data": {
            "text/plain": [
              "6"
            ]
          },
          "metadata": {},
          "execution_count": 81
        }
      ]
    },
    {
      "cell_type": "code",
      "metadata": {
        "id": "gX4vDoQDXDuC",
        "outputId": "2b1c1cb7-7aa3-4e27-cf31-843461ec3888",
        "colab": {
          "base_uri": "https://localhost:8080/"
        }
      },
      "source": [
        "tr = triangle_perimeter(b=2, c=3, a=1)\n",
        "tr"
      ],
      "execution_count": null,
      "outputs": [
        {
          "output_type": "execute_result",
          "data": {
            "text/plain": [
              "6"
            ]
          },
          "metadata": {},
          "execution_count": 82
        }
      ]
    },
    {
      "cell_type": "code",
      "metadata": {
        "id": "_2Z8H7BkXDq2",
        "outputId": "0241431a-6031-465d-9d7d-35b4968a4e4a",
        "colab": {
          "base_uri": "https://localhost:8080/"
        }
      },
      "source": [
        "def rectangle_perimeter(a, b, c=10, d=20):\n",
        "  return a + b + c + d \n",
        "tr = rectangle_perimeter(1, 2, d=3)\n",
        "tr"
      ],
      "execution_count": null,
      "outputs": [
        {
          "output_type": "execute_result",
          "data": {
            "text/plain": [
              "16"
            ]
          },
          "metadata": {},
          "execution_count": 83
        }
      ]
    },
    {
      "cell_type": "code",
      "metadata": {
        "id": "mNRBVpb1cD-L",
        "outputId": "7540be24-6615-4bf8-de18-694498ce84fc",
        "colab": {
          "base_uri": "https://localhost:8080/",
          "height": 133
        }
      },
      "source": [
        "# передавать позиционные аргументы после именованных нельзя\n",
        "tr = rectangle_perimeter(a=1, 2, c=3, d=5)\n",
        "tr"
      ],
      "execution_count": null,
      "outputs": [
        {
          "output_type": "error",
          "ename": "SyntaxError",
          "evalue": "ignored",
          "traceback": [
            "\u001b[0;36m  File \u001b[0;32m\"<ipython-input-84-4c882e12d6df>\"\u001b[0;36m, line \u001b[0;32m2\u001b[0m\n\u001b[0;31m    tr = rectangle_perimeter(a=1, 2, c=3, d=5)\u001b[0m\n\u001b[0m                                 ^\u001b[0m\n\u001b[0;31mSyntaxError\u001b[0m\u001b[0;31m:\u001b[0m positional argument follows keyword argument\n"
          ]
        }
      ]
    },
    {
      "cell_type": "code",
      "metadata": {
        "id": "fjq3cF5wcIqC",
        "outputId": "6c1e2ffc-8a01-40b5-db78-484c983fd2c7",
        "colab": {
          "base_uri": "https://localhost:8080/"
        }
      },
      "source": [
        "# значения по умолчанию\n",
        "def circle_area (r, pi=3.14):\n",
        "  return pi * r ** 2\n",
        "\n",
        "circle = circle_area(10)\n",
        "circle"
      ],
      "execution_count": null,
      "outputs": [
        {
          "output_type": "execute_result",
          "data": {
            "text/plain": [
              "314.0"
            ]
          },
          "metadata": {},
          "execution_count": 85
        }
      ]
    },
    {
      "cell_type": "code",
      "metadata": {
        "id": "8WPnmHrIcIoO",
        "outputId": "13cf18d5-a4e2-43c5-820d-a415c1c4e5e6",
        "colab": {
          "base_uri": "https://localhost:8080/"
        }
      },
      "source": [
        "circle = circle_area(10, 3.14159265359)\n",
        "circle"
      ],
      "execution_count": null,
      "outputs": [
        {
          "output_type": "execute_result",
          "data": {
            "text/plain": [
              "314.159265359"
            ]
          },
          "metadata": {},
          "execution_count": 86
        }
      ]
    },
    {
      "cell_type": "code",
      "metadata": {
        "id": "hOqaPut9cImS",
        "outputId": "828ca1f1-8e72-4761-bbba-d28b795b4b98",
        "colab": {
          "base_uri": "https://localhost:8080/",
          "height": 132
        }
      },
      "source": [
        "# так нельзя. Первыми обязательно идут обязательные аргументы, а затем аргументы по умолчанию\n",
        "def circle_area (pi=3.14, r):\n",
        "  return pi * r ** 2\n",
        "\n",
        "circle = circle_area(10, 3.14159265359)\n",
        "circle"
      ],
      "execution_count": null,
      "outputs": [
        {
          "output_type": "error",
          "ename": "SyntaxError",
          "evalue": "ignored",
          "traceback": [
            "\u001b[0;36m  File \u001b[0;32m\"<ipython-input-21-72f65ff1591e>\"\u001b[0;36m, line \u001b[0;32m2\u001b[0m\n\u001b[0;31m    def circle_area (pi=3.14, r):\u001b[0m\n\u001b[0m                    ^\u001b[0m\n\u001b[0;31mSyntaxError\u001b[0m\u001b[0;31m:\u001b[0m non-default argument follows default argument\n"
          ]
        }
      ]
    },
    {
      "cell_type": "code",
      "metadata": {
        "id": "j37hn4xFcIil",
        "outputId": "b62983a4-4660-4689-be1d-6971998e6368",
        "colab": {
          "base_uri": "https://localhost:8080/"
        }
      },
      "source": [
        "# напишите функцию, которая в зависимости от количества принимаемых параметров будет считать периметр\n",
        "# круга, если 1 параметр\n",
        "# прямоугольника, если 2 параметра\n",
        "# треугольника, если 3 параметра\n",
        "import math\n",
        "def perimetr(*args):\n",
        "  if len(args) == 1:\n",
        "    return 2 * math.pi *  args[0]\n",
        "  elif len(args) == 2:\n",
        "    return 2 * (args[0] + args[1])\n",
        "  elif len(args) == 3:\n",
        "    return args[0] + args[1] + args[2]\n",
        "  else:\n",
        "    print('Передано больше аргументов. Такая фигура не известна!')\n",
        "perimetr(10, 20, 20, 10)"
      ],
      "execution_count": null,
      "outputs": [
        {
          "output_type": "stream",
          "name": "stdout",
          "text": [
            "Передано больше аргументов. Такая фигура не известна!\n"
          ]
        }
      ]
    },
    {
      "cell_type": "markdown",
      "metadata": {
        "id": "RGTEt1GYZ5gD"
      },
      "source": [
        "### Области видимости"
      ]
    },
    {
      "cell_type": "code",
      "metadata": {
        "id": "xYuQmCCcZ5gE",
        "outputId": "94bae5d9-a64e-46bf-be00-0c50dce77446",
        "colab": {
          "base_uri": "https://localhost:8080/",
          "height": 292
        }
      },
      "source": [
        "def new_f():\n",
        "    print(var)\n",
        "new_f()"
      ],
      "execution_count": null,
      "outputs": [
        {
          "output_type": "error",
          "ename": "NameError",
          "evalue": "ignored",
          "traceback": [
            "\u001b[0;31m---------------------------------------------------------------------------\u001b[0m",
            "\u001b[0;31mNameError\u001b[0m                                 Traceback (most recent call last)",
            "\u001b[0;32m<ipython-input-87-a018d0040f78>\u001b[0m in \u001b[0;36m<module>\u001b[0;34m\u001b[0m\n\u001b[1;32m      1\u001b[0m \u001b[0;32mdef\u001b[0m \u001b[0mnew_f\u001b[0m\u001b[0;34m(\u001b[0m\u001b[0;34m)\u001b[0m\u001b[0;34m:\u001b[0m\u001b[0;34m\u001b[0m\u001b[0;34m\u001b[0m\u001b[0m\n\u001b[1;32m      2\u001b[0m     \u001b[0mprint\u001b[0m\u001b[0;34m(\u001b[0m\u001b[0mvar\u001b[0m\u001b[0;34m)\u001b[0m\u001b[0;34m\u001b[0m\u001b[0;34m\u001b[0m\u001b[0m\n\u001b[0;32m----> 3\u001b[0;31m \u001b[0mnew_f\u001b[0m\u001b[0;34m(\u001b[0m\u001b[0;34m)\u001b[0m\u001b[0;34m\u001b[0m\u001b[0;34m\u001b[0m\u001b[0m\n\u001b[0m",
            "\u001b[0;32m<ipython-input-87-a018d0040f78>\u001b[0m in \u001b[0;36mnew_f\u001b[0;34m()\u001b[0m\n\u001b[1;32m      1\u001b[0m \u001b[0;32mdef\u001b[0m \u001b[0mnew_f\u001b[0m\u001b[0;34m(\u001b[0m\u001b[0;34m)\u001b[0m\u001b[0;34m:\u001b[0m\u001b[0;34m\u001b[0m\u001b[0;34m\u001b[0m\u001b[0m\n\u001b[0;32m----> 2\u001b[0;31m     \u001b[0mprint\u001b[0m\u001b[0;34m(\u001b[0m\u001b[0mvar\u001b[0m\u001b[0;34m)\u001b[0m\u001b[0;34m\u001b[0m\u001b[0;34m\u001b[0m\u001b[0m\n\u001b[0m\u001b[1;32m      3\u001b[0m \u001b[0mnew_f\u001b[0m\u001b[0;34m(\u001b[0m\u001b[0;34m)\u001b[0m\u001b[0;34m\u001b[0m\u001b[0;34m\u001b[0m\u001b[0m\n",
            "\u001b[0;31mNameError\u001b[0m: name 'var' is not defined"
          ]
        }
      ]
    },
    {
      "cell_type": "code",
      "metadata": {
        "id": "Mqi5CS17Z5gF",
        "outputId": "2338a37f-7d83-4507-e0a8-9757612f7201",
        "colab": {
          "base_uri": "https://localhost:8080/"
        }
      },
      "source": [
        "# локальная переменная внутри функции\n",
        "def new_f():\n",
        "    var = 3\n",
        "    print(var)\n",
        "new_f()"
      ],
      "execution_count": null,
      "outputs": [
        {
          "output_type": "stream",
          "name": "stdout",
          "text": [
            "3\n"
          ]
        }
      ]
    },
    {
      "cell_type": "code",
      "metadata": {
        "id": "WFrYVcsQZ5gG",
        "colab": {
          "base_uri": "https://localhost:8080/"
        },
        "outputId": "c3817c95-a830-412e-8c1c-372ca8f92051"
      },
      "source": [
        "# В первую очередь функция видит локальные переменные\n",
        "var = 5 # глобальная переменная\n",
        "def new_f():\n",
        "    \n",
        "    print(var)\n",
        "new_f()"
      ],
      "execution_count": null,
      "outputs": [
        {
          "output_type": "stream",
          "name": "stdout",
          "text": [
            "5\n"
          ]
        }
      ]
    },
    {
      "cell_type": "code",
      "source": [
        "# В первую очередь функция видит локальные переменные\n",
        "var = 5 # глобальная переменная\n",
        "def new_f():\n",
        "    var = 3 # локальная переменная\n",
        "    print(var)\n",
        "new_f()"
      ],
      "metadata": {
        "colab": {
          "base_uri": "https://localhost:8080/"
        },
        "id": "nXLNPvKdErnt",
        "outputId": "7f22ddb1-adf7-4730-eb04-16aaacc7fb90"
      },
      "execution_count": null,
      "outputs": [
        {
          "output_type": "stream",
          "name": "stdout",
          "text": [
            "3\n"
          ]
        }
      ]
    },
    {
      "cell_type": "code",
      "source": [
        "# В первую очередь функция видит локальные переменные\n",
        "var = 5 # глобальная переменная\n",
        "def new_f():\n",
        "    print(var)\n",
        "    var = 3 # локальная переменная\n",
        "new_f()"
      ],
      "metadata": {
        "colab": {
          "base_uri": "https://localhost:8080/",
          "height": 327
        },
        "id": "6XnDDidFY8Al",
        "outputId": "8bef6a87-9386-4081-ab70-760849d2e813"
      },
      "execution_count": null,
      "outputs": [
        {
          "output_type": "error",
          "ename": "UnboundLocalError",
          "evalue": "ignored",
          "traceback": [
            "\u001b[0;31m---------------------------------------------------------------------------\u001b[0m",
            "\u001b[0;31mUnboundLocalError\u001b[0m                         Traceback (most recent call last)",
            "\u001b[0;32m<ipython-input-91-e9f7f2080682>\u001b[0m in \u001b[0;36m<module>\u001b[0;34m\u001b[0m\n\u001b[1;32m      4\u001b[0m     \u001b[0mprint\u001b[0m\u001b[0;34m(\u001b[0m\u001b[0mvar\u001b[0m\u001b[0;34m)\u001b[0m\u001b[0;34m\u001b[0m\u001b[0;34m\u001b[0m\u001b[0m\n\u001b[1;32m      5\u001b[0m     \u001b[0mvar\u001b[0m \u001b[0;34m=\u001b[0m \u001b[0;36m3\u001b[0m \u001b[0;31m# локальная переменная\u001b[0m\u001b[0;34m\u001b[0m\u001b[0;34m\u001b[0m\u001b[0m\n\u001b[0;32m----> 6\u001b[0;31m \u001b[0mnew_f\u001b[0m\u001b[0;34m(\u001b[0m\u001b[0;34m)\u001b[0m\u001b[0;34m\u001b[0m\u001b[0;34m\u001b[0m\u001b[0m\n\u001b[0m",
            "\u001b[0;32m<ipython-input-91-e9f7f2080682>\u001b[0m in \u001b[0;36mnew_f\u001b[0;34m()\u001b[0m\n\u001b[1;32m      2\u001b[0m \u001b[0mvar\u001b[0m \u001b[0;34m=\u001b[0m \u001b[0;36m5\u001b[0m \u001b[0;31m# глобальная переменная\u001b[0m\u001b[0;34m\u001b[0m\u001b[0;34m\u001b[0m\u001b[0m\n\u001b[1;32m      3\u001b[0m \u001b[0;32mdef\u001b[0m \u001b[0mnew_f\u001b[0m\u001b[0;34m(\u001b[0m\u001b[0;34m)\u001b[0m\u001b[0;34m:\u001b[0m\u001b[0;34m\u001b[0m\u001b[0;34m\u001b[0m\u001b[0m\n\u001b[0;32m----> 4\u001b[0;31m     \u001b[0mprint\u001b[0m\u001b[0;34m(\u001b[0m\u001b[0mvar\u001b[0m\u001b[0;34m)\u001b[0m\u001b[0;34m\u001b[0m\u001b[0;34m\u001b[0m\u001b[0m\n\u001b[0m\u001b[1;32m      5\u001b[0m     \u001b[0mvar\u001b[0m \u001b[0;34m=\u001b[0m \u001b[0;36m3\u001b[0m \u001b[0;31m# локальная переменная\u001b[0m\u001b[0;34m\u001b[0m\u001b[0;34m\u001b[0m\u001b[0m\n\u001b[1;32m      6\u001b[0m \u001b[0mnew_f\u001b[0m\u001b[0;34m(\u001b[0m\u001b[0;34m)\u001b[0m\u001b[0;34m\u001b[0m\u001b[0;34m\u001b[0m\u001b[0m\n",
            "\u001b[0;31mUnboundLocalError\u001b[0m: local variable 'var' referenced before assignment"
          ]
        }
      ]
    },
    {
      "cell_type": "code",
      "metadata": {
        "id": "F8jlajovZ5gH",
        "outputId": "4c6d0226-52e9-4f57-9dcf-ab1e1ac34c14",
        "colab": {
          "base_uri": "https://localhost:8080/"
        }
      },
      "source": [
        "# Но! если нет локальной x, то функция видит глобальную!\n",
        "var = 5\n",
        "def new_f():\n",
        "    print(var)\n",
        "new_f()"
      ],
      "execution_count": null,
      "outputs": [
        {
          "output_type": "stream",
          "name": "stdout",
          "text": [
            "5\n"
          ]
        }
      ]
    },
    {
      "cell_type": "code",
      "metadata": {
        "id": "eyIP4XpSZ5gI",
        "outputId": "0d6f0461-ae99-419f-acef-4c1adb9f7f95",
        "colab": {
          "base_uri": "https://localhost:8080/"
        }
      },
      "source": [
        "# явно указать глобальную переменную в фукции\n",
        "var = 5\n",
        "def new_f():\n",
        "    global var\n",
        "    print(var)\n",
        "    var = 3\n",
        "    print(var)\n",
        "new_f()"
      ],
      "execution_count": null,
      "outputs": [
        {
          "output_type": "stream",
          "name": "stdout",
          "text": [
            "5\n",
            "3\n"
          ]
        }
      ]
    },
    {
      "cell_type": "markdown",
      "source": [
        "Проверка на объявление переменной"
      ],
      "metadata": {
        "id": "hVH37C7irvAP"
      }
    },
    {
      "cell_type": "code",
      "source": [
        "# globals()"
      ],
      "metadata": {
        "id": "YNbSUKwcGfJz"
      },
      "execution_count": null,
      "outputs": []
    },
    {
      "cell_type": "code",
      "source": [
        "globals().get(\"vas\", \"ее нет\")"
      ],
      "metadata": {
        "id": "SsHZ8ePatsUm",
        "colab": {
          "base_uri": "https://localhost:8080/",
          "height": 35
        },
        "outputId": "9f890619-7b97-4b4e-9c3b-5508cfc9ffaf"
      },
      "execution_count": null,
      "outputs": [
        {
          "output_type": "execute_result",
          "data": {
            "text/plain": [
              "'ее нет'"
            ],
            "application/vnd.google.colaboratory.intrinsic+json": {
              "type": "string"
            }
          },
          "metadata": {},
          "execution_count": 95
        }
      ]
    },
    {
      "cell_type": "code",
      "source": [
        "# locals()"
      ],
      "metadata": {
        "id": "fApg5yNwttBc"
      },
      "execution_count": null,
      "outputs": []
    },
    {
      "cell_type": "code",
      "metadata": {
        "id": "B0kG6UWZZ5gJ",
        "outputId": "ef1e1a35-93dc-4736-a8ce-5308e622cdac",
        "colab": {
          "base_uri": "https://localhost:8080/"
        }
      },
      "source": [
        "def print_func(n):\n",
        "    print('Это квадрат числа {}'.format(n))\n",
        "\n",
        "def n_square(n):\n",
        "    print(locals())\n",
        "    print_func(n)\n",
        "    return n**2\n",
        "\n",
        "n_square(5)\n"
      ],
      "execution_count": null,
      "outputs": [
        {
          "output_type": "stream",
          "name": "stdout",
          "text": [
            "{'n': 5}\n",
            "Это квадрат числа 5\n"
          ]
        },
        {
          "output_type": "execute_result",
          "data": {
            "text/plain": [
              "25"
            ]
          },
          "metadata": {},
          "execution_count": 96
        }
      ]
    },
    {
      "cell_type": "code",
      "metadata": {
        "id": "4MAvzjuVZ5gK",
        "outputId": "e386759b-1bb8-4aef-8c21-ad409e07d208",
        "colab": {
          "base_uri": "https://localhost:8080/"
        }
      },
      "source": [
        "# в функции можно вызывать другую функцию, а также передавать другую функцию в качестве аргумента\n",
        "n_square(my_sum(3,6))"
      ],
      "execution_count": null,
      "outputs": [
        {
          "output_type": "stream",
          "name": "stdout",
          "text": [
            "(3, 6)\n",
            "{'n': 9}\n",
            "Это квадрат числа 9\n"
          ]
        },
        {
          "output_type": "execute_result",
          "data": {
            "text/plain": [
              "81"
            ]
          },
          "metadata": {},
          "execution_count": 97
        }
      ]
    },
    {
      "cell_type": "code",
      "metadata": {
        "id": "aMwCAIEYZ5gL",
        "outputId": "28dd9914-02bb-4857-e77d-e26e59a76488",
        "colab": {
          "base_uri": "https://localhost:8080/"
        }
      },
      "source": [
        "# Рекурсия - вызов функции внутри себя самой\n",
        "def factorial(n):\n",
        "    ''' Функция считает и возвращает факториал числа n\n",
        "        5! = 5*4*3*2*1\n",
        "    '''\n",
        "    print('current n = %d' % n)\n",
        "    if n <= 0: \n",
        "        return 1\n",
        "    return n * factorial(n - 1)\n",
        "\n",
        "factorial(5)   \n"
      ],
      "execution_count": null,
      "outputs": [
        {
          "output_type": "stream",
          "name": "stdout",
          "text": [
            "current n = 5\n",
            "current n = 4\n",
            "current n = 3\n",
            "current n = 2\n",
            "current n = 1\n",
            "current n = 0\n"
          ]
        },
        {
          "output_type": "execute_result",
          "data": {
            "text/plain": [
              "120"
            ]
          },
          "metadata": {},
          "execution_count": 5
        }
      ]
    },
    {
      "cell_type": "markdown",
      "metadata": {
        "id": "sWky5wKo19oj"
      },
      "source": [
        "Свой генератор"
      ]
    },
    {
      "cell_type": "code",
      "metadata": {
        "id": "cpGPZ4mXeHPS",
        "outputId": "ebae6c9e-2649-442e-97f1-f41199a23558",
        "colab": {
          "base_uri": "https://localhost:8080/"
        }
      },
      "source": [
        "# свой генератор\n",
        "def natural_number(start=0):\n",
        "  while True:\n",
        "    yield start\n",
        "    start += 1\n",
        "\n",
        "nat_num = natural_number(start=20)\n",
        "print(type(nat_num))\n",
        "next(nat_num)"
      ],
      "execution_count": null,
      "outputs": [
        {
          "output_type": "stream",
          "name": "stdout",
          "text": [
            "<class 'generator'>\n"
          ]
        },
        {
          "output_type": "execute_result",
          "data": {
            "text/plain": [
              "20"
            ]
          },
          "metadata": {},
          "execution_count": 98
        }
      ]
    },
    {
      "cell_type": "markdown",
      "source": [
        "`yield` - возвращает значение, но затем возвращает управление функции\n",
        "`return` - возвращает значение и выбрасывает нас из функции"
      ],
      "metadata": {
        "id": "_R3ajpAesID8"
      }
    },
    {
      "cell_type": "code",
      "source": [
        "next(nat_num)"
      ],
      "metadata": {
        "id": "eLlr2NZ2vtcs",
        "colab": {
          "base_uri": "https://localhost:8080/"
        },
        "outputId": "a238aed9-9763-4b4d-df76-f0ba844bf35c"
      },
      "execution_count": null,
      "outputs": [
        {
          "output_type": "execute_result",
          "data": {
            "text/plain": [
              "25"
            ]
          },
          "metadata": {},
          "execution_count": 103
        }
      ]
    },
    {
      "cell_type": "markdown",
      "metadata": {
        "id": "wJkbPej4rSH2"
      },
      "source": [
        "lambda функции"
      ]
    },
    {
      "cell_type": "code",
      "metadata": {
        "id": "DeMr-cWufjEK",
        "outputId": "3a39d229-64ce-4578-f9fc-fc63e262dacd",
        "colab": {
          "base_uri": "https://localhost:8080/"
        }
      },
      "source": [
        "# так можно, но не нужно\n",
        "ini_func = lambda r, m: r ** m\n",
        "ini_func(3,4)"
      ],
      "execution_count": null,
      "outputs": [
        {
          "output_type": "execute_result",
          "data": {
            "text/plain": [
              "81"
            ]
          },
          "metadata": {},
          "execution_count": 52
        }
      ]
    },
    {
      "cell_type": "code",
      "metadata": {
        "id": "33IE4OQHf-Mx",
        "outputId": "70459fe2-e3d1-4297-c621-883a4bcce254",
        "colab": {
          "base_uri": "https://localhost:8080/"
        }
      },
      "source": [
        "l = list(range(10))\n",
        "l = map(lambda e: pow(e, 3), l)\n",
        "l"
      ],
      "execution_count": null,
      "outputs": [
        {
          "output_type": "execute_result",
          "data": {
            "text/plain": [
              "<map at 0x7efd6c2d5910>"
            ]
          },
          "metadata": {},
          "execution_count": 104
        }
      ]
    },
    {
      "cell_type": "code",
      "source": [
        "next(l)"
      ],
      "metadata": {
        "colab": {
          "base_uri": "https://localhost:8080/"
        },
        "id": "qYHr1MNqc2LW",
        "outputId": "ae2e0359-e6b3-40aa-cc4d-cfa82d04c86d"
      },
      "execution_count": null,
      "outputs": [
        {
          "output_type": "execute_result",
          "data": {
            "text/plain": [
              "0"
            ]
          },
          "metadata": {},
          "execution_count": 105
        }
      ]
    },
    {
      "cell_type": "code",
      "source": [
        "for e in l:\n",
        "  print(e)"
      ],
      "metadata": {
        "colab": {
          "base_uri": "https://localhost:8080/"
        },
        "id": "WPrC-PFTc7BR",
        "outputId": "d0de8bb7-ad5a-4751-c1c7-578b3caf4e83"
      },
      "execution_count": null,
      "outputs": [
        {
          "output_type": "stream",
          "name": "stdout",
          "text": [
            "1\n",
            "8\n",
            "27\n",
            "64\n",
            "125\n",
            "216\n",
            "343\n",
            "512\n",
            "729\n"
          ]
        }
      ]
    },
    {
      "cell_type": "code",
      "source": [
        "next(l)"
      ],
      "metadata": {
        "colab": {
          "base_uri": "https://localhost:8080/",
          "height": 168
        },
        "id": "z-gn6mEoKGNx",
        "outputId": "598a8a95-3753-430d-8bcd-35727665de52"
      },
      "execution_count": null,
      "outputs": [
        {
          "output_type": "error",
          "ename": "StopIteration",
          "evalue": "ignored",
          "traceback": [
            "\u001b[0;31m---------------------------------------------------------------------------\u001b[0m",
            "\u001b[0;31mStopIteration\u001b[0m                             Traceback (most recent call last)",
            "\u001b[0;32m<ipython-input-108-cdc8a39da60d>\u001b[0m in \u001b[0;36m<module>\u001b[0;34m\u001b[0m\n\u001b[0;32m----> 1\u001b[0;31m \u001b[0mnext\u001b[0m\u001b[0;34m(\u001b[0m\u001b[0ml\u001b[0m\u001b[0;34m)\u001b[0m\u001b[0;34m\u001b[0m\u001b[0;34m\u001b[0m\u001b[0m\n\u001b[0m",
            "\u001b[0;31mStopIteration\u001b[0m: "
          ]
        }
      ]
    },
    {
      "cell_type": "markdown",
      "metadata": {
        "id": "ThRoYX-BnEE5"
      },
      "source": [
        "Небольшой инструмент логирования"
      ]
    },
    {
      "cell_type": "code",
      "metadata": {
        "colab": {
          "base_uri": "https://localhost:8080/"
        },
        "id": "dpiRezgPidw_",
        "outputId": "d9dec516-260a-4b9c-afcd-21c15b2abea2"
      },
      "source": [
        "# *param - любое количество параметров\n",
        "def my_logs(func, *param):\n",
        "    print(f\"{func.__name__} started now\")\n",
        "    res = func(*param)\n",
        "    print(f\"{func.__name__} finished now with result: {res}\")\n",
        "\n",
        "my_logs(my_sum, 2, 3)"
      ],
      "execution_count": null,
      "outputs": [
        {
          "output_type": "stream",
          "name": "stdout",
          "text": [
            "my_sum started now\n",
            "(2, 3)\n",
            "my_sum finished now with result: 5\n"
          ]
        }
      ]
    },
    {
      "cell_type": "markdown",
      "metadata": {
        "id": "lv-cjZYB1nbh"
      },
      "source": [
        "Проблемы с [ ]"
      ]
    },
    {
      "cell_type": "code",
      "metadata": {
        "id": "XtSl-piTy-V8",
        "outputId": "ecce1270-6bb2-47c6-a388-600706f090ff",
        "colab": {
          "base_uri": "https://localhost:8080/"
        }
      },
      "source": [
        "def add_x(x, my_list=[]):\n",
        "  my_list.append(x)\n",
        "  return my_list\n",
        "\n",
        "a1 = add_x(1)\n",
        "print(a1)\n",
        "a2 = add_x(2)\n",
        "print(a2)"
      ],
      "execution_count": null,
      "outputs": [
        {
          "output_type": "stream",
          "name": "stdout",
          "text": [
            "[1]\n",
            "[1, 2]\n"
          ]
        }
      ]
    },
    {
      "cell_type": "code",
      "metadata": {
        "id": "d-Lnp2gN1sI2",
        "outputId": "d968bd7b-7707-43ac-ff35-a42f15f08c3e",
        "colab": {
          "base_uri": "https://localhost:8080/"
        }
      },
      "source": [
        "def add_x(x, my_list=None):\n",
        "  if my_list is None: my_list = []\n",
        "  my_list.append(x)\n",
        "  return my_list\n",
        "\n",
        "a1 = add_x(1)\n",
        "print(a1)\n",
        "a2 = add_x(2)\n",
        "print(a2)"
      ],
      "execution_count": null,
      "outputs": [
        {
          "output_type": "stream",
          "name": "stdout",
          "text": [
            "[1]\n",
            "[2]\n"
          ]
        }
      ]
    },
    {
      "cell_type": "markdown",
      "metadata": {
        "id": "qM5lb2dy1kBH"
      },
      "source": [
        "Можно передавать функцию в функцию"
      ]
    },
    {
      "cell_type": "code",
      "metadata": {
        "id": "GiKJgtNI0BAW",
        "outputId": "c2e083ac-5330-48f6-a89e-cd205a05aeea",
        "colab": {
          "base_uri": "https://localhost:8080/"
        }
      },
      "source": [
        "def use_own_func_to_list(my_list, func=lambda e: e ** 2):\n",
        "  return list(map(func, my_list))\n",
        "\n",
        "my_list = list(range(10))\n",
        "use_own_func_to_list(my_list, lambda e: e - 10)"
      ],
      "execution_count": null,
      "outputs": [
        {
          "output_type": "execute_result",
          "data": {
            "text/plain": [
              "[-10, -9, -8, -7, -6, -5, -4, -3, -2, -1]"
            ]
          },
          "metadata": {},
          "execution_count": 113
        }
      ]
    },
    {
      "cell_type": "code",
      "metadata": {
        "id": "CZcQYLkG1X2X",
        "outputId": "2ebff494-12f0-475a-f682-d7ff6b24655d",
        "colab": {
          "base_uri": "https://localhost:8080/",
          "height": 34
        }
      },
      "source": [
        "use_own_func_to_list(my_list)"
      ],
      "execution_count": null,
      "outputs": [
        {
          "output_type": "execute_result",
          "data": {
            "text/plain": [
              "[0, 1, 4, 9, 16, 25, 36, 49, 64, 81]"
            ]
          },
          "metadata": {
            "tags": []
          },
          "execution_count": 55
        }
      ]
    },
    {
      "cell_type": "markdown",
      "source": [
        "# Немного случайности"
      ],
      "metadata": {
        "id": "e4U7_m_YsvpT"
      }
    },
    {
      "cell_type": "code",
      "metadata": {
        "id": "87_8cP6YhbAy",
        "outputId": "0ba409a0-a38f-4c27-9327-3bdd65705780",
        "colab": {
          "base_uri": "https://localhost:8080/"
        }
      },
      "source": [
        "import random\n",
        "number = random.randint(10, 100)\n",
        "number"
      ],
      "execution_count": null,
      "outputs": [
        {
          "output_type": "execute_result",
          "data": {
            "text/plain": [
              "33"
            ]
          },
          "metadata": {},
          "execution_count": 19
        }
      ]
    },
    {
      "cell_type": "markdown",
      "metadata": {
        "id": "5dHN6jmEhsR-"
      },
      "source": [
        "Математический тест. Напишите программу, которая позволяет проводить простые\n",
        "математические тесты. Она должна показать два случайных числа, которые должны\n",
        "быть просуммированы, а затем ждет ответ и проверяет его!"
      ]
    },
    {
      "cell_type": "code",
      "metadata": {
        "id": "f5OImoYzEbJ1",
        "outputId": "701cb82a-93aa-4ae9-93fd-28589c7b1680",
        "colab": {
          "base_uri": "https://localhost:8080/"
        }
      },
      "source": [
        "def test():\n",
        "  x1, x2 = random.randint(0, 100), random.randint(0, 100)\n",
        "  print(f\"Сложите {x1} и {x2}\")\n",
        "  if int(input()) == x1 + x2:\n",
        "    print(\"Верно!\")\n",
        "  else:\n",
        "    print(f\"Верный ответ: {x1 + x2}\")\n",
        "\n",
        "test()"
      ],
      "execution_count": null,
      "outputs": [
        {
          "output_type": "stream",
          "name": "stdout",
          "text": [
            "Сложите 28 и 44\n",
            "121\n",
            "Верный ответ: 72\n"
          ]
        }
      ]
    },
    {
      "cell_type": "markdown",
      "metadata": {
        "id": "h49bl2PNNzkI"
      },
      "source": [
        "# Декораторы"
      ]
    },
    {
      "cell_type": "code",
      "metadata": {
        "id": "IAPxdr9zNu3M",
        "outputId": "74122729-c116-4e6e-ce50-dfbe2fcb36d9",
        "colab": {
          "base_uri": "https://localhost:8080/",
          "height": 34
        }
      },
      "source": [
        "from time import time, sleep\n",
        "time()"
      ],
      "execution_count": null,
      "outputs": [
        {
          "output_type": "execute_result",
          "data": {
            "text/plain": [
              "1603434774.621998"
            ]
          },
          "metadata": {
            "tags": []
          },
          "execution_count": 181
        }
      ]
    },
    {
      "cell_type": "code",
      "metadata": {
        "id": "lm4xMvY2Tjqx"
      },
      "source": [
        "def meter(f):\n",
        "  def wr(*args, **wargs):\n",
        "    t1 = time()\n",
        "    res = f(*args, **wargs)\n",
        "    t2 = time()\n",
        "    print(t2 - t1)\n",
        "    return res\n",
        "  return wr"
      ],
      "execution_count": null,
      "outputs": []
    },
    {
      "cell_type": "code",
      "metadata": {
        "id": "JkTEoko0UApU"
      },
      "source": [
        "def a(x):\n",
        "  sleep(5)\n",
        "  return x ** 2"
      ],
      "execution_count": null,
      "outputs": []
    },
    {
      "cell_type": "code",
      "metadata": {
        "id": "Q71ZDAhXUJSx",
        "outputId": "287eba6c-7fb0-45ae-8770-99245afe34cb",
        "colab": {
          "base_uri": "https://localhost:8080/",
          "height": 52
        }
      },
      "source": [
        "a = meter(a)\n",
        "a(12)"
      ],
      "execution_count": null,
      "outputs": [
        {
          "output_type": "stream",
          "text": [
            "5.005095481872559\n"
          ],
          "name": "stdout"
        },
        {
          "output_type": "execute_result",
          "data": {
            "text/plain": [
              "144"
            ]
          },
          "metadata": {
            "tags": []
          },
          "execution_count": 184
        }
      ]
    },
    {
      "cell_type": "code",
      "metadata": {
        "id": "bggKOMWAK8Nk",
        "outputId": "98541602-103e-446f-f23e-f0d570b561c5",
        "colab": {
          "base_uri": "https://localhost:8080/",
          "height": 35
        }
      },
      "source": [
        "a.__name__"
      ],
      "execution_count": null,
      "outputs": [
        {
          "output_type": "execute_result",
          "data": {
            "application/vnd.google.colaboratory.intrinsic+json": {
              "type": "string"
            },
            "text/plain": [
              "'wr'"
            ]
          },
          "metadata": {
            "tags": []
          },
          "execution_count": 185
        }
      ]
    },
    {
      "cell_type": "code",
      "metadata": {
        "id": "cFjjWfWTUaf0",
        "outputId": "7bcf57e1-76f6-4386-b10c-0f9772c0884d",
        "colab": {
          "base_uri": "https://localhost:8080/",
          "height": 52
        }
      },
      "source": [
        "@meter\n",
        "def b(x):\n",
        "  sleep(5)\n",
        "  return x ** 2\n",
        "\n",
        "b(10)"
      ],
      "execution_count": null,
      "outputs": [
        {
          "output_type": "stream",
          "text": [
            "5.005113124847412\n"
          ],
          "name": "stdout"
        },
        {
          "output_type": "execute_result",
          "data": {
            "text/plain": [
              "100"
            ]
          },
          "metadata": {
            "tags": []
          },
          "execution_count": 186
        }
      ]
    },
    {
      "cell_type": "code",
      "metadata": {
        "id": "0UUOeE8VLOXR",
        "outputId": "b8ae8ced-fa17-47b8-9e92-82258e7afe43",
        "colab": {
          "base_uri": "https://localhost:8080/",
          "height": 35
        }
      },
      "source": [
        "b.__name__"
      ],
      "execution_count": null,
      "outputs": [
        {
          "output_type": "execute_result",
          "data": {
            "application/vnd.google.colaboratory.intrinsic+json": {
              "type": "string"
            },
            "text/plain": [
              "'wr'"
            ]
          },
          "metadata": {
            "tags": []
          },
          "execution_count": 187
        }
      ]
    },
    {
      "cell_type": "code",
      "metadata": {
        "id": "Uk2V0VDpTlfO",
        "outputId": "193aa0bf-9a84-4d7e-f292-238e06fc253e",
        "colab": {
          "base_uri": "https://localhost:8080/",
          "height": 72
        }
      },
      "source": [
        "from urllib.request import urlopen\n",
        "d = urlopen(\"https://yandex.ru\")\n",
        "d.read = meter(d.read)\n",
        "content = d.read()\n",
        "content[:1000]"
      ],
      "execution_count": null,
      "outputs": [
        {
          "output_type": "stream",
          "text": [
            "0.1423511505126953\n"
          ],
          "name": "stdout"
        },
        {
          "output_type": "execute_result",
          "data": {
            "text/plain": [
              "b'<!DOCTYPE html><html class=\"i-ua_js_no i-ua_css_standart i-ua_browser_ i-ua_browser-engine_ i-ua_browser_desktop i-ua_platform_other\" lang=\"ru\"><head xmlns:og=\"http://ogp.me/ns#\"><meta http-equiv=Content-Type content=\"text/html;charset=UTF-8\"><meta http-equiv=\"X-UA-Compatible\" content=\"IE=edge\"><title>\\xd0\\xaf\\xd0\\xbd\\xd0\\xb4\\xd0\\xb5\\xd0\\xba\\xd1\\x81</title><link rel=\"shortcut icon\" href=\"//yastatic.net/iconostasis/_/8lFaTHLDzmsEZz-5XaQg9iTWZGE.png\"><link rel=\"apple-touch-icon\" href=\"//yastatic.net/iconostasis/_/5mdPq4V7ghRgzBvMkCaTzd2fjYg.png\" sizes=\"76x76\"><link rel=\"apple-touch-icon\" href=\"//yastatic.net/iconostasis/_/s-hGoCQMUosTziuARBks08IUxmc.png\" sizes=\"120x120\"><link rel=\"apple-touch-icon\" href=\"//yastatic.net/iconostasis/_/KnU823iWwj_vrPra7x9aQ-4yjRw.png\" sizes=\"152x152\"><link rel=\"apple-touch-icon\" href=\"//yastatic.net/iconostasis/_/wT9gfGZZ80sP0VsoR6dgDyXJf2Y.png\" sizes=\"180x180\"><link rel=\"alternate\" type=\"application/rss+xml\" title=\"\\xd0\\x9d\\xd0\\xbe\\xd0\\xb2\\xd0\\xbe\\xd1\\x81\\xd1\\x82\\xd0\\xb8 \\xd0\\xaf\\xd0\\xbd\\xd0\\xb4\\xd0\\xb5\\xd0\\xba\\xd1\\x81\\xd0\\xb0\" href=\"https://yandex.ru/company/press_releases'"
            ]
          },
          "metadata": {
            "tags": []
          },
          "execution_count": 188
        }
      ]
    },
    {
      "cell_type": "markdown",
      "metadata": {
        "id": "91QHlU57axvp"
      },
      "source": [
        "Возникают проблемы с рекурсивностью"
      ]
    },
    {
      "cell_type": "code",
      "metadata": {
        "id": "hLEk4_TpaphQ",
        "outputId": "4f9bc5b7-617c-4c1f-b3fc-f962e4b6ccf6",
        "colab": {
          "base_uri": "https://localhost:8080/",
          "height": 121
        }
      },
      "source": [
        "@meter\n",
        "def fib(n):\n",
        "  if n in (0, 1):\n",
        "    return 1\n",
        "  else:\n",
        "    return fib(n-1) + fib(n-2)\n",
        "fib(3)"
      ],
      "execution_count": null,
      "outputs": [
        {
          "output_type": "stream",
          "text": [
            "9.5367431640625e-07\n",
            "7.152557373046875e-07\n",
            "0.000152587890625\n",
            "4.76837158203125e-07\n",
            "0.00020551681518554688\n"
          ],
          "name": "stdout"
        },
        {
          "output_type": "execute_result",
          "data": {
            "text/plain": [
              "3"
            ]
          },
          "metadata": {
            "tags": []
          },
          "execution_count": 189
        }
      ]
    },
    {
      "cell_type": "markdown",
      "metadata": {
        "id": "FDaOp5wga4hh"
      },
      "source": [
        "Решаем проблему рекурсивности"
      ]
    },
    {
      "cell_type": "code",
      "metadata": {
        "id": "qvz0h3EfTlXD",
        "outputId": "f3254c89-a4b0-4119-f399-9c84fd061ba6",
        "colab": {
          "base_uri": "https://localhost:8080/",
          "height": 52
        }
      },
      "source": [
        "def fib(n):\n",
        "  if n in (0, 1):\n",
        "    return 1\n",
        "  else:\n",
        "    return fib(n-1) + fib(n-2)\n",
        "\n",
        "@meter\n",
        "def nr_fib(n):\n",
        "  return fib(n)\n",
        "nr_fib(10)"
      ],
      "execution_count": null,
      "outputs": [
        {
          "output_type": "stream",
          "text": [
            "2.3126602172851562e-05\n"
          ],
          "name": "stdout"
        },
        {
          "output_type": "execute_result",
          "data": {
            "text/plain": [
              "89"
            ]
          },
          "metadata": {
            "tags": []
          },
          "execution_count": 190
        }
      ]
    },
    {
      "cell_type": "code",
      "metadata": {
        "id": "2rWeqKXnTlGz",
        "outputId": "1c164437-8ba9-449e-c03d-dec603c05f5d",
        "colab": {
          "base_uri": "https://localhost:8080/",
          "height": 52
        }
      },
      "source": [
        "nr_fib(20)"
      ],
      "execution_count": null,
      "outputs": [
        {
          "output_type": "stream",
          "text": [
            "0.002627849578857422\n"
          ],
          "name": "stdout"
        },
        {
          "output_type": "execute_result",
          "data": {
            "text/plain": [
              "10946"
            ]
          },
          "metadata": {
            "tags": []
          },
          "execution_count": 191
        }
      ]
    },
    {
      "cell_type": "code",
      "metadata": {
        "id": "62dJHV1HbE3t",
        "outputId": "18b50863-dce3-4385-c79c-f7b59455da6a",
        "colab": {
          "base_uri": "https://localhost:8080/",
          "height": 52
        }
      },
      "source": [
        "nr_fib(30)"
      ],
      "execution_count": null,
      "outputs": [
        {
          "output_type": "stream",
          "text": [
            "0.31218814849853516\n"
          ],
          "name": "stdout"
        },
        {
          "output_type": "execute_result",
          "data": {
            "text/plain": [
              "1346269"
            ]
          },
          "metadata": {
            "tags": []
          },
          "execution_count": 192
        }
      ]
    },
    {
      "cell_type": "code",
      "metadata": {
        "id": "0J5FSXZcbE1j",
        "outputId": "61616ec9-34bb-4279-decd-8441dbd858ef",
        "colab": {
          "base_uri": "https://localhost:8080/",
          "height": 52
        }
      },
      "source": [
        "nr_fib(35)"
      ],
      "execution_count": null,
      "outputs": [
        {
          "output_type": "stream",
          "text": [
            "3.3812336921691895\n"
          ],
          "name": "stdout"
        },
        {
          "output_type": "execute_result",
          "data": {
            "text/plain": [
              "14930352"
            ]
          },
          "metadata": {
            "tags": []
          },
          "execution_count": 193
        }
      ]
    },
    {
      "cell_type": "markdown",
      "metadata": {
        "id": "CnQb48mNbLmP"
      },
      "source": [
        "Можно попробовать так"
      ]
    },
    {
      "cell_type": "code",
      "metadata": {
        "id": "oU4twGAmbEy-",
        "outputId": "22cce45f-6436-4cca-cc55-e72c0fb20665",
        "colab": {
          "base_uri": "https://localhost:8080/",
          "height": 52
        }
      },
      "source": [
        "def fib(n):\n",
        "  if n in fib.cache:\n",
        "    return fib.cache[n]\n",
        "  if n in (0, 1):\n",
        "    fib.cache[n] = 1\n",
        "  else:\n",
        "    fib.cache[n] = fib(n-1) + fib(n-2)\n",
        "  return fib.cache[n]\n",
        "fib.cache = {}\n",
        "@meter\n",
        "def nr_fib(n):\n",
        "  return fib(n)\n",
        "nr_fib(500)"
      ],
      "execution_count": null,
      "outputs": [
        {
          "output_type": "stream",
          "text": [
            "0.0013179779052734375\n"
          ],
          "name": "stdout"
        },
        {
          "output_type": "execute_result",
          "data": {
            "text/plain": [
              "225591516161936330872512695036072072046011324913758190588638866418474627738686883405015987052796968498626"
            ]
          },
          "metadata": {
            "tags": []
          },
          "execution_count": 197
        }
      ]
    },
    {
      "cell_type": "code",
      "metadata": {
        "id": "LcXK6vHaylzC",
        "outputId": "0b769c22-36ac-4d32-de3e-bee2a4be6f05",
        "colab": {
          "base_uri": "https://localhost:8080/",
          "height": 34
        }
      },
      "source": [
        "fib.cache"
      ],
      "execution_count": null,
      "outputs": [
        {
          "output_type": "execute_result",
          "data": {
            "text/plain": [
              "{0: 1, 1: 1, 2: 2, 3: 3, 4: 5, 5: 8, 6: 13, 7: 21, 8: 34, 9: 55, 10: 89}"
            ]
          },
          "metadata": {
            "tags": []
          },
          "execution_count": 195
        }
      ]
    },
    {
      "cell_type": "markdown",
      "metadata": {
        "id": "zFmYRt-ScD8m"
      },
      "source": [
        "Но удобнее"
      ]
    },
    {
      "cell_type": "code",
      "metadata": {
        "id": "bx91bfk2bExO"
      },
      "source": [
        "def cache(f):\n",
        "  cache = {}\n",
        "  def wr(*args):\n",
        "    if args in cache:\n",
        "      return cache[args]\n",
        "    else:\n",
        "      cache[args] =  f(*args)\n",
        "    return cache[args]\n",
        "  return wr"
      ],
      "execution_count": null,
      "outputs": []
    },
    {
      "cell_type": "code",
      "metadata": {
        "id": "KvOl5Bp1bEvu",
        "outputId": "f8f04e1f-dcb3-4d33-87ce-7287cc0a760e",
        "colab": {
          "base_uri": "https://localhost:8080/",
          "height": 52
        }
      },
      "source": [
        "@cache\n",
        "def fib(n):\n",
        "  if n in (0, 1):\n",
        "    return 1\n",
        "  else:\n",
        "    return fib(n-1) + fib(n-2)\n",
        "\n",
        "@meter\n",
        "def nr_fib(n):\n",
        "  return fib(n)\n",
        "nr_fib(100)"
      ],
      "execution_count": null,
      "outputs": [
        {
          "output_type": "stream",
          "text": [
            "9.393692016601562e-05\n"
          ],
          "name": "stdout"
        },
        {
          "output_type": "execute_result",
          "data": {
            "text/plain": [
              "573147844013817084101"
            ]
          },
          "metadata": {
            "tags": []
          },
          "execution_count": 205
        }
      ]
    },
    {
      "cell_type": "code",
      "metadata": {
        "id": "tAJ2WAIKbEtI",
        "outputId": "103337fe-325f-4881-a8f8-b3da5924d95b",
        "colab": {
          "base_uri": "https://localhost:8080/",
          "height": 52
        }
      },
      "source": [
        "from functools import lru_cache\n",
        "@lru_cache(None)\n",
        "def fib(n):\n",
        "  if n in (0, 1):\n",
        "    return 1\n",
        "  else:\n",
        "    return fib(n-1) + fib(n-2)\n",
        "\n",
        "@meter\n",
        "def nr_fib(n):\n",
        "  return fib(n)\n",
        "nr_fib(200)"
      ],
      "execution_count": null,
      "outputs": [
        {
          "output_type": "stream",
          "text": [
            "0.00016021728515625\n"
          ],
          "name": "stdout"
        },
        {
          "output_type": "execute_result",
          "data": {
            "text/plain": [
              "453973694165307953197296969697410619233826"
            ]
          },
          "metadata": {
            "tags": []
          },
          "execution_count": 203
        }
      ]
    },
    {
      "cell_type": "code",
      "metadata": {
        "id": "C_eW9JfWjhCl",
        "outputId": "b6bd9575-aa84-4edc-df2a-a4bf6538c626",
        "colab": {
          "base_uri": "https://localhost:8080/",
          "height": 86
        }
      },
      "source": [
        "from functools import wraps\n",
        "def my_decorator(f):\n",
        "     @wraps(f)\n",
        "     def wrapper(*args, **kwds):\n",
        "         print('Calling decorated function')\n",
        "         return f(*args, **kwds)\n",
        "     return wrapper\n",
        "\n",
        "@my_decorator\n",
        "def example():\n",
        "     \"\"\"Docstring\"\"\"\n",
        "     print('Called example function')\n",
        "\n",
        "example()\n",
        "print(example.__name__)\n",
        "print(example.__doc__)"
      ],
      "execution_count": null,
      "outputs": [
        {
          "output_type": "stream",
          "text": [
            "Calling decorated function\n",
            "Called example function\n",
            "example\n",
            "Docstring\n"
          ],
          "name": "stdout"
        }
      ]
    }
  ]
}